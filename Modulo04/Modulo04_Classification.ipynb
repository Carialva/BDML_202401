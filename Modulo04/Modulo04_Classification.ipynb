{
 "cells": [
  {
   "cell_type": "markdown",
   "id": "340f63f6-93da-4633-9f43-43927ea8d65c",
   "metadata": {},
   "source": [
    "<div >\n",
    "<img src = \"../banner.jpg\" />\n",
    "</div>"
   ]
  },
  {
   "cell_type": "markdown",
   "id": "9d359803",
   "metadata": {},
   "source": [
    "<a target=\"_blank\" href=\"https://colab.research.google.com/github/ignaciomsarmiento/BDML_202401/blob/main/Modulo04/Modulo04_Classification.ipynb\">\n",
    "  <img src=\"https://colab.research.google.com/assets/colab-badge.svg\" alt=\"Open In Colab\"/>\n",
    "</a>\n",
    "\n"
   ]
  },
  {
   "cell_type": "markdown",
   "id": "d8e20450",
   "metadata": {},
   "source": [
    "# Classification: Predicting Firm Exit"
   ]
  },
  {
   "cell_type": "markdown",
   "id": "a5c24b15",
   "metadata": {},
   "source": [
    "Our first task is to build a predictive model of the probability of a firm's default and therefore exit from business. "
   ]
  },
  {
   "cell_type": "code",
   "execution_count": 1,
   "id": "592ee382",
   "metadata": {},
   "outputs": [
    {
     "name": "stderr",
     "output_type": "stream",
     "text": [
      "Loading required package: pacman\n",
      "\n"
     ]
    }
   ],
   "source": [
    "options(warn=-1)\n",
    "\n",
    "#install.packages(\"pacman\") #if in colab\n",
    "#Cargar librerías \n",
    "require(\"pacman\")\n",
    "p_load(tidyverse,\n",
    "      caret,\n",
    "      glmnet)\n"
   ]
  },
  {
   "cell_type": "code",
   "execution_count": 2,
   "id": "8795384b",
   "metadata": {},
   "outputs": [
    {
     "data": {
      "text/html": [
       "<table class=\"dataframe\">\n",
       "<caption>A tibble: 6 × 118</caption>\n",
       "<thead>\n",
       "\t<tr><th scope=col>year</th><th scope=col>comp_id</th><th scope=col>begin</th><th scope=col>end</th><th scope=col>amort</th><th scope=col>curr_assets</th><th scope=col>curr_liab</th><th scope=col>extra_exp</th><th scope=col>extra_inc</th><th scope=col>extra_profit_loss</th><th scope=col>⋯</th><th scope=col>flag_miss_ceo_age</th><th scope=col>ceo_young</th><th scope=col>labor_avg_mod</th><th scope=col>flag_miss_labor_avg</th><th scope=col>default_f</th><th scope=col>sales_mil_log_sq</th><th scope=col>flag_low_d1_sales_mil_log</th><th scope=col>flag_high_d1_sales_mil_log</th><th scope=col>d1_sales_mil_log_mod</th><th scope=col>d1_sales_mil_log_mod_sq</th></tr>\n",
       "\t<tr><th scope=col>&lt;dbl&gt;</th><th scope=col>&lt;dbl&gt;</th><th scope=col>&lt;date&gt;</th><th scope=col>&lt;date&gt;</th><th scope=col>&lt;dbl&gt;</th><th scope=col>&lt;dbl&gt;</th><th scope=col>&lt;dbl&gt;</th><th scope=col>&lt;dbl&gt;</th><th scope=col>&lt;dbl&gt;</th><th scope=col>&lt;dbl&gt;</th><th scope=col>⋯</th><th scope=col>&lt;dbl&gt;</th><th scope=col>&lt;dbl&gt;</th><th scope=col>&lt;dbl&gt;</th><th scope=col>&lt;dbl&gt;</th><th scope=col>&lt;fct&gt;</th><th scope=col>&lt;dbl&gt;</th><th scope=col>&lt;dbl&gt;</th><th scope=col>&lt;dbl&gt;</th><th scope=col>&lt;dbl&gt;</th><th scope=col>&lt;dbl&gt;</th></tr>\n",
       "</thead>\n",
       "<tbody>\n",
       "\t<tr><td>2012</td><td>1001541</td><td>2012-01-01</td><td>2012-12-31</td><td>  481.48148</td><td>  9629.62988</td><td>  1303.7037</td><td>0</td><td> 0.000000</td><td> 0.000000</td><td>⋯</td><td>0</td><td>1</td><td>0.6216911</td><td>1</td><td>no_default</td><td>45.19001681</td><td>1</td><td>0</td><td>-1.50000000</td><td>2.250000000</td></tr>\n",
       "\t<tr><td>2012</td><td>1002029</td><td>2012-01-01</td><td>2012-12-31</td><td>14929.62988</td><td>203885.18750</td><td>120444.4531</td><td>0</td><td> 0.000000</td><td> 0.000000</td><td>⋯</td><td>0</td><td>1</td><td>0.4583333</td><td>0</td><td>no_default</td><td> 0.01637541</td><td>0</td><td>0</td><td> 0.68444822</td><td>0.468469365</td></tr>\n",
       "\t<tr><td>2012</td><td>1003200</td><td>2012-01-01</td><td>2012-12-31</td><td>   25.92593</td><td>    22.22222</td><td> 10996.2959</td><td>0</td><td> 0.000000</td><td> 0.000000</td><td>⋯</td><td>1</td><td>0</td><td>0.6216911</td><td>1</td><td>default   </td><td>34.61487649</td><td>0</td><td>0</td><td>-1.42477311</td><td>2.029978407</td></tr>\n",
       "\t<tr><td>2012</td><td>1011889</td><td>2012-01-01</td><td>2012-12-31</td><td>36625.92578</td><td>160166.67188</td><td> 18911.1113</td><td>0</td><td> 0.000000</td><td> 0.000000</td><td>⋯</td><td>0</td><td>0</td><td>1.6212121</td><td>0</td><td>no_default</td><td> 0.69802535</td><td>0</td><td>0</td><td> 0.09772232</td><td>0.009549651</td></tr>\n",
       "\t<tr><td>2012</td><td>1014183</td><td>2012-01-01</td><td>2012-12-31</td><td>12551.85156</td><td>199903.70312</td><td>  8274.0742</td><td>0</td><td> 7.407407</td><td> 7.407407</td><td>⋯</td><td>0</td><td>0</td><td>0.7152778</td><td>0</td><td>no_default</td><td> 4.17100049</td><td>0</td><td>0</td><td>-0.27308727</td><td>0.074576656</td></tr>\n",
       "\t<tr><td>2012</td><td>1018301</td><td>2012-01-01</td><td>2012-12-31</td><td>    0.00000</td><td>  1811.11108</td><td>   592.5926</td><td>0</td><td>11.111111</td><td>11.111111</td><td>⋯</td><td>0</td><td>0</td><td>0.1527778</td><td>0</td><td>no_default</td><td>25.02337045</td><td>0</td><td>0</td><td>-0.01910021</td><td>0.000364818</td></tr>\n",
       "</tbody>\n",
       "</table>\n"
      ],
      "text/latex": [
       "A tibble: 6 × 118\n",
       "\\begin{tabular}{lllllllllllllllllllll}\n",
       " year & comp\\_id & begin & end & amort & curr\\_assets & curr\\_liab & extra\\_exp & extra\\_inc & extra\\_profit\\_loss & ⋯ & flag\\_miss\\_ceo\\_age & ceo\\_young & labor\\_avg\\_mod & flag\\_miss\\_labor\\_avg & default\\_f & sales\\_mil\\_log\\_sq & flag\\_low\\_d1\\_sales\\_mil\\_log & flag\\_high\\_d1\\_sales\\_mil\\_log & d1\\_sales\\_mil\\_log\\_mod & d1\\_sales\\_mil\\_log\\_mod\\_sq\\\\\n",
       " <dbl> & <dbl> & <date> & <date> & <dbl> & <dbl> & <dbl> & <dbl> & <dbl> & <dbl> & ⋯ & <dbl> & <dbl> & <dbl> & <dbl> & <fct> & <dbl> & <dbl> & <dbl> & <dbl> & <dbl>\\\\\n",
       "\\hline\n",
       "\t 2012 & 1001541 & 2012-01-01 & 2012-12-31 &   481.48148 &   9629.62988 &   1303.7037 & 0 &  0.000000 &  0.000000 & ⋯ & 0 & 1 & 0.6216911 & 1 & no\\_default & 45.19001681 & 1 & 0 & -1.50000000 & 2.250000000\\\\\n",
       "\t 2012 & 1002029 & 2012-01-01 & 2012-12-31 & 14929.62988 & 203885.18750 & 120444.4531 & 0 &  0.000000 &  0.000000 & ⋯ & 0 & 1 & 0.4583333 & 0 & no\\_default &  0.01637541 & 0 & 0 &  0.68444822 & 0.468469365\\\\\n",
       "\t 2012 & 1003200 & 2012-01-01 & 2012-12-31 &    25.92593 &     22.22222 &  10996.2959 & 0 &  0.000000 &  0.000000 & ⋯ & 1 & 0 & 0.6216911 & 1 & default    & 34.61487649 & 0 & 0 & -1.42477311 & 2.029978407\\\\\n",
       "\t 2012 & 1011889 & 2012-01-01 & 2012-12-31 & 36625.92578 & 160166.67188 &  18911.1113 & 0 &  0.000000 &  0.000000 & ⋯ & 0 & 0 & 1.6212121 & 0 & no\\_default &  0.69802535 & 0 & 0 &  0.09772232 & 0.009549651\\\\\n",
       "\t 2012 & 1014183 & 2012-01-01 & 2012-12-31 & 12551.85156 & 199903.70312 &   8274.0742 & 0 &  7.407407 &  7.407407 & ⋯ & 0 & 0 & 0.7152778 & 0 & no\\_default &  4.17100049 & 0 & 0 & -0.27308727 & 0.074576656\\\\\n",
       "\t 2012 & 1018301 & 2012-01-01 & 2012-12-31 &     0.00000 &   1811.11108 &    592.5926 & 0 & 11.111111 & 11.111111 & ⋯ & 0 & 0 & 0.1527778 & 0 & no\\_default & 25.02337045 & 0 & 0 & -0.01910021 & 0.000364818\\\\\n",
       "\\end{tabular}\n"
      ],
      "text/markdown": [
       "\n",
       "A tibble: 6 × 118\n",
       "\n",
       "| year &lt;dbl&gt; | comp_id &lt;dbl&gt; | begin &lt;date&gt; | end &lt;date&gt; | amort &lt;dbl&gt; | curr_assets &lt;dbl&gt; | curr_liab &lt;dbl&gt; | extra_exp &lt;dbl&gt; | extra_inc &lt;dbl&gt; | extra_profit_loss &lt;dbl&gt; | ⋯ ⋯ | flag_miss_ceo_age &lt;dbl&gt; | ceo_young &lt;dbl&gt; | labor_avg_mod &lt;dbl&gt; | flag_miss_labor_avg &lt;dbl&gt; | default_f &lt;fct&gt; | sales_mil_log_sq &lt;dbl&gt; | flag_low_d1_sales_mil_log &lt;dbl&gt; | flag_high_d1_sales_mil_log &lt;dbl&gt; | d1_sales_mil_log_mod &lt;dbl&gt; | d1_sales_mil_log_mod_sq &lt;dbl&gt; |\n",
       "|---|---|---|---|---|---|---|---|---|---|---|---|---|---|---|---|---|---|---|---|---|\n",
       "| 2012 | 1001541 | 2012-01-01 | 2012-12-31 |   481.48148 |   9629.62988 |   1303.7037 | 0 |  0.000000 |  0.000000 | ⋯ | 0 | 1 | 0.6216911 | 1 | no_default | 45.19001681 | 1 | 0 | -1.50000000 | 2.250000000 |\n",
       "| 2012 | 1002029 | 2012-01-01 | 2012-12-31 | 14929.62988 | 203885.18750 | 120444.4531 | 0 |  0.000000 |  0.000000 | ⋯ | 0 | 1 | 0.4583333 | 0 | no_default |  0.01637541 | 0 | 0 |  0.68444822 | 0.468469365 |\n",
       "| 2012 | 1003200 | 2012-01-01 | 2012-12-31 |    25.92593 |     22.22222 |  10996.2959 | 0 |  0.000000 |  0.000000 | ⋯ | 1 | 0 | 0.6216911 | 1 | default    | 34.61487649 | 0 | 0 | -1.42477311 | 2.029978407 |\n",
       "| 2012 | 1011889 | 2012-01-01 | 2012-12-31 | 36625.92578 | 160166.67188 |  18911.1113 | 0 |  0.000000 |  0.000000 | ⋯ | 0 | 0 | 1.6212121 | 0 | no_default |  0.69802535 | 0 | 0 |  0.09772232 | 0.009549651 |\n",
       "| 2012 | 1014183 | 2012-01-01 | 2012-12-31 | 12551.85156 | 199903.70312 |   8274.0742 | 0 |  7.407407 |  7.407407 | ⋯ | 0 | 0 | 0.7152778 | 0 | no_default |  4.17100049 | 0 | 0 | -0.27308727 | 0.074576656 |\n",
       "| 2012 | 1018301 | 2012-01-01 | 2012-12-31 |     0.00000 |   1811.11108 |    592.5926 | 0 | 11.111111 | 11.111111 | ⋯ | 0 | 0 | 0.1527778 | 0 | no_default | 25.02337045 | 0 | 0 | -0.01910021 | 0.000364818 |\n",
       "\n"
      ],
      "text/plain": [
       "  year comp_id begin      end        amort       curr_assets  curr_liab  \n",
       "1 2012 1001541 2012-01-01 2012-12-31   481.48148   9629.62988   1303.7037\n",
       "2 2012 1002029 2012-01-01 2012-12-31 14929.62988 203885.18750 120444.4531\n",
       "3 2012 1003200 2012-01-01 2012-12-31    25.92593     22.22222  10996.2959\n",
       "4 2012 1011889 2012-01-01 2012-12-31 36625.92578 160166.67188  18911.1113\n",
       "5 2012 1014183 2012-01-01 2012-12-31 12551.85156 199903.70312   8274.0742\n",
       "6 2012 1018301 2012-01-01 2012-12-31     0.00000   1811.11108    592.5926\n",
       "  extra_exp extra_inc extra_profit_loss ⋯ flag_miss_ceo_age ceo_young\n",
       "1 0          0.000000  0.000000         ⋯ 0                 1        \n",
       "2 0          0.000000  0.000000         ⋯ 0                 1        \n",
       "3 0          0.000000  0.000000         ⋯ 1                 0        \n",
       "4 0          0.000000  0.000000         ⋯ 0                 0        \n",
       "5 0          7.407407  7.407407         ⋯ 0                 0        \n",
       "6 0         11.111111 11.111111         ⋯ 0                 0        \n",
       "  labor_avg_mod flag_miss_labor_avg default_f  sales_mil_log_sq\n",
       "1 0.6216911     1                   no_default 45.19001681     \n",
       "2 0.4583333     0                   no_default  0.01637541     \n",
       "3 0.6216911     1                   default    34.61487649     \n",
       "4 1.6212121     0                   no_default  0.69802535     \n",
       "5 0.7152778     0                   no_default  4.17100049     \n",
       "6 0.1527778     0                   no_default 25.02337045     \n",
       "  flag_low_d1_sales_mil_log flag_high_d1_sales_mil_log d1_sales_mil_log_mod\n",
       "1 1                         0                          -1.50000000         \n",
       "2 0                         0                           0.68444822         \n",
       "3 0                         0                          -1.42477311         \n",
       "4 0                         0                           0.09772232         \n",
       "5 0                         0                          -0.27308727         \n",
       "6 0                         0                          -0.01910021         \n",
       "  d1_sales_mil_log_mod_sq\n",
       "1 2.250000000            \n",
       "2 0.468469365            \n",
       "3 2.029978407            \n",
       "4 0.009549651            \n",
       "5 0.074576656            \n",
       "6 0.000364818            "
      ]
     },
     "metadata": {},
     "output_type": "display_data"
    }
   ],
   "source": [
    "#Leer los datos \n",
    "db <- readRDS(url(\"https://github.com/ignaciomsarmiento/datasets/raw/main/bisnode_firms_clean.rds?raw=true\"))\n",
    "head(db)"
   ]
  },
  {
   "cell_type": "markdown",
   "id": "4e185ab9",
   "metadata": {},
   "source": [
    "\n",
    "\n",
    "\n",
    "| Category       | Description                                                                                                                                                        |\n",
    "|----------------|:--------------------------------------------------------------------------------------------------------------------------------------------------------------------|\n",
    "| Firm           | Age of firm, squared age, a dummy if newly established, industry categories, location regions for its headquarters, and dummy if located in a big city.        |\n",
    "| Financial 1    | Winsorized financial variables: sales, fixed, liquid, current, intangible assets, current liabilities, inventories, equity shares, subscribed capital, sales revenues, income before tax, extra income, material, personal and extra expenditure, extra profit. |\n",
    "| Financial 2    | Flags (extreme, low, high, zero – when applicable) and polynomials: quadratic terms are created for profit and loss, extra profit and loss, income before tax, and share equity.                                   |\n",
    "| Growth         | Sales growth is captured by a winsorized growth variable, its quadratic term and flags for extreme low and high values.                                                                   |\n",
    "| HR             | For the CEO: female dummy, winsorized age and flags, flag for missing information; foreign management dummy; labor cost, and flag for missing labor cost information.                                                |\n",
    "| Data Quality   | Variables related to the data quality of the financial information, flag for a problem, and the length of the year that the balance sheet covers.                                                                     |\n",
    "| Interactions   | Interactions with sales growth, firm size, and industry.                                                                                                                                   |\n",
    "\n"
   ]
  },
  {
   "cell_type": "code",
   "execution_count": 3,
   "id": "f6c8086e",
   "metadata": {},
   "outputs": [
    {
     "data": {
      "text/plain": [
       "\n",
       "no_default    default \n",
       "  79.78567   20.21433 "
      ]
     },
     "metadata": {},
     "output_type": "display_data"
    }
   ],
   "source": [
    "prop.table(table(db$default_f))*100"
   ]
  },
  {
   "cell_type": "code",
   "execution_count": 4,
   "id": "2aabd4e2",
   "metadata": {},
   "outputs": [
    {
     "data": {
      "text/plain": [
       "\n",
       "       0        1 \n",
       "79.78567 20.21433 "
      ]
     },
     "metadata": {},
     "output_type": "display_data"
    }
   ],
   "source": [
    "prop.table(table(db$default))*100"
   ]
  },
  {
   "cell_type": "markdown",
   "id": "4241fc47",
   "metadata": {},
   "source": [
    "## Model variables\n",
    "### Hand-Picked"
   ]
  },
  {
   "cell_type": "code",
   "execution_count": 5,
   "id": "2548afe4",
   "metadata": {},
   "outputs": [],
   "source": [
    "X1 <- c(\"sales_mil_log\", \"sales_mil_log_sq\", \"d1_sales_mil_log_mod\", \"profit_loss_year_pl\", \"ind2_cat\")"
   ]
  },
  {
   "cell_type": "markdown",
   "id": "2d713188",
   "metadata": {},
   "source": [
    "### Hand-Picked + Firm specific"
   ]
  },
  {
   "cell_type": "code",
   "execution_count": 6,
   "id": "98f31ae9",
   "metadata": {},
   "outputs": [],
   "source": [
    "X2 <- c(\"sales_mil_log\", \"sales_mil_log_sq\", \"d1_sales_mil_log_mod\", \"profit_loss_year_pl\", \"fixed_assets_bs\",\"share_eq_bs\",\"curr_liab_bs \",   \"curr_liab_bs_flag_high \", \"curr_liab_bs_flag_error\",  \"age\",\"foreign_management\" , \"ind2_cat\")\n"
   ]
  },
  {
   "cell_type": "markdown",
   "id": "c2521fa4",
   "metadata": {},
   "source": [
    "###  Firm specific + Financial + Lags"
   ]
  },
  {
   "cell_type": "code",
   "execution_count": 7,
   "id": "9740beb4",
   "metadata": {},
   "outputs": [],
   "source": [
    "firm <- c(\"age\", \"age2\", \"new\", \"ind2_cat\", \"m_region_loc\", \"urban_m\")\n",
    "\n",
    "engvar <- c(\"total_assets_bs\", \"fixed_assets_bs\", \"liq_assets_bs\", \"curr_assets_bs\",\n",
    "            \"share_eq_bs\", \"subscribed_cap_bs\", \"intang_assets_bs\", \"extra_exp_pl\",\n",
    "            \"extra_inc_pl\", \"extra_profit_loss_pl\", \"inc_bef_tax_pl\", \"inventories_pl\",\n",
    "            \"material_exp_pl\", \"profit_loss_year_pl\", \"personnel_exp_pl\")\n",
    "\n",
    "d1 <-  c(\"d1_sales_mil_log_mod\", \"d1_sales_mil_log_mod_sq\",\n",
    "         \"flag_low_d1_sales_mil_log\", \"flag_high_d1_sales_mil_log\")"
   ]
  },
  {
   "cell_type": "code",
   "execution_count": 8,
   "id": "e68728eb",
   "metadata": {},
   "outputs": [],
   "source": [
    "X3 <- c(\"sales_mil_log\", \"sales_mil_log_sq\", firm, engvar,                   d1)"
   ]
  },
  {
   "cell_type": "markdown",
   "id": "cb2f852b",
   "metadata": {},
   "source": [
    "###  All but interactions"
   ]
  },
  {
   "cell_type": "code",
   "execution_count": 9,
   "id": "11f03db5",
   "metadata": {},
   "outputs": [],
   "source": [
    "\n",
    "engvar2 <- c(\"extra_profit_loss_pl_quad\", \"inc_bef_tax_pl_quad\",\n",
    "             \"profit_loss_year_pl_quad\", \"share_eq_bs_quad\")\n",
    "\n",
    "engvar3 <- c(grep(\"*flag_low$\", names(db), value = TRUE),\n",
    "             grep(\"*flag_high$\", names(db), value = TRUE),\n",
    "             grep(\"*flag_error$\", names(db), value = TRUE),\n",
    "             grep(\"*flag_zero$\", names(db), value = TRUE))\n",
    "\n",
    "hr <- c(\"female\", \"ceo_age\", \"flag_high_ceo_age\", \"flag_low_ceo_age\",\n",
    "        \"flag_miss_ceo_age\", \"ceo_count\", \"labor_avg_mod\",\n",
    "        \"flag_miss_labor_avg\", \"foreign_management\")\n",
    "qualityvars <- c(\"balsheet_flag\", \"balsheet_length\", \"balsheet_notfullyear\")"
   ]
  },
  {
   "cell_type": "code",
   "execution_count": 10,
   "id": "c0fd971c",
   "metadata": {},
   "outputs": [],
   "source": [
    "X4 <- c(\"sales_mil_log\", \"sales_mil_log_sq\", firm, engvar, engvar2, engvar3, d1, hr, qualityvars)"
   ]
  },
  {
   "cell_type": "markdown",
   "id": "0a4b5061",
   "metadata": {},
   "source": [
    "###  All "
   ]
  },
  {
   "cell_type": "code",
   "execution_count": 11,
   "id": "c26bb1af",
   "metadata": {},
   "outputs": [],
   "source": [
    "\n",
    "# interactions\n",
    "interactions1 <- c(\"ind2_cat*age\", \"ind2_cat*age2\",\n",
    "                   \"ind2_cat*d1_sales_mil_log_mod\", \"ind2_cat*sales_mil_log\",\n",
    "                   \"ind2_cat*ceo_age\", \"ind2_cat*foreign_management\",\n",
    "                   \"ind2_cat*female\",   \"ind2_cat*urban_m\", \"ind2_cat*labor_avg_mod\")\n",
    "interactions2 <- c(\"sales_mil_log*age\", \"sales_mil_log*female\",\n",
    "                   \"sales_mil_log*profit_loss_year_pl\", \"sales_mil_log*foreign_management\")\n"
   ]
  },
  {
   "cell_type": "code",
   "execution_count": 12,
   "id": "672c1e5d",
   "metadata": {},
   "outputs": [],
   "source": [
    "X5 <- c(\"sales_mil_log\", \"sales_mil_log_sq\", firm, engvar, engvar2, engvar3, d1, hr, qualityvars, interactions1, interactions2)"
   ]
  },
  {
   "cell_type": "markdown",
   "id": "734bbb33",
   "metadata": {},
   "source": [
    "## Out of sample prediction"
   ]
  },
  {
   "cell_type": "code",
   "execution_count": 13,
   "id": "a3468164",
   "metadata": {},
   "outputs": [
    {
     "data": {
      "text/html": [
       "<style>\n",
       ".list-inline {list-style: none; margin:0; padding: 0}\n",
       ".list-inline>li {display: inline-block}\n",
       ".list-inline>li:not(:last-child)::after {content: \"\\00b7\"; padding: 0 .5ex}\n",
       "</style>\n",
       "<ol class=list-inline><li>15229</li><li>118</li></ol>\n"
      ],
      "text/latex": [
       "\\begin{enumerate*}\n",
       "\\item 15229\n",
       "\\item 118\n",
       "\\end{enumerate*}\n"
      ],
      "text/markdown": [
       "1. 15229\n",
       "2. 118\n",
       "\n",
       "\n"
      ],
      "text/plain": [
       "[1] 15229   118"
      ]
     },
     "metadata": {},
     "output_type": "display_data"
    },
    {
     "data": {
      "text/html": [
       "<style>\n",
       ".list-inline {list-style: none; margin:0; padding: 0}\n",
       ".list-inline>li {display: inline-block}\n",
       ".list-inline>li:not(:last-child)::after {content: \"\\00b7\"; padding: 0 .5ex}\n",
       "</style>\n",
       "<ol class=list-inline><li>3807</li><li>118</li></ol>\n"
      ],
      "text/latex": [
       "\\begin{enumerate*}\n",
       "\\item 3807\n",
       "\\item 118\n",
       "\\end{enumerate*}\n"
      ],
      "text/markdown": [
       "1. 3807\n",
       "2. 118\n",
       "\n",
       "\n"
      ],
      "text/plain": [
       "[1] 3807  118"
      ]
     },
     "metadata": {},
     "output_type": "display_data"
    }
   ],
   "source": [
    "set.seed(13505)\n",
    "\n",
    "train_indices <- as.integer(createDataPartition(db$default, p = 0.8, list = FALSE))\n",
    "train <- db[train_indices, ]\n",
    "test <- db[-train_indices, ]\n",
    "\n",
    "dim(train)\n",
    "dim(test)\n"
   ]
  },
  {
   "cell_type": "markdown",
   "id": "d0e60faf",
   "metadata": {},
   "source": [
    "### Logit"
   ]
  },
  {
   "cell_type": "code",
   "execution_count": 14,
   "id": "2b6bdaef",
   "metadata": {},
   "outputs": [],
   "source": [
    "# 5 fold cross-validation\n",
    "train_control <- trainControl(\n",
    "  method = \"cv\",\n",
    "  number = 5,\n",
    "  classProbs = TRUE,\n",
    "  summaryFunction = defaultSummary,\n",
    "  savePredictions = TRUE\n",
    ")\n"
   ]
  },
  {
   "cell_type": "code",
   "execution_count": 15,
   "id": "7ac9f557",
   "metadata": {
    "scrolled": true
   },
   "outputs": [],
   "source": [
    "set.seed(13505)\n",
    "glm_model_handpicked <- train(\n",
    "    formula(paste0(\"default_f ~\", paste0(X1, collapse = \" + \"))),\n",
    "    method = \"glm\",\n",
    "    data = train,\n",
    "    family = \"binomial\",\n",
    "    trControl = train_control\n",
    "  )"
   ]
  },
  {
   "cell_type": "code",
   "execution_count": 16,
   "id": "45e06f87",
   "metadata": {},
   "outputs": [
    {
     "data": {
      "text/plain": [
       "Generalized Linear Model \n",
       "\n",
       "15229 samples\n",
       "    5 predictor\n",
       "    2 classes: 'no_default', 'default' \n",
       "\n",
       "No pre-processing\n",
       "Resampling: Cross-Validated (5 fold) \n",
       "Summary of sample sizes: 12183, 12183, 12183, 12184, 12183 \n",
       "Resampling results:\n",
       "\n",
       "  Accuracy   Kappa    \n",
       "  0.8072102  0.1644251\n"
      ]
     },
     "metadata": {},
     "output_type": "display_data"
    }
   ],
   "source": [
    "glm_model_handpicked"
   ]
  },
  {
   "cell_type": "code",
   "execution_count": 17,
   "id": "ed845deb",
   "metadata": {},
   "outputs": [
    {
     "data": {
      "text/plain": [
       "Generalized Linear Model \n",
       "\n",
       "15229 samples\n",
       "   71 predictor\n",
       "    2 classes: 'no_default', 'default' \n",
       "\n",
       "No pre-processing\n",
       "Resampling: Cross-Validated (5 fold) \n",
       "Summary of sample sizes: 12183, 12183, 12183, 12184, 12183 \n",
       "Resampling results:\n",
       "\n",
       "  Accuracy   Kappa    \n",
       "  0.8179794  0.2802139\n"
      ]
     },
     "metadata": {},
     "output_type": "display_data"
    }
   ],
   "source": [
    "set.seed(13505)\n",
    "glm_model_all <- train(\n",
    "    formula(paste0(\"default_f ~\", paste0(X4, collapse = \" + \"))),\n",
    "    method = \"glm\",\n",
    "    data = train,\n",
    "    family = \"binomial\",\n",
    "    trControl = train_control\n",
    "  )\n",
    "\n",
    "glm_model_all"
   ]
  },
  {
   "cell_type": "code",
   "execution_count": 18,
   "id": "cc037af3",
   "metadata": {},
   "outputs": [
    {
     "data": {
      "text/plain": [
       "default_f ~ sales_mil_log + sales_mil_log_sq + age + age2 + new + \n",
       "    ind2_cat + m_region_loc + urban_m + total_assets_bs + fixed_assets_bs + \n",
       "    liq_assets_bs + curr_assets_bs + share_eq_bs + subscribed_cap_bs + \n",
       "    intang_assets_bs + extra_exp_pl + extra_inc_pl + extra_profit_loss_pl + \n",
       "    inc_bef_tax_pl + inventories_pl + material_exp_pl + profit_loss_year_pl + \n",
       "    personnel_exp_pl + extra_profit_loss_pl_quad + inc_bef_tax_pl_quad + \n",
       "    profit_loss_year_pl_quad + share_eq_bs_quad + extra_profit_loss_pl_flag_low + \n",
       "    inc_bef_tax_pl_flag_low + profit_loss_year_pl_flag_low + \n",
       "    share_eq_bs_flag_low + extra_exp_pl_flag_high + extra_inc_pl_flag_high + \n",
       "    inventories_pl_flag_high + material_exp_pl_flag_high + personnel_exp_pl_flag_high + \n",
       "    curr_liab_bs_flag_high + liq_assets_bs_flag_high + subscribed_cap_bs_flag_high + \n",
       "    extra_profit_loss_pl_flag_high + inc_bef_tax_pl_flag_high + \n",
       "    profit_loss_year_pl_flag_high + share_eq_bs_flag_high + extra_exp_pl_flag_error + \n",
       "    extra_inc_pl_flag_error + inventories_pl_flag_error + material_exp_pl_flag_error + \n",
       "    personnel_exp_pl_flag_error + curr_liab_bs_flag_error + liq_assets_bs_flag_error + \n",
       "    subscribed_cap_bs_flag_error + extra_profit_loss_pl_flag_zero + \n",
       "    inc_bef_tax_pl_flag_zero + profit_loss_year_pl_flag_zero + \n",
       "    share_eq_bs_flag_zero + d1_sales_mil_log_mod + d1_sales_mil_log_mod_sq + \n",
       "    flag_low_d1_sales_mil_log + flag_high_d1_sales_mil_log + \n",
       "    female + ceo_age + flag_high_ceo_age + flag_low_ceo_age + \n",
       "    flag_miss_ceo_age + ceo_count + labor_avg_mod + flag_miss_labor_avg + \n",
       "    foreign_management + balsheet_flag + balsheet_length + balsheet_notfullyear + \n",
       "    ind2_cat * age + ind2_cat * age2 + ind2_cat * d1_sales_mil_log_mod + \n",
       "    ind2_cat * sales_mil_log + ind2_cat * ceo_age + ind2_cat * \n",
       "    foreign_management + ind2_cat * female + ind2_cat * urban_m + \n",
       "    ind2_cat * labor_avg_mod + sales_mil_log * age + sales_mil_log * \n",
       "    female + sales_mil_log * profit_loss_year_pl + sales_mil_log * \n",
       "    foreign_management"
      ]
     },
     "metadata": {},
     "output_type": "display_data"
    }
   ],
   "source": [
    "formula(paste0(\"default_f ~\", paste0(X5, collapse = \" + \")))"
   ]
  },
  {
   "cell_type": "code",
   "execution_count": 19,
   "id": "bec5487d",
   "metadata": {},
   "outputs": [
    {
     "data": {
      "text/plain": [
       "glmnet \n",
       "\n",
       "15229 samples\n",
       "   71 predictor\n",
       "    2 classes: 'no_default', 'default' \n",
       "\n",
       "Pre-processing: centered (153), scaled (153) \n",
       "Resampling: Cross-Validated (5 fold) \n",
       "Summary of sample sizes: 12183, 12183, 12183, 12184, 12183 \n",
       "Resampling results across tuning parameters:\n",
       "\n",
       "  lambda        Accuracy   Kappa      \n",
       "  0.0001000000  0.8198179  0.290493357\n",
       "  0.0001072267  0.8198836  0.290638441\n",
       "  0.0001149757  0.8198836  0.290405819\n",
       "  0.0001232847  0.8196866  0.289501888\n",
       "  0.0001321941  0.8195553  0.288971981\n",
       "  0.0001417474  0.8195553  0.288975354\n",
       "  0.0001519911  0.8195553  0.289208570\n",
       "  0.0001629751  0.8194239  0.288466721\n",
       "  0.0001747528  0.8194239  0.288697960\n",
       "  0.0001873817  0.8194896  0.288623751\n",
       "  0.0002009233  0.8194239  0.288268576\n",
       "  0.0002154435  0.8193583  0.287675141\n",
       "  0.0002310130  0.8192926  0.287301254\n",
       "  0.0002477076  0.8194240  0.287609258\n",
       "  0.0002656088  0.8196866  0.288415069\n",
       "  0.0002848036  0.8195553  0.287692573\n",
       "  0.0003053856  0.8197523  0.288348232\n",
       "  0.0003274549  0.8200150  0.289405244\n",
       "  0.0003511192  0.8198836  0.288874025\n",
       "  0.0003764936  0.8200150  0.289180270\n",
       "  0.0004037017  0.8200150  0.288714308\n",
       "  0.0004328761  0.8197523  0.287255520\n",
       "  0.0004641589  0.8196867  0.286670065\n",
       "  0.0004977024  0.8198836  0.287352281\n",
       "  0.0005336699  0.8197523  0.286606478\n",
       "  0.0005722368  0.8199493  0.287506753\n",
       "  0.0006135907  0.8196866  0.286923896\n",
       "  0.0006579332  0.8197523  0.287058523\n",
       "  0.0007054802  0.8200149  0.287870115\n",
       "  0.0007564633  0.8201462  0.287689995\n",
       "  0.0008111308  0.8200806  0.287085804\n",
       "  0.0008697490  0.8198835  0.285969074\n",
       "  0.0009326033  0.8195552  0.283900009\n",
       "  0.0010000000  0.8193582  0.282789941\n",
       "  0.0010722672  0.8190299  0.281352303\n",
       "  0.0011497570  0.8189643  0.280511171\n",
       "  0.0012328467  0.8190956  0.280575386\n",
       "  0.0013219411  0.8192925  0.281229128\n",
       "  0.0014174742  0.8193582  0.280469474\n",
       "  0.0015199111  0.8195552  0.279979623\n",
       "  0.0016297508  0.8194239  0.278798077\n",
       "  0.0017475284  0.8192268  0.277452818\n",
       "  0.0018738174  0.8191612  0.276391222\n",
       "  0.0020092330  0.8190955  0.275101528\n",
       "  0.0021544347  0.8187672  0.273235135\n",
       "  0.0023101297  0.8187673  0.271832014\n",
       "  0.0024770764  0.8185703  0.269732302\n",
       "  0.0026560878  0.8192926  0.271846238\n",
       "  0.0028480359  0.8192269  0.271053468\n",
       "  0.0030538555  0.8190298  0.269226111\n",
       "  0.0032745492  0.8184389  0.265797040\n",
       "  0.0035111917  0.8181762  0.263813128\n",
       "  0.0037649358  0.8181761  0.263124867\n",
       "  0.0040370173  0.8185045  0.263154929\n",
       "  0.0043287613  0.8185701  0.261878622\n",
       "  0.0046415888  0.8183074  0.259653890\n",
       "  0.0049770236  0.8181761  0.258423373\n",
       "  0.0053366992  0.8183075  0.257783787\n",
       "  0.0057223677  0.8181762  0.255589079\n",
       "  0.0061359073  0.8179792  0.253455291\n",
       "  0.0065793322  0.8174539  0.249877937\n",
       "  0.0070548023  0.8177822  0.249648257\n",
       "  0.0075646333  0.8179135  0.248743569\n",
       "  0.0081113083  0.8181762  0.247177811\n",
       "  0.0086974900  0.8184389  0.246793688\n",
       "  0.0093260335  0.8182419  0.244138775\n",
       "  0.0100000000  0.8174539  0.238587260\n",
       "  0.0107226722  0.8179136  0.237603561\n",
       "  0.0114975700  0.8181106  0.235495532\n",
       "  0.0123284674  0.8180449  0.232227554\n",
       "  0.0132194115  0.8177822  0.227538643\n",
       "  0.0141747416  0.8175195  0.223269412\n",
       "  0.0151991108  0.8174538  0.219698137\n",
       "  0.0162975083  0.8171254  0.214428281\n",
       "  0.0174752840  0.8163376  0.206459534\n",
       "  0.0187381742  0.8154183  0.198072993\n",
       "  0.0200923300  0.8148929  0.191703995\n",
       "  0.0215443469  0.8143676  0.185796265\n",
       "  0.0231012970  0.8137109  0.178314496\n",
       "  0.0247707636  0.8136453  0.172223857\n",
       "  0.0265608778  0.8133825  0.164429001\n",
       "  0.0284803587  0.8120692  0.152313068\n",
       "  0.0305385551  0.8108873  0.141102923\n",
       "  0.0327454916  0.8103620  0.132253750\n",
       "  0.0351119173  0.8087204  0.113413871\n",
       "  0.0376493581  0.8085890  0.103637397\n",
       "  0.0403701726  0.8072101  0.086645033\n",
       "  0.0432876128  0.8058967  0.071112911\n",
       "  0.0464158883  0.8045835  0.054618541\n",
       "  0.0497702356  0.8034014  0.038653345\n",
       "  0.0533669923  0.8013658  0.021402483\n",
       "  0.0572236766  0.7998555  0.004953598\n",
       "  0.0613590727  0.7993302  0.000000000\n",
       "  0.0657933225  0.7993302  0.000000000\n",
       "  0.0705480231  0.7993302  0.000000000\n",
       "  0.0756463328  0.7993302  0.000000000\n",
       "  0.0811130831  0.7993302  0.000000000\n",
       "  0.0869749003  0.7993302  0.000000000\n",
       "  0.0932603347  0.7993302  0.000000000\n",
       "  0.1000000000  0.7993302  0.000000000\n",
       "\n",
       "Tuning parameter 'alpha' was held constant at a value of 1\n",
       "Accuracy was used to select the optimal model using the largest value.\n",
       "The final values used for the model were alpha = 1 and lambda = 0.0007564633."
      ]
     },
     "metadata": {},
     "output_type": "display_data"
    }
   ],
   "source": [
    "\n",
    "lambda <- 10^seq(-1, -4, length = 100)\n",
    "grid <- expand.grid(\"alpha\" = 1, lambda = lambda)\n",
    "\n",
    "set.seed(13505)\n",
    "glm_model_lasso <- train(\n",
    "    formula(paste0(\"default_f ~\", paste0(X5, collapse = \" + \"))),\n",
    "    method = \"glmnet\",\n",
    "    data = train,\n",
    "    family = \"binomial\",\n",
    "    trControl = train_control,\n",
    "    tuneGrid = grid,\n",
    "    preProcess = c(\"center\", \"scale\")\n",
    "  )\n",
    "\n",
    "glm_model_lasso"
   ]
  },
  {
   "cell_type": "code",
   "execution_count": 20,
   "id": "e02d6a1c",
   "metadata": {},
   "outputs": [
    {
     "data": {
      "text/html": [
       "<table class=\"dataframe\">\n",
       "<caption>A data.frame: 6 × 7</caption>\n",
       "<thead>\n",
       "\t<tr><th></th><th scope=col>pred</th><th scope=col>obs</th><th scope=col>no_default</th><th scope=col>default</th><th scope=col>rowIndex</th><th scope=col>parameter</th><th scope=col>Resample</th></tr>\n",
       "\t<tr><th></th><th scope=col>&lt;fct&gt;</th><th scope=col>&lt;fct&gt;</th><th scope=col>&lt;dbl&gt;</th><th scope=col>&lt;dbl&gt;</th><th scope=col>&lt;int&gt;</th><th scope=col>&lt;chr&gt;</th><th scope=col>&lt;chr&gt;</th></tr>\n",
       "</thead>\n",
       "<tbody>\n",
       "\t<tr><th scope=row>1</th><td>no_default</td><td>no_default</td><td>0.9625133</td><td>0.03748667</td><td> 3</td><td>none</td><td>Fold1</td></tr>\n",
       "\t<tr><th scope=row>2</th><td>no_default</td><td>no_default</td><td>0.6878024</td><td>0.31219756</td><td>21</td><td>none</td><td>Fold1</td></tr>\n",
       "\t<tr><th scope=row>3</th><td>no_default</td><td>no_default</td><td>0.7865239</td><td>0.21347614</td><td>25</td><td>none</td><td>Fold1</td></tr>\n",
       "\t<tr><th scope=row>4</th><td>no_default</td><td>no_default</td><td>0.6722241</td><td>0.32777587</td><td>32</td><td>none</td><td>Fold1</td></tr>\n",
       "\t<tr><th scope=row>5</th><td>no_default</td><td>no_default</td><td>0.8333391</td><td>0.16666093</td><td>33</td><td>none</td><td>Fold1</td></tr>\n",
       "\t<tr><th scope=row>6</th><td>no_default</td><td>no_default</td><td>0.7849220</td><td>0.21507796</td><td>43</td><td>none</td><td>Fold1</td></tr>\n",
       "</tbody>\n",
       "</table>\n"
      ],
      "text/latex": [
       "A data.frame: 6 × 7\n",
       "\\begin{tabular}{r|lllllll}\n",
       "  & pred & obs & no\\_default & default & rowIndex & parameter & Resample\\\\\n",
       "  & <fct> & <fct> & <dbl> & <dbl> & <int> & <chr> & <chr>\\\\\n",
       "\\hline\n",
       "\t1 & no\\_default & no\\_default & 0.9625133 & 0.03748667 &  3 & none & Fold1\\\\\n",
       "\t2 & no\\_default & no\\_default & 0.6878024 & 0.31219756 & 21 & none & Fold1\\\\\n",
       "\t3 & no\\_default & no\\_default & 0.7865239 & 0.21347614 & 25 & none & Fold1\\\\\n",
       "\t4 & no\\_default & no\\_default & 0.6722241 & 0.32777587 & 32 & none & Fold1\\\\\n",
       "\t5 & no\\_default & no\\_default & 0.8333391 & 0.16666093 & 33 & none & Fold1\\\\\n",
       "\t6 & no\\_default & no\\_default & 0.7849220 & 0.21507796 & 43 & none & Fold1\\\\\n",
       "\\end{tabular}\n"
      ],
      "text/markdown": [
       "\n",
       "A data.frame: 6 × 7\n",
       "\n",
       "| <!--/--> | pred &lt;fct&gt; | obs &lt;fct&gt; | no_default &lt;dbl&gt; | default &lt;dbl&gt; | rowIndex &lt;int&gt; | parameter &lt;chr&gt; | Resample &lt;chr&gt; |\n",
       "|---|---|---|---|---|---|---|---|\n",
       "| 1 | no_default | no_default | 0.9625133 | 0.03748667 |  3 | none | Fold1 |\n",
       "| 2 | no_default | no_default | 0.6878024 | 0.31219756 | 21 | none | Fold1 |\n",
       "| 3 | no_default | no_default | 0.7865239 | 0.21347614 | 25 | none | Fold1 |\n",
       "| 4 | no_default | no_default | 0.6722241 | 0.32777587 | 32 | none | Fold1 |\n",
       "| 5 | no_default | no_default | 0.8333391 | 0.16666093 | 33 | none | Fold1 |\n",
       "| 6 | no_default | no_default | 0.7849220 | 0.21507796 | 43 | none | Fold1 |\n",
       "\n"
      ],
      "text/plain": [
       "  pred       obs        no_default default    rowIndex parameter Resample\n",
       "1 no_default no_default 0.9625133  0.03748667  3       none      Fold1   \n",
       "2 no_default no_default 0.6878024  0.31219756 21       none      Fold1   \n",
       "3 no_default no_default 0.7865239  0.21347614 25       none      Fold1   \n",
       "4 no_default no_default 0.6722241  0.32777587 32       none      Fold1   \n",
       "5 no_default no_default 0.8333391  0.16666093 33       none      Fold1   \n",
       "6 no_default no_default 0.7849220  0.21507796 43       none      Fold1   "
      ]
     },
     "metadata": {},
     "output_type": "display_data"
    }
   ],
   "source": [
    "head(glm_model_handpicked$pred)"
   ]
  },
  {
   "cell_type": "code",
   "execution_count": 21,
   "id": "4385cfce",
   "metadata": {},
   "outputs": [
    {
     "data": {
      "text/plain": [
       "Confusion Matrix and Statistics\n",
       "\n",
       "            Reference\n",
       "Prediction   no_default default\n",
       "  no_default      11850    2613\n",
       "  default           323     443\n",
       "                                          \n",
       "               Accuracy : 0.8072          \n",
       "                 95% CI : (0.8009, 0.8134)\n",
       "    No Information Rate : 0.7993          \n",
       "    P-Value [Acc > NIR] : 0.007595        \n",
       "                                          \n",
       "                  Kappa : 0.1646          \n",
       "                                          \n",
       " Mcnemar's Test P-Value : < 2.2e-16       \n",
       "                                          \n",
       "              Precision : 0.57833         \n",
       "                 Recall : 0.14496         \n",
       "                     F1 : 0.23182         \n",
       "             Prevalence : 0.20067         \n",
       "         Detection Rate : 0.02909         \n",
       "   Detection Prevalence : 0.05030         \n",
       "      Balanced Accuracy : 0.55921         \n",
       "                                          \n",
       "       'Positive' Class : default         \n",
       "                                          "
      ]
     },
     "metadata": {},
     "output_type": "display_data"
    }
   ],
   "source": [
    "confusionMatrix(data = glm_model_handpicked$pred$pred, \n",
    "                reference = glm_model_handpicked$pred$obs, \n",
    "                positive=\"default\", mode = \"prec_recall\")"
   ]
  },
  {
   "cell_type": "code",
   "execution_count": 22,
   "id": "593427f9",
   "metadata": {},
   "outputs": [
    {
     "data": {
      "text/plain": [
       "Confusion Matrix and Statistics\n",
       "\n",
       "            Reference\n",
       "Prediction   no_default default\n",
       "  no_default      11651    2250\n",
       "  default           522     806\n",
       "                                          \n",
       "               Accuracy : 0.818           \n",
       "                 95% CI : (0.8118, 0.8241)\n",
       "    No Information Rate : 0.7993          \n",
       "    P-Value [Acc > NIR] : 3.247e-09       \n",
       "                                          \n",
       "                  Kappa : 0.2802          \n",
       "                                          \n",
       " Mcnemar's Test P-Value : < 2.2e-16       \n",
       "                                          \n",
       "              Precision : 0.60693         \n",
       "                 Recall : 0.26374         \n",
       "                     F1 : 0.36770         \n",
       "             Prevalence : 0.20067         \n",
       "         Detection Rate : 0.05293         \n",
       "   Detection Prevalence : 0.08720         \n",
       "      Balanced Accuracy : 0.61043         \n",
       "                                          \n",
       "       'Positive' Class : default         \n",
       "                                          "
      ]
     },
     "metadata": {},
     "output_type": "display_data"
    }
   ],
   "source": [
    "confusionMatrix(data = glm_model_all$pred$pred, reference = glm_model_all$pred$obs, positive=\"default\", mode = \"prec_recall\")"
   ]
  },
  {
   "cell_type": "code",
   "execution_count": 32,
   "id": "96012e51",
   "metadata": {},
   "outputs": [],
   "source": [
    "glm_model_all$pred$pred2<-factor(ifelse(glm_model_all$pred$default>=0.3,\"default\",\"no_default\"),levels=c(\"default\",\"no_default\"))"
   ]
  },
  {
   "cell_type": "code",
   "execution_count": null,
   "id": "4bdfb3e3",
   "metadata": {},
   "outputs": [],
   "source": [
    "head(glm_model_all$pred)"
   ]
  },
  {
   "cell_type": "code",
   "execution_count": 33,
   "id": "6193f1cc",
   "metadata": {},
   "outputs": [
    {
     "data": {
      "text/plain": [
       "Confusion Matrix and Statistics\n",
       "\n",
       "            Reference\n",
       "Prediction   no_default default\n",
       "  no_default      10372    1475\n",
       "  default          1801    1581\n",
       "                                          \n",
       "               Accuracy : 0.7849          \n",
       "                 95% CI : (0.7783, 0.7914)\n",
       "    No Information Rate : 0.7993          \n",
       "    P-Value [Acc > NIR] : 1               \n",
       "                                          \n",
       "                  Kappa : 0.3552          \n",
       "                                          \n",
       " Mcnemar's Test P-Value : 1.361e-08       \n",
       "                                          \n",
       "              Precision : 0.4675          \n",
       "                 Recall : 0.5173          \n",
       "                     F1 : 0.4911          \n",
       "             Prevalence : 0.2007          \n",
       "         Detection Rate : 0.1038          \n",
       "   Detection Prevalence : 0.2221          \n",
       "      Balanced Accuracy : 0.6847          \n",
       "                                          \n",
       "       'Positive' Class : default         \n",
       "                                          "
      ]
     },
     "metadata": {},
     "output_type": "display_data"
    }
   ],
   "source": [
    "confusionMatrix(data = glm_model_all$pred$pred2, reference = glm_model_all$pred$obs, positive=\"default\", mode = \"prec_recall\")"
   ]
  },
  {
   "cell_type": "code",
   "execution_count": 23,
   "id": "af542ac3",
   "metadata": {},
   "outputs": [
    {
     "name": "stderr",
     "output_type": "stream",
     "text": [
      "***MLeval: Machine Learning Model Evaluation***\n",
      "\n",
      "Input: caret train function object\n",
      "\n",
      "Not averaging probs.\n",
      "\n",
      "Group 1 type: cv\n",
      "\n",
      "Observations: 15229\n",
      "\n",
      "Number of groups: 1\n",
      "\n",
      "Observations per group: 15229\n",
      "\n",
      "Positive: default\n",
      "\n",
      "Negative: no_default\n",
      "\n",
      "Group: Group 1\n",
      "\n",
      "Positive: 3056\n",
      "\n",
      "Negative: 12173\n",
      "\n",
      "***Performance Metrics***\n",
      "\n",
      "Group 1 Optimal Informedness = 0.419795219916363\n",
      "\n",
      "Group 1 AUC-ROC = 0.78\n",
      "\n"
     ]
    },
    {
     "data": {
      "image/png": "[encoded data removed]",
      "text/plain": [
       "plot without title"
      ]
     },
     "metadata": {
      "image/png": {
       "height": 420,
       "width": 420
      }
     },
     "output_type": "display_data"
    }
   ],
   "source": [
    "p_load(\"MLeval\")\n",
    "\n",
    "roc_glm_model_all <- evalm(glm_model_all,plots=\"r\") #r Roc"
   ]
  },
  {
   "cell_type": "code",
   "execution_count": 24,
   "id": "39c2c7c9",
   "metadata": {},
   "outputs": [
    {
     "name": "stderr",
     "output_type": "stream",
     "text": [
      "***MLeval: Machine Learning Model Evaluation***\n",
      "\n",
      "Input: caret train function object\n",
      "\n",
      "Not averaging probs.\n",
      "\n",
      "Group 1 type: cv\n",
      "\n",
      "Group 2 type: cv\n",
      "\n",
      "Observations: 30458\n",
      "\n",
      "Number of groups: 2\n",
      "\n",
      "Observations per group: 15229\n",
      "\n",
      "Positive: default\n",
      "\n",
      "Negative: no_default\n",
      "\n",
      "Group: Handpicked\n",
      "\n",
      "Positive: 3056\n",
      "\n",
      "Negative: 12173\n",
      "\n",
      "Group: All\n",
      "\n",
      "Positive: 3056\n",
      "\n",
      "Negative: 12173\n",
      "\n",
      "***Performance Metrics***\n",
      "\n",
      "Handpicked Optimal Informedness = 0.359112094916094\n",
      "\n",
      "All Optimal Informedness = 0.419795219916363\n",
      "\n",
      "Handpicked AUC-ROC = 0.74\n",
      "\n",
      "All AUC-ROC = 0.78\n",
      "\n"
     ]
    },
    {
     "data": {
      "image/png": "[encoded data removed]",
      "text/plain": [
       "plot without title"
      ]
     },
     "metadata": {
      "image/png": {
       "height": 420,
       "width": 420
      }
     },
     "output_type": "display_data"
    }
   ],
   "source": [
    "res_insample_all <- evalm(list(glm_model_handpicked, glm_model_all),gnames=c('Handpicked','All'),plots='r')"
   ]
  },
  {
   "cell_type": "code",
   "execution_count": 25,
   "id": "9345fede",
   "metadata": {},
   "outputs": [],
   "source": [
    "p_load(pROC)"
   ]
  },
  {
   "cell_type": "code",
   "execution_count": 27,
   "id": "8d59fb04",
   "metadata": {},
   "outputs": [],
   "source": [
    "?roc"
   ]
  },
  {
   "cell_type": "code",
   "execution_count": 28,
   "id": "d78b56cc",
   "metadata": {},
   "outputs": [
    {
     "name": "stderr",
     "output_type": "stream",
     "text": [
      "Setting levels: control = no_default, case = default\n",
      "\n",
      "Setting direction: controls < cases\n",
      "\n",
      "Setting levels: control = no_default, case = default\n",
      "\n",
      "Setting direction: controls < cases\n",
      "\n"
     ]
    }
   ],
   "source": [
    "roc_obj_handpicked<-roc(response=glm_model_handpicked$pred$obs,\n",
    "                        predictor=glm_model_handpicked$pred$default)\n",
    "\n",
    "roc_obj_all<-roc(response=glm_model_all$pred$obs,\n",
    "                 predictor=glm_model_all$pred$default)"
   ]
  },
  {
   "cell_type": "code",
   "execution_count": 29,
   "id": "bff02391",
   "metadata": {},
   "outputs": [
    {
     "data": {
      "text/html": [
       "<table class=\"dataframe\">\n",
       "<caption>A data.frame: 1 × 3</caption>\n",
       "<thead>\n",
       "\t<tr><th scope=col>threshold</th><th scope=col>specificity</th><th scope=col>sensitivity</th></tr>\n",
       "\t<tr><th scope=col>&lt;dbl&gt;</th><th scope=col>&lt;dbl&gt;</th><th scope=col>&lt;dbl&gt;</th></tr>\n",
       "</thead>\n",
       "<tbody>\n",
       "\t<tr><td>0.1899815</td><td>0.7038528</td><td>0.7146597</td></tr>\n",
       "</tbody>\n",
       "</table>\n"
      ],
      "text/latex": [
       "A data.frame: 1 × 3\n",
       "\\begin{tabular}{lll}\n",
       " threshold & specificity & sensitivity\\\\\n",
       " <dbl> & <dbl> & <dbl>\\\\\n",
       "\\hline\n",
       "\t 0.1899815 & 0.7038528 & 0.7146597\\\\\n",
       "\\end{tabular}\n"
      ],
      "text/markdown": [
       "\n",
       "A data.frame: 1 × 3\n",
       "\n",
       "| threshold &lt;dbl&gt; | specificity &lt;dbl&gt; | sensitivity &lt;dbl&gt; |\n",
       "|---|---|---|\n",
       "| 0.1899815 | 0.7038528 | 0.7146597 |\n",
       "\n"
      ],
      "text/plain": [
       "  threshold specificity sensitivity\n",
       "1 0.1899815 0.7038528   0.7146597  "
      ]
     },
     "metadata": {},
     "output_type": "display_data"
    }
   ],
   "source": [
    "rfThresh <- coords(roc_obj_all, x = \"best\", best.method = \"closest.topleft\")\n",
    "rfThresh"
   ]
  },
  {
   "cell_type": "code",
   "execution_count": 30,
   "id": "2b7990ad",
   "metadata": {},
   "outputs": [],
   "source": [
    "glm_model_all$pred$pred3<-factor(ifelse(glm_model_all$pred$default>=rfThresh$threshold,\"default\",\"no_default\"),levels=c(\"default\",\"no_default\"))"
   ]
  },
  {
   "cell_type": "code",
   "execution_count": 35,
   "id": "774620bf",
   "metadata": {},
   "outputs": [
    {
     "data": {
      "text/plain": [
       "Confusion Matrix and Statistics\n",
       "\n",
       "            Reference\n",
       "Prediction   no_default default\n",
       "  no_default       8568     872\n",
       "  default          3605    2184\n",
       "                                          \n",
       "               Accuracy : 0.706           \n",
       "                 95% CI : (0.6987, 0.7133)\n",
       "    No Information Rate : 0.7993          \n",
       "    P-Value [Acc > NIR] : 1               \n",
       "                                          \n",
       "                  Kappa : 0.3135          \n",
       "                                          \n",
       " Mcnemar's Test P-Value : <2e-16          \n",
       "                                          \n",
       "              Precision : 0.3773          \n",
       "                 Recall : 0.7147          \n",
       "                     F1 : 0.4938          \n",
       "             Prevalence : 0.2007          \n",
       "         Detection Rate : 0.1434          \n",
       "   Detection Prevalence : 0.3801          \n",
       "      Balanced Accuracy : 0.7093          \n",
       "                                          \n",
       "       'Positive' Class : default         \n",
       "                                          "
      ]
     },
     "metadata": {},
     "output_type": "display_data"
    }
   ],
   "source": [
    "confusionMatrix(data = glm_model_all$pred$pred3, reference = glm_model_all$pred$obs, positive=\"default\", mode = \"prec_recall\")"
   ]
  },
  {
   "cell_type": "markdown",
   "id": "1b3bc7c0",
   "metadata": {},
   "source": [
    "## Model Tuning"
   ]
  },
  {
   "cell_type": "code",
   "execution_count": 39,
   "id": "88ef4e89",
   "metadata": {},
   "outputs": [
    {
     "data": {
      "text/plain": [
       "glmnet \n",
       "\n",
       "15229 samples\n",
       "   71 predictor\n",
       "    2 classes: 'no_default', 'default' \n",
       "\n",
       "Pre-processing: centered (153), scaled (153) \n",
       "Resampling: Cross-Validated (5 fold) \n",
       "Summary of sample sizes: 12183, 12183, 12183, 12184, 12183 \n",
       "Resampling results across tuning parameters:\n",
       "\n",
       "  lambda        ROC        Sens       Spec         Accuracy   Kappa      \n",
       "  0.0001000000  0.7827483  0.9571190  0.272912187  0.8198179  0.290493357\n",
       "  0.0001072267  0.7828047  0.9572012  0.272912187  0.8198836  0.290638441\n",
       "  0.0001149757  0.7828691  0.9572833  0.272585390  0.8198836  0.290405819\n",
       "  0.0001232847  0.7829415  0.9572012  0.271931260  0.8196866  0.289501888\n",
       "  0.0001321941  0.7830093  0.9571190  0.271604463  0.8195553  0.288971981\n",
       "  0.0001417474  0.7831026  0.9571190  0.271603928  0.8195553  0.288975354\n",
       "  0.0001519911  0.7831831  0.9570369  0.271930725  0.8195553  0.289208570\n",
       "  0.0001629751  0.7832590  0.9570369  0.271276061  0.8194239  0.288466721\n",
       "  0.0001747528  0.7833516  0.9569548  0.271603393  0.8194239  0.288697960\n",
       "  0.0001873817  0.7834770  0.9571190  0.271276061  0.8194896  0.288623751\n",
       "  0.0002009233  0.7835870  0.9571190  0.270948729  0.8194239  0.288268576\n",
       "  0.0002154435  0.7837030  0.9572012  0.270294064  0.8193583  0.287675141\n",
       "  0.0002310130  0.7838442  0.9572012  0.269966732  0.8192926  0.287301254\n",
       "  0.0002477076  0.7839755  0.9573655  0.269966732  0.8194240  0.287609258\n",
       "  0.0002656088  0.7841069  0.9576120  0.270294064  0.8196866  0.288415069\n",
       "  0.0002848036  0.7842440  0.9576120  0.269639400  0.8195553  0.287692573\n",
       "  0.0003053856  0.7843836  0.9577762  0.269966732  0.8197523  0.288348232\n",
       "  0.0003274549  0.7845384  0.9579406  0.270620862  0.8200150  0.289405244\n",
       "  0.0003511192  0.7846770  0.9578584  0.270293529  0.8198836  0.288874025\n",
       "  0.0003764936  0.7848478  0.9580227  0.270293529  0.8200150  0.289180270\n",
       "  0.0004037017  0.7850097  0.9581870  0.269639935  0.8200150  0.288714308\n",
       "  0.0004328761  0.7852060  0.9581870  0.268330606  0.8197523  0.287255520\n",
       "  0.0004641589  0.7853947  0.9582691  0.267675941  0.8196867  0.286670065\n",
       "  0.0004977024  0.7855553  0.9584334  0.268002738  0.8198836  0.287352281\n",
       "  0.0005336699  0.7856939  0.9584334  0.267348074  0.8197523  0.286606478\n",
       "  0.0005722368  0.7858495  0.9585155  0.268002204  0.8199493  0.287506753\n",
       "  0.0006135907  0.7859804  0.9581869  0.268001669  0.8196866  0.286923896\n",
       "  0.0006579332  0.7861151  0.9582690  0.268001669  0.8197523  0.287058523\n",
       "  0.0007054802  0.7862783  0.9585155  0.268329536  0.8200149  0.287870115\n",
       "  0.0007564633  0.7863953  0.9588440  0.267676476  0.8201462  0.287689995\n",
       "  0.0008111308  0.7865271  0.9589261  0.267022881  0.8200806  0.287085804\n",
       "  0.0008697490  0.7866424  0.9589261  0.266040884  0.8198835  0.285969074\n",
       "  0.0009326033  0.7867411  0.9590082  0.264077961  0.8195552  0.283900009\n",
       "  0.0010000000  0.7868006  0.9590082  0.263096499  0.8193582  0.282789941\n",
       "  0.0010722672  0.7868434  0.9588439  0.262115037  0.8190299  0.281352303\n",
       "  0.0011497570  0.7868224  0.9590082  0.261134110  0.8189643  0.280511171\n",
       "  0.0012328467  0.7868941  0.9592547  0.260806778  0.8190956  0.280575386\n",
       "  0.0013219411  0.7869949  0.9594190  0.261134110  0.8192925  0.281229128\n",
       "  0.0014174742  0.7870962  0.9598297  0.259825851  0.8193582  0.280469474\n",
       "  0.0015199111  0.7871982  0.9604047  0.258517591  0.8195552  0.279979623\n",
       "  0.0016297508  0.7872824  0.9605691  0.257208262  0.8194239  0.278798077\n",
       "  0.0017475284  0.7873339  0.9606511  0.255898933  0.8192268  0.277452818\n",
       "  0.0018738174  0.7873807  0.9608976  0.254590139  0.8191612  0.276391222\n",
       "  0.0020092330  0.7874000  0.9612261  0.252954548  0.8190955  0.275101528\n",
       "  0.0021544347  0.7874166  0.9612261  0.251317887  0.8187672  0.273235135\n",
       "  0.0023101297  0.7874264  0.9617191  0.249353893  0.8187673  0.271832014\n",
       "  0.0024770764  0.7874267  0.9620476  0.247063637  0.8185703  0.269732302\n",
       "  0.0026560878  0.7874080  0.9627869  0.247718302  0.8192926  0.271846238\n",
       "  0.0028480359  0.7873736  0.9629512  0.246735235  0.8192269  0.271053468\n",
       "  0.0030538555  0.7873428  0.9631976  0.244770707  0.8190298  0.269226111\n",
       "  0.0032745492  0.7872945  0.9631976  0.241824717  0.8184389  0.265797040\n",
       "  0.0035111917  0.7873219  0.9633620  0.239861258  0.8181762  0.263813128\n",
       "  0.0037649358  0.7873770  0.9636084  0.238879261  0.8181761  0.263124867\n",
       "  0.0040370173  0.7874299  0.9642656  0.237897800  0.8185045  0.263154929\n",
       "  0.0043287613  0.7875058  0.9648406  0.235933806  0.8185701  0.261878622\n",
       "  0.0046415888  0.7875188  0.9650871  0.233642480  0.8183074  0.259653890\n",
       "  0.0049770236  0.7874984  0.9652514  0.232333151  0.8181761  0.258423373\n",
       "  0.0053366992  0.7874706  0.9657443  0.231024357  0.8183075  0.257783787\n",
       "  0.0057223677  0.7874336  0.9662372  0.228406234  0.8181762  0.255589079\n",
       "  0.0061359073  0.7873845  0.9665658  0.226114909  0.8179792  0.253455291\n",
       "  0.0065793322  0.7873169  0.9667301  0.222842656  0.8174539  0.249877937\n",
       "  0.0070548023  0.7871943  0.9674694  0.221533327  0.8177822  0.249648257\n",
       "  0.0075646333  0.7870727  0.9680445  0.219897201  0.8179135  0.248743569\n",
       "  0.0081113083  0.7869675  0.9691125  0.216951210  0.8181762  0.247177811\n",
       "  0.0086974900  0.7868521  0.9697697  0.215641881  0.8184389  0.246793688\n",
       "  0.0093260335  0.7867585  0.9702626  0.212698031  0.8182419  0.244138775\n",
       "  0.0100000000  0.7866460  0.9705091  0.207789652  0.8174539  0.238587260\n",
       "  0.0107226722  0.7865437  0.9717414  0.205170994  0.8179136  0.237603561\n",
       "  0.0114975700  0.7863689  0.9728093  0.201898741  0.8181106  0.235495532\n",
       "  0.0123284674  0.7861615  0.9737129  0.197971824  0.8180449  0.232227554\n",
       "  0.0132194115  0.7859399  0.9746987  0.192738252  0.8177822  0.227538643\n",
       "  0.0141747416  0.7856756  0.9755201  0.188157740  0.8175195  0.223269412\n",
       "  0.0151991108  0.7853396  0.9765059  0.183902421  0.8174538  0.219698137\n",
       "  0.0162975083  0.7849703  0.9774917  0.178339377  0.8171254  0.214428281\n",
       "  0.0174752840  0.7845411  0.9783954  0.170812875  0.8163376  0.206459534\n",
       "  0.0187381742  0.7840495  0.9791347  0.163287443  0.8154183  0.198072993\n",
       "  0.0200923300  0.7834699  0.9800383  0.157070269  0.8148929  0.191703995\n",
       "  0.0215443469  0.7828114  0.9807777  0.151507226  0.8143676  0.185796265\n",
       "  0.0231012970  0.7819340  0.9816812  0.144635388  0.8137109  0.178314496\n",
       "  0.0247707636  0.7809280  0.9833243  0.137762481  0.8136453  0.172223857\n",
       "  0.0265608778  0.7797680  0.9850494  0.129582384  0.8133825  0.164429001\n",
       "  0.0284803587  0.7782506  0.9859530  0.119438294  0.8120692  0.152313068\n",
       "  0.0305385551  0.7764880  0.9867745  0.110276200  0.8108873  0.141102923\n",
       "  0.0327454916  0.7748536  0.9881710  0.102097173  0.8103620  0.132253750\n",
       "  0.0351119173  0.7731510  0.9900604  0.086391643  0.8087204  0.113413871\n",
       "  0.0376493581  0.7712226  0.9922785  0.076899543  0.8085890  0.103637397\n",
       "  0.0403701726  0.7688371  0.9940035  0.063155868  0.8072101  0.086645033\n",
       "  0.0432876128  0.7658254  0.9953999  0.051048854  0.8058967  0.071112911\n",
       "  0.0464158883  0.7626249  0.9969606  0.038286105  0.8045835  0.054618541\n",
       "  0.0497702356  0.7597624  0.9985213  0.026178557  0.8034014  0.038653345\n",
       "  0.0533669923  0.7586418  0.9988499  0.014725672  0.8013658  0.021402483\n",
       "  0.0572236766  0.7580249  0.9998357  0.003272253  0.7998555  0.004953598\n",
       "  0.0613590727  0.7573932  1.0000000  0.000000000  0.7993302  0.000000000\n",
       "  0.0657933225  0.7565727  1.0000000  0.000000000  0.7993302  0.000000000\n",
       "  0.0705480231  0.7551872  1.0000000  0.000000000  0.7993302  0.000000000\n",
       "  0.0756463328  0.7532692  1.0000000  0.000000000  0.7993302  0.000000000\n",
       "  0.0811130831  0.7508215  1.0000000  0.000000000  0.7993302  0.000000000\n",
       "  0.0869749003  0.7472848  1.0000000  0.000000000  0.7993302  0.000000000\n",
       "  0.0932603347  0.7459137  1.0000000  0.000000000  0.7993302  0.000000000\n",
       "  0.1000000000  0.7438917  1.0000000  0.000000000  0.7993302  0.000000000\n",
       "  AUC        Precision  Recall     F        \n",
       "  0.9249576  0.8398472  0.9571190  0.8946395\n",
       "  0.9250125  0.8398590  0.9572012  0.8946820\n",
       "  0.9251132  0.8398107  0.9572833  0.8946908\n",
       "  0.9252088  0.8396794  0.9572012  0.8945802\n",
       "  0.9252653  0.8396083  0.9571190  0.8945038\n",
       "  0.9253582  0.8396079  0.9571190  0.8945038\n",
       "  0.9254518  0.8396561  0.9570369  0.8944950\n",
       "  0.9255414  0.8395354  0.9570369  0.8944264\n",
       "  0.9256404  0.8395840  0.9569548  0.8944176\n",
       "  0.9257184  0.8395469  0.9571190  0.8944680\n",
       "  0.9258359  0.8394852  0.9571190  0.8944335\n",
       "  0.9259293  0.8393762  0.9572012  0.8944071\n",
       "  0.9260612  0.8393162  0.9572012  0.8943728\n",
       "  0.9262140  0.8393380  0.9573655  0.8944580\n",
       "  0.9263526  0.8394343  0.9576120  0.8946194\n",
       "  0.9264514  0.8393120  0.9576120  0.8945505\n",
       "  0.9265982  0.8393960  0.9577762  0.8946704\n",
       "  0.9267477  0.8395385  0.9579406  0.8948233\n",
       "  0.9268897  0.8394673  0.9578584  0.8947470\n",
       "  0.9270300  0.8394900  0.9580227  0.8948314\n",
       "  0.9271949  0.8393940  0.9581870  0.8948484\n",
       "  0.9274435  0.8391503  0.9581870  0.8947109\n",
       "  0.9276809  0.8390402  0.9582691  0.8946850\n",
       "  0.9278502  0.8391225  0.9584334  0.8948039\n",
       "  0.9279747  0.8390021  0.9584334  0.8947353\n",
       "  0.9281134  0.8391336  0.9585155  0.8948461\n",
       "  0.9282284  0.8390856  0.9581869  0.8946770\n",
       "  0.9283577  0.8390985  0.9582690  0.8947195\n",
       "  0.9284983  0.8391942  0.9585155  0.8948809\n",
       "  0.9286126  0.8391213  0.9588440  0.8949841\n",
       "  0.9287530  0.8390134  0.9589261  0.8949578\n",
       "  0.9288728  0.8388327  0.9589261  0.8948549\n",
       "  0.9289901  0.8384819  0.9590082  0.8946910\n",
       "  0.9291100  0.8383006  0.9590082  0.8945880\n",
       "  0.9292034  0.8380982  0.9588439  0.8944013\n",
       "  0.9292137  0.8379423  0.9590082  0.8943838\n",
       "  0.9292675  0.8379176  0.9592547  0.8944768\n",
       "  0.9293841  0.8380025  0.9594190  0.8945959\n",
       "  0.9295193  0.8378208  0.9598297  0.8946707\n",
       "  0.9296378  0.8376635  0.9604047  0.8948320\n",
       "  0.9297707  0.8374449  0.9605691  0.8947793\n",
       "  0.9298869  0.8372154  0.9606511  0.8946853\n",
       "  0.9299842  0.8370108  0.9608976  0.8946754\n",
       "  0.9300692  0.8367584  0.9612261  0.8946733\n",
       "  0.9301438  0.8364577  0.9612261  0.8945018\n",
       "  0.9302018  0.8361717  0.9617191  0.8945500\n",
       "  0.9302750  0.8358029  0.9620476  0.8944813\n",
       "  0.9303514  0.8360266  0.9627869  0.8949291\n",
       "  0.9303970  0.8358667  0.9629512  0.8949108\n",
       "  0.9304292  0.8355435  0.9631976  0.8948322\n",
       "  0.9304494  0.8350082  0.9631976  0.8945239\n",
       "  0.9304765  0.8346740  0.9633620  0.8944033\n",
       "  0.9305301  0.8345304  0.9636084  0.8944267\n",
       "  0.9305927  0.8344473  0.9642656  0.8946615\n",
       "  0.9306884  0.8341742  0.9648406  0.8947527\n",
       "  0.9307562  0.8337935  0.9650871  0.8946393\n",
       "  0.9307868  0.8335787  0.9652514  0.8945875\n",
       "  0.9308227  0.8334125  0.9657443  0.8947029\n",
       "  0.9308373  0.8330103  0.9662372  0.8946821\n",
       "  0.9308237  0.8326459  0.9665658  0.8946111\n",
       "  0.9308171  0.8320786  0.9667301  0.8943548\n",
       "  0.9307882  0.8319512  0.9674694  0.8945957\n",
       "  0.9307501  0.8317404  0.9680445  0.8947184\n",
       "  0.9306998  0.8313637  0.9691125  0.8949582\n",
       "  0.9306680  0.8312247  0.9697697  0.8951574\n",
       "  0.9306473  0.8307698  0.9702626  0.8951020\n",
       "  0.9306231  0.8299329  0.9705091  0.8947187\n",
       "  0.9305839  0.8296475  0.9717414  0.8950759\n",
       "  0.9305135  0.8292236  0.9728093  0.8952819\n",
       "  0.9304243  0.8286639  0.9737129  0.8953359\n",
       "  0.9303329  0.8278823  0.9746987  0.8952951\n",
       "  0.9302414  0.8271964  0.9755201  0.8952422\n",
       "  0.9301161  0.8265946  0.9765059  0.8953029\n",
       "  0.9300093  0.8257661  0.9774917  0.8952292\n",
       "  0.9298841  0.8245847  0.9783954  0.8949133\n",
       "  0.9297214  0.8233869  0.9791347  0.8945144\n",
       "  0.9295270  0.8224382  0.9800383  0.8943338\n",
       "  0.9293033  0.8215847  0.9807777  0.8941369\n",
       "  0.9289795  0.8205385  0.9816812  0.8938900\n",
       "  0.9285787  0.8196002  0.9833243  0.8940124\n",
       "  0.9281383  0.8184558  0.9850494  0.8940438\n",
       "  0.9275256  0.8168632  0.9859530  0.8934640\n",
       "  0.9267929  0.8154391  0.9867745  0.8929466\n",
       "  0.9261162  0.8142687  0.9881710  0.8928181\n",
       "  0.9254310  0.8119229  0.9900604  0.8921765\n",
       "  0.9246711  0.8106834  0.9922785  0.8923273\n",
       "  0.9237052  0.8086705  0.9940035  0.8918041\n",
       "  0.9222772  0.8068931  0.9953999  0.8912841\n",
       "  0.9205470  0.8050446  0.9969606  0.8907814\n",
       "  0.9187517  0.8033211  0.9985213  0.8903463\n",
       "  0.9175734  0.8015181  0.9988499  0.8893687\n",
       "  0.9168778  0.7998293  0.9998357  0.8887185\n",
       "  0.9163081  0.7993302  1.0000000  0.8884753\n",
       "  0.9159147  0.7993302  1.0000000  0.8884753\n",
       "  0.9151920  0.7993302  1.0000000  0.8884753\n",
       "  0.9138410  0.7993302  1.0000000  0.8884753\n",
       "  0.9117531  0.7993302  1.0000000  0.8884753\n",
       "  0.9075070  0.7993302  1.0000000  0.8884753\n",
       "  0.9073788  0.7993302  1.0000000  0.8884753\n",
       "  0.9068040  0.7993302  1.0000000  0.8884753\n",
       "\n",
       "Tuning parameter 'alpha' was held constant at a value of 1\n",
       "Spec was used to select the optimal model using the largest value.\n",
       "The final values used for the model were alpha = 1 and lambda = 0.0001072267."
      ]
     },
     "metadata": {},
     "output_type": "display_data"
    }
   ],
   "source": [
    "multiStats <- function(...) c(twoClassSummary(...), defaultSummary(...), prSummary(...))\n",
    "\n",
    "ctrl_multiStats<- trainControl(method = \"cv\",\n",
    "                     number = 5,\n",
    "                     summaryFunction = multiStats,\n",
    "                     classProbs = TRUE,\n",
    "                     verbose=FALSE,\n",
    "                     savePredictions = T)\n",
    "\n",
    "lambda <- 10^seq(-1, -4, length = 100)\n",
    "grid <- expand.grid(\"alpha\" = 1, lambda = lambda)\n",
    "\n",
    "set.seed(13505)\n",
    "glm_model_lasso_spec <- train(\n",
    "    formula(paste0(\"default_f ~\", paste0(X5, collapse = \" + \"))),\n",
    "    method = \"glmnet\",\n",
    "    data = train,\n",
    "    family = \"binomial\",\n",
    "    trControl = ctrl_multiStats,\n",
    "    tuneGrid = grid,\n",
    "    preProcess = c(\"center\", \"scale\"),\n",
    "     ## Specify which metric to optimize\n",
    "    metric = \"Spec\"\n",
    "  )\n",
    "\n",
    "glm_model_lasso_spec"
   ]
  },
  {
   "cell_type": "markdown",
   "id": "b5def499",
   "metadata": {},
   "source": [
    "## Alternative cutoffs"
   ]
  },
  {
   "cell_type": "code",
   "execution_count": 40,
   "id": "35b9b3e9",
   "metadata": {},
   "outputs": [
    {
     "name": "stderr",
     "output_type": "stream",
     "text": [
      "Setting levels: control = no_default, case = default\n",
      "\n",
      "Setting direction: controls < cases\n",
      "\n"
     ]
    }
   ],
   "source": [
    "roc_obj_lasso<-roc(response=glm_model_lasso$pred$obs[glm_model_lasso$pred$lambda==glm_model_lasso$bestTune$lambda],\n",
    "                   predictor=glm_model_lasso$pred$default[glm_model_lasso$pred$lambda==glm_model_lasso$bestTune$lambda])"
   ]
  },
  {
   "cell_type": "code",
   "execution_count": 41,
   "id": "9cc9e0b3",
   "metadata": {},
   "outputs": [
    {
     "data": {
      "text/html": [
       "<table class=\"dataframe\">\n",
       "<caption>A data.frame: 1 × 3</caption>\n",
       "<thead>\n",
       "\t<tr><th scope=col>threshold</th><th scope=col>specificity</th><th scope=col>sensitivity</th></tr>\n",
       "\t<tr><th scope=col>&lt;dbl&gt;</th><th scope=col>&lt;dbl&gt;</th><th scope=col>&lt;dbl&gt;</th></tr>\n",
       "</thead>\n",
       "<tbody>\n",
       "\t<tr><td>0.1918555</td><td>0.7027849</td><td>0.7231675</td></tr>\n",
       "</tbody>\n",
       "</table>\n"
      ],
      "text/latex": [
       "A data.frame: 1 × 3\n",
       "\\begin{tabular}{lll}\n",
       " threshold & specificity & sensitivity\\\\\n",
       " <dbl> & <dbl> & <dbl>\\\\\n",
       "\\hline\n",
       "\t 0.1918555 & 0.7027849 & 0.7231675\\\\\n",
       "\\end{tabular}\n"
      ],
      "text/markdown": [
       "\n",
       "A data.frame: 1 × 3\n",
       "\n",
       "| threshold &lt;dbl&gt; | specificity &lt;dbl&gt; | sensitivity &lt;dbl&gt; |\n",
       "|---|---|---|\n",
       "| 0.1918555 | 0.7027849 | 0.7231675 |\n",
       "\n"
      ],
      "text/plain": [
       "  threshold specificity sensitivity\n",
       "1 0.1918555 0.7027849   0.7231675  "
      ]
     },
     "metadata": {},
     "output_type": "display_data"
    }
   ],
   "source": [
    "rfThresh_lasso <- coords(roc_obj_lasso, x = \"best\", best.method = \"closest.topleft\")\n",
    "rfThresh_lasso"
   ]
  },
  {
   "cell_type": "code",
   "execution_count": 42,
   "id": "1232ad1d",
   "metadata": {},
   "outputs": [],
   "source": [
    "pred_lasso<-factor(ifelse(glm_model_lasso$pred$default[glm_model_lasso$pred$lambda==glm_model_lasso$bestTune$lambda]>=rfThresh_lasso$threshold,\n",
    "                          \"default\",\"no_default\"),levels=c(\"default\",\"no_default\"))"
   ]
  },
  {
   "cell_type": "code",
   "execution_count": 43,
   "id": "af88f5f1",
   "metadata": {},
   "outputs": [
    {
     "data": {
      "text/plain": [
       "Confusion Matrix and Statistics\n",
       "\n",
       "            Reference\n",
       "Prediction   no_default default\n",
       "  no_default       8555     846\n",
       "  default          3618    2210\n",
       "                                          \n",
       "               Accuracy : 0.7069          \n",
       "                 95% CI : (0.6996, 0.7141)\n",
       "    No Information Rate : 0.7993          \n",
       "    P-Value [Acc > NIR] : 1               \n",
       "                                          \n",
       "                  Kappa : 0.318           \n",
       "                                          \n",
       " Mcnemar's Test P-Value : <2e-16          \n",
       "                                          \n",
       "              Precision : 0.3792          \n",
       "                 Recall : 0.7232          \n",
       "                     F1 : 0.4975          \n",
       "             Prevalence : 0.2007          \n",
       "         Detection Rate : 0.1451          \n",
       "   Detection Prevalence : 0.3827          \n",
       "      Balanced Accuracy : 0.7130          \n",
       "                                          \n",
       "       'Positive' Class : default         \n",
       "                                          "
      ]
     },
     "metadata": {},
     "output_type": "display_data"
    }
   ],
   "source": [
    "confusionMatrix(data = pred_lasso, \n",
    "                reference = glm_model_lasso$pred$obs[glm_model_lasso$pred$lambda==glm_model_lasso$bestTune$lambda], \n",
    "                positive=\"default\", mode = \"prec_recall\")"
   ]
  },
  {
   "cell_type": "markdown",
   "id": "44524936",
   "metadata": {},
   "source": [
    "## Precision Recall Curve"
   ]
  },
  {
   "cell_type": "code",
   "execution_count": 44,
   "id": "113f9d2b",
   "metadata": {},
   "outputs": [],
   "source": [
    "prec_recall<-data.frame(coords(roc_obj_lasso, seq(0,1,length=100), ret=c(\"threshold\", \"precision\", \"recall\")))"
   ]
  },
  {
   "cell_type": "code",
   "execution_count": 45,
   "id": "785fe449",
   "metadata": {},
   "outputs": [
    {
     "data": {
      "text/html": [
       "<table class=\"dataframe\">\n",
       "<caption>A data.frame: 100 × 4</caption>\n",
       "<thead>\n",
       "\t<tr><th scope=col>threshold</th><th scope=col>precision</th><th scope=col>recall</th><th scope=col>F1</th></tr>\n",
       "\t<tr><th scope=col>&lt;dbl&gt;</th><th scope=col>&lt;dbl&gt;</th><th scope=col>&lt;dbl&gt;</th><th scope=col>&lt;dbl&gt;</th></tr>\n",
       "</thead>\n",
       "<tbody>\n",
       "\t<tr><td>0.00000000</td><td>0.2006698</td><td>1.0000000</td><td>0.3342631</td></tr>\n",
       "\t<tr><td>0.01010101</td><td>0.2013180</td><td>0.9996728</td><td>0.3351434</td></tr>\n",
       "\t<tr><td>0.02020202</td><td>0.2051455</td><td>0.9967277</td><td>0.3402592</td></tr>\n",
       "\t<tr><td>0.03030303</td><td>0.2133971</td><td>0.9934555</td><td>0.3513279</td></tr>\n",
       "\t<tr><td>0.04040404</td><td>0.2238184</td><td>0.9839660</td><td>0.3646838</td></tr>\n",
       "\t<tr><td>0.05050505</td><td>0.2344108</td><td>0.9705497</td><td>0.3776179</td></tr>\n",
       "\t<tr><td>0.06060606</td><td>0.2466375</td><td>0.9600785</td><td>0.3924559</td></tr>\n",
       "\t<tr><td>0.07070707</td><td>0.2583266</td><td>0.9466623</td><td>0.4058927</td></tr>\n",
       "\t<tr><td>0.08080808</td><td>0.2724319</td><td>0.9329188</td><td>0.4217144</td></tr>\n",
       "\t<tr><td>0.09090909</td><td>0.2838605</td><td>0.9162304</td><td>0.4334365</td></tr>\n",
       "\t<tr><td>0.10101010</td><td>0.2961290</td><td>0.9011780</td><td>0.4457753</td></tr>\n",
       "\t<tr><td>0.11111111</td><td>0.3058904</td><td>0.8802356</td><td>0.4540084</td></tr>\n",
       "\t<tr><td>0.12121212</td><td>0.3148793</td><td>0.8579843</td><td>0.4606870</td></tr>\n",
       "\t<tr><td>0.13131313</td><td>0.3260787</td><td>0.8383508</td><td>0.4695318</td></tr>\n",
       "\t<tr><td>0.14141414</td><td>0.3354345</td><td>0.8183901</td><td>0.4758371</td></tr>\n",
       "\t<tr><td>0.15151515</td><td>0.3433319</td><td>0.7977749</td><td>0.4800630</td></tr>\n",
       "\t<tr><td>0.16161616</td><td>0.3520416</td><td>0.7758508</td><td>0.4843223</td></tr>\n",
       "\t<tr><td>0.17171717</td><td>0.3609246</td><td>0.7562173</td><td>0.4886352</td></tr>\n",
       "\t<tr><td>0.18181818</td><td>0.3690593</td><td>0.7369110</td><td>0.4918104</td></tr>\n",
       "\t<tr><td>0.19191919</td><td>0.3791209</td><td>0.7225131</td><td>0.4972973</td></tr>\n",
       "\t<tr><td>0.20202020</td><td>0.3871902</td><td>0.7002618</td><td>0.4986601</td></tr>\n",
       "\t<tr><td>0.21212121</td><td>0.3948718</td><td>0.6803010</td><td>0.4996996</td></tr>\n",
       "\t<tr><td>0.22222222</td><td>0.4028777</td><td>0.6596859</td><td>0.5002481</td></tr>\n",
       "\t<tr><td>0.23232323</td><td>0.4102994</td><td>0.6413613</td><td>0.5004468</td></tr>\n",
       "\t<tr><td>0.24242424</td><td>0.4212261</td><td>0.6272906</td><td>0.5040095</td></tr>\n",
       "\t<tr><td>0.25252525</td><td>0.4315717</td><td>0.6119110</td><td>0.5061578</td></tr>\n",
       "\t<tr><td>0.26262626</td><td>0.4365002</td><td>0.5893325</td><td>0.5015316</td></tr>\n",
       "\t<tr><td>0.27272727</td><td>0.4457433</td><td>0.5739529</td><td>0.5017880</td></tr>\n",
       "\t<tr><td>0.28282828</td><td>0.4573187</td><td>0.5592277</td><td>0.5031650</td></tr>\n",
       "\t<tr><td>0.29292929</td><td>0.4658420</td><td>0.5422120</td><td>0.5011341</td></tr>\n",
       "\t<tr><td>⋮</td><td>⋮</td><td>⋮</td><td>⋮</td></tr>\n",
       "\t<tr><td>0.7070707</td><td>0.7568389</td><td>0.0814790576</td><td>0.1471196455</td></tr>\n",
       "\t<tr><td>0.7171717</td><td>0.7666667</td><td>0.0752617801</td><td>0.1370679380</td></tr>\n",
       "\t<tr><td>0.7272727</td><td>0.7765957</td><td>0.0716623037</td><td>0.1312162972</td></tr>\n",
       "\t<tr><td>0.7373737</td><td>0.7768924</td><td>0.0638089005</td><td>0.1179316601</td></tr>\n",
       "\t<tr><td>0.7474747</td><td>0.7863248</td><td>0.0602094241</td><td>0.1118541033</td></tr>\n",
       "\t<tr><td>0.7575758</td><td>0.7887324</td><td>0.0549738220</td><td>0.1027837259</td></tr>\n",
       "\t<tr><td>0.7676768</td><td>0.7795699</td><td>0.0474476440</td><td>0.0894509562</td></tr>\n",
       "\t<tr><td>0.7777778</td><td>0.7750000</td><td>0.0405759162</td><td>0.0771144279</td></tr>\n",
       "\t<tr><td>0.7878788</td><td>0.7801418</td><td>0.0359947644</td><td>0.0688145136</td></tr>\n",
       "\t<tr><td>0.7979798</td><td>0.7786885</td><td>0.0310863874</td><td>0.0597860289</td></tr>\n",
       "\t<tr><td>0.8080808</td><td>0.7850467</td><td>0.0274869110</td><td>0.0531141322</td></tr>\n",
       "\t<tr><td>0.8181818</td><td>0.7727273</td><td>0.0222513089</td><td>0.0432569975</td></tr>\n",
       "\t<tr><td>0.8282828</td><td>0.7951807</td><td>0.0215968586</td><td>0.0420516088</td></tr>\n",
       "\t<tr><td>0.8383838</td><td>0.7857143</td><td>0.0179973822</td><td>0.0351887396</td></tr>\n",
       "\t<tr><td>0.8484848</td><td>0.7796610</td><td>0.0150523560</td><td>0.0295345104</td></tr>\n",
       "\t<tr><td>0.8585859</td><td>0.8076923</td><td>0.0137434555</td><td>0.0270270270</td></tr>\n",
       "\t<tr><td>0.8686869</td><td>0.7435897</td><td>0.0094895288</td><td>0.0187399031</td></tr>\n",
       "\t<tr><td>0.8787879</td><td>0.7500000</td><td>0.0078534031</td><td>0.0155440415</td></tr>\n",
       "\t<tr><td>0.8888889</td><td>0.6666667</td><td>0.0039267016</td><td>0.0078074170</td></tr>\n",
       "\t<tr><td>0.8989899</td><td>0.6250000</td><td>0.0032722513</td><td>0.0065104167</td></tr>\n",
       "\t<tr><td>0.9090909</td><td>0.5384615</td><td>0.0022905759</td><td>0.0045617465</td></tr>\n",
       "\t<tr><td>0.9191919</td><td>0.4444444</td><td>0.0013089005</td><td>0.0026101142</td></tr>\n",
       "\t<tr><td>0.9292929</td><td>0.5714286</td><td>0.0013089005</td><td>0.0026118185</td></tr>\n",
       "\t<tr><td>0.9393939</td><td>0.5000000</td><td>0.0006544503</td><td>0.0013071895</td></tr>\n",
       "\t<tr><td>0.9494949</td><td>0.3333333</td><td>0.0003272251</td><td>0.0006538084</td></tr>\n",
       "\t<tr><td>0.9595960</td><td>0.0000000</td><td>0.0000000000</td><td>         NaN</td></tr>\n",
       "\t<tr><td>0.9696970</td><td>0.0000000</td><td>0.0000000000</td><td>         NaN</td></tr>\n",
       "\t<tr><td>0.9797980</td><td>0.0000000</td><td>0.0000000000</td><td>         NaN</td></tr>\n",
       "\t<tr><td>0.9898990</td><td>      NaN</td><td>0.0000000000</td><td>         NaN</td></tr>\n",
       "\t<tr><td>1.0000000</td><td>      NaN</td><td>0.0000000000</td><td>         NaN</td></tr>\n",
       "</tbody>\n",
       "</table>\n"
      ],
      "text/latex": [
       "A data.frame: 100 × 4\n",
       "\\begin{tabular}{llll}\n",
       " threshold & precision & recall & F1\\\\\n",
       " <dbl> & <dbl> & <dbl> & <dbl>\\\\\n",
       "\\hline\n",
       "\t 0.00000000 & 0.2006698 & 1.0000000 & 0.3342631\\\\\n",
       "\t 0.01010101 & 0.2013180 & 0.9996728 & 0.3351434\\\\\n",
       "\t 0.02020202 & 0.2051455 & 0.9967277 & 0.3402592\\\\\n",
       "\t 0.03030303 & 0.2133971 & 0.9934555 & 0.3513279\\\\\n",
       "\t 0.04040404 & 0.2238184 & 0.9839660 & 0.3646838\\\\\n",
       "\t 0.05050505 & 0.2344108 & 0.9705497 & 0.3776179\\\\\n",
       "\t 0.06060606 & 0.2466375 & 0.9600785 & 0.3924559\\\\\n",
       "\t 0.07070707 & 0.2583266 & 0.9466623 & 0.4058927\\\\\n",
       "\t 0.08080808 & 0.2724319 & 0.9329188 & 0.4217144\\\\\n",
       "\t 0.09090909 & 0.2838605 & 0.9162304 & 0.4334365\\\\\n",
       "\t 0.10101010 & 0.2961290 & 0.9011780 & 0.4457753\\\\\n",
       "\t 0.11111111 & 0.3058904 & 0.8802356 & 0.4540084\\\\\n",
       "\t 0.12121212 & 0.3148793 & 0.8579843 & 0.4606870\\\\\n",
       "\t 0.13131313 & 0.3260787 & 0.8383508 & 0.4695318\\\\\n",
       "\t 0.14141414 & 0.3354345 & 0.8183901 & 0.4758371\\\\\n",
       "\t 0.15151515 & 0.3433319 & 0.7977749 & 0.4800630\\\\\n",
       "\t 0.16161616 & 0.3520416 & 0.7758508 & 0.4843223\\\\\n",
       "\t 0.17171717 & 0.3609246 & 0.7562173 & 0.4886352\\\\\n",
       "\t 0.18181818 & 0.3690593 & 0.7369110 & 0.4918104\\\\\n",
       "\t 0.19191919 & 0.3791209 & 0.7225131 & 0.4972973\\\\\n",
       "\t 0.20202020 & 0.3871902 & 0.7002618 & 0.4986601\\\\\n",
       "\t 0.21212121 & 0.3948718 & 0.6803010 & 0.4996996\\\\\n",
       "\t 0.22222222 & 0.4028777 & 0.6596859 & 0.5002481\\\\\n",
       "\t 0.23232323 & 0.4102994 & 0.6413613 & 0.5004468\\\\\n",
       "\t 0.24242424 & 0.4212261 & 0.6272906 & 0.5040095\\\\\n",
       "\t 0.25252525 & 0.4315717 & 0.6119110 & 0.5061578\\\\\n",
       "\t 0.26262626 & 0.4365002 & 0.5893325 & 0.5015316\\\\\n",
       "\t 0.27272727 & 0.4457433 & 0.5739529 & 0.5017880\\\\\n",
       "\t 0.28282828 & 0.4573187 & 0.5592277 & 0.5031650\\\\\n",
       "\t 0.29292929 & 0.4658420 & 0.5422120 & 0.5011341\\\\\n",
       "\t ⋮ & ⋮ & ⋮ & ⋮\\\\\n",
       "\t 0.7070707 & 0.7568389 & 0.0814790576 & 0.1471196455\\\\\n",
       "\t 0.7171717 & 0.7666667 & 0.0752617801 & 0.1370679380\\\\\n",
       "\t 0.7272727 & 0.7765957 & 0.0716623037 & 0.1312162972\\\\\n",
       "\t 0.7373737 & 0.7768924 & 0.0638089005 & 0.1179316601\\\\\n",
       "\t 0.7474747 & 0.7863248 & 0.0602094241 & 0.1118541033\\\\\n",
       "\t 0.7575758 & 0.7887324 & 0.0549738220 & 0.1027837259\\\\\n",
       "\t 0.7676768 & 0.7795699 & 0.0474476440 & 0.0894509562\\\\\n",
       "\t 0.7777778 & 0.7750000 & 0.0405759162 & 0.0771144279\\\\\n",
       "\t 0.7878788 & 0.7801418 & 0.0359947644 & 0.0688145136\\\\\n",
       "\t 0.7979798 & 0.7786885 & 0.0310863874 & 0.0597860289\\\\\n",
       "\t 0.8080808 & 0.7850467 & 0.0274869110 & 0.0531141322\\\\\n",
       "\t 0.8181818 & 0.7727273 & 0.0222513089 & 0.0432569975\\\\\n",
       "\t 0.8282828 & 0.7951807 & 0.0215968586 & 0.0420516088\\\\\n",
       "\t 0.8383838 & 0.7857143 & 0.0179973822 & 0.0351887396\\\\\n",
       "\t 0.8484848 & 0.7796610 & 0.0150523560 & 0.0295345104\\\\\n",
       "\t 0.8585859 & 0.8076923 & 0.0137434555 & 0.0270270270\\\\\n",
       "\t 0.8686869 & 0.7435897 & 0.0094895288 & 0.0187399031\\\\\n",
       "\t 0.8787879 & 0.7500000 & 0.0078534031 & 0.0155440415\\\\\n",
       "\t 0.8888889 & 0.6666667 & 0.0039267016 & 0.0078074170\\\\\n",
       "\t 0.8989899 & 0.6250000 & 0.0032722513 & 0.0065104167\\\\\n",
       "\t 0.9090909 & 0.5384615 & 0.0022905759 & 0.0045617465\\\\\n",
       "\t 0.9191919 & 0.4444444 & 0.0013089005 & 0.0026101142\\\\\n",
       "\t 0.9292929 & 0.5714286 & 0.0013089005 & 0.0026118185\\\\\n",
       "\t 0.9393939 & 0.5000000 & 0.0006544503 & 0.0013071895\\\\\n",
       "\t 0.9494949 & 0.3333333 & 0.0003272251 & 0.0006538084\\\\\n",
       "\t 0.9595960 & 0.0000000 & 0.0000000000 &          NaN\\\\\n",
       "\t 0.9696970 & 0.0000000 & 0.0000000000 &          NaN\\\\\n",
       "\t 0.9797980 & 0.0000000 & 0.0000000000 &          NaN\\\\\n",
       "\t 0.9898990 &       NaN & 0.0000000000 &          NaN\\\\\n",
       "\t 1.0000000 &       NaN & 0.0000000000 &          NaN\\\\\n",
       "\\end{tabular}\n"
      ],
      "text/markdown": [
       "\n",
       "A data.frame: 100 × 4\n",
       "\n",
       "| threshold &lt;dbl&gt; | precision &lt;dbl&gt; | recall &lt;dbl&gt; | F1 &lt;dbl&gt; |\n",
       "|---|---|---|---|\n",
       "| 0.00000000 | 0.2006698 | 1.0000000 | 0.3342631 |\n",
       "| 0.01010101 | 0.2013180 | 0.9996728 | 0.3351434 |\n",
       "| 0.02020202 | 0.2051455 | 0.9967277 | 0.3402592 |\n",
       "| 0.03030303 | 0.2133971 | 0.9934555 | 0.3513279 |\n",
       "| 0.04040404 | 0.2238184 | 0.9839660 | 0.3646838 |\n",
       "| 0.05050505 | 0.2344108 | 0.9705497 | 0.3776179 |\n",
       "| 0.06060606 | 0.2466375 | 0.9600785 | 0.3924559 |\n",
       "| 0.07070707 | 0.2583266 | 0.9466623 | 0.4058927 |\n",
       "| 0.08080808 | 0.2724319 | 0.9329188 | 0.4217144 |\n",
       "| 0.09090909 | 0.2838605 | 0.9162304 | 0.4334365 |\n",
       "| 0.10101010 | 0.2961290 | 0.9011780 | 0.4457753 |\n",
       "| 0.11111111 | 0.3058904 | 0.8802356 | 0.4540084 |\n",
       "| 0.12121212 | 0.3148793 | 0.8579843 | 0.4606870 |\n",
       "| 0.13131313 | 0.3260787 | 0.8383508 | 0.4695318 |\n",
       "| 0.14141414 | 0.3354345 | 0.8183901 | 0.4758371 |\n",
       "| 0.15151515 | 0.3433319 | 0.7977749 | 0.4800630 |\n",
       "| 0.16161616 | 0.3520416 | 0.7758508 | 0.4843223 |\n",
       "| 0.17171717 | 0.3609246 | 0.7562173 | 0.4886352 |\n",
       "| 0.18181818 | 0.3690593 | 0.7369110 | 0.4918104 |\n",
       "| 0.19191919 | 0.3791209 | 0.7225131 | 0.4972973 |\n",
       "| 0.20202020 | 0.3871902 | 0.7002618 | 0.4986601 |\n",
       "| 0.21212121 | 0.3948718 | 0.6803010 | 0.4996996 |\n",
       "| 0.22222222 | 0.4028777 | 0.6596859 | 0.5002481 |\n",
       "| 0.23232323 | 0.4102994 | 0.6413613 | 0.5004468 |\n",
       "| 0.24242424 | 0.4212261 | 0.6272906 | 0.5040095 |\n",
       "| 0.25252525 | 0.4315717 | 0.6119110 | 0.5061578 |\n",
       "| 0.26262626 | 0.4365002 | 0.5893325 | 0.5015316 |\n",
       "| 0.27272727 | 0.4457433 | 0.5739529 | 0.5017880 |\n",
       "| 0.28282828 | 0.4573187 | 0.5592277 | 0.5031650 |\n",
       "| 0.29292929 | 0.4658420 | 0.5422120 | 0.5011341 |\n",
       "| ⋮ | ⋮ | ⋮ | ⋮ |\n",
       "| 0.7070707 | 0.7568389 | 0.0814790576 | 0.1471196455 |\n",
       "| 0.7171717 | 0.7666667 | 0.0752617801 | 0.1370679380 |\n",
       "| 0.7272727 | 0.7765957 | 0.0716623037 | 0.1312162972 |\n",
       "| 0.7373737 | 0.7768924 | 0.0638089005 | 0.1179316601 |\n",
       "| 0.7474747 | 0.7863248 | 0.0602094241 | 0.1118541033 |\n",
       "| 0.7575758 | 0.7887324 | 0.0549738220 | 0.1027837259 |\n",
       "| 0.7676768 | 0.7795699 | 0.0474476440 | 0.0894509562 |\n",
       "| 0.7777778 | 0.7750000 | 0.0405759162 | 0.0771144279 |\n",
       "| 0.7878788 | 0.7801418 | 0.0359947644 | 0.0688145136 |\n",
       "| 0.7979798 | 0.7786885 | 0.0310863874 | 0.0597860289 |\n",
       "| 0.8080808 | 0.7850467 | 0.0274869110 | 0.0531141322 |\n",
       "| 0.8181818 | 0.7727273 | 0.0222513089 | 0.0432569975 |\n",
       "| 0.8282828 | 0.7951807 | 0.0215968586 | 0.0420516088 |\n",
       "| 0.8383838 | 0.7857143 | 0.0179973822 | 0.0351887396 |\n",
       "| 0.8484848 | 0.7796610 | 0.0150523560 | 0.0295345104 |\n",
       "| 0.8585859 | 0.8076923 | 0.0137434555 | 0.0270270270 |\n",
       "| 0.8686869 | 0.7435897 | 0.0094895288 | 0.0187399031 |\n",
       "| 0.8787879 | 0.7500000 | 0.0078534031 | 0.0155440415 |\n",
       "| 0.8888889 | 0.6666667 | 0.0039267016 | 0.0078074170 |\n",
       "| 0.8989899 | 0.6250000 | 0.0032722513 | 0.0065104167 |\n",
       "| 0.9090909 | 0.5384615 | 0.0022905759 | 0.0045617465 |\n",
       "| 0.9191919 | 0.4444444 | 0.0013089005 | 0.0026101142 |\n",
       "| 0.9292929 | 0.5714286 | 0.0013089005 | 0.0026118185 |\n",
       "| 0.9393939 | 0.5000000 | 0.0006544503 | 0.0013071895 |\n",
       "| 0.9494949 | 0.3333333 | 0.0003272251 | 0.0006538084 |\n",
       "| 0.9595960 | 0.0000000 | 0.0000000000 |          NaN |\n",
       "| 0.9696970 | 0.0000000 | 0.0000000000 |          NaN |\n",
       "| 0.9797980 | 0.0000000 | 0.0000000000 |          NaN |\n",
       "| 0.9898990 |       NaN | 0.0000000000 |          NaN |\n",
       "| 1.0000000 |       NaN | 0.0000000000 |          NaN |\n",
       "\n"
      ],
      "text/plain": [
       "    threshold  precision recall       F1          \n",
       "1   0.00000000 0.2006698 1.0000000    0.3342631   \n",
       "2   0.01010101 0.2013180 0.9996728    0.3351434   \n",
       "3   0.02020202 0.2051455 0.9967277    0.3402592   \n",
       "4   0.03030303 0.2133971 0.9934555    0.3513279   \n",
       "5   0.04040404 0.2238184 0.9839660    0.3646838   \n",
       "6   0.05050505 0.2344108 0.9705497    0.3776179   \n",
       "7   0.06060606 0.2466375 0.9600785    0.3924559   \n",
       "8   0.07070707 0.2583266 0.9466623    0.4058927   \n",
       "9   0.08080808 0.2724319 0.9329188    0.4217144   \n",
       "10  0.09090909 0.2838605 0.9162304    0.4334365   \n",
       "11  0.10101010 0.2961290 0.9011780    0.4457753   \n",
       "12  0.11111111 0.3058904 0.8802356    0.4540084   \n",
       "13  0.12121212 0.3148793 0.8579843    0.4606870   \n",
       "14  0.13131313 0.3260787 0.8383508    0.4695318   \n",
       "15  0.14141414 0.3354345 0.8183901    0.4758371   \n",
       "16  0.15151515 0.3433319 0.7977749    0.4800630   \n",
       "17  0.16161616 0.3520416 0.7758508    0.4843223   \n",
       "18  0.17171717 0.3609246 0.7562173    0.4886352   \n",
       "19  0.18181818 0.3690593 0.7369110    0.4918104   \n",
       "20  0.19191919 0.3791209 0.7225131    0.4972973   \n",
       "21  0.20202020 0.3871902 0.7002618    0.4986601   \n",
       "22  0.21212121 0.3948718 0.6803010    0.4996996   \n",
       "23  0.22222222 0.4028777 0.6596859    0.5002481   \n",
       "24  0.23232323 0.4102994 0.6413613    0.5004468   \n",
       "25  0.24242424 0.4212261 0.6272906    0.5040095   \n",
       "26  0.25252525 0.4315717 0.6119110    0.5061578   \n",
       "27  0.26262626 0.4365002 0.5893325    0.5015316   \n",
       "28  0.27272727 0.4457433 0.5739529    0.5017880   \n",
       "29  0.28282828 0.4573187 0.5592277    0.5031650   \n",
       "30  0.29292929 0.4658420 0.5422120    0.5011341   \n",
       "⋮   ⋮          ⋮         ⋮            ⋮           \n",
       "71  0.7070707  0.7568389 0.0814790576 0.1471196455\n",
       "72  0.7171717  0.7666667 0.0752617801 0.1370679380\n",
       "73  0.7272727  0.7765957 0.0716623037 0.1312162972\n",
       "74  0.7373737  0.7768924 0.0638089005 0.1179316601\n",
       "75  0.7474747  0.7863248 0.0602094241 0.1118541033\n",
       "76  0.7575758  0.7887324 0.0549738220 0.1027837259\n",
       "77  0.7676768  0.7795699 0.0474476440 0.0894509562\n",
       "78  0.7777778  0.7750000 0.0405759162 0.0771144279\n",
       "79  0.7878788  0.7801418 0.0359947644 0.0688145136\n",
       "80  0.7979798  0.7786885 0.0310863874 0.0597860289\n",
       "81  0.8080808  0.7850467 0.0274869110 0.0531141322\n",
       "82  0.8181818  0.7727273 0.0222513089 0.0432569975\n",
       "83  0.8282828  0.7951807 0.0215968586 0.0420516088\n",
       "84  0.8383838  0.7857143 0.0179973822 0.0351887396\n",
       "85  0.8484848  0.7796610 0.0150523560 0.0295345104\n",
       "86  0.8585859  0.8076923 0.0137434555 0.0270270270\n",
       "87  0.8686869  0.7435897 0.0094895288 0.0187399031\n",
       "88  0.8787879  0.7500000 0.0078534031 0.0155440415\n",
       "89  0.8888889  0.6666667 0.0039267016 0.0078074170\n",
       "90  0.8989899  0.6250000 0.0032722513 0.0065104167\n",
       "91  0.9090909  0.5384615 0.0022905759 0.0045617465\n",
       "92  0.9191919  0.4444444 0.0013089005 0.0026101142\n",
       "93  0.9292929  0.5714286 0.0013089005 0.0026118185\n",
       "94  0.9393939  0.5000000 0.0006544503 0.0013071895\n",
       "95  0.9494949  0.3333333 0.0003272251 0.0006538084\n",
       "96  0.9595960  0.0000000 0.0000000000          NaN\n",
       "97  0.9696970  0.0000000 0.0000000000          NaN\n",
       "98  0.9797980  0.0000000 0.0000000000          NaN\n",
       "99  0.9898990        NaN 0.0000000000          NaN\n",
       "100 1.0000000        NaN 0.0000000000          NaN"
      ]
     },
     "metadata": {},
     "output_type": "display_data"
    }
   ],
   "source": [
    "prec_recall<- prec_recall  %>% mutate(F1=(2*precision*recall)/(precision+recall))\n",
    "prec_recall"
   ]
  },
  {
   "cell_type": "code",
   "execution_count": 46,
   "id": "6c633c86",
   "metadata": {},
   "outputs": [
    {
     "data": {
      "text/html": [
       "0.252525252525253"
      ],
      "text/latex": [
       "0.252525252525253"
      ],
      "text/markdown": [
       "0.252525252525253"
      ],
      "text/plain": [
       "[1] 0.2525253"
      ]
     },
     "metadata": {},
     "output_type": "display_data"
    }
   ],
   "source": [
    "prec_recall$threshold[which.max(prec_recall$F1)]"
   ]
  },
  {
   "cell_type": "code",
   "execution_count": 47,
   "id": "1a784660",
   "metadata": {},
   "outputs": [],
   "source": [
    "pred_lasso_F1<-factor(ifelse(glm_model_lasso$pred$default[glm_model_lasso$pred$lambda==glm_model_lasso$bestTune$lambda]>=prec_recall$threshold[which.max(prec_recall$F1)],\n",
    "                          \"default\",\"no_default\"),levels=c(\"default\",\"no_default\"))"
   ]
  },
  {
   "cell_type": "code",
   "execution_count": 48,
   "id": "2a8469ed",
   "metadata": {},
   "outputs": [
    {
     "data": {
      "text/plain": [
       "Confusion Matrix and Statistics\n",
       "\n",
       "            Reference\n",
       "Prediction   no_default default\n",
       "  no_default       9710    1186\n",
       "  default          2463    1870\n",
       "                                          \n",
       "               Accuracy : 0.7604          \n",
       "                 95% CI : (0.7535, 0.7672)\n",
       "    No Information Rate : 0.7993          \n",
       "    P-Value [Acc > NIR] : 1               \n",
       "                                          \n",
       "                  Kappa : 0.3542          \n",
       "                                          \n",
       " Mcnemar's Test P-Value : <2e-16          \n",
       "                                          \n",
       "              Precision : 0.4316          \n",
       "                 Recall : 0.6119          \n",
       "                     F1 : 0.5062          \n",
       "             Prevalence : 0.2007          \n",
       "         Detection Rate : 0.1228          \n",
       "   Detection Prevalence : 0.2845          \n",
       "      Balanced Accuracy : 0.7048          \n",
       "                                          \n",
       "       'Positive' Class : default         \n",
       "                                          "
      ]
     },
     "metadata": {},
     "output_type": "display_data"
    }
   ],
   "source": [
    "confusionMatrix(data = pred_lasso_F1, \n",
    "                reference = glm_model_lasso$pred$obs[glm_model_lasso$pred$lambda==glm_model_lasso$bestTune$lambda], \n",
    "                positive=\"default\", mode = \"prec_recall\")"
   ]
  },
  {
   "cell_type": "code",
   "execution_count": null,
   "id": "f7eb4ad8",
   "metadata": {},
   "outputs": [],
   "source": []
  }
 ],
 "metadata": {
  "jupytext": {
   "cell_metadata_filter": "tags,name,-all",
   "main_language": "R",
   "notebook_metadata_filter": "-all"
  },
  "kernelspec": {
   "display_name": "R",
   "language": "R",
   "name": "ir"
  },
  "language_info": {
   "codemirror_mode": "r",
   "file_extension": ".r",
   "mimetype": "text/x-r-source",
   "name": "R",
   "pygments_lexer": "r",
   "version": "4.3.2"
  },
  "toc": {
   "base_numbering": 1,
   "nav_menu": {},
   "number_sections": true,
   "sideBar": true,
   "skip_h1_title": false,
   "title_cell": "Table of Contents",
   "title_sidebar": "Contents",
   "toc_cell": false,
   "toc_position": {
    "height": "calc(100% - 180px)",
    "left": "10px",
    "top": "150px",
    "width": "344.4px"
   },
   "toc_section_display": true,
   "toc_window_display": false
  }
 },
 "nbformat": 4,
 "nbformat_minor": 5
}
