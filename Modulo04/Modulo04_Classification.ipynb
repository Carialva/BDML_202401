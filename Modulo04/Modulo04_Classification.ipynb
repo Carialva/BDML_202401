{
 "cells": [
  {
   "cell_type": "markdown",
   "id": "340f63f6-93da-4633-9f43-43927ea8d65c",
   "metadata": {},
   "source": [
    "<div >\n",
    "<img src = \"../banner.jpg\" />\n",
    "</div>"
   ]
  },
  {
   "cell_type": "markdown",
   "id": "9d359803",
   "metadata": {},
   "source": [
    "<a target=\"_blank\" href=\"https://colab.research.google.com/github/ignaciomsarmiento/BDML_202401/blob/main/Modulo04/Modulo04_Classification.ipynb\">\n",
    "  <img src=\"https://colab.research.google.com/assets/colab-badge.svg\" alt=\"Open In Colab\"/>\n",
    "</a>\n",
    "\n"
   ]
  },
  {
   "cell_type": "markdown",
   "id": "d8e20450",
   "metadata": {},
   "source": [
    "# Classification: Predicting Firm Exit"
   ]
  },
  {
   "cell_type": "markdown",
   "id": "a5c24b15",
   "metadata": {},
   "source": [
    "Our first task is to build a predictive model of the probability of a firm's default and therefore exit from business. "
   ]
  },
  {
   "cell_type": "code",
   "execution_count": null,
   "id": "592ee382",
   "metadata": {},
   "outputs": [],
   "source": [
    "options(warn=-1)\n",
    "\n",
    "#Cargar librerías \n",
    "require(\"pacman\")\n",
    "p_load(tidyverse,\n",
    "      caret,\n",
    "      glmnet)\n"
   ]
  },
  {
   "cell_type": "code",
   "execution_count": null,
   "id": "8795384b",
   "metadata": {},
   "outputs": [],
   "source": [
    "#Leer los datos \n",
    "db <- readRDS(url(\"https://github.com/ignaciomsarmiento/datasets/raw/main/bisnode_firms_clean.rds?raw=true\"))\n",
    "head(db)"
   ]
  },
  {
   "cell_type": "markdown",
   "id": "4e185ab9",
   "metadata": {},
   "source": [
    "\n",
    "\n",
    "\n",
    "| Category       | Description                                                                                                                                                        |\n",
    "|----------------|:--------------------------------------------------------------------------------------------------------------------------------------------------------------------|\n",
    "| Firm           | Age of firm, squared age, a dummy if newly established, industry categories, location regions for its headquarters, and dummy if located in a big city.        |\n",
    "| Financial 1    | Winsorized financial variables: sales, fixed, liquid, current, intangible assets, current liabilities, inventories, equity shares, subscribed capital, sales revenues, income before tax, extra income, material, personal and extra expenditure, extra profit. |\n",
    "| Financial 2    | Flags (extreme, low, high, zero – when applicable) and polynomials: quadratic terms are created for profit and loss, extra profit and loss, income before tax, and share equity.                                   |\n",
    "| Growth         | Sales growth is captured by a winsorized growth variable, its quadratic term and flags for extreme low and high values.                                                                   |\n",
    "| HR             | For the CEO: female dummy, winsorized age and flags, flag for missing information; foreign management dummy; labor cost, and flag for missing labor cost information.                                                |\n",
    "| Data Quality   | Variables related to the data quality of the financial information, flag for a problem, and the length of the year that the balance sheet covers.                                                                     |\n",
    "| Interactions   | Interactions with sales growth, firm size, and industry.                                                                                                                                   |\n",
    "\n"
   ]
  },
  {
   "cell_type": "code",
   "execution_count": null,
   "id": "f6c8086e",
   "metadata": {},
   "outputs": [],
   "source": [
    "prop.table(table(db$default_f))*100"
   ]
  },
  {
   "cell_type": "code",
   "execution_count": null,
   "id": "2aabd4e2",
   "metadata": {},
   "outputs": [],
   "source": [
    "prop.table(table(db$default))*100"
   ]
  },
  {
   "cell_type": "markdown",
   "id": "4241fc47",
   "metadata": {},
   "source": [
    "## Model variables\n",
    "### Hand-Picked"
   ]
  },
  {
   "cell_type": "code",
   "execution_count": null,
   "id": "2548afe4",
   "metadata": {},
   "outputs": [],
   "source": [
    "\n",
    "X1 <- c(\"sales_mil_log\", \"sales_mil_log_sq\", \"d1_sales_mil_log_mod\", \"profit_loss_year_pl\", \"ind2_cat\")\n"
   ]
  },
  {
   "cell_type": "markdown",
   "id": "2d713188",
   "metadata": {},
   "source": [
    "### Hand-Picked + Firm specific"
   ]
  },
  {
   "cell_type": "code",
   "execution_count": null,
   "id": "98f31ae9",
   "metadata": {},
   "outputs": [],
   "source": [
    "X2 <- c(\"sales_mil_log\", \"sales_mil_log_sq\", \"d1_sales_mil_log_mod\", \"profit_loss_year_pl\", \"fixed_assets_bs\",\"share_eq_bs\",\"curr_liab_bs \",   \"curr_liab_bs_flag_high \", \"curr_liab_bs_flag_error\",  \"age\",\"foreign_management\" , \"ind2_cat\")\n"
   ]
  },
  {
   "cell_type": "markdown",
   "id": "c2521fa4",
   "metadata": {},
   "source": [
    "###  Firm specific + Financial + Lags"
   ]
  },
  {
   "cell_type": "code",
   "execution_count": null,
   "id": "9740beb4",
   "metadata": {},
   "outputs": [],
   "source": [
    "firm <- c(\"age\", \"age2\", \"new\", \"ind2_cat\", \"m_region_loc\", \"urban_m\")\n",
    "\n",
    "engvar <- c(\"total_assets_bs\", \"fixed_assets_bs\", \"liq_assets_bs\", \"curr_assets_bs\",\n",
    "            \"share_eq_bs\", \"subscribed_cap_bs\", \"intang_assets_bs\", \"extra_exp_pl\",\n",
    "            \"extra_inc_pl\", \"extra_profit_loss_pl\", \"inc_bef_tax_pl\", \"inventories_pl\",\n",
    "            \"material_exp_pl\", \"profit_loss_year_pl\", \"personnel_exp_pl\")\n",
    "\n",
    "d1 <-  c(\"d1_sales_mil_log_mod\", \"d1_sales_mil_log_mod_sq\",\n",
    "         \"flag_low_d1_sales_mil_log\", \"flag_high_d1_sales_mil_log\")"
   ]
  },
  {
   "cell_type": "code",
   "execution_count": null,
   "id": "e68728eb",
   "metadata": {},
   "outputs": [],
   "source": [
    "X3 <- c(\"sales_mil_log\", \"sales_mil_log_sq\", firm, engvar,                   d1)"
   ]
  },
  {
   "cell_type": "markdown",
   "id": "2127ea0b",
   "metadata": {},
   "source": [
    "###  All but interactions"
   ]
  },
  {
   "cell_type": "code",
   "execution_count": null,
   "id": "11f03db5",
   "metadata": {},
   "outputs": [],
   "source": [
    "\n",
    "engvar2 <- c(\"extra_profit_loss_pl_quad\", \"inc_bef_tax_pl_quad\",\n",
    "             \"profit_loss_year_pl_quad\", \"share_eq_bs_quad\")\n",
    "\n",
    "engvar3 <- c(grep(\"*flag_low$\", names(db), value = TRUE),\n",
    "             grep(\"*flag_high$\", names(db), value = TRUE),\n",
    "             grep(\"*flag_error$\", names(db), value = TRUE),\n",
    "             grep(\"*flag_zero$\", names(db), value = TRUE))\n",
    "\n",
    "hr <- c(\"female\", \"ceo_age\", \"flag_high_ceo_age\", \"flag_low_ceo_age\",\n",
    "        \"flag_miss_ceo_age\", \"ceo_count\", \"labor_avg_mod\",\n",
    "        \"flag_miss_labor_avg\", \"foreign_management\")\n",
    "qualityvars <- c(\"balsheet_flag\", \"balsheet_length\", \"balsheet_notfullyear\")"
   ]
  },
  {
   "cell_type": "code",
   "execution_count": null,
   "id": "c0fd971c",
   "metadata": {},
   "outputs": [],
   "source": [
    "X4 <- c(\"sales_mil_log\", \"sales_mil_log_sq\", firm, engvar, engvar2, engvar3, d1, hr, qualityvars)"
   ]
  },
  {
   "cell_type": "markdown",
   "id": "0a4b5061",
   "metadata": {},
   "source": [
    "###  All "
   ]
  },
  {
   "cell_type": "code",
   "execution_count": null,
   "id": "c26bb1af",
   "metadata": {},
   "outputs": [],
   "source": [
    "\n",
    "\n",
    "# interactions\n",
    "interactions1 <- c(\"ind2_cat*age\", \"ind2_cat*age2\",\n",
    "                   \"ind2_cat*d1_sales_mil_log_mod\", \"ind2_cat*sales_mil_log\",\n",
    "                   \"ind2_cat*ceo_age\", \"ind2_cat*foreign_management\",\n",
    "                   \"ind2_cat*female\",   \"ind2_cat*urban_m\", \"ind2_cat*labor_avg_mod\")\n",
    "interactions2 <- c(\"sales_mil_log*age\", \"sales_mil_log*female\",\n",
    "                   \"sales_mil_log*profit_loss_year_pl\", \"sales_mil_log*foreign_management\")\n"
   ]
  },
  {
   "cell_type": "code",
   "execution_count": null,
   "id": "672c1e5d",
   "metadata": {},
   "outputs": [],
   "source": [
    "X5 <- c(\"sales_mil_log\", \"sales_mil_log_sq\", firm, engvar, engvar2, engvar3, d1, hr, qualityvars, interactions1, interactions2)"
   ]
  },
  {
   "cell_type": "markdown",
   "id": "734bbb33",
   "metadata": {},
   "source": [
    "## Out of sample prediction"
   ]
  },
  {
   "cell_type": "code",
   "execution_count": null,
   "id": "a3468164",
   "metadata": {},
   "outputs": [],
   "source": [
    "\n",
    "set.seed(13505)\n",
    "\n",
    "train_indices <- as.integer(createDataPartition(db$default, p = 0.8, list = FALSE))\n",
    "train <- db[train_indices, ]\n",
    "test <- db[-train_indices, ]\n",
    "\n",
    "dim(train)\n",
    "dim(test)\n"
   ]
  },
  {
   "cell_type": "markdown",
   "id": "d0e60faf",
   "metadata": {},
   "source": [
    "### Logit"
   ]
  },
  {
   "cell_type": "code",
   "execution_count": null,
   "id": "2b6bdaef",
   "metadata": {},
   "outputs": [],
   "source": [
    "# 5 fold cross-validation\n",
    "train_control <- trainControl(\n",
    "  method = \"cv\",\n",
    "  number = 5,\n",
    "  classProbs = TRUE,\n",
    "  summaryFunction = defaultSummary,\n",
    "  savePredictions = TRUE\n",
    ")\n"
   ]
  },
  {
   "cell_type": "code",
   "execution_count": null,
   "id": "7ac9f557",
   "metadata": {
    "scrolled": true
   },
   "outputs": [],
   "source": [
    "set.seed(13505)\n",
    "glm_model_handpicked <- train(\n",
    "    formula(paste0(\"default_f ~\", paste0(X1, collapse = \" + \"))),\n",
    "    method = \"glm\",\n",
    "    data = train,\n",
    "    family = \"binomial\",\n",
    "    trControl = train_control\n",
    "  )"
   ]
  },
  {
   "cell_type": "code",
   "execution_count": null,
   "id": "45e06f87",
   "metadata": {},
   "outputs": [],
   "source": [
    "glm_model_handpicked"
   ]
  },
  {
   "cell_type": "code",
   "execution_count": null,
   "id": "ed845deb",
   "metadata": {},
   "outputs": [],
   "source": [
    "set.seed(13505)\n",
    "glm_model_all <- train(\n",
    "    formula(paste0(\"default_f ~\", paste0(X4, collapse = \" + \"))),\n",
    "    method = \"glm\",\n",
    "    data = train,\n",
    "    family = \"binomial\",\n",
    "    trControl = train_control\n",
    "  )\n",
    "\n",
    "glm_model_all"
   ]
  },
  {
   "cell_type": "code",
   "execution_count": null,
   "id": "cc037af3",
   "metadata": {},
   "outputs": [],
   "source": [
    "formula(paste0(\"default_f ~\", paste0(X5, collapse = \" + \")))"
   ]
  },
  {
   "cell_type": "code",
   "execution_count": null,
   "id": "bec5487d",
   "metadata": {},
   "outputs": [],
   "source": [
    "\n",
    "lambda <- 10^seq(-1, -4, length = 100)\n",
    "grid <- expand.grid(\"alpha\" = 1, lambda = lambda)\n",
    "\n",
    "set.seed(13505)\n",
    "glm_model_lasso <- train(\n",
    "    formula(paste0(\"default_f ~\", paste0(X5, collapse = \" + \"))),\n",
    "    method = \"glmnet\",\n",
    "    data = train,\n",
    "    family = \"binomial\",\n",
    "    trControl = train_control,\n",
    "    tuneGrid = grid,\n",
    "    preProcess = c(\"center\", \"scale\")\n",
    "  )\n",
    "\n",
    "glm_model_lasso"
   ]
  },
  {
   "cell_type": "code",
   "execution_count": null,
   "id": "e02d6a1c",
   "metadata": {},
   "outputs": [],
   "source": [
    "head(glm_model_handpicked$pred)"
   ]
  },
  {
   "cell_type": "code",
   "execution_count": null,
   "id": "4385cfce",
   "metadata": {},
   "outputs": [],
   "source": [
    "confusionMatrix(data = glm_model_handpicked$pred$pred, reference = glm_model_handpicked$pred$obs, positive=\"default\", mode = \"prec_recall\")"
   ]
  },
  {
   "cell_type": "code",
   "execution_count": null,
   "id": "593427f9",
   "metadata": {},
   "outputs": [],
   "source": [
    "confusionMatrix(data = glm_model_all$pred$pred, reference = glm_model_all$pred$obs, positive=\"default\", mode = \"prec_recall\")"
   ]
  },
  {
   "cell_type": "code",
   "execution_count": null,
   "id": "96012e51",
   "metadata": {},
   "outputs": [],
   "source": [
    "glm_model_all$pred$pred2<-factor(ifelse(glm_model_all$pred$default>=0.3,\"default\",\"no_default\"),levels=c(\"default\",\"no_default\"))"
   ]
  },
  {
   "cell_type": "code",
   "execution_count": null,
   "id": "4bdfb3e3",
   "metadata": {},
   "outputs": [],
   "source": [
    "head(glm_model_all$pred)"
   ]
  },
  {
   "cell_type": "code",
   "execution_count": null,
   "id": "6193f1cc",
   "metadata": {},
   "outputs": [],
   "source": [
    "confusionMatrix(data = glm_model_all$pred$pred2, reference = glm_model_all$pred$obs, positive=\"default\", mode = \"prec_recall\")"
   ]
  },
  {
   "cell_type": "code",
   "execution_count": null,
   "id": "af542ac3",
   "metadata": {},
   "outputs": [],
   "source": [
    "p_load(\"MLeval\")\n",
    "\n",
    "roc_glm_model_all <- evalm(glm_model_all,plots=\"r\") #r Roc"
   ]
  },
  {
   "cell_type": "code",
   "execution_count": null,
   "id": "39c2c7c9",
   "metadata": {},
   "outputs": [],
   "source": [
    "res_insample_all <- evalm(list(glm_model_handpicked, glm_model_all),gnames=c('Handpicked','All'),plots='r')"
   ]
  },
  {
   "cell_type": "code",
   "execution_count": null,
   "id": "9345fede",
   "metadata": {},
   "outputs": [],
   "source": [
    "p_load(pROC)"
   ]
  },
  {
   "cell_type": "code",
   "execution_count": null,
   "id": "a97b7991",
   "metadata": {},
   "outputs": [],
   "source": [
    "head(glm_model_all$pred)"
   ]
  },
  {
   "cell_type": "code",
   "execution_count": null,
   "id": "8d59fb04",
   "metadata": {},
   "outputs": [],
   "source": [
    "?roc"
   ]
  },
  {
   "cell_type": "code",
   "execution_count": null,
   "id": "d78b56cc",
   "metadata": {},
   "outputs": [],
   "source": [
    "roc_obj_handpicked<-roc(response=glm_model_handpicked$pred$obs,\n",
    "                        predictor=glm_model_handpicked$pred$default)\n",
    "\n",
    "roc_obj_all<-roc(response=glm_model_all$pred$obs,\n",
    "                 predictor=glm_model_all$pred$default)"
   ]
  },
  {
   "cell_type": "code",
   "execution_count": null,
   "id": "bff02391",
   "metadata": {},
   "outputs": [],
   "source": [
    "rfThresh <- coords(roc_obj_all, x = \"best\", best.method = \"closest.topleft\")\n",
    "rfThresh"
   ]
  },
  {
   "cell_type": "code",
   "execution_count": null,
   "id": "2b7990ad",
   "metadata": {},
   "outputs": [],
   "source": [
    "glm_model_all$pred$pred3<-factor(ifelse(glm_model_all$pred$default>=rfThresh$threshold,\"default\",\"no_default\"),levels=c(\"default\",\"no_default\"))"
   ]
  },
  {
   "cell_type": "code",
   "execution_count": null,
   "id": "774620bf",
   "metadata": {},
   "outputs": [],
   "source": [
    "confusionMatrix(data = glm_model_all$pred$pred3, reference = glm_model_all$pred$obs, positive=\"default\", mode = \"prec_recall\")"
   ]
  },
  {
   "cell_type": "code",
   "execution_count": null,
   "id": "88ef4e89",
   "metadata": {},
   "outputs": [],
   "source": [
    "multiStats <- function(...) c(twoClassSummary(...), defaultSummary(...), prSummary(...))\n",
    "\n",
    "ctrl_multiStats<- trainControl(method = \"cv\",\n",
    "                     number = 5,\n",
    "                     summaryFunction = multiStats,\n",
    "                     classProbs = TRUE,\n",
    "                     verbose=FALSE,\n",
    "                     savePredictions = T)\n",
    "\n",
    "lambda <- 10^seq(-1, -4, length = 100)\n",
    "grid <- expand.grid(\"alpha\" = 1, lambda = lambda)\n",
    "\n",
    "set.seed(13505)\n",
    "glm_model_lasso_spec <- train(\n",
    "    formula(paste0(\"default_f ~\", paste0(X5, collapse = \" + \"))),\n",
    "    method = \"glmnet\",\n",
    "    data = train,\n",
    "    family = \"binomial\",\n",
    "    trControl = ctrl_multiStats,\n",
    "    tuneGrid = grid,\n",
    "    preProcess = c(\"center\", \"scale\"),\n",
    "     ## Specify which metric to optimize\n",
    "    metric = \"Spec\"\n",
    "  )\n",
    "\n",
    "glm_model_lasso_spec"
   ]
  },
  {
   "cell_type": "code",
   "execution_count": null,
   "id": "35b9b3e9",
   "metadata": {},
   "outputs": [],
   "source": [
    "roc_obj_lasso<-roc(response=glm_model_lasso$pred$obs[glm_model_lasso$pred$lambda==glm_model_lasso$bestTune$lambda],\n",
    "                   predictor=glm_model_lasso$pred$default[glm_model_lasso$pred$lambda==glm_model_lasso$bestTune$lambda])"
   ]
  },
  {
   "cell_type": "code",
   "execution_count": null,
   "id": "9cc9e0b3",
   "metadata": {},
   "outputs": [],
   "source": [
    "rfThresh_lasso <- coords(roc_obj_lasso, x = \"best\", best.method = \"closest.topleft\")\n",
    "rfThresh_lasso"
   ]
  },
  {
   "cell_type": "code",
   "execution_count": null,
   "id": "1232ad1d",
   "metadata": {},
   "outputs": [],
   "source": [
    "pred_lasso<-factor(ifelse(glm_model_lasso$pred$default[glm_model_lasso$pred$lambda==glm_model_lasso$bestTune$lambda]>=rfThresh_lasso$threshold,\n",
    "                          \"default\",\"no_default\"),levels=c(\"default\",\"no_default\"))"
   ]
  },
  {
   "cell_type": "code",
   "execution_count": null,
   "id": "af88f5f1",
   "metadata": {},
   "outputs": [],
   "source": [
    "confusionMatrix(data = pred_lasso, \n",
    "                reference = glm_model_lasso$pred$obs[glm_model_lasso$pred$lambda==glm_model_lasso$bestTune$lambda], \n",
    "                positive=\"default\", mode = \"prec_recall\")"
   ]
  },
  {
   "cell_type": "code",
   "execution_count": null,
   "id": "113f9d2b",
   "metadata": {},
   "outputs": [],
   "source": [
    "prec_recall<-data.frame(coords(roc_obj_lasso, seq(0,1,length=100), ret=c(\"threshold\", \"precision\", \"recall\")))"
   ]
  },
  {
   "cell_type": "code",
   "execution_count": null,
   "id": "785fe449",
   "metadata": {},
   "outputs": [],
   "source": [
    "prec_recall<- prec_recall  %>% mutate(F1=(2*precision*recall)/(precision+recall))\n",
    "prec_recall"
   ]
  },
  {
   "cell_type": "code",
   "execution_count": null,
   "id": "6c633c86",
   "metadata": {},
   "outputs": [],
   "source": [
    "prec_recall$threshold[which.max(prec_recall$F1)]"
   ]
  },
  {
   "cell_type": "code",
   "execution_count": null,
   "id": "1a784660",
   "metadata": {},
   "outputs": [],
   "source": [
    "pred_lasso_F1<-factor(ifelse(glm_model_lasso$pred$default[glm_model_lasso$pred$lambda==glm_model_lasso$bestTune$lambda]>=prec_recall$threshold[which.max(prec_recall$F1)],\n",
    "                          \"default\",\"no_default\"),levels=c(\"default\",\"no_default\"))"
   ]
  },
  {
   "cell_type": "code",
   "execution_count": null,
   "id": "2a8469ed",
   "metadata": {},
   "outputs": [],
   "source": [
    "confusionMatrix(data = pred_lasso_F1, \n",
    "                reference = glm_model_lasso$pred$obs[glm_model_lasso$pred$lambda==glm_model_lasso$bestTune$lambda], \n",
    "                positive=\"default\", mode = \"prec_recall\")"
   ]
  }
 ],
 "metadata": {
  "jupytext": {
   "cell_metadata_filter": "tags,name,-all",
   "main_language": "R",
   "notebook_metadata_filter": "-all"
  },
  "kernelspec": {
   "display_name": "R",
   "language": "R",
   "name": "ir"
  },
  "language_info": {
   "codemirror_mode": "r",
   "file_extension": ".r",
   "mimetype": "text/x-r-source",
   "name": "R",
   "pygments_lexer": "r",
   "version": "4.3.2"
  },
  "toc": {
   "base_numbering": 1,
   "nav_menu": {},
   "number_sections": true,
   "sideBar": true,
   "skip_h1_title": false,
   "title_cell": "Table of Contents",
   "title_sidebar": "Contents",
   "toc_cell": false,
   "toc_position": {
    "height": "calc(100% - 180px)",
    "left": "10px",
    "top": "150px",
    "width": "344.4px"
   },
   "toc_section_display": true,
   "toc_window_display": false
  }
 },
 "nbformat": 4,
 "nbformat_minor": 5
}
