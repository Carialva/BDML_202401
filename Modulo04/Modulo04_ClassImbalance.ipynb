{
 "cells": [
  {
   "cell_type": "markdown",
   "id": "ef66f7ba",
   "metadata": {},
   "source": [
    "<div >\n",
    "<img src = \"../banner.jpg\" />\n",
    "</div>"
   ]
  },
  {
   "cell_type": "raw",
   "id": "e632bf58",
   "metadata": {},
   "source": [
    "<a target=\"_blank\" href=\"https://colab.research.google.com/github/ignaciomsarmiento/BDML_202401/blob/main/Modulo04/Modulo04_ClassImbalance.ipynb\">\n",
    "  <img src=\"https://colab.research.google.com/assets/colab-badge.svg\" alt=\"Open In Colab\"/>\n",
    "</a>\n",
    "\n"
   ]
  },
  {
   "cell_type": "markdown",
   "id": "8e9c8c27",
   "metadata": {},
   "source": [
    "# Desbalance de Clases Extremo: Fraude"
   ]
  },
  {
   "cell_type": "markdown",
   "id": "d86e6866",
   "metadata": {},
   "source": [
    "En este tutorial nos centraremos en detectar [fraude en tarjetas de crédito](https://www.kaggle.com/mlg-ulb/creditcardfraud). Los datos que utilizaremos contienen transacciones realizadas con tarjetas de crédito en septiembre de 2013 por titulares de tarjetas europeos.\n",
    "\n",
    "Este conjunto de datos presenta transacciones que ocurrieron en dos días, donde tenemos 492 fraudes de 284,807 transacciones. El conjunto de datos está muy desequilibrado: la clase positiva (fraudes) representa el 0,172% de todas las transacciones. Esta base de datos suele utilizarse como \"benchmark\" para los estudios de desbalances de clases.\n"
   ]
  },
  {
   "cell_type": "markdown",
   "id": "2510a586",
   "metadata": {},
   "source": [
    "## Configuración Inicial"
   ]
  },
  {
   "cell_type": "code",
   "execution_count": null,
   "id": "49af46e1",
   "metadata": {
    "vscode": {
     "languageId": "r"
    }
   },
   "outputs": [],
   "source": [
    "#Cargar librerías \n",
    "require(\"pacman\")\n",
    "\n",
    "p_load(\"tidyverse\",\n",
    "       \"glmnet\",\n",
    "        \"caret\")\n"
   ]
  },
  {
   "cell_type": "markdown",
   "id": "e3274c7a",
   "metadata": {},
   "source": [
    "## Datos\n",
    "Los datos que vamos a usar en esta sección son  datos de detección de fraude en tarjetas de crédito que están alojados en google.\n",
    "\n",
    "Esta base de datos solo contiene variables numéricas que son el resultado de una transformación PCA. Lamentablemente, debido a cuestiones de confidencialidad, no se difunden las características originales ni más información general sobre los datos. Las características V1, V2,… V28 son los componentes principales obtenidos con PCA, las únicas características que no se han transformado con PCA son 'Tiempo' (`Time`) y 'Cantidad' (`Amount`). La variable `Time` contiene los segundos transcurridos entre cada transacción y la primera transacción en el conjunto de datos. La variable `Amount`  es el monto de la transacción; esta variable se puede utilizar para el aprendizaje sensible a los costos, por ejemplo. La característica 'Clase' es la variable de respuesta y toma el valor 1 en caso de fraude y 0 en caso contrario.\n"
   ]
  },
  {
   "cell_type": "code",
   "execution_count": null,
   "id": "91c4c5d3",
   "metadata": {
    "vscode": {
     "languageId": "r"
    }
   },
   "outputs": [],
   "source": [
    "# cargar datos\n",
    "fraud <- read_csv('https://storage.googleapis.com/download.tensorflow.org/data/creditcard.csv')\n",
    "\n",
    "# Ver las primeras filas del dataframe.\n",
    "head(fraud)"
   ]
  },
  {
   "cell_type": "code",
   "execution_count": null,
   "id": "c06f2bc6",
   "metadata": {
    "vscode": {
     "languageId": "r"
    }
   },
   "outputs": [],
   "source": [
    "# Veamos cómo se distribuye la variable de interés.\n",
    "fraud<- fraud %>% mutate(Fraude = factor(Class,levels=c(0,1),labels=c(\"Negativo\",\"Positivo\")))\n",
    "table(fraud$Fraude)\n"
   ]
  },
  {
   "cell_type": "code",
   "execution_count": null,
   "id": "b9e69834",
   "metadata": {
    "vscode": {
     "languageId": "r"
    }
   },
   "outputs": [],
   "source": [
    "prop.table(table(fraud$Fraude))"
   ]
  },
  {
   "cell_type": "code",
   "execution_count": null,
   "id": "e724ae68",
   "metadata": {},
   "outputs": [],
   "source": [
    "data<- fraud  %>% group_by(Fraude) %>% tally()"
   ]
  },
  {
   "cell_type": "code",
   "execution_count": null,
   "id": "e450918a",
   "metadata": {},
   "outputs": [],
   "source": [
    "data"
   ]
  },
  {
   "cell_type": "code",
   "execution_count": null,
   "id": "cff409db",
   "metadata": {},
   "outputs": [],
   "source": [
    "ggplot(data,aes(x = Fraude, y = n, fill = Fraude)) +\n",
    "  geom_bar(stat = \"identity\") +\n",
    "  theme_minimal() +\n",
    "  scale_fill_manual(values = c(\"Positivo\" = \"orange\", \"Negativo\" = \"blue\")) + # Colors can be changed\n",
    "  labs(x = \"\", y = \"count\") # Customize axis labels if needed\n"
   ]
  },
  {
   "cell_type": "markdown",
   "id": "5393b074",
   "metadata": {},
   "source": [
    "Menos del 1% de los casos es fraude. Las dos clases: fraude y no fraude están desbalanceadas, esto implica un reto grande para nuestros modelos de predicción, pues naturalmente tenderán a predecir que los casos no son fraude, dada la poca información que hay de los fraudes. Sin embargo, lo que más nos interesa en este caso es predecir los fraudes.\n"
   ]
  },
  {
   "cell_type": "markdown",
   "id": "84c0ae9e",
   "metadata": {},
   "source": [
    "## Limpiar y dividir la muestra\n",
    "\n",
    "Los datos crudos tienen un par de problemas : las columnas  `Time` y `Amount` tiene mucha varianza. Vamos eliminar la columna `Time` (ya que no será muy útil) y vamos a tomar el logaritmo de `Amount`.\n"
   ]
  },
  {
   "cell_type": "code",
   "execution_count": null,
   "id": "1ffebdf8",
   "metadata": {
    "vscode": {
     "languageId": "r"
    }
   },
   "outputs": [],
   "source": [
    "# Eliminar las columnas 'Class' 'Time'\n",
    "fraud<- fraud  %>% select(-Class,-Time)\n",
    "\n",
    "\n",
    "# Convertir 'Amount' a  logs\n",
    "fraud<- fraud  %>% mutate(Log_Amount = log(Amount + 0.001)) %>% select(-Amount)\n"
   ]
  },
  {
   "cell_type": "markdown",
   "id": "3a57b56a",
   "metadata": {},
   "source": [
    "### División de la muestra\n",
    "\n",
    "- El objetivo es predecir bien fuera de muestra\n",
    "\n",
    "- No queremos sobreajustar a la muestra\n",
    "  \n",
    "- Vamos a definir 2 bases\n",
    "\n",
    "  - Muestra de entrenamiento: vamos a estimar los modelos, buscar parámetros, etc.\n",
    "  \n",
    "  -  Muestra de prueba que solo vamos a usar para evaluar los modelos\n"
   ]
  },
  {
   "cell_type": "code",
   "execution_count": null,
   "id": "64b2520f",
   "metadata": {
    "vscode": {
     "languageId": "r"
    }
   },
   "outputs": [],
   "source": [
    "# Dividir los datos en conjuntos de entrenamiento (train), validación (val) y prueba (test)\n",
    "set.seed(123) # Para reproducibilidad\n",
    "\n",
    "\n",
    "train_indices <- as.integer(createDataPartition(fraud$Fraude, p = 0.8, list = FALSE))\n",
    "train <- fraud[train_indices, ]\n",
    "test <- fraud[-train_indices, ]\n",
    "\n",
    "dim(train)\n"
   ]
  },
  {
   "cell_type": "code",
   "execution_count": null,
   "id": "ed972291",
   "metadata": {
    "scrolled": true,
    "vscode": {
     "languageId": "r"
    }
   },
   "outputs": [],
   "source": [
    "dim(test)"
   ]
  },
  {
   "cell_type": "code",
   "execution_count": null,
   "id": "6a907f84",
   "metadata": {},
   "outputs": [],
   "source": [
    "table(train$Fraude)"
   ]
  },
  {
   "cell_type": "code",
   "execution_count": null,
   "id": "b1786562",
   "metadata": {
    "vscode": {
     "languageId": "r"
    }
   },
   "outputs": [],
   "source": [
    "prop.table(table(train$Fraude))"
   ]
  },
  {
   "cell_type": "code",
   "execution_count": null,
   "id": "8f884a67",
   "metadata": {},
   "outputs": [],
   "source": [
    "table(test$Fraude)"
   ]
  },
  {
   "cell_type": "code",
   "execution_count": null,
   "id": "45413081",
   "metadata": {
    "vscode": {
     "languageId": "r"
    }
   },
   "outputs": [],
   "source": [
    "prop.table(table(test$Fraude))"
   ]
  },
  {
   "cell_type": "markdown",
   "id": "5c0d7b17",
   "metadata": {},
   "source": [
    "Note que la proporción de fraudes se preserva casi intacta para los conjuntos de entrenamiento, validacion y test. Esto no siempre suele ser el caso cuando las clases están tan desbalanceadas.\n"
   ]
  },
  {
   "cell_type": "markdown",
   "id": "13017ef8",
   "metadata": {},
   "source": [
    "# Logit"
   ]
  },
  {
   "cell_type": "markdown",
   "id": "9ba92c00",
   "metadata": {},
   "source": [
    "If you have an imbalanced data set, first try training on the true distribution. If the model works well and generalizes, you're done! If not, try  resampling techniques."
   ]
  },
  {
   "cell_type": "code",
   "execution_count": null,
   "id": "0c3484ff",
   "metadata": {
    "vscode": {
     "languageId": "r"
    }
   },
   "outputs": [],
   "source": [
    "ctrl<- trainControl(method = \"cv\",\n",
    "                     number = 5,\n",
    "                     classProbs = TRUE,\n",
    "                     verbose=FALSE,\n",
    "                     savePredictions = T)\n"
   ]
  },
  {
   "cell_type": "code",
   "execution_count": null,
   "id": "cc18e2f5",
   "metadata": {},
   "outputs": [],
   "source": [
    "#logit\n",
    "set.seed(1410)\n",
    "fraude_logit_orig <- train(Fraude~., \n",
    "                       data = train, \n",
    "                       method = \"glm\",\n",
    "                       trControl = ctrl,\n",
    "                       family = \"binomial\")\n",
    "\n",
    "fraude_logit_orig"
   ]
  },
  {
   "cell_type": "code",
   "execution_count": null,
   "id": "8be9f66d",
   "metadata": {
    "vscode": {
     "languageId": "r"
    }
   },
   "outputs": [],
   "source": [
    "test<- test  %>% mutate(fraude_hat_logit_orig=predict(fraude_logit_orig,newdata = test,\n",
    "                           type = \"raw\"))"
   ]
  },
  {
   "cell_type": "code",
   "execution_count": null,
   "id": "a3b82d18",
   "metadata": {},
   "outputs": [],
   "source": [
    "confusionMatrix(data = test$fraude_hat_logit_orig, \n",
    "                reference = test$Fraude, positive=\"Positivo\", mode = \"prec_recall\")"
   ]
  },
  {
   "cell_type": "markdown",
   "id": "75c0cca7",
   "metadata": {},
   "source": [
    "## Remuestreo"
   ]
  },
  {
   "cell_type": "markdown",
   "id": "9a8d20cf",
   "metadata": {},
   "source": [
    "Hay varios enfoques:\n",
    "\n",
    "    1. Up-sampling.  Simulates or imputes additional data points of the minority class to improve balance across classes, while \n",
    "    2. Down-sampling. Randomly reduces the number of the majority class  to improve the balance across classes.\n",
    "    3. Híbrido: \n",
    "        3.1 SMOTE\n",
    "        3.2 ROSE"
   ]
  },
  {
   "cell_type": "markdown",
   "id": "e0573844",
   "metadata": {},
   "source": [
    "<div >\n",
    "<img src = \"sampling_methods.png\" />\n",
    "</div>"
   ]
  },
  {
   "cell_type": "markdown",
   "id": "fce16b0a",
   "metadata": {},
   "source": [
    "### Up Sampling"
   ]
  },
  {
   "cell_type": "code",
   "execution_count": null,
   "id": "c424664f",
   "metadata": {
    "vscode": {
     "languageId": "r"
    }
   },
   "outputs": [],
   "source": [
    "set.seed(1103)\n",
    "upSampledTrain <- upSample(x = train,\n",
    "                           y = train$Fraude,\n",
    "                           ## keep the class variable name the same:\n",
    "                           yname = \"Fraude\")\n",
    "dim(train)\n",
    "\n",
    "dim(upSampledTrain)\n",
    "\n",
    "table(upSampledTrain$Fraude)\n"
   ]
  },
  {
   "cell_type": "code",
   "execution_count": null,
   "id": "25938413",
   "metadata": {
    "vscode": {
     "languageId": "r"
    }
   },
   "outputs": [],
   "source": [
    "\n",
    "set.seed(1410)\n",
    "\n",
    "fraude_logit_upsample <- train(Fraude~., \n",
    "                       data = upSampledTrain, \n",
    "                       method = \"glm\",\n",
    "                       trControl = ctrl,\n",
    "                       family = \"binomial\")\n",
    "\n",
    "fraude_logit_upsample\n",
    "\n"
   ]
  },
  {
   "cell_type": "markdown",
   "id": "62880c11",
   "metadata": {},
   "source": [
    "### Down Sampling"
   ]
  },
  {
   "cell_type": "code",
   "execution_count": null,
   "id": "bf4eb3f7",
   "metadata": {
    "vscode": {
     "languageId": "r"
    }
   },
   "outputs": [],
   "source": [
    "\n",
    "set.seed(1103)\n",
    "downSampledTrain <- downSample(x = train,\n",
    "                           y = train$Fraude,\n",
    "                           ## keep the class variable name the same:\n",
    "                           yname = \"Fraude\")\n",
    "dim(train)\n",
    "\n",
    "dim(downSampledTrain)\n",
    "\n",
    "table(downSampledTrain$Fraude)\n"
   ]
  },
  {
   "cell_type": "code",
   "execution_count": null,
   "id": "4f5ec251",
   "metadata": {
    "vscode": {
     "languageId": "r"
    }
   },
   "outputs": [],
   "source": [
    "set.seed(1410)\n",
    "\n",
    "fraude_logit_downsample <- train(Fraude~., \n",
    "                       data = downSampledTrain, \n",
    "                       method = \"glm\",\n",
    "                       trControl = ctrl,\n",
    "                       family = \"binomial\")\n",
    "\n",
    "fraude_logit_downsample\n"
   ]
  },
  {
   "cell_type": "markdown",
   "id": "ccbe7e9a",
   "metadata": {},
   "source": [
    "### SMOTE"
   ]
  },
  {
   "cell_type": "markdown",
   "id": "a9c75ce1",
   "metadata": {},
   "source": [
    "<div >\n",
    "<img src = \"smote.png\" />\n",
    "</div>"
   ]
  },
  {
   "cell_type": "code",
   "execution_count": null,
   "id": "9b821159",
   "metadata": {
    "vscode": {
     "languageId": "r"
    }
   },
   "outputs": [],
   "source": [
    "p_load(\"smotefamily\")\n",
    "\n",
    "predictors<-colnames(train  %>% select(-Fraude))\n",
    "head( train[predictors])\n"
   ]
  },
  {
   "cell_type": "code",
   "execution_count": null,
   "id": "c8307d9c",
   "metadata": {
    "vscode": {
     "languageId": "r"
    }
   },
   "outputs": [],
   "source": [
    "smote_output = SMOTE(X = train[predictors],\n",
    "                     target = train$Fraude)\n",
    "smote_data = smote_output$data\n"
   ]
  },
  {
   "cell_type": "code",
   "execution_count": null,
   "id": "33b21efd",
   "metadata": {},
   "outputs": [],
   "source": [
    "table(train$Fraude)\n",
    "table(smote_data$class)"
   ]
  },
  {
   "cell_type": "code",
   "execution_count": null,
   "id": "8b264ebe",
   "metadata": {
    "vscode": {
     "languageId": "r"
    }
   },
   "outputs": [],
   "source": [
    "set.seed(1410)\n",
    "\n",
    "fraude_logit_smote <- train(class~., \n",
    "                       data = smote_data, \n",
    "                       method = \"glm\",\n",
    "                       trControl = ctrl,\n",
    "                       family = \"binomial\")\n",
    "\n",
    "fraude_logit_smote\n",
    "\n"
   ]
  },
  {
   "cell_type": "markdown",
   "id": "3168aea9",
   "metadata": {},
   "source": [
    "ROSE uses smoothed bootstrapping to draw artificial samples from the feature space neighbourhood around the minority class."
   ]
  },
  {
   "cell_type": "code",
   "execution_count": null,
   "id": "d0bf9211",
   "metadata": {},
   "outputs": [],
   "source": [
    "# p_load(ROSE)\n",
    "\n",
    "# set.seed(9560)\n",
    "# rose_train <- ROSE(Frude ~ ., data  = training)$data                         \n",
    "# table(rose_train$Class) "
   ]
  },
  {
   "cell_type": "code",
   "execution_count": null,
   "id": "3134fc42",
   "metadata": {},
   "outputs": [],
   "source": [
    "# set.seed(1410)\n",
    "\n",
    "# fraude_logit_rose <- train(class~., \n",
    "#                        data = rose_train, \n",
    "#                        method = \"glm\",\n",
    "#                        trControl = ctrl,\n",
    "#                        family = \"binomial\")\n",
    "\n",
    "# fraude_logit_rose\n"
   ]
  },
  {
   "cell_type": "markdown",
   "id": "34b09d8c",
   "metadata": {},
   "source": [
    "# Test set Performance\n",
    "\n"
   ]
  },
  {
   "cell_type": "code",
   "execution_count": null,
   "id": "dbb51c0a",
   "metadata": {
    "vscode": {
     "languageId": "r"
    }
   },
   "outputs": [],
   "source": [
    "test<- test  %>% mutate(fraude_hat_smote_orig=predict(fraude_logit_smote,newdata = test,\n",
    "                           type = \"raw\"))"
   ]
  },
  {
   "cell_type": "code",
   "execution_count": null,
   "id": "30ef16b7",
   "metadata": {},
   "outputs": [],
   "source": [
    "confusionMatrix(data = test$fraude_hat_logit_orig, \n",
    "                reference = test$Fraude, positive=\"Positivo\", mode = \"prec_recall\")"
   ]
  },
  {
   "cell_type": "code",
   "execution_count": null,
   "id": "14bdc972",
   "metadata": {},
   "outputs": [],
   "source": [
    "confusionMatrix(data = test$fraude_hat_smote_orig, \n",
    "                reference = test$Fraude, positive=\"Positivo\", mode = \"prec_recall\")"
   ]
  }
 ],
 "metadata": {
  "kernelspec": {
   "display_name": "R",
   "language": "R",
   "name": "ir"
  },
  "language_info": {
   "codemirror_mode": "r",
   "file_extension": ".r",
   "mimetype": "text/x-r-source",
   "name": "R",
   "pygments_lexer": "r",
   "version": "4.3.2"
  },
  "toc": {
   "base_numbering": 1,
   "nav_menu": {},
   "number_sections": true,
   "sideBar": true,
   "skip_h1_title": false,
   "title_cell": "Table of Contents",
   "title_sidebar": "Contents",
   "toc_cell": false,
   "toc_position": {},
   "toc_section_display": true,
   "toc_window_display": false
  }
 },
 "nbformat": 4,
 "nbformat_minor": 5
}
