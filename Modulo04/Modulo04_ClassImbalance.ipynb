{
 "cells": [
  {
   "cell_type": "markdown",
   "id": "ef66f7ba",
   "metadata": {},
   "source": [
    "<div >\n",
    "<img src = \"../banner.jpg\" />\n",
    "</div>"
   ]
  },
  {
   "cell_type": "markdown",
   "id": "8e9c8c27",
   "metadata": {},
   "source": [
    "# Desbalance de Clases Extremo: Fraude"
   ]
  },
  {
   "cell_type": "markdown",
   "id": "d86e6866",
   "metadata": {},
   "source": [
    "En este tutorial nos centraremos en detectar [fraude en tarjetas de crédito](https://www.kaggle.com/mlg-ulb/creditcardfraud). Los datos que utilizaremos contienen transacciones realizadas con tarjetas de crédito en septiembre de 2013 por titulares de tarjetas europeos.\n",
    "\n",
    "Este conjunto de datos presenta transacciones que ocurrieron en dos días, donde tenemos 492 fraudes de 284,807 transacciones. El conjunto de datos está muy desequilibrado: la clase positiva (fraudes) representa el 0,172% de todas las transacciones. Esta base de datos suele utilizarse como \"benchmark\" para los estudios de desbalances de clases.\n"
   ]
  },
  {
   "cell_type": "markdown",
   "id": "2510a586",
   "metadata": {},
   "source": [
    "## Configuración Inicial"
   ]
  },
  {
   "cell_type": "code",
   "execution_count": 1,
   "id": "49af46e1",
   "metadata": {
    "vscode": {
     "languageId": "r"
    }
   },
   "outputs": [
    {
     "name": "stderr",
     "output_type": "stream",
     "text": [
      "Loading required package: pacman\n",
      "\n"
     ]
    }
   ],
   "source": [
    "#Cargar librerías \n",
    "require(\"pacman\")\n",
    "\n",
    "p_load(\"tidyverse\",\n",
    "       \"glmnet\",\n",
    "        \"caret\")\n"
   ]
  },
  {
   "cell_type": "markdown",
   "id": "e3274c7a",
   "metadata": {},
   "source": [
    "## Datos\n",
    "Los datos que vamos a usar en esta sección son  datos de detección de fraude en tarjetas de crédito que están alojados en google.\n",
    "\n",
    "Esta base de datos solo contiene variables numéricas que son el resultado de una transformación PCA. Lamentablemente, debido a cuestiones de confidencialidad, no se difunden las características originales ni más información general sobre los datos. Las características V1, V2,… V28 son los componentes principales obtenidos con PCA, las únicas características que no se han transformado con PCA son 'Tiempo' (`Time`) y 'Cantidad' (`Amount`). La variable `Time` contiene los segundos transcurridos entre cada transacción y la primera transacción en el conjunto de datos. La variable `Amount`  es el monto de la transacción; esta variable se puede utilizar para el aprendizaje sensible a los costos, por ejemplo. La característica 'Clase' es la variable de respuesta y toma el valor 1 en caso de fraude y 0 en caso contrario.\n"
   ]
  },
  {
   "cell_type": "code",
   "execution_count": 2,
   "id": "91c4c5d3",
   "metadata": {
    "vscode": {
     "languageId": "r"
    }
   },
   "outputs": [
    {
     "name": "stderr",
     "output_type": "stream",
     "text": [
      "\u001b[1mRows: \u001b[22m\u001b[34m284807\u001b[39m \u001b[1mColumns: \u001b[22m\u001b[34m31\u001b[39m\n",
      "\u001b[36m──\u001b[39m \u001b[1mColumn specification\u001b[22m \u001b[36m──────────────────────────────────────────────────────────────────────────────────────────────────────────────────────────────────────────────────────────\u001b[39m\n",
      "\u001b[1mDelimiter:\u001b[22m \",\"\n",
      "\u001b[32mdbl\u001b[39m (31): Time, V1, V2, V3, V4, V5, V6, V7, V8, V9, V10, V11, V12, V13, V14,...\n",
      "\n",
      "\u001b[36mℹ\u001b[39m Use `spec()` to retrieve the full column specification for this data.\n",
      "\u001b[36mℹ\u001b[39m Specify the column types or set `show_col_types = FALSE` to quiet this message.\n"
     ]
    },
    {
     "data": {
      "text/html": [
       "<table class=\"dataframe\">\n",
       "<caption>A tibble: 6 × 31</caption>\n",
       "<thead>\n",
       "\t<tr><th scope=col>Time</th><th scope=col>V1</th><th scope=col>V2</th><th scope=col>V3</th><th scope=col>V4</th><th scope=col>V5</th><th scope=col>V6</th><th scope=col>V7</th><th scope=col>V8</th><th scope=col>V9</th><th scope=col>⋯</th><th scope=col>V21</th><th scope=col>V22</th><th scope=col>V23</th><th scope=col>V24</th><th scope=col>V25</th><th scope=col>V26</th><th scope=col>V27</th><th scope=col>V28</th><th scope=col>Amount</th><th scope=col>Class</th></tr>\n",
       "\t<tr><th scope=col>&lt;dbl&gt;</th><th scope=col>&lt;dbl&gt;</th><th scope=col>&lt;dbl&gt;</th><th scope=col>&lt;dbl&gt;</th><th scope=col>&lt;dbl&gt;</th><th scope=col>&lt;dbl&gt;</th><th scope=col>&lt;dbl&gt;</th><th scope=col>&lt;dbl&gt;</th><th scope=col>&lt;dbl&gt;</th><th scope=col>&lt;dbl&gt;</th><th scope=col>⋯</th><th scope=col>&lt;dbl&gt;</th><th scope=col>&lt;dbl&gt;</th><th scope=col>&lt;dbl&gt;</th><th scope=col>&lt;dbl&gt;</th><th scope=col>&lt;dbl&gt;</th><th scope=col>&lt;dbl&gt;</th><th scope=col>&lt;dbl&gt;</th><th scope=col>&lt;dbl&gt;</th><th scope=col>&lt;dbl&gt;</th><th scope=col>&lt;dbl&gt;</th></tr>\n",
       "</thead>\n",
       "<tbody>\n",
       "\t<tr><td>0</td><td>-1.3598071</td><td>-0.07278117</td><td>2.5363467</td><td> 1.3781552</td><td>-0.33832077</td><td> 0.46238778</td><td> 0.23959855</td><td> 0.09869790</td><td> 0.3637870</td><td>⋯</td><td>-0.018306778</td><td> 0.277837576</td><td>-0.11047391</td><td> 0.06692807</td><td> 0.1285394</td><td>-0.1891148</td><td> 0.133558377</td><td>-0.02105305</td><td>149.62</td><td>0</td></tr>\n",
       "\t<tr><td>0</td><td> 1.1918571</td><td> 0.26615071</td><td>0.1664801</td><td> 0.4481541</td><td> 0.06001765</td><td>-0.08236081</td><td>-0.07880298</td><td> 0.08510165</td><td>-0.2554251</td><td>⋯</td><td>-0.225775248</td><td>-0.638671953</td><td> 0.10128802</td><td>-0.33984648</td><td> 0.1671704</td><td> 0.1258945</td><td>-0.008983099</td><td> 0.01472417</td><td>  2.69</td><td>0</td></tr>\n",
       "\t<tr><td>1</td><td>-1.3583541</td><td>-1.34016307</td><td>1.7732093</td><td> 0.3797796</td><td>-0.50319813</td><td> 1.80049938</td><td> 0.79146096</td><td> 0.24767579</td><td>-1.5146543</td><td>⋯</td><td> 0.247998153</td><td> 0.771679402</td><td> 0.90941226</td><td>-0.68928096</td><td>-0.3276418</td><td>-0.1390966</td><td>-0.055352794</td><td>-0.05975184</td><td>378.66</td><td>0</td></tr>\n",
       "\t<tr><td>1</td><td>-0.9662717</td><td>-0.18522601</td><td>1.7929933</td><td>-0.8632913</td><td>-0.01030888</td><td> 1.24720317</td><td> 0.23760894</td><td> 0.37743587</td><td>-1.3870241</td><td>⋯</td><td>-0.108300452</td><td> 0.005273597</td><td>-0.19032052</td><td>-1.17557533</td><td> 0.6473760</td><td>-0.2219288</td><td> 0.062722849</td><td> 0.06145763</td><td>123.50</td><td>0</td></tr>\n",
       "\t<tr><td>2</td><td>-1.1582331</td><td> 0.87773675</td><td>1.5487178</td><td> 0.4030339</td><td>-0.40719338</td><td> 0.09592146</td><td> 0.59294075</td><td>-0.27053268</td><td> 0.8177393</td><td>⋯</td><td>-0.009430697</td><td> 0.798278495</td><td>-0.13745808</td><td> 0.14126698</td><td>-0.2060096</td><td> 0.5022922</td><td> 0.219422230</td><td> 0.21515315</td><td> 69.99</td><td>0</td></tr>\n",
       "\t<tr><td>2</td><td>-0.4259659</td><td> 0.96052304</td><td>1.1411093</td><td>-0.1682521</td><td> 0.42098688</td><td>-0.02972755</td><td> 0.47620095</td><td> 0.26031433</td><td>-0.5686714</td><td>⋯</td><td>-0.208253515</td><td>-0.559824796</td><td>-0.02639767</td><td>-0.37142658</td><td>-0.2327938</td><td> 0.1059148</td><td> 0.253844225</td><td> 0.08108026</td><td>  3.67</td><td>0</td></tr>\n",
       "</tbody>\n",
       "</table>\n"
      ],
      "text/latex": [
       "A tibble: 6 × 31\n",
       "\\begin{tabular}{lllllllllllllllllllll}\n",
       " Time & V1 & V2 & V3 & V4 & V5 & V6 & V7 & V8 & V9 & ⋯ & V21 & V22 & V23 & V24 & V25 & V26 & V27 & V28 & Amount & Class\\\\\n",
       " <dbl> & <dbl> & <dbl> & <dbl> & <dbl> & <dbl> & <dbl> & <dbl> & <dbl> & <dbl> & ⋯ & <dbl> & <dbl> & <dbl> & <dbl> & <dbl> & <dbl> & <dbl> & <dbl> & <dbl> & <dbl>\\\\\n",
       "\\hline\n",
       "\t 0 & -1.3598071 & -0.07278117 & 2.5363467 &  1.3781552 & -0.33832077 &  0.46238778 &  0.23959855 &  0.09869790 &  0.3637870 & ⋯ & -0.018306778 &  0.277837576 & -0.11047391 &  0.06692807 &  0.1285394 & -0.1891148 &  0.133558377 & -0.02105305 & 149.62 & 0\\\\\n",
       "\t 0 &  1.1918571 &  0.26615071 & 0.1664801 &  0.4481541 &  0.06001765 & -0.08236081 & -0.07880298 &  0.08510165 & -0.2554251 & ⋯ & -0.225775248 & -0.638671953 &  0.10128802 & -0.33984648 &  0.1671704 &  0.1258945 & -0.008983099 &  0.01472417 &   2.69 & 0\\\\\n",
       "\t 1 & -1.3583541 & -1.34016307 & 1.7732093 &  0.3797796 & -0.50319813 &  1.80049938 &  0.79146096 &  0.24767579 & -1.5146543 & ⋯ &  0.247998153 &  0.771679402 &  0.90941226 & -0.68928096 & -0.3276418 & -0.1390966 & -0.055352794 & -0.05975184 & 378.66 & 0\\\\\n",
       "\t 1 & -0.9662717 & -0.18522601 & 1.7929933 & -0.8632913 & -0.01030888 &  1.24720317 &  0.23760894 &  0.37743587 & -1.3870241 & ⋯ & -0.108300452 &  0.005273597 & -0.19032052 & -1.17557533 &  0.6473760 & -0.2219288 &  0.062722849 &  0.06145763 & 123.50 & 0\\\\\n",
       "\t 2 & -1.1582331 &  0.87773675 & 1.5487178 &  0.4030339 & -0.40719338 &  0.09592146 &  0.59294075 & -0.27053268 &  0.8177393 & ⋯ & -0.009430697 &  0.798278495 & -0.13745808 &  0.14126698 & -0.2060096 &  0.5022922 &  0.219422230 &  0.21515315 &  69.99 & 0\\\\\n",
       "\t 2 & -0.4259659 &  0.96052304 & 1.1411093 & -0.1682521 &  0.42098688 & -0.02972755 &  0.47620095 &  0.26031433 & -0.5686714 & ⋯ & -0.208253515 & -0.559824796 & -0.02639767 & -0.37142658 & -0.2327938 &  0.1059148 &  0.253844225 &  0.08108026 &   3.67 & 0\\\\\n",
       "\\end{tabular}\n"
      ],
      "text/markdown": [
       "\n",
       "A tibble: 6 × 31\n",
       "\n",
       "| Time &lt;dbl&gt; | V1 &lt;dbl&gt; | V2 &lt;dbl&gt; | V3 &lt;dbl&gt; | V4 &lt;dbl&gt; | V5 &lt;dbl&gt; | V6 &lt;dbl&gt; | V7 &lt;dbl&gt; | V8 &lt;dbl&gt; | V9 &lt;dbl&gt; | ⋯ ⋯ | V21 &lt;dbl&gt; | V22 &lt;dbl&gt; | V23 &lt;dbl&gt; | V24 &lt;dbl&gt; | V25 &lt;dbl&gt; | V26 &lt;dbl&gt; | V27 &lt;dbl&gt; | V28 &lt;dbl&gt; | Amount &lt;dbl&gt; | Class &lt;dbl&gt; |\n",
       "|---|---|---|---|---|---|---|---|---|---|---|---|---|---|---|---|---|---|---|---|---|\n",
       "| 0 | -1.3598071 | -0.07278117 | 2.5363467 |  1.3781552 | -0.33832077 |  0.46238778 |  0.23959855 |  0.09869790 |  0.3637870 | ⋯ | -0.018306778 |  0.277837576 | -0.11047391 |  0.06692807 |  0.1285394 | -0.1891148 |  0.133558377 | -0.02105305 | 149.62 | 0 |\n",
       "| 0 |  1.1918571 |  0.26615071 | 0.1664801 |  0.4481541 |  0.06001765 | -0.08236081 | -0.07880298 |  0.08510165 | -0.2554251 | ⋯ | -0.225775248 | -0.638671953 |  0.10128802 | -0.33984648 |  0.1671704 |  0.1258945 | -0.008983099 |  0.01472417 |   2.69 | 0 |\n",
       "| 1 | -1.3583541 | -1.34016307 | 1.7732093 |  0.3797796 | -0.50319813 |  1.80049938 |  0.79146096 |  0.24767579 | -1.5146543 | ⋯ |  0.247998153 |  0.771679402 |  0.90941226 | -0.68928096 | -0.3276418 | -0.1390966 | -0.055352794 | -0.05975184 | 378.66 | 0 |\n",
       "| 1 | -0.9662717 | -0.18522601 | 1.7929933 | -0.8632913 | -0.01030888 |  1.24720317 |  0.23760894 |  0.37743587 | -1.3870241 | ⋯ | -0.108300452 |  0.005273597 | -0.19032052 | -1.17557533 |  0.6473760 | -0.2219288 |  0.062722849 |  0.06145763 | 123.50 | 0 |\n",
       "| 2 | -1.1582331 |  0.87773675 | 1.5487178 |  0.4030339 | -0.40719338 |  0.09592146 |  0.59294075 | -0.27053268 |  0.8177393 | ⋯ | -0.009430697 |  0.798278495 | -0.13745808 |  0.14126698 | -0.2060096 |  0.5022922 |  0.219422230 |  0.21515315 |  69.99 | 0 |\n",
       "| 2 | -0.4259659 |  0.96052304 | 1.1411093 | -0.1682521 |  0.42098688 | -0.02972755 |  0.47620095 |  0.26031433 | -0.5686714 | ⋯ | -0.208253515 | -0.559824796 | -0.02639767 | -0.37142658 | -0.2327938 |  0.1059148 |  0.253844225 |  0.08108026 |   3.67 | 0 |\n",
       "\n"
      ],
      "text/plain": [
       "  Time V1         V2          V3        V4         V5          V6         \n",
       "1 0    -1.3598071 -0.07278117 2.5363467  1.3781552 -0.33832077  0.46238778\n",
       "2 0     1.1918571  0.26615071 0.1664801  0.4481541  0.06001765 -0.08236081\n",
       "3 1    -1.3583541 -1.34016307 1.7732093  0.3797796 -0.50319813  1.80049938\n",
       "4 1    -0.9662717 -0.18522601 1.7929933 -0.8632913 -0.01030888  1.24720317\n",
       "5 2    -1.1582331  0.87773675 1.5487178  0.4030339 -0.40719338  0.09592146\n",
       "6 2    -0.4259659  0.96052304 1.1411093 -0.1682521  0.42098688 -0.02972755\n",
       "  V7          V8          V9         ⋯ V21          V22          V23        \n",
       "1  0.23959855  0.09869790  0.3637870 ⋯ -0.018306778  0.277837576 -0.11047391\n",
       "2 -0.07880298  0.08510165 -0.2554251 ⋯ -0.225775248 -0.638671953  0.10128802\n",
       "3  0.79146096  0.24767579 -1.5146543 ⋯  0.247998153  0.771679402  0.90941226\n",
       "4  0.23760894  0.37743587 -1.3870241 ⋯ -0.108300452  0.005273597 -0.19032052\n",
       "5  0.59294075 -0.27053268  0.8177393 ⋯ -0.009430697  0.798278495 -0.13745808\n",
       "6  0.47620095  0.26031433 -0.5686714 ⋯ -0.208253515 -0.559824796 -0.02639767\n",
       "  V24         V25        V26        V27          V28         Amount Class\n",
       "1  0.06692807  0.1285394 -0.1891148  0.133558377 -0.02105305 149.62 0    \n",
       "2 -0.33984648  0.1671704  0.1258945 -0.008983099  0.01472417   2.69 0    \n",
       "3 -0.68928096 -0.3276418 -0.1390966 -0.055352794 -0.05975184 378.66 0    \n",
       "4 -1.17557533  0.6473760 -0.2219288  0.062722849  0.06145763 123.50 0    \n",
       "5  0.14126698 -0.2060096  0.5022922  0.219422230  0.21515315  69.99 0    \n",
       "6 -0.37142658 -0.2327938  0.1059148  0.253844225  0.08108026   3.67 0    "
      ]
     },
     "metadata": {},
     "output_type": "display_data"
    }
   ],
   "source": [
    "# cargar datos\n",
    "fraud <- read_csv('https://storage.googleapis.com/download.tensorflow.org/data/creditcard.csv')\n",
    "\n",
    "# Ver las primeras filas del dataframe.\n",
    "head(fraud)"
   ]
  },
  {
   "cell_type": "code",
   "execution_count": 3,
   "id": "c06f2bc6",
   "metadata": {
    "vscode": {
     "languageId": "r"
    }
   },
   "outputs": [
    {
     "data": {
      "text/plain": [
       "\n",
       "Negativo Positivo \n",
       "  284315      492 "
      ]
     },
     "metadata": {},
     "output_type": "display_data"
    }
   ],
   "source": [
    "# Veamos cómo se distribuye la variable de interés.\n",
    "fraud<- fraud %>% mutate(Fraude = factor(Class,levels=c(0,1),labels=c(\"Negativo\",\"Positivo\")))\n",
    "table(fraud$Fraude)\n"
   ]
  },
  {
   "cell_type": "code",
   "execution_count": 4,
   "id": "b9e69834",
   "metadata": {
    "vscode": {
     "languageId": "r"
    }
   },
   "outputs": [
    {
     "data": {
      "text/plain": [
       "\n",
       "   Negativo    Positivo \n",
       "0.998272514 0.001727486 "
      ]
     },
     "metadata": {},
     "output_type": "display_data"
    }
   ],
   "source": [
    "prop.table(table(fraud$Fraude))"
   ]
  },
  {
   "cell_type": "code",
   "execution_count": 5,
   "id": "e724ae68",
   "metadata": {},
   "outputs": [],
   "source": [
    "data<- fraud  %>% group_by(Fraude) %>% tally()"
   ]
  },
  {
   "cell_type": "code",
   "execution_count": 6,
   "id": "e450918a",
   "metadata": {},
   "outputs": [
    {
     "data": {
      "text/html": [
       "<table class=\"dataframe\">\n",
       "<caption>A tibble: 2 × 2</caption>\n",
       "<thead>\n",
       "\t<tr><th scope=col>Fraude</th><th scope=col>n</th></tr>\n",
       "\t<tr><th scope=col>&lt;fct&gt;</th><th scope=col>&lt;int&gt;</th></tr>\n",
       "</thead>\n",
       "<tbody>\n",
       "\t<tr><td>Negativo</td><td>284315</td></tr>\n",
       "\t<tr><td>Positivo</td><td>   492</td></tr>\n",
       "</tbody>\n",
       "</table>\n"
      ],
      "text/latex": [
       "A tibble: 2 × 2\n",
       "\\begin{tabular}{ll}\n",
       " Fraude & n\\\\\n",
       " <fct> & <int>\\\\\n",
       "\\hline\n",
       "\t Negativo & 284315\\\\\n",
       "\t Positivo &    492\\\\\n",
       "\\end{tabular}\n"
      ],
      "text/markdown": [
       "\n",
       "A tibble: 2 × 2\n",
       "\n",
       "| Fraude &lt;fct&gt; | n &lt;int&gt; |\n",
       "|---|---|\n",
       "| Negativo | 284315 |\n",
       "| Positivo |    492 |\n",
       "\n"
      ],
      "text/plain": [
       "  Fraude   n     \n",
       "1 Negativo 284315\n",
       "2 Positivo    492"
      ]
     },
     "metadata": {},
     "output_type": "display_data"
    }
   ],
   "source": [
    "data"
   ]
  },
  {
   "cell_type": "code",
   "execution_count": 7,
   "id": "cff409db",
   "metadata": {},
   "outputs": [
    {
     "name": "stderr",
     "output_type": "stream",
     "text": [
      "\u001b[1m\u001b[22mSaving 7 x 7 in image\n"
     ]
    },
    {
     "data": {
      "image/png": "[encoded data removed]",
      "text/plain": [
       "plot without title"
      ]
     },
     "metadata": {
      "image/png": {
       "height": 420,
       "width": 420
      }
     },
     "output_type": "display_data"
    }
   ],
   "source": [
    "ggplot(data,aes(x = Fraude, y = n, fill = Fraude)) +\n",
    "  geom_bar(stat = \"identity\") +\n",
    "  theme_minimal() +\n",
    "  scale_fill_manual(values = c(\"Positivo\" = \"orange\", \"Negativo\" = \"blue\")) + # Colors can be changed\n",
    "  labs(x = \"\", y = \"count\") # Customize axis labels if needed\n"
   ]
  },
  {
   "cell_type": "markdown",
   "id": "5393b074",
   "metadata": {},
   "source": [
    "Menos del 1% de los casos es fraude. Las dos clases: fraude y no fraude están desbalanceadas, esto implica un reto grande para nuestros modelos de predicción, pues naturalmente tenderán a predecir que los casos no son fraude, dada la poca información que hay de los fraudes. Sin embargo, lo que más nos interesa en este caso es predecir los fraudes.\n"
   ]
  },
  {
   "cell_type": "markdown",
   "id": "84c0ae9e",
   "metadata": {},
   "source": [
    "## Limpiar y dividir la muestra\n",
    "\n",
    "Los datos crudos tienen un par de problemas : las columnas  `Time` y `Amount` tiene mucha varianza. Vamos eliminar la columna `Time` (ya que no será muy útil) y vamos a tomar el logaritmo de `Amount`.\n"
   ]
  },
  {
   "cell_type": "code",
   "execution_count": 8,
   "id": "1ffebdf8",
   "metadata": {
    "vscode": {
     "languageId": "r"
    }
   },
   "outputs": [],
   "source": [
    "# Eliminar las columnas 'Class' 'Time'\n",
    "fraud<- fraud  %>% select(-Class,-Time)\n",
    "\n",
    "\n",
    "# Convertir 'Amount' a  logs\n",
    "fraud<- fraud  %>% mutate(Log_Amount = log(Amount + 0.001)) %>% select(-Amount)\n"
   ]
  },
  {
   "cell_type": "markdown",
   "id": "3a57b56a",
   "metadata": {},
   "source": [
    "### División de la muestra\n",
    "\n",
    "- El objetivo es predecir bien fuera de muestra\n",
    "\n",
    "- No queremos sobreajustar a la muestra\n",
    "  \n",
    "- Vamos a definir 2 bases\n",
    "\n",
    "  - Muestra de entrenamiento: vamos a estimar los modelos, buscar parámetros, etc.\n",
    "  \n",
    "  -  Muestra de prueba que solo vamos a usar para evaluar los modelos\n"
   ]
  },
  {
   "cell_type": "code",
   "execution_count": 11,
   "id": "64b2520f",
   "metadata": {
    "vscode": {
     "languageId": "r"
    }
   },
   "outputs": [
    {
     "data": {
      "text/html": [
       "<style>\n",
       ".list-inline {list-style: none; margin:0; padding: 0}\n",
       ".list-inline>li {display: inline-block}\n",
       ".list-inline>li:not(:last-child)::after {content: \"\\00b7\"; padding: 0 .5ex}\n",
       "</style>\n",
       "<ol class=list-inline><li>227846</li><li>30</li></ol>\n"
      ],
      "text/latex": [
       "\\begin{enumerate*}\n",
       "\\item 227846\n",
       "\\item 30\n",
       "\\end{enumerate*}\n"
      ],
      "text/markdown": [
       "1. 227846\n",
       "2. 30\n",
       "\n",
       "\n"
      ],
      "text/plain": [
       "[1] 227846     30"
      ]
     },
     "metadata": {},
     "output_type": "display_data"
    }
   ],
   "source": [
    "# Dividir los datos en conjuntos de entrenamiento (train), validación (val) y prueba (test)\n",
    "set.seed(123) # Para reproducibilidad\n",
    "\n",
    "\n",
    "train_indices <- as.integer(createDataPartition(fraud$Fraude, p = 0.8, list = FALSE))\n",
    "train <- fraud[train_indices, ]\n",
    "test <- fraud[-train_indices, ]\n",
    "\n",
    "dim(train)\n"
   ]
  },
  {
   "cell_type": "code",
   "execution_count": 12,
   "id": "ed972291",
   "metadata": {
    "scrolled": true,
    "vscode": {
     "languageId": "r"
    }
   },
   "outputs": [
    {
     "data": {
      "text/html": [
       "<style>\n",
       ".list-inline {list-style: none; margin:0; padding: 0}\n",
       ".list-inline>li {display: inline-block}\n",
       ".list-inline>li:not(:last-child)::after {content: \"\\00b7\"; padding: 0 .5ex}\n",
       "</style>\n",
       "<ol class=list-inline><li>56961</li><li>30</li></ol>\n"
      ],
      "text/latex": [
       "\\begin{enumerate*}\n",
       "\\item 56961\n",
       "\\item 30\n",
       "\\end{enumerate*}\n"
      ],
      "text/markdown": [
       "1. 56961\n",
       "2. 30\n",
       "\n",
       "\n"
      ],
      "text/plain": [
       "[1] 56961    30"
      ]
     },
     "metadata": {},
     "output_type": "display_data"
    }
   ],
   "source": [
    "dim(test)"
   ]
  },
  {
   "cell_type": "code",
   "execution_count": 38,
   "id": "e3dd77a4",
   "metadata": {},
   "outputs": [
    {
     "data": {
      "text/plain": [
       "\n",
       "Negativo Positivo \n",
       "  227452      394 "
      ]
     },
     "metadata": {},
     "output_type": "display_data"
    }
   ],
   "source": [
    "table(train$Fraude)"
   ]
  },
  {
   "cell_type": "code",
   "execution_count": 13,
   "id": "b1786562",
   "metadata": {
    "vscode": {
     "languageId": "r"
    }
   },
   "outputs": [
    {
     "data": {
      "text/plain": [
       "\n",
       "   Negativo    Positivo \n",
       "0.998270762 0.001729238 "
      ]
     },
     "metadata": {},
     "output_type": "display_data"
    }
   ],
   "source": [
    "prop.table(table(train$Fraude))"
   ]
  },
  {
   "cell_type": "code",
   "execution_count": 37,
   "id": "53cbe00f",
   "metadata": {},
   "outputs": [
    {
     "data": {
      "text/plain": [
       "\n",
       "Negativo Positivo \n",
       "   56863       98 "
      ]
     },
     "metadata": {},
     "output_type": "display_data"
    }
   ],
   "source": [
    "table(test$Fraude)"
   ]
  },
  {
   "cell_type": "code",
   "execution_count": 14,
   "id": "45413081",
   "metadata": {
    "vscode": {
     "languageId": "r"
    }
   },
   "outputs": [
    {
     "data": {
      "text/plain": [
       "\n",
       "   Negativo    Positivo \n",
       "0.998279525 0.001720475 "
      ]
     },
     "metadata": {},
     "output_type": "display_data"
    }
   ],
   "source": [
    "prop.table(table(test$Fraude))"
   ]
  },
  {
   "cell_type": "markdown",
   "id": "5c0d7b17",
   "metadata": {},
   "source": [
    "Note que la proporción de fraudes se preserva casi intacta para los conjuntos de entrenamiento, validacion y test. Esto no siempre suele ser el caso cuando las clases están tan desbalanceadas.\n"
   ]
  },
  {
   "cell_type": "markdown",
   "id": "13017ef8",
   "metadata": {},
   "source": [
    "# Logit"
   ]
  },
  {
   "cell_type": "markdown",
   "id": "d5edaaad",
   "metadata": {},
   "source": [
    "If you have an imbalanced data set, first try training on the true distribution. If the model works well and generalizes, you're done! If not, try  resampling techniques."
   ]
  },
  {
   "cell_type": "code",
   "execution_count": 15,
   "id": "0c3484ff",
   "metadata": {
    "vscode": {
     "languageId": "r"
    }
   },
   "outputs": [],
   "source": [
    "ctrl<- trainControl(method = \"cv\",\n",
    "                     number = 5,\n",
    "                     classProbs = TRUE,\n",
    "                     verbose=FALSE,\n",
    "                     savePredictions = T)\n"
   ]
  },
  {
   "cell_type": "code",
   "execution_count": 18,
   "id": "368283b9",
   "metadata": {},
   "outputs": [
    {
     "data": {
      "text/plain": [
       "Generalized Linear Model \n",
       "\n",
       "227846 samples\n",
       "    29 predictor\n",
       "     2 classes: 'Negativo', 'Positivo' \n",
       "\n",
       "No pre-processing\n",
       "Resampling: Cross-Validated (5 fold) \n",
       "Summary of sample sizes: 182276, 182278, 182276, 182277, 182277 \n",
       "Resampling results:\n",
       "\n",
       "  Accuracy   Kappa    \n",
       "  0.9991837  0.7217635\n"
      ]
     },
     "metadata": {},
     "output_type": "display_data"
    }
   ],
   "source": [
    "#logit\n",
    "set.seed(1410)\n",
    "fraude_logit_orig <- train(Fraude~., \n",
    "                       data = train, \n",
    "                       method = \"glm\",\n",
    "                       trControl = ctrl,\n",
    "                       family = \"binomial\")\n",
    "\n",
    "fraude_logit_orig"
   ]
  },
  {
   "cell_type": "code",
   "execution_count": 34,
   "id": "8be9f66d",
   "metadata": {
    "vscode": {
     "languageId": "r"
    }
   },
   "outputs": [],
   "source": [
    "test<- test  %>% mutate(fraude_hat_logit_orig=predict(fraude_logit_orig,newdata = test,\n",
    "                           type = \"raw\"))"
   ]
  },
  {
   "cell_type": "code",
   "execution_count": 36,
   "id": "5fc58200",
   "metadata": {},
   "outputs": [
    {
     "data": {
      "text/plain": [
       "Confusion Matrix and Statistics\n",
       "\n",
       "          Reference\n",
       "Prediction Negativo Positivo\n",
       "  Negativo    56849       33\n",
       "  Positivo       14       65\n",
       "                                          \n",
       "               Accuracy : 0.9992          \n",
       "                 95% CI : (0.9989, 0.9994)\n",
       "    No Information Rate : 0.9983          \n",
       "    P-Value [Acc > NIR] : 7.593e-09       \n",
       "                                          \n",
       "                  Kappa : 0.7341          \n",
       "                                          \n",
       " Mcnemar's Test P-Value : 0.00865         \n",
       "                                          \n",
       "              Precision : 0.822785        \n",
       "                 Recall : 0.663265        \n",
       "                     F1 : 0.734463        \n",
       "             Prevalence : 0.001720        \n",
       "         Detection Rate : 0.001141        \n",
       "   Detection Prevalence : 0.001387        \n",
       "      Balanced Accuracy : 0.831510        \n",
       "                                          \n",
       "       'Positive' Class : Positivo        \n",
       "                                          "
      ]
     },
     "metadata": {},
     "output_type": "display_data"
    }
   ],
   "source": [
    "confusionMatrix(data = test$fraude_hat_logit_orig, \n",
    "                reference = test$Fraude, positive=\"Positivo\", mode = \"prec_recall\")"
   ]
  },
  {
   "cell_type": "markdown",
   "id": "75c0cca7",
   "metadata": {},
   "source": [
    "## Remuestreo"
   ]
  },
  {
   "cell_type": "markdown",
   "id": "9a8d20cf",
   "metadata": {},
   "source": [
    "Hay varios enfoques:\n",
    "\n",
    "    1. Up-sampling.  Simulates or imputes additional data points of the minority class to improve balance across classes, while \n",
    "    2. Down-sampling. Randomly reduces the number of the majority class  to improve the balance across classes.\n",
    "    3. Híbrido: \n",
    "        3.1 SMOTE\n",
    "        3.2 ROSE"
   ]
  },
  {
   "cell_type": "markdown",
   "id": "e0573844",
   "metadata": {},
   "source": [
    "<div >\n",
    "<img src = \"sampling_methods.png\" />\n",
    "</div>"
   ]
  },
  {
   "cell_type": "markdown",
   "id": "fce16b0a",
   "metadata": {},
   "source": [
    "### Up Sampling"
   ]
  },
  {
   "cell_type": "code",
   "execution_count": 41,
   "id": "c424664f",
   "metadata": {
    "vscode": {
     "languageId": "r"
    }
   },
   "outputs": [
    {
     "data": {
      "text/html": [
       "<style>\n",
       ".list-inline {list-style: none; margin:0; padding: 0}\n",
       ".list-inline>li {display: inline-block}\n",
       ".list-inline>li:not(:last-child)::after {content: \"\\00b7\"; padding: 0 .5ex}\n",
       "</style>\n",
       "<ol class=list-inline><li>227846</li><li>30</li></ol>\n"
      ],
      "text/latex": [
       "\\begin{enumerate*}\n",
       "\\item 227846\n",
       "\\item 30\n",
       "\\end{enumerate*}\n"
      ],
      "text/markdown": [
       "1. 227846\n",
       "2. 30\n",
       "\n",
       "\n"
      ],
      "text/plain": [
       "[1] 227846     30"
      ]
     },
     "metadata": {},
     "output_type": "display_data"
    },
    {
     "data": {
      "text/html": [
       "<style>\n",
       ".list-inline {list-style: none; margin:0; padding: 0}\n",
       ".list-inline>li {display: inline-block}\n",
       ".list-inline>li:not(:last-child)::after {content: \"\\00b7\"; padding: 0 .5ex}\n",
       "</style>\n",
       "<ol class=list-inline><li>454904</li><li>31</li></ol>\n"
      ],
      "text/latex": [
       "\\begin{enumerate*}\n",
       "\\item 454904\n",
       "\\item 31\n",
       "\\end{enumerate*}\n"
      ],
      "text/markdown": [
       "1. 454904\n",
       "2. 31\n",
       "\n",
       "\n"
      ],
      "text/plain": [
       "[1] 454904     31"
      ]
     },
     "metadata": {},
     "output_type": "display_data"
    },
    {
     "data": {
      "text/plain": [
       "\n",
       "Negativo Positivo \n",
       "  227452   227452 "
      ]
     },
     "metadata": {},
     "output_type": "display_data"
    }
   ],
   "source": [
    "set.seed(1103)\n",
    "upSampledTrain <- upSample(x = train,\n",
    "                           y = train$Fraude,\n",
    "                           ## keep the class variable name the same:\n",
    "                           yname = \"Fraude\")\n",
    "dim(train)\n",
    "\n",
    "dim(upSampledTrain)\n",
    "\n",
    "table(upSampledTrain$Fraude)\n"
   ]
  },
  {
   "cell_type": "code",
   "execution_count": 42,
   "id": "25938413",
   "metadata": {
    "vscode": {
     "languageId": "r"
    }
   },
   "outputs": [
    {
     "name": "stderr",
     "output_type": "stream",
     "text": [
      "Warning message:\n",
      "“glm.fit: fitted probabilities numerically 0 or 1 occurred”\n",
      "Warning message:\n",
      "“glm.fit: fitted probabilities numerically 0 or 1 occurred”\n",
      "Warning message:\n",
      "“glm.fit: fitted probabilities numerically 0 or 1 occurred”\n",
      "Warning message:\n",
      "“glm.fit: fitted probabilities numerically 0 or 1 occurred”\n",
      "Warning message:\n",
      "“glm.fit: fitted probabilities numerically 0 or 1 occurred”\n",
      "Warning message:\n",
      "“glm.fit: fitted probabilities numerically 0 or 1 occurred”\n"
     ]
    },
    {
     "data": {
      "text/plain": [
       "Generalized Linear Model \n",
       "\n",
       "454904 samples\n",
       "    29 predictor\n",
       "     2 classes: 'Negativo', 'Positivo' \n",
       "\n",
       "No pre-processing\n",
       "Resampling: Cross-Validated (5 fold) \n",
       "Summary of sample sizes: 363923, 363924, 363922, 363923, 363924 \n",
       "Resampling results:\n",
       "\n",
       "  Accuracy   Kappa   \n",
       "  0.9473955  0.894791\n"
      ]
     },
     "metadata": {},
     "output_type": "display_data"
    }
   ],
   "source": [
    "\n",
    "set.seed(1410)\n",
    "\n",
    "fraude_logit_upsample <- train(Fraude~., \n",
    "                       data = upSampledTrain, \n",
    "                       method = \"glm\",\n",
    "                       trControl = ctrl,\n",
    "                       family = \"binomial\")\n",
    "\n",
    "fraude_logit_upsample\n",
    "\n"
   ]
  },
  {
   "cell_type": "markdown",
   "id": "62880c11",
   "metadata": {},
   "source": [
    "### Down Sampling"
   ]
  },
  {
   "cell_type": "code",
   "execution_count": 43,
   "id": "bf4eb3f7",
   "metadata": {
    "vscode": {
     "languageId": "r"
    }
   },
   "outputs": [
    {
     "ename": "ERROR",
     "evalue": "Error in eval(expr, envir, enclos): object 'training' not found\n",
     "output_type": "error",
     "traceback": [
      "Error in eval(expr, envir, enclos): object 'training' not found\nTraceback:\n"
     ]
    }
   ],
   "source": [
    "\n",
    "set.seed(1103)\n",
    "downSampledTrain <- downSample(x = train,\n",
    "                           y = train$Fraude,\n",
    "                           ## keep the class variable name the same:\n",
    "                           yname = \"Fraude\")\n",
    "dim(train)\n",
    "\n",
    "dim(downSampledTrain)\n",
    "\n",
    "table(downSampledTrain$Fraude)\n"
   ]
  },
  {
   "cell_type": "code",
   "execution_count": 44,
   "id": "4f5ec251",
   "metadata": {
    "vscode": {
     "languageId": "r"
    }
   },
   "outputs": [
    {
     "name": "stderr",
     "output_type": "stream",
     "text": [
      "Warning message:\n",
      "“glm.fit: fitted probabilities numerically 0 or 1 occurred”\n",
      "Warning message:\n",
      "“glm.fit: fitted probabilities numerically 0 or 1 occurred”\n",
      "Warning message:\n",
      "“glm.fit: fitted probabilities numerically 0 or 1 occurred”\n",
      "Warning message:\n",
      "“glm.fit: fitted probabilities numerically 0 or 1 occurred”\n",
      "Warning message:\n",
      "“glm.fit: fitted probabilities numerically 0 or 1 occurred”\n",
      "Warning message:\n",
      "“glm.fit: fitted probabilities numerically 0 or 1 occurred”\n"
     ]
    },
    {
     "data": {
      "text/plain": [
       "Generalized Linear Model \n",
       "\n",
       "788 samples\n",
       " 29 predictor\n",
       "  2 classes: 'Negativo', 'Positivo' \n",
       "\n",
       "No pre-processing\n",
       "Resampling: Cross-Validated (5 fold) \n",
       "Summary of sample sizes: 631, 631, 630, 630, 630 \n",
       "Resampling results:\n",
       "\n",
       "  Accuracy   Kappa   \n",
       "  0.9352576  0.870518\n"
      ]
     },
     "metadata": {},
     "output_type": "display_data"
    }
   ],
   "source": [
    "set.seed(1410)\n",
    "\n",
    "fraude_logit_downsample <- train(Fraude~., \n",
    "                       data = downSampledTrain, \n",
    "                       method = \"glm\",\n",
    "                       trControl = ctrl,\n",
    "                       family = \"binomial\")\n",
    "\n",
    "fraude_logit_downsample\n"
   ]
  },
  {
   "cell_type": "markdown",
   "id": "ccbe7e9a",
   "metadata": {},
   "source": [
    "### SMOTE"
   ]
  },
  {
   "cell_type": "markdown",
   "id": "a9c75ce1",
   "metadata": {},
   "source": [
    "<div >\n",
    "<img src = \"smote.png\" />\n",
    "</div>"
   ]
  },
  {
   "cell_type": "code",
   "execution_count": 45,
   "id": "9b821159",
   "metadata": {
    "vscode": {
     "languageId": "r"
    }
   },
   "outputs": [
    {
     "data": {
      "text/html": [
       "<table class=\"dataframe\">\n",
       "<caption>A tibble: 6 × 29</caption>\n",
       "<thead>\n",
       "\t<tr><th scope=col>V1</th><th scope=col>V2</th><th scope=col>V3</th><th scope=col>V4</th><th scope=col>V5</th><th scope=col>V6</th><th scope=col>V7</th><th scope=col>V8</th><th scope=col>V9</th><th scope=col>V10</th><th scope=col>⋯</th><th scope=col>V20</th><th scope=col>V21</th><th scope=col>V22</th><th scope=col>V23</th><th scope=col>V24</th><th scope=col>V25</th><th scope=col>V26</th><th scope=col>V27</th><th scope=col>V28</th><th scope=col>Log_Amount</th></tr>\n",
       "\t<tr><th scope=col>&lt;dbl&gt;</th><th scope=col>&lt;dbl&gt;</th><th scope=col>&lt;dbl&gt;</th><th scope=col>&lt;dbl&gt;</th><th scope=col>&lt;dbl&gt;</th><th scope=col>&lt;dbl&gt;</th><th scope=col>&lt;dbl&gt;</th><th scope=col>&lt;dbl&gt;</th><th scope=col>&lt;dbl&gt;</th><th scope=col>&lt;dbl&gt;</th><th scope=col>⋯</th><th scope=col>&lt;dbl&gt;</th><th scope=col>&lt;dbl&gt;</th><th scope=col>&lt;dbl&gt;</th><th scope=col>&lt;dbl&gt;</th><th scope=col>&lt;dbl&gt;</th><th scope=col>&lt;dbl&gt;</th><th scope=col>&lt;dbl&gt;</th><th scope=col>&lt;dbl&gt;</th><th scope=col>&lt;dbl&gt;</th><th scope=col>&lt;dbl&gt;</th></tr>\n",
       "</thead>\n",
       "<tbody>\n",
       "\t<tr><td>-1.3598071</td><td>-0.07278117</td><td>2.53634674</td><td> 1.3781552</td><td>-0.33832077</td><td> 0.46238778</td><td> 0.239598554</td><td> 0.09869790</td><td> 0.3637870</td><td> 0.09079417</td><td>⋯</td><td> 0.25141210</td><td>-0.01830678</td><td> 0.277837576</td><td>-0.11047391</td><td> 0.06692807</td><td> 0.1285394</td><td>-0.1891148</td><td> 0.133558377</td><td>-0.021053053</td><td>5.0081054</td></tr>\n",
       "\t<tr><td> 1.1918571</td><td> 0.26615071</td><td>0.16648011</td><td> 0.4481541</td><td> 0.06001765</td><td>-0.08236081</td><td>-0.078802983</td><td> 0.08510165</td><td>-0.2554251</td><td>-0.16697441</td><td>⋯</td><td>-0.06908314</td><td>-0.22577525</td><td>-0.638671953</td><td> 0.10128802</td><td>-0.33984648</td><td> 0.1671704</td><td> 0.1258945</td><td>-0.008983099</td><td> 0.014724169</td><td>0.9899129</td></tr>\n",
       "\t<tr><td>-1.3583541</td><td>-1.34016307</td><td>1.77320934</td><td> 0.3797796</td><td>-0.50319813</td><td> 1.80049938</td><td> 0.791460956</td><td> 0.24767579</td><td>-1.5146543</td><td> 0.20764287</td><td>⋯</td><td> 0.52497973</td><td> 0.24799815</td><td> 0.771679402</td><td> 0.90941226</td><td>-0.68928096</td><td>-0.3276418</td><td>-0.1390966</td><td>-0.055352794</td><td>-0.059751841</td><td>5.9366413</td></tr>\n",
       "\t<tr><td>-0.9662717</td><td>-0.18522601</td><td>1.79299334</td><td>-0.8632913</td><td>-0.01030888</td><td> 1.24720317</td><td> 0.237608940</td><td> 0.37743587</td><td>-1.3870241</td><td>-0.05495192</td><td>⋯</td><td>-0.20803778</td><td>-0.10830045</td><td> 0.005273597</td><td>-0.19032052</td><td>-1.17557533</td><td> 0.6473760</td><td>-0.2219288</td><td> 0.062722849</td><td> 0.061457629</td><td>4.8162493</td></tr>\n",
       "\t<tr><td> 1.2296576</td><td> 0.14100351</td><td>0.04537077</td><td> 1.2026127</td><td> 0.19188099</td><td> 0.27270812</td><td>-0.005159003</td><td> 0.08121294</td><td> 0.4649600</td><td>-0.09925432</td><td>⋯</td><td>-0.21963255</td><td>-0.16771627</td><td>-0.270709726</td><td>-0.15410379</td><td>-0.78005542</td><td> 0.7501369</td><td>-0.2572368</td><td> 0.034507430</td><td> 0.005167769</td><td>1.6076363</td></tr>\n",
       "\t<tr><td>-0.6442694</td><td> 1.41796355</td><td>1.07438038</td><td>-0.4921990</td><td> 0.94893409</td><td> 0.42811846</td><td> 1.120631358</td><td>-3.80786424</td><td> 0.6153747</td><td> 1.24937618</td><td>⋯</td><td>-0.15674185</td><td> 1.94346534</td><td>-1.015454710</td><td> 0.05750353</td><td>-0.64970901</td><td>-0.4152666</td><td>-0.0516343</td><td>-1.206921081</td><td>-1.085339188</td><td>3.7087066</td></tr>\n",
       "</tbody>\n",
       "</table>\n"
      ],
      "text/latex": [
       "A tibble: 6 × 29\n",
       "\\begin{tabular}{lllllllllllllllllllll}\n",
       " V1 & V2 & V3 & V4 & V5 & V6 & V7 & V8 & V9 & V10 & ⋯ & V20 & V21 & V22 & V23 & V24 & V25 & V26 & V27 & V28 & Log\\_Amount\\\\\n",
       " <dbl> & <dbl> & <dbl> & <dbl> & <dbl> & <dbl> & <dbl> & <dbl> & <dbl> & <dbl> & ⋯ & <dbl> & <dbl> & <dbl> & <dbl> & <dbl> & <dbl> & <dbl> & <dbl> & <dbl> & <dbl>\\\\\n",
       "\\hline\n",
       "\t -1.3598071 & -0.07278117 & 2.53634674 &  1.3781552 & -0.33832077 &  0.46238778 &  0.239598554 &  0.09869790 &  0.3637870 &  0.09079417 & ⋯ &  0.25141210 & -0.01830678 &  0.277837576 & -0.11047391 &  0.06692807 &  0.1285394 & -0.1891148 &  0.133558377 & -0.021053053 & 5.0081054\\\\\n",
       "\t  1.1918571 &  0.26615071 & 0.16648011 &  0.4481541 &  0.06001765 & -0.08236081 & -0.078802983 &  0.08510165 & -0.2554251 & -0.16697441 & ⋯ & -0.06908314 & -0.22577525 & -0.638671953 &  0.10128802 & -0.33984648 &  0.1671704 &  0.1258945 & -0.008983099 &  0.014724169 & 0.9899129\\\\\n",
       "\t -1.3583541 & -1.34016307 & 1.77320934 &  0.3797796 & -0.50319813 &  1.80049938 &  0.791460956 &  0.24767579 & -1.5146543 &  0.20764287 & ⋯ &  0.52497973 &  0.24799815 &  0.771679402 &  0.90941226 & -0.68928096 & -0.3276418 & -0.1390966 & -0.055352794 & -0.059751841 & 5.9366413\\\\\n",
       "\t -0.9662717 & -0.18522601 & 1.79299334 & -0.8632913 & -0.01030888 &  1.24720317 &  0.237608940 &  0.37743587 & -1.3870241 & -0.05495192 & ⋯ & -0.20803778 & -0.10830045 &  0.005273597 & -0.19032052 & -1.17557533 &  0.6473760 & -0.2219288 &  0.062722849 &  0.061457629 & 4.8162493\\\\\n",
       "\t  1.2296576 &  0.14100351 & 0.04537077 &  1.2026127 &  0.19188099 &  0.27270812 & -0.005159003 &  0.08121294 &  0.4649600 & -0.09925432 & ⋯ & -0.21963255 & -0.16771627 & -0.270709726 & -0.15410379 & -0.78005542 &  0.7501369 & -0.2572368 &  0.034507430 &  0.005167769 & 1.6076363\\\\\n",
       "\t -0.6442694 &  1.41796355 & 1.07438038 & -0.4921990 &  0.94893409 &  0.42811846 &  1.120631358 & -3.80786424 &  0.6153747 &  1.24937618 & ⋯ & -0.15674185 &  1.94346534 & -1.015454710 &  0.05750353 & -0.64970901 & -0.4152666 & -0.0516343 & -1.206921081 & -1.085339188 & 3.7087066\\\\\n",
       "\\end{tabular}\n"
      ],
      "text/markdown": [
       "\n",
       "A tibble: 6 × 29\n",
       "\n",
       "| V1 &lt;dbl&gt; | V2 &lt;dbl&gt; | V3 &lt;dbl&gt; | V4 &lt;dbl&gt; | V5 &lt;dbl&gt; | V6 &lt;dbl&gt; | V7 &lt;dbl&gt; | V8 &lt;dbl&gt; | V9 &lt;dbl&gt; | V10 &lt;dbl&gt; | ⋯ ⋯ | V20 &lt;dbl&gt; | V21 &lt;dbl&gt; | V22 &lt;dbl&gt; | V23 &lt;dbl&gt; | V24 &lt;dbl&gt; | V25 &lt;dbl&gt; | V26 &lt;dbl&gt; | V27 &lt;dbl&gt; | V28 &lt;dbl&gt; | Log_Amount &lt;dbl&gt; |\n",
       "|---|---|---|---|---|---|---|---|---|---|---|---|---|---|---|---|---|---|---|---|---|\n",
       "| -1.3598071 | -0.07278117 | 2.53634674 |  1.3781552 | -0.33832077 |  0.46238778 |  0.239598554 |  0.09869790 |  0.3637870 |  0.09079417 | ⋯ |  0.25141210 | -0.01830678 |  0.277837576 | -0.11047391 |  0.06692807 |  0.1285394 | -0.1891148 |  0.133558377 | -0.021053053 | 5.0081054 |\n",
       "|  1.1918571 |  0.26615071 | 0.16648011 |  0.4481541 |  0.06001765 | -0.08236081 | -0.078802983 |  0.08510165 | -0.2554251 | -0.16697441 | ⋯ | -0.06908314 | -0.22577525 | -0.638671953 |  0.10128802 | -0.33984648 |  0.1671704 |  0.1258945 | -0.008983099 |  0.014724169 | 0.9899129 |\n",
       "| -1.3583541 | -1.34016307 | 1.77320934 |  0.3797796 | -0.50319813 |  1.80049938 |  0.791460956 |  0.24767579 | -1.5146543 |  0.20764287 | ⋯ |  0.52497973 |  0.24799815 |  0.771679402 |  0.90941226 | -0.68928096 | -0.3276418 | -0.1390966 | -0.055352794 | -0.059751841 | 5.9366413 |\n",
       "| -0.9662717 | -0.18522601 | 1.79299334 | -0.8632913 | -0.01030888 |  1.24720317 |  0.237608940 |  0.37743587 | -1.3870241 | -0.05495192 | ⋯ | -0.20803778 | -0.10830045 |  0.005273597 | -0.19032052 | -1.17557533 |  0.6473760 | -0.2219288 |  0.062722849 |  0.061457629 | 4.8162493 |\n",
       "|  1.2296576 |  0.14100351 | 0.04537077 |  1.2026127 |  0.19188099 |  0.27270812 | -0.005159003 |  0.08121294 |  0.4649600 | -0.09925432 | ⋯ | -0.21963255 | -0.16771627 | -0.270709726 | -0.15410379 | -0.78005542 |  0.7501369 | -0.2572368 |  0.034507430 |  0.005167769 | 1.6076363 |\n",
       "| -0.6442694 |  1.41796355 | 1.07438038 | -0.4921990 |  0.94893409 |  0.42811846 |  1.120631358 | -3.80786424 |  0.6153747 |  1.24937618 | ⋯ | -0.15674185 |  1.94346534 | -1.015454710 |  0.05750353 | -0.64970901 | -0.4152666 | -0.0516343 | -1.206921081 | -1.085339188 | 3.7087066 |\n",
       "\n"
      ],
      "text/plain": [
       "  V1         V2          V3         V4         V5          V6         \n",
       "1 -1.3598071 -0.07278117 2.53634674  1.3781552 -0.33832077  0.46238778\n",
       "2  1.1918571  0.26615071 0.16648011  0.4481541  0.06001765 -0.08236081\n",
       "3 -1.3583541 -1.34016307 1.77320934  0.3797796 -0.50319813  1.80049938\n",
       "4 -0.9662717 -0.18522601 1.79299334 -0.8632913 -0.01030888  1.24720317\n",
       "5  1.2296576  0.14100351 0.04537077  1.2026127  0.19188099  0.27270812\n",
       "6 -0.6442694  1.41796355 1.07438038 -0.4921990  0.94893409  0.42811846\n",
       "  V7           V8          V9         V10         ⋯ V20         V21        \n",
       "1  0.239598554  0.09869790  0.3637870  0.09079417 ⋯  0.25141210 -0.01830678\n",
       "2 -0.078802983  0.08510165 -0.2554251 -0.16697441 ⋯ -0.06908314 -0.22577525\n",
       "3  0.791460956  0.24767579 -1.5146543  0.20764287 ⋯  0.52497973  0.24799815\n",
       "4  0.237608940  0.37743587 -1.3870241 -0.05495192 ⋯ -0.20803778 -0.10830045\n",
       "5 -0.005159003  0.08121294  0.4649600 -0.09925432 ⋯ -0.21963255 -0.16771627\n",
       "6  1.120631358 -3.80786424  0.6153747  1.24937618 ⋯ -0.15674185  1.94346534\n",
       "  V22          V23         V24         V25        V26        V27         \n",
       "1  0.277837576 -0.11047391  0.06692807  0.1285394 -0.1891148  0.133558377\n",
       "2 -0.638671953  0.10128802 -0.33984648  0.1671704  0.1258945 -0.008983099\n",
       "3  0.771679402  0.90941226 -0.68928096 -0.3276418 -0.1390966 -0.055352794\n",
       "4  0.005273597 -0.19032052 -1.17557533  0.6473760 -0.2219288  0.062722849\n",
       "5 -0.270709726 -0.15410379 -0.78005542  0.7501369 -0.2572368  0.034507430\n",
       "6 -1.015454710  0.05750353 -0.64970901 -0.4152666 -0.0516343 -1.206921081\n",
       "  V28          Log_Amount\n",
       "1 -0.021053053 5.0081054 \n",
       "2  0.014724169 0.9899129 \n",
       "3 -0.059751841 5.9366413 \n",
       "4  0.061457629 4.8162493 \n",
       "5  0.005167769 1.6076363 \n",
       "6 -1.085339188 3.7087066 "
      ]
     },
     "metadata": {},
     "output_type": "display_data"
    }
   ],
   "source": [
    "p_load(\"smotefamily\")\n",
    "\n",
    "predictors<-colnames(train  %>% select(-Fraude))\n",
    "head( train[predictors])\n"
   ]
  },
  {
   "cell_type": "code",
   "execution_count": 46,
   "id": "c8307d9c",
   "metadata": {
    "vscode": {
     "languageId": "r"
    }
   },
   "outputs": [],
   "source": [
    "smote_output = SMOTE(X = train[predictors],\n",
    "                     target = train$Fraude)\n",
    "smote_data = smote_output$data\n"
   ]
  },
  {
   "cell_type": "code",
   "execution_count": 48,
   "id": "5ab45239",
   "metadata": {},
   "outputs": [
    {
     "data": {
      "text/plain": [
       "\n",
       "Negativo Positivo \n",
       "  227452      394 "
      ]
     },
     "metadata": {},
     "output_type": "display_data"
    },
    {
     "data": {
      "text/plain": [
       "\n",
       "Negativo Positivo \n",
       "  227452   227338 "
      ]
     },
     "metadata": {},
     "output_type": "display_data"
    }
   ],
   "source": [
    "table(train$Fraude)\n",
    "table(smote_data$class)"
   ]
  },
  {
   "cell_type": "code",
   "execution_count": 49,
   "id": "8b264ebe",
   "metadata": {
    "vscode": {
     "languageId": "r"
    }
   },
   "outputs": [
    {
     "name": "stderr",
     "output_type": "stream",
     "text": [
      "Warning message:\n",
      "“glm.fit: fitted probabilities numerically 0 or 1 occurred”\n",
      "Warning message:\n",
      "“glm.fit: fitted probabilities numerically 0 or 1 occurred”\n",
      "Warning message:\n",
      "“glm.fit: fitted probabilities numerically 0 or 1 occurred”\n",
      "Warning message:\n",
      "“glm.fit: fitted probabilities numerically 0 or 1 occurred”\n",
      "Warning message:\n",
      "“glm.fit: fitted probabilities numerically 0 or 1 occurred”\n",
      "Warning message:\n",
      "“glm.fit: fitted probabilities numerically 0 or 1 occurred”\n"
     ]
    },
    {
     "data": {
      "text/plain": [
       "Generalized Linear Model \n",
       "\n",
       "454790 samples\n",
       "    29 predictor\n",
       "     2 classes: 'Negativo', 'Positivo' \n",
       "\n",
       "No pre-processing\n",
       "Resampling: Cross-Validated (5 fold) \n",
       "Summary of sample sizes: 363831, 363833, 363831, 363832, 363833 \n",
       "Resampling results:\n",
       "\n",
       "  Accuracy   Kappa   \n",
       "  0.9461378  0.892274\n"
      ]
     },
     "metadata": {},
     "output_type": "display_data"
    }
   ],
   "source": [
    "set.seed(1410)\n",
    "\n",
    "fraude_logit_smote <- train(class~., \n",
    "                       data = smote_data, \n",
    "                       method = \"glm\",\n",
    "                       trControl = ctrl,\n",
    "                       family = \"binomial\")\n",
    "\n",
    "fraude_logit_smote\n",
    "\n"
   ]
  },
  {
   "cell_type": "markdown",
   "id": "3168aea9",
   "metadata": {},
   "source": [
    "ROSE uses smoothed bootstrapping to draw artificial samples from the feature space neighbourhood around the minority class."
   ]
  },
  {
   "cell_type": "code",
   "execution_count": null,
   "id": "d0bf9211",
   "metadata": {},
   "outputs": [],
   "source": [
    "# p_load(ROSE)\n",
    "\n",
    "# set.seed(9560)\n",
    "# rose_train <- ROSE(Frude ~ ., data  = training)$data                         \n",
    "# table(rose_train$Class) "
   ]
  },
  {
   "cell_type": "code",
   "execution_count": null,
   "id": "3134fc42",
   "metadata": {},
   "outputs": [],
   "source": [
    "# set.seed(1410)\n",
    "\n",
    "# fraude_logit_rose <- train(class~., \n",
    "#                        data = rose_train, \n",
    "#                        method = \"glm\",\n",
    "#                        trControl = ctrl,\n",
    "#                        family = \"binomial\")\n",
    "\n",
    "# fraude_logit_rose\n"
   ]
  },
  {
   "cell_type": "markdown",
   "id": "34b09d8c",
   "metadata": {},
   "source": [
    "# Test set Performance\n",
    "\n"
   ]
  },
  {
   "cell_type": "code",
   "execution_count": 50,
   "id": "dbb51c0a",
   "metadata": {
    "vscode": {
     "languageId": "r"
    }
   },
   "outputs": [],
   "source": [
    "test<- test  %>% mutate(fraude_hat_smote_orig=predict(fraude_logit_smote,newdata = test,\n",
    "                           type = \"raw\"))"
   ]
  },
  {
   "cell_type": "code",
   "execution_count": 51,
   "id": "1124d5b7",
   "metadata": {},
   "outputs": [
    {
     "data": {
      "text/plain": [
       "Confusion Matrix and Statistics\n",
       "\n",
       "          Reference\n",
       "Prediction Negativo Positivo\n",
       "  Negativo    56849       33\n",
       "  Positivo       14       65\n",
       "                                          \n",
       "               Accuracy : 0.9992          \n",
       "                 95% CI : (0.9989, 0.9994)\n",
       "    No Information Rate : 0.9983          \n",
       "    P-Value [Acc > NIR] : 7.593e-09       \n",
       "                                          \n",
       "                  Kappa : 0.7341          \n",
       "                                          \n",
       " Mcnemar's Test P-Value : 0.00865         \n",
       "                                          \n",
       "              Precision : 0.822785        \n",
       "                 Recall : 0.663265        \n",
       "                     F1 : 0.734463        \n",
       "             Prevalence : 0.001720        \n",
       "         Detection Rate : 0.001141        \n",
       "   Detection Prevalence : 0.001387        \n",
       "      Balanced Accuracy : 0.831510        \n",
       "                                          \n",
       "       'Positive' Class : Positivo        \n",
       "                                          "
      ]
     },
     "metadata": {},
     "output_type": "display_data"
    }
   ],
   "source": [
    "confusionMatrix(data = test$fraude_hat_logit_orig, \n",
    "                reference = test$Fraude, positive=\"Positivo\", mode = \"prec_recall\")"
   ]
  },
  {
   "cell_type": "code",
   "execution_count": 52,
   "id": "cdfabba2",
   "metadata": {},
   "outputs": [
    {
     "data": {
      "text/plain": [
       "Confusion Matrix and Statistics\n",
       "\n",
       "          Reference\n",
       "Prediction Negativo Positivo\n",
       "  Negativo    55384        7\n",
       "  Positivo     1479       91\n",
       "                                          \n",
       "               Accuracy : 0.9739          \n",
       "                 95% CI : (0.9726, 0.9752)\n",
       "    No Information Rate : 0.9983          \n",
       "    P-Value [Acc > NIR] : 1               \n",
       "                                          \n",
       "                  Kappa : 0.1062          \n",
       "                                          \n",
       " Mcnemar's Test P-Value : <2e-16          \n",
       "                                          \n",
       "              Precision : 0.057962        \n",
       "                 Recall : 0.928571        \n",
       "                     F1 : 0.109113        \n",
       "             Prevalence : 0.001720        \n",
       "         Detection Rate : 0.001598        \n",
       "   Detection Prevalence : 0.027563        \n",
       "      Balanced Accuracy : 0.951281        \n",
       "                                          \n",
       "       'Positive' Class : Positivo        \n",
       "                                          "
      ]
     },
     "metadata": {},
     "output_type": "display_data"
    }
   ],
   "source": [
    "confusionMatrix(data = test$fraude_hat_smote_orig, \n",
    "                reference = test$Fraude, positive=\"Positivo\", mode = \"prec_recall\")"
   ]
  }
 ],
 "metadata": {
  "kernelspec": {
   "display_name": "R",
   "language": "R",
   "name": "ir"
  },
  "language_info": {
   "codemirror_mode": "r",
   "file_extension": ".r",
   "mimetype": "text/x-r-source",
   "name": "R",
   "pygments_lexer": "r",
   "version": "4.3.2"
  },
  "toc": {
   "base_numbering": 1,
   "nav_menu": {},
   "number_sections": true,
   "sideBar": true,
   "skip_h1_title": false,
   "title_cell": "Table of Contents",
   "title_sidebar": "Contents",
   "toc_cell": false,
   "toc_position": {},
   "toc_section_display": true,
   "toc_window_display": false
  }
 },
 "nbformat": 4,
 "nbformat_minor": 5
}
