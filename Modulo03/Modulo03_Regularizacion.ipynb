{
 "cells": [
  {
   "cell_type": "markdown",
   "id": "a952ad54-2218-4382-b2eb-d401d349f764",
   "metadata": {},
   "source": [
    "<div >\n",
    "<img src = \"../banner.jpg\" />\n",
    "</div>"
   ]
  },
  {
   "cell_type": "markdown",
   "id": "4dd27894",
   "metadata": {},
   "source": [
    "<a target=\"_blank\" href=\"https://colab.research.google.com/github/ignaciomsarmiento/BDML_202401/blob/main/Modulo03/Modulo03_Regularizacion.ipynb\">\n",
    "  <img src=\"https://colab.research.google.com/assets/colab-badge.svg\" alt=\"Open In Colab\"/>\n",
    "</a>\n"
   ]
  },
  {
   "cell_type": "markdown",
   "id": "f7e57de4",
   "metadata": {},
   "source": [
    "\n",
    "# Regularization"
   ]
  },
  {
   "cell_type": "markdown",
   "id": "cda5e4e1",
   "metadata": {},
   "source": [
    "## Ridge "
   ]
  },
  {
   "cell_type": "markdown",
   "id": "14e93ba3",
   "metadata": {},
   "source": [
    "To apply a regularized model we can use the `glmnet` function of the homonymous package. The function contains an `alpha` parameter that tells `glmnet` to perform a ridge (`alpha` = 0), lasso (`alpha` = 1), or elastic net (0 < `alpha` < 1) model. \n",
    "\n",
    "By default, `glmnet` will do two things that you should know:\n",
    "\n",
    "1. Since regularized methods apply a penalty to the coefficients, we need to ensure our coefficients are on a common scale. If not, then predictors with naturally larger values  will be penalized more than predictors with naturally smaller values. By default, `glmnet` automatically standardizes your features. If you standardize your predictors prior to glmnet you can turn this argument off with `standardize = FALSE`.\n",
    "\n",
    "2. The regularization path is computed at a grid of values (on the log scale) for the regularization parameter $\\lambda$. The algorithm is extremely fast!"
   ]
  },
  {
   "cell_type": "code",
   "execution_count": null,
   "id": "2fc078fa",
   "metadata": {},
   "outputs": [],
   "source": [
    "#install.packages(\"pacman\") for #google colab"
   ]
  },
  {
   "cell_type": "code",
   "execution_count": null,
   "id": "5b8b8828",
   "metadata": {},
   "outputs": [],
   "source": [
    "require(\"pacman\")\n",
    "p_load(\"tidyverse\",\"glmnet\")\n"
   ]
  },
  {
   "cell_type": "code",
   "execution_count": null,
   "id": "a75bf79e",
   "metadata": {},
   "outputs": [],
   "source": [
    "dta <-read.csv(\"https://raw.githubusercontent.com/ignaciomsarmiento/datasets/main/regularization_train.csv\")"
   ]
  },
  {
   "cell_type": "code",
   "execution_count": null,
   "id": "e810f355",
   "metadata": {},
   "outputs": [],
   "source": [
    "dim(dta)"
   ]
  },
  {
   "cell_type": "markdown",
   "id": "48194268",
   "metadata": {},
   "source": [
    "`glmnet` has some drawbacks, the main one is that we need to specify the arguments in terms of matrices and vector. `caret`, in contrast, streamlines the process of creating predictive models by providing a uniform interface for predictive models, which, among other things, allows for specifying formulas."
   ]
  },
  {
   "cell_type": "code",
   "execution_count": null,
   "id": "3b5e8269",
   "metadata": {},
   "outputs": [],
   "source": [
    "Xsmall<-as.matrix(dta[,2:7])\n",
    "Xsmall"
   ]
  },
  {
   "cell_type": "code",
   "execution_count": null,
   "id": "b8604828",
   "metadata": {},
   "outputs": [],
   "source": [
    "y<-dta[,1]"
   ]
  },
  {
   "cell_type": "code",
   "execution_count": null,
   "id": "5653e3f4",
   "metadata": {},
   "outputs": [],
   "source": [
    "ridge1 <- glmnet(\n",
    "  x = Xsmall,\n",
    "  y = y,\n",
    "  lambda=1,\n",
    "  alpha = 0 #ridge\n",
    ")"
   ]
  },
  {
   "cell_type": "code",
   "execution_count": null,
   "id": "742e14e0",
   "metadata": {},
   "outputs": [],
   "source": [
    "coef(ridge1)"
   ]
  },
  {
   "cell_type": "code",
   "execution_count": null,
   "id": "8570a163",
   "metadata": {},
   "outputs": [],
   "source": [
    "summary(lm(y~Xsmall))"
   ]
  },
  {
   "cell_type": "code",
   "execution_count": null,
   "id": "ef4bb1a1",
   "metadata": {},
   "outputs": [],
   "source": [
    "cor(Xsmall)"
   ]
  },
  {
   "cell_type": "markdown",
   "id": "def2e9d9",
   "metadata": {},
   "source": [
    "Let's see the regularization path, that shows how much the coefficients are penalized for different values of $\\lambda$. "
   ]
  },
  {
   "cell_type": "code",
   "execution_count": null,
   "id": "9de9ca8d",
   "metadata": {},
   "outputs": [],
   "source": [
    "ridge2 <- glmnet(\n",
    "  x = Xsmall,\n",
    "  y = y,\n",
    "  alpha = 0 #ridge\n",
    ")"
   ]
  },
  {
   "cell_type": "code",
   "execution_count": null,
   "id": "c7296953",
   "metadata": {},
   "outputs": [],
   "source": [
    "plot(ridge2, xvar = \"lambda\")"
   ]
  },
  {
   "cell_type": "code",
   "execution_count": null,
   "id": "19b6cf60",
   "metadata": {},
   "outputs": [],
   "source": [
    "lasso1 <- glmnet(\n",
    "  x = Xsmall,\n",
    "  y = y,\n",
    " lambda=0.01,\n",
    "  alpha = 1 #lasso\n",
    ")\n"
   ]
  },
  {
   "cell_type": "code",
   "execution_count": null,
   "id": "06baefa8",
   "metadata": {},
   "outputs": [],
   "source": [
    "coef(lasso1)"
   ]
  },
  {
   "cell_type": "code",
   "execution_count": null,
   "id": "6a04f2d4",
   "metadata": {},
   "outputs": [],
   "source": [
    "lasso2 <- glmnet(\n",
    "  x = Xsmall,\n",
    "  y = y,\n",
    "  alpha = 1 #lasso\n",
    ")\n",
    "\n",
    "plot(lasso2, xvar = \"lambda\")"
   ]
  },
  {
   "cell_type": "code",
   "execution_count": null,
   "id": "4bb567f1",
   "metadata": {},
   "outputs": [],
   "source": [
    "data.frame(cbind(lambda=log(lasso2$lambda),t(as.matrix(lasso2$beta))))  %>% arrange(lambda)"
   ]
  },
  {
   "cell_type": "markdown",
   "id": "921de2fa",
   "metadata": {},
   "source": [
    "# Predictive exercise with k>n"
   ]
  },
  {
   "cell_type": "markdown",
   "id": "16540a12",
   "metadata": {},
   "source": [
    "## Ridge"
   ]
  },
  {
   "cell_type": "code",
   "execution_count": null,
   "id": "7eac7789",
   "metadata": {},
   "outputs": [],
   "source": [
    "X<-as.matrix(dta[,-1])"
   ]
  },
  {
   "cell_type": "code",
   "execution_count": null,
   "id": "af08b08a",
   "metadata": {},
   "outputs": [],
   "source": [
    "dim(X)"
   ]
  },
  {
   "cell_type": "code",
   "execution_count": null,
   "id": "483b79e6",
   "metadata": {},
   "outputs": [],
   "source": [
    "cv_ridge <- cv.glmnet(\n",
    "  x = X,\n",
    "  y = y,\n",
    "  alpha = 0 #ridge\n",
    ")"
   ]
  },
  {
   "cell_type": "code",
   "execution_count": null,
   "id": "28f874e0",
   "metadata": {},
   "outputs": [],
   "source": [
    "cv_ridge"
   ]
  },
  {
   "cell_type": "code",
   "execution_count": null,
   "id": "b19cefd0",
   "metadata": {},
   "outputs": [],
   "source": [
    "plot(cv_ridge)"
   ]
  },
  {
   "cell_type": "code",
   "execution_count": null,
   "id": "a495a449",
   "metadata": {},
   "outputs": [],
   "source": [
    "log(cv_ridge$lambda.min)"
   ]
  },
  {
   "cell_type": "code",
   "execution_count": null,
   "id": "7aa1dbfc",
   "metadata": {},
   "outputs": [],
   "source": [
    "coef(cv_ridge, s = \"lambda.min\")"
   ]
  },
  {
   "cell_type": "markdown",
   "id": "c4821c9d",
   "metadata": {},
   "source": [
    "## Lasso"
   ]
  },
  {
   "cell_type": "code",
   "execution_count": null,
   "id": "55dca0d8",
   "metadata": {},
   "outputs": [],
   "source": [
    "cv_lasso <- cv.glmnet(\n",
    "  x = X,\n",
    "  y = y,\n",
    "  alpha = 1 #lasso\n",
    ")"
   ]
  },
  {
   "cell_type": "code",
   "execution_count": null,
   "id": "b2f1e778",
   "metadata": {
    "scrolled": false
   },
   "outputs": [],
   "source": [
    "coef(cv_lasso, s = \"lambda.min\")"
   ]
  },
  {
   "cell_type": "code",
   "execution_count": null,
   "id": "61783bfa",
   "metadata": {},
   "outputs": [],
   "source": [
    "plot(cv_lasso)"
   ]
  },
  {
   "cell_type": "markdown",
   "id": "6b9d772d",
   "metadata": {},
   "source": [
    "## Elastic Net"
   ]
  },
  {
   "cell_type": "code",
   "execution_count": null,
   "id": "8097177c",
   "metadata": {},
   "outputs": [],
   "source": [
    "cv_en <- cv.glmnet(\n",
    "  x = X,\n",
    "  y = y,\n",
    "  alpha = 0.75\n",
    ")"
   ]
  },
  {
   "cell_type": "code",
   "execution_count": null,
   "id": "37148de8",
   "metadata": {},
   "outputs": [],
   "source": [
    "plot(cv_en)"
   ]
  },
  {
   "cell_type": "markdown",
   "id": "59897636",
   "metadata": {},
   "source": [
    "## Out of sample performance"
   ]
  },
  {
   "cell_type": "code",
   "execution_count": null,
   "id": "f1629326",
   "metadata": {},
   "outputs": [],
   "source": [
    "dta_test<-read_csv(\"https://raw.githubusercontent.com/ignaciomsarmiento/datasets/main/regularization_test.csv\")"
   ]
  },
  {
   "cell_type": "code",
   "execution_count": null,
   "id": "beebcbc4",
   "metadata": {},
   "outputs": [],
   "source": [
    "Xtest<-as.matrix(dta_test[,-1])\n",
    "ytest<-dta_test$y"
   ]
  },
  {
   "cell_type": "code",
   "execution_count": null,
   "id": "c387ae4f",
   "metadata": {},
   "outputs": [],
   "source": [
    "yhat_ridge<-predict(cv_ridge, newx = Xtest, s = \"lambda.min\")"
   ]
  },
  {
   "cell_type": "code",
   "execution_count": null,
   "id": "c8ec3292",
   "metadata": {},
   "outputs": [],
   "source": [
    "MSE_ridge <- summary(lm((ytest-yhat_ridge)^2~1))$coef[1]\n",
    "MSE_ridge"
   ]
  },
  {
   "cell_type": "code",
   "execution_count": null,
   "id": "da37fd1f",
   "metadata": {},
   "outputs": [],
   "source": [
    "yhat_lasso<-predict(cv_lasso, newx = Xtest, s = \"lambda.min\")"
   ]
  },
  {
   "cell_type": "code",
   "execution_count": null,
   "id": "e5f4fbcb",
   "metadata": {},
   "outputs": [],
   "source": [
    "MSE_lasso<- summary(lm((ytest-yhat_lasso)^2~1))$coef[1]\n",
    "MSE_lasso"
   ]
  },
  {
   "cell_type": "code",
   "execution_count": null,
   "id": "e1b01183",
   "metadata": {},
   "outputs": [],
   "source": [
    "yhat_en<-predict(cv_en, newx = Xtest, s = \"lambda.min\")"
   ]
  },
  {
   "cell_type": "code",
   "execution_count": null,
   "id": "2495adb1",
   "metadata": {},
   "outputs": [],
   "source": [
    "MSE_en<- summary(lm((ytest-yhat_en)^2~1))$coef[1]\n",
    "MSE_en"
   ]
  },
  {
   "cell_type": "code",
   "execution_count": null,
   "id": "a2af421b",
   "metadata": {},
   "outputs": [],
   "source": [
    "yhat_en1se<-predict(cv_en, newx = Xtest, s = \"lambda.1se\")\n",
    "MSE_en1se<- summary(lm((ytest-yhat_en1se)^2~1))$coef[1]\n",
    "MSE_en1se"
   ]
  },
  {
   "cell_type": "markdown",
   "id": "9188fb29",
   "metadata": {},
   "source": [
    "### Caret for tunning alpha"
   ]
  },
  {
   "cell_type": "code",
   "execution_count": null,
   "id": "c9a8533b",
   "metadata": {},
   "outputs": [],
   "source": [
    "p_load(\"caret\")"
   ]
  },
  {
   "cell_type": "code",
   "execution_count": null,
   "id": "c9c1c9fc",
   "metadata": {},
   "outputs": [],
   "source": [
    "set.seed(42)\n",
    "\n",
    "tc_10 <- trainControl(method = \"cv\", number = 10)\n",
    "\n",
    "en_caret <- train(\n",
    "  x=X,\n",
    "  y=y,\n",
    "  method = \"glmnet\",\n",
    "  trControl = tc_10,\n",
    "  tuneLength=100\n",
    ")"
   ]
  },
  {
   "cell_type": "code",
   "execution_count": null,
   "id": "05f1cc3d",
   "metadata": {
    "scrolled": true
   },
   "outputs": [],
   "source": [
    "en_caret"
   ]
  },
  {
   "cell_type": "code",
   "execution_count": null,
   "id": "6cfd83f2",
   "metadata": {},
   "outputs": [],
   "source": [
    "yhat_en_caret<-predict(en_caret, newdata = Xtest)"
   ]
  },
  {
   "cell_type": "code",
   "execution_count": null,
   "id": "6e1709ef",
   "metadata": {},
   "outputs": [],
   "source": [
    "MSE_en_caret<- summary(lm((ytest-yhat_en_caret)^2~1))$coef[1]\n",
    "MSE_en_caret"
   ]
  },
  {
   "cell_type": "code",
   "execution_count": null,
   "id": "5190e825",
   "metadata": {},
   "outputs": [],
   "source": [
    "MSE_lasso"
   ]
  },
  {
   "cell_type": "code",
   "execution_count": null,
   "id": "cdbfc6d4",
   "metadata": {},
   "outputs": [],
   "source": []
  }
 ],
 "metadata": {
  "jupytext": {
   "formats": "ipynb,Rmd"
  },
  "kernelspec": {
   "display_name": "R",
   "language": "R",
   "name": "ir"
  },
  "language_info": {
   "codemirror_mode": "r",
   "file_extension": ".r",
   "mimetype": "text/x-r-source",
   "name": "R",
   "pygments_lexer": "r",
   "version": "4.3.2"
  },
  "toc": {
   "base_numbering": 1,
   "nav_menu": {},
   "number_sections": true,
   "sideBar": true,
   "skip_h1_title": false,
   "title_cell": "Table of Contents",
   "title_sidebar": "Contents",
   "toc_cell": false,
   "toc_position": {},
   "toc_section_display": true,
   "toc_window_display": false
  }
 },
 "nbformat": 4,
 "nbformat_minor": 5
}
