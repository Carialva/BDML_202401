{
 "cells": [
  {
   "cell_type": "markdown",
   "id": "a952ad54-2218-4382-b2eb-d401d349f764",
   "metadata": {},
   "source": [
    "<div >\n",
    "<img src = \"../banner.jpg\" />\n",
    "</div>"
   ]
  },
  {
   "cell_type": "markdown",
   "id": "8795d345",
   "metadata": {},
   "source": [
    "<a target=\"_blank\" href=\"https://colab.research.google.com/github/ignaciomsarmiento/BDML_202302/blob/main/Lecture06/Notebook_SS06_arboles_bosques.ipynb\">\n",
    "  <img src=\"https://colab.research.google.com/assets/colab-badge.svg\" alt=\"Open In Colab\"/>\n",
    "</a>\n"
   ]
  },
  {
   "cell_type": "markdown",
   "id": "f7e57de4",
   "metadata": {},
   "source": [
    "# Tree-Based Methods"
   ]
  },
  {
   "cell_type": "markdown",
   "id": "303a3dcd",
   "metadata": {},
   "source": [
    "## Predicting House Prices\n",
    "\n",
    "\n",
    "$$\n",
    "Precio=f(structural\\,attributes,location,...)\n",
    "$$\n",
    "\n"
   ]
  },
  {
   "cell_type": "markdown",
   "id": "b9183a2e",
   "metadata": {},
   "source": [
    "## CARTs"
   ]
  },
  {
   "cell_type": "markdown",
   "id": "2fdab5a6",
   "metadata": {},
   "source": [
    "Let's load the packages:"
   ]
  },
  {
   "cell_type": "code",
   "execution_count": null,
   "id": "dce4bb18",
   "metadata": {},
   "outputs": [],
   "source": [
    "# install.packages(\"pacman\") #run this line if you use Google Colab"
   ]
  },
  {
   "cell_type": "code",
   "execution_count": null,
   "id": "3e94ec2b-ab94-4ec8-8512-e370d2f22a56",
   "metadata": {
    "tags": [
     "remove_cell"
    ]
   },
   "outputs": [],
   "source": [
    "#packages\n",
    "require(\"pacman\")\n",
    "p_load(\"tidyverse\",\"ggplot2\")"
   ]
  },
  {
   "cell_type": "markdown",
   "id": "22c8269f",
   "metadata": {},
   "source": [
    "There are multiple packages to estimate CARTs, I'm going to use `rpart`"
   ]
  },
  {
   "cell_type": "code",
   "execution_count": null,
   "id": "69588256",
   "metadata": {},
   "outputs": [],
   "source": [
    "p_load(\"rpart\")"
   ]
  },
  {
   "cell_type": "markdown",
   "id": "5d6b3e2f",
   "metadata": {},
   "source": [
    "### Toy example"
   ]
  },
  {
   "cell_type": "code",
   "execution_count": null,
   "id": "41492fd2",
   "metadata": {},
   "outputs": [],
   "source": [
    "db<-read.csv('https://raw.githubusercontent.com/ignaciomsarmiento/datasets/main/toy_houses.csv')"
   ]
  },
  {
   "cell_type": "code",
   "execution_count": null,
   "id": "21942630",
   "metadata": {},
   "outputs": [],
   "source": [
    "dim(db)"
   ]
  },
  {
   "cell_type": "code",
   "execution_count": null,
   "id": "efd33e96",
   "metadata": {},
   "outputs": [],
   "source": [
    "head(db)"
   ]
  },
  {
   "cell_type": "code",
   "execution_count": null,
   "id": "6ea12722",
   "metadata": {},
   "outputs": [],
   "source": [
    "summary(db)"
   ]
  },
  {
   "cell_type": "code",
   "execution_count": null,
   "id": "bdf4ce56",
   "metadata": {},
   "outputs": [],
   "source": [
    "ggplot(db) +\n",
    "  geom_point(aes(x=habitaciones,y=DCBD),position=position_jitter(width = .05)) +\n",
    "  scale_x_continuous(breaks=seq(0,8,1)) +\n",
    "  theme_classic() +\n",
    "  xlab(\"Habitaciones\") +\n",
    "  ylab(\"Distancia al Centro\") +\n",
    "  theme(legend.position =  \"none\",\n",
    "      text=element_text(size=20))"
   ]
  },
  {
   "cell_type": "markdown",
   "id": "09553e79",
   "metadata": {},
   "source": [
    "### Algorithm\n",
    "\n",
    "\n",
    "-  Datos: $y_{n\\times 1}$  y $X_{n\\times k}$ \n",
    "\n",
    "-  Definiciones\n",
    "\n",
    "      -  *j* es la variable que parte el espacio \n",
    "      - *s* es el punto de partición\n",
    "\n",
    "\n",
    "-  Definimos los siguientes semiplanos\n",
    "\n",
    "\\begin{align}\n",
    "R_1(j,s)=\\{X|X_j\\leq s\\} \\,\\,\\, \\& \\,\\,\\, R_2(j,s)=\\{X|X_j > s\\}\n",
    "\\end{align}\n",
    "\n",
    "-  *El problema*: buscar la variable de partición $X_j$ y el punto $s$ de forma tal que \n",
    "\n",
    "\n",
    "\\begin{align}\n",
    "\\underset{j,s}{min} \\left[ \\underset{y_{R_1}}{min}\\sum_{x_i\\in R_1(j,s)}(y-y_{R_1})^2+ \\underset{y_{R_2}}{min}\\sum_{x_i\\in R_2(j,s)}(y-y_{R_2})^2\\right]\n",
    "\\end{align}\n",
    "\n"
   ]
  },
  {
   "cell_type": "markdown",
   "id": "8277129d",
   "metadata": {},
   "source": [
    "#### Algorithm by hand (\"artesanal\")\n",
    "\n",
    "1. Iniciemos por DBCD"
   ]
  },
  {
   "cell_type": "code",
   "execution_count": null,
   "id": "5309b10e",
   "metadata": {},
   "outputs": [],
   "source": [
    "MSE_dbcd<-NA\n",
    "\n",
    "j<-1\n",
    "for(i in seq(1.25,1.75,0.25)){\n",
    "    #Region 1\n",
    "  R1<- db %>% filter(DCBD<=i)\n",
    "  R1<- R1 %>% mutate(yR1=mean(price))\n",
    "  MSEr1<- mean((R1$price-R1$yR1)^2)\n",
    " #Region 2\n",
    "  R2<- db %>% filter(DCBD>i)\n",
    "  R2<- R2 %>% mutate(yR2=mean(price))\n",
    "  MSEr2<- mean((R2$price-R2$yR2)^2)\n",
    "  \n",
    "  MSE_dbcd[j]<-MSEr1+MSEr2\n",
    "  j<-j+1\n",
    "}\n",
    "\n",
    "MSE_dbcd"
   ]
  },
  {
   "cell_type": "markdown",
   "id": "f109b93d",
   "metadata": {},
   "source": [
    "2. Luego por Habitaciones"
   ]
  },
  {
   "cell_type": "code",
   "execution_count": null,
   "id": "350493dc",
   "metadata": {},
   "outputs": [],
   "source": [
    "MSE_hab<-NA\n",
    "\n",
    "for(i in 0:7){\n",
    "  R1<- db %>% filter(habitaciones<=i)\n",
    "  R1<- R1 %>% mutate(yR1=mean(price))\n",
    "  MSEr1<- mean((R1$price-R1$yR1)^2)\n",
    "  R2<- db %>% filter(habitaciones>i)\n",
    "  R2<- R2 %>% mutate(yR2=mean(price))\n",
    "  MSEr2<- mean((R2$price-R2$yR2)^2)\n",
    "  \n",
    "  MSE_hab[i+1]<-MSEr1+MSEr2\n",
    "  \n",
    "}\n",
    "MSE_hab"
   ]
  },
  {
   "cell_type": "markdown",
   "id": "bbddcfc4",
   "metadata": {},
   "source": [
    "**Mínimo?**"
   ]
  },
  {
   "cell_type": "code",
   "execution_count": null,
   "id": "1637a9b8",
   "metadata": {},
   "outputs": [],
   "source": [
    "MSE<-c(MSE_dbcd,MSE_hab)\n",
    "MSE[which.min(MSE)]\n",
    "MSE"
   ]
  },
  {
   "cell_type": "markdown",
   "id": "19344215",
   "metadata": {},
   "source": [
    "#### Algorithm with `rpart`"
   ]
  },
  {
   "cell_type": "code",
   "execution_count": null,
   "id": "3a7c95aa",
   "metadata": {},
   "outputs": [],
   "source": [
    "mytree<-rpart(log(price)~DCBD+habitaciones,data=db)"
   ]
  },
  {
   "cell_type": "code",
   "execution_count": null,
   "id": "d274c14e",
   "metadata": {},
   "outputs": [],
   "source": [
    "mytree"
   ]
  },
  {
   "cell_type": "code",
   "execution_count": null,
   "id": "30b93124",
   "metadata": {},
   "outputs": [],
   "source": [
    "plot(mytree)\n",
    "text(mytree)"
   ]
  },
  {
   "cell_type": "code",
   "execution_count": null,
   "id": "54712843",
   "metadata": {},
   "outputs": [],
   "source": [
    "p_load(\"rpart.plot\")\n",
    "\n",
    "prp(mytree, under = TRUE, branch.lty = 2, yesno = 2, faclen = 0, varlen=15,tweak=1.2,clip.facs= TRUE,box.palette = \"Greens\",compress=TRUE,ycompress = TRUE,node.fun=function(x, labs, digits, varlen) paste(\"Precio \\n\", format(round(mytree$frame$yval, 2), nsmall=0, big.mark=\",\")))"
   ]
  },
  {
   "cell_type": "markdown",
   "id": "875d57d6",
   "metadata": {},
   "source": [
    "El árbol es \n",
    "\n",
    "\\begin{align}\n",
    "\\hat{y} = 12 I(DCBD<1.5) + 11.50 I(DCBD>=1.5 \\& habitaciones>=3) + 11.20 I(DCBD>=1.5 \\& habitaciones<3) \n",
    "\\end{align}"
   ]
  },
  {
   "cell_type": "markdown",
   "id": "5f08f3fa",
   "metadata": {},
   "source": [
    "### Ames Data Set\n",
    "\n",
    "The data set contains information from the Ames Assessor’s Office used in computing assessed values for individual residential properties sold in Ames, IA from 2006 to 2010."
   ]
  },
  {
   "cell_type": "code",
   "execution_count": null,
   "id": "647d6dcf",
   "metadata": {},
   "outputs": [],
   "source": [
    "p_load(\"modeldata\")\n",
    "\n",
    "data(\"ames\", package = \"modeldata\")"
   ]
  },
  {
   "cell_type": "code",
   "execution_count": null,
   "id": "68a3997a",
   "metadata": {},
   "outputs": [],
   "source": [
    "dim(ames)"
   ]
  },
  {
   "cell_type": "code",
   "execution_count": null,
   "id": "f5b90bab",
   "metadata": {},
   "outputs": [],
   "source": [
    "head(ames)"
   ]
  },
  {
   "cell_type": "markdown",
   "id": "c555ba52",
   "metadata": {},
   "source": [
    "The description of the variables can be viewed here: https://jse.amstat.org/v19n3/decock/DataDocumentation.txt"
   ]
  },
  {
   "cell_type": "code",
   "execution_count": null,
   "id": "ca09a27a",
   "metadata": {},
   "outputs": [],
   "source": [
    "amestree<-rpart(log(Sale_Price) ~  Gr_Liv_Area  + Bldg_Type + Fence + Lot_Area,data=ames, control = list(maxdepth = 3))\n",
    "\n",
    "p_load(\"rpart.plot\")\n",
    "prp(amestree, under = TRUE, branch.lty = 2, yesno = 2, faclen = 0, varlen=15,tweak=1.2,clip.facs= TRUE,box.palette = \"Greens\",compress=FALSE,ycompress = FALSE,node.fun=function(x, labs, digits, varlen) paste(\"Precio \\n\", format(round(exp(amestree$frame$yval), 0), nsmall=0, big.mark=\",\")))"
   ]
  },
  {
   "cell_type": "markdown",
   "id": "de10c96b",
   "metadata": {},
   "source": [
    "### Sobreajuste"
   ]
  },
  {
   "cell_type": "markdown",
   "id": "9bac01b4",
   "metadata": {},
   "source": [
    "<div >\n",
    "<img src = \"figures/tree_uba.png\" width=\"300\"/>\n",
    "</div>"
   ]
  },
  {
   "cell_type": "markdown",
   "id": "9dddbde6",
   "metadata": {},
   "source": [
    "\n",
    "- Fijar la profundidad del árbol. (implementado en Caret `method=rpart2`)\n",
    "\n",
    "- Fijar la mínima cantidad de datos que están contenidos dentro de cada hoja. \n",
    "\n",
    "- Cost complexity pruning (implementado en Caret con `method=rpart`)\n",
    "\n",
    "`tidymodels` implementa todos"
   ]
  },
  {
   "cell_type": "markdown",
   "id": "6e92e07f",
   "metadata": {},
   "source": [
    "##### Implementación con Caret"
   ]
  },
  {
   "cell_type": "code",
   "execution_count": null,
   "id": "ecfc1c57",
   "metadata": {},
   "outputs": [],
   "source": [
    "p_load(\"caret\")"
   ]
  },
  {
   "cell_type": "code",
   "execution_count": null,
   "id": "318c6c70",
   "metadata": {},
   "outputs": [],
   "source": [
    "fitControl<-trainControl(method =\"cv\",\n",
    "                         number=5)"
   ]
  },
  {
   "cell_type": "markdown",
   "id": "b3c8e9ce",
   "metadata": {},
   "source": [
    "#####  `method=rpart2`  allows to tune Max Tree Depth"
   ]
  },
  {
   "cell_type": "code",
   "execution_count": null,
   "id": "a5df693c",
   "metadata": {},
   "outputs": [],
   "source": [
    "set.seed(123)\n",
    "tree_rpart2 <- train(\n",
    "    log(Sale_Price) ~ Gr_Liv_Area  + Bldg_Type + Fence + Lot_Area,\n",
    "    data=ames,\n",
    "    method = \"rpart2\",\n",
    "    trControl = fitControl,\n",
    "    tuneGrid = expand.grid(maxdepth = seq(1,30,1))\n",
    ")"
   ]
  },
  {
   "cell_type": "code",
   "execution_count": null,
   "id": "ffaf5931",
   "metadata": {},
   "outputs": [],
   "source": [
    "tree_rpart2"
   ]
  },
  {
   "cell_type": "code",
   "execution_count": null,
   "id": "e9627361",
   "metadata": {},
   "outputs": [],
   "source": [
    "prp(tree_rpart2$finalModel, under = TRUE, branch.lty = 2, yesno = 2, faclen = 0, varlen=15,tweak=1.2,clip.facs= TRUE,box.palette = \"Greens\",compress=FALSE,ycompress = FALSE,node.fun=function(x, labs, digits, varlen) paste(\"Precio \\n\", format(round(exp(tree_rpart2$finalModel$frame$yval), 0), nsmall=0, big.mark=\",\")))"
   ]
  },
  {
   "cell_type": "markdown",
   "id": "135403a9",
   "metadata": {},
   "source": [
    "#### Cost complexity Prunning\n",
    "\n",
    "\n",
    "Cost complexity del árbol  $T$ con $[T]$ nodos terminales del árbol \n",
    "\\begin{align}\n",
    "  C_{\\alpha}(T)= \\sum_{m=1}^{[T]}  \\sum_{x_i\\in R_m} (y_i-\\hat{y}_m)^2 + \\alpha [T]\n",
    "\\end{align}\n",
    "\n",
    "\n",
    "Objetivo: para un dado $\\alpha$, encontrar el pruning óptimo que minimice  $C_{\\alpha}(T)$\n",
    "\n",
    "Se logra eliminando sucesivamente las ramas que producen un aumento mínimo en $\\sum_{x_i\\in R_m} (y_i-\\hat{y}_m)^2 $\n",
    "\n",
    "\n",
    "##### Algoritmo completo\n",
    "\n",
    "  - Hacemos crecer el árbol\n",
    "\n",
    "  - Para un dado $\\alpha$, aplicamos  *cost complexity pruning* \n",
    "    \n",
    "  - Utilizamos K-fold cross-validation para elegir $\\alpha$. \n",
    "\n",
    "  \n",
    "Tenemos entonces una secuencia de subarboles para distintos valores de $\\alpha$ \n",
    "\n",
    "Elegimos el $\\alpha$ y el subárbol que tienen el menor error de predicción."
   ]
  },
  {
   "cell_type": "markdown",
   "id": "bfd6d093",
   "metadata": {},
   "source": [
    "#####  `method=rpart`  only allows to tune Complexity Parameter\n",
    "\n",
    "- Can change the length\n"
   ]
  },
  {
   "cell_type": "code",
   "execution_count": null,
   "id": "c93df854",
   "metadata": {},
   "outputs": [],
   "source": [
    "set.seed(123)\n",
    "tree_lenght <- train(\n",
    "    log(Sale_Price) ~ Gr_Liv_Area  + Bldg_Type + Fence + Lot_Area,\n",
    "    data=ames,\n",
    "    method = \"rpart\",\n",
    "    trControl = fitControl,\n",
    "    tuneLength=20\n",
    ")"
   ]
  },
  {
   "cell_type": "code",
   "execution_count": null,
   "id": "b1c61d27",
   "metadata": {},
   "outputs": [],
   "source": [
    "tree_lenght"
   ]
  },
  {
   "cell_type": "code",
   "execution_count": null,
   "id": "962e34fa",
   "metadata": {},
   "outputs": [],
   "source": [
    "prp(tree_lenght$finalModel, under = TRUE, branch.lty = 2, yesno = 2, faclen = 0, varlen=15,tweak=1.2,clip.facs= TRUE,box.palette = \"Greens\",compress=FALSE,ycompress = FALSE,node.fun=function(x, labs, digits, varlen) paste(\"Precio \\n\", format(round(exp(tree_lenght$finalModel$frame$yval), 0), nsmall=0, big.mark=\",\")))"
   ]
  },
  {
   "cell_type": "markdown",
   "id": "82c16df7",
   "metadata": {},
   "source": [
    "- Or the grid"
   ]
  },
  {
   "cell_type": "code",
   "execution_count": null,
   "id": "d5bda02f",
   "metadata": {},
   "outputs": [],
   "source": [
    "set.seed(123)\n",
    "tree_grid <- train(\n",
    "    log(Sale_Price) ~ Gr_Liv_Area  + Bldg_Type + Fence + Lot_Area,\n",
    "    data=ames,\n",
    "    method = \"rpart\",\n",
    "    trControl = fitControl,\n",
    "    tuneGrid = expand.grid(cp = seq(0.001707763, 0.001707765, length.out = 100))\n",
    ")\n"
   ]
  },
  {
   "cell_type": "code",
   "execution_count": null,
   "id": "9169c095",
   "metadata": {},
   "outputs": [],
   "source": [
    "tree_grid"
   ]
  },
  {
   "cell_type": "markdown",
   "id": "e563acfa",
   "metadata": {},
   "source": [
    "More details here: https://topepo.github.io/caret/train-models-by-tag.html#tree-based-model"
   ]
  },
  {
   "cell_type": "markdown",
   "id": "906ba4df",
   "metadata": {},
   "source": [
    "### Comentarios sobre Árboles\n",
    "\n",
    "\n",
    "#### Pros: \n",
    "  \n",
    "    - Los árboles son muy fáciles de explicar a las personas (probablemente incluso más fáciles que la regresión lineal)\n",
    "\n",
    "    - Los árboles se pueden trazar gráficamente y son fácilmente interpretados incluso por no expertos. Variables más importantes en la parte superior\n",
    "\n",
    "\n",
    "\n",
    "#### Cons:\n",
    "    \n",
    "    - Si la estructura es lineal, CART no funciona bien\n",
    "    \n",
    "<div >\n",
    "<img src = \"figures/tree_vs_reg.png\" />\n",
    "</div>\n",
    "\n",
    "\n",
    "    - Los árboles no son muy robustos \n",
    "    "
   ]
  },
  {
   "cell_type": "markdown",
   "id": "a2e1a513",
   "metadata": {},
   "source": [
    "## Random Forests"
   ]
  },
  {
   "cell_type": "markdown",
   "id": "33789131",
   "metadata": {},
   "source": [
    "We are going to use `ranger: A Fast Implementation of Random Forests`"
   ]
  },
  {
   "cell_type": "code",
   "execution_count": null,
   "id": "2c27ec9e",
   "metadata": {},
   "outputs": [],
   "source": [
    "p_load(\"ranger\")"
   ]
  },
  {
   "cell_type": "markdown",
   "id": "257b92de",
   "metadata": {
    "lines_to_next_cell": 0
   },
   "source": [
    "Tuning hiparameters:\n",
    "\n",
    "    - mtry (#Randomly Selected Predictors)\n",
    "    - splitrule (Splitting Rule)\n",
    "    - min.node.size (Minimal Node Size)\n",
    "\n"
   ]
  },
  {
   "cell_type": "code",
   "execution_count": null,
   "id": "6e876df0",
   "metadata": {},
   "outputs": [],
   "source": [
    "set.seed(123)\n",
    "\n",
    "tree_ranger_grid <- train(\n",
    "    log(Sale_Price) ~ Gr_Liv_Area  + Bldg_Type + Fence,\n",
    "    data=ames,\n",
    "    method = \"ranger\",\n",
    "    trControl = fitControl,\n",
    "    tuneGrid=expand.grid(\n",
    "              mtry = c(1,2,3),\n",
    "              splitrule = \"variance\",\n",
    "              min.node.size = c(5,10,15))\n",
    ")"
   ]
  },
  {
   "cell_type": "code",
   "execution_count": null,
   "id": "f55fa8bd",
   "metadata": {},
   "outputs": [],
   "source": [
    "tree_ranger_grid"
   ]
  },
  {
   "cell_type": "markdown",
   "id": "5f1732bc",
   "metadata": {},
   "source": [
    "## Boosting Trees"
   ]
  },
  {
   "cell_type": "markdown",
   "id": "348bb241",
   "metadata": {},
   "source": [
    "\\begin{align}\n",
    "\\hat{f}_{gbm}(x)=\\lambda\\sum_{m=1}^{M}\\hat{f}_{m}(x_{i})\n",
    "\\end{align}"
   ]
  },
  {
   "cell_type": "markdown",
   "id": "8e5a03ec",
   "metadata": {},
   "source": [
    "- n.trees (# Boosting Iterations) $M$\n",
    "- interaction.depth (Max Tree Depth) $j$\n",
    "- shrinkage (Shrinkage) $\\lambda$\n",
    "- n.minobsinnode (Min. Terminal Node Size) "
   ]
  },
  {
   "cell_type": "code",
   "execution_count": null,
   "id": "4bc4cc59",
   "metadata": {},
   "outputs": [],
   "source": [
    "p_load(gbm)\n",
    "\n",
    "\n",
    "grid_gbm<-expand.grid(n.trees=c(200,300,500),\n",
    "                      interaction.depth=c(4,6),\n",
    "                      shrinkage=c(0.01),\n",
    "                      n.minobsinnode = c(10,30))\n",
    "\n",
    "\n",
    "grid_gbm\n",
    "\n"
   ]
  },
  {
   "cell_type": "code",
   "execution_count": null,
   "id": "838a71b7",
   "metadata": {},
   "outputs": [],
   "source": [
    "\n",
    "set.seed(1011)\n",
    "gbm_tree <- train( log(Sale_Price) ~ Gr_Liv_Area  + Bldg_Type + Fence,\n",
    "    data=ames,\n",
    "  method = \"gbm\", \n",
    "  trControl = fitControl,\n",
    "  tuneGrid=grid_gbm,\n",
    "  verbose = FALSE\n",
    ")            \n"
   ]
  },
  {
   "cell_type": "code",
   "execution_count": null,
   "id": "9dc9cf31",
   "metadata": {},
   "outputs": [],
   "source": [
    "gbm_tree"
   ]
  },
  {
   "cell_type": "markdown",
   "id": "0e630439",
   "metadata": {},
   "source": [
    "### Xgboost"
   ]
  },
  {
   "cell_type": "markdown",
   "id": "92c0177d",
   "metadata": {},
   "source": [
    "\n",
    "\\begin{align}\n",
    "\\mathcal{L}=\\sum_{i=1}^{N}L(y_{i},\\sum_{m=1}^{M}T(x_{i};\\Theta_{m}))+\\sum_{m=1}^{M}\\left(\\zeta J+\\frac{1}{2}\\varphi\\sum_{j=1}^{J}\\gamma_{j}^{2} \\right)\n",
    "\\end{align}\n"
   ]
  },
  {
   "cell_type": "code",
   "execution_count": null,
   "id": "82d5d218",
   "metadata": {},
   "outputs": [],
   "source": [
    "p_load(xgboost)"
   ]
  },
  {
   "cell_type": "markdown",
   "id": "ade69ca2",
   "metadata": {},
   "source": [
    "Hiper parametros en `R`\n",
    "\n",
    "-  nrounds (# of trees): This parameter is similar to the random forest parameter. It determines the number of trees in the gradient boosting forest (M). A range I often explore  100 and 1000 trees.\n",
    "\n",
    "- max_depth (Max Tree Depth): The depth of a tree corresponds to how many branches deep each tree is allowed to go (J). A larger depth corresponds to more flexible trees, but this can also lead to overfitting. The default tree depth in xgboost is 6, and it is often useful to explore max_depth range of between 4 and 8.\n",
    "\n",
    "- eta (Shrinkage): The eta parameter controls the manner in which the boosted tree at a given iteration is merged with the tree in the previous iteration ($\\lambda$ in the algorithm). The default value is 0.3, and it is often important to evaluate a range of effects between 0.01 and 0.5.\n",
    "\n",
    "- min_child_weight (min obs per node) This parameter refers to the minumum allowable number of observations in each node. The default for this value is 1. However, this number is quite low, and caution is warranted here, particularly when the max_depth is large. I always tend to set this value to at least ten, and will often explore ranges between 10 and 50.\n",
    "\n",
    "- gamma (Minimum Loss Reduction) The gamma parameter controls the extent to which changes in the tree structure occur on the basis of changes in the loss function (this is the $\\zeta$ in the equation). The default gamma value is 0. \n",
    "\n",
    "- lambda (regularization term on weights) is the $\\phi$ parameter in the above equation. Defaulte is set to 1.\n",
    "\n",
    "- colsample_bytree (Subsample Ratio of Columns)\n",
    " \n",
    "- subsample (Subsample Percentage)\n",
    "\n"
   ]
  },
  {
   "cell_type": "code",
   "execution_count": null,
   "id": "5c9243c4",
   "metadata": {},
   "outputs": [],
   "source": [
    "\n",
    "\n",
    "grid_xbgoost <- expand.grid(nrounds = c(250),\n",
    "                            max_depth = c(4), \n",
    "                            eta = c(0.01), \n",
    "                            gamma = c(0), \n",
    "                            min_child_weight = c(10, 25),\n",
    "                            colsample_bytree = c(0.7),\n",
    "                            subsample = c(0.6))\n",
    "\n",
    "grid_xbgoost"
   ]
  },
  {
   "cell_type": "code",
   "execution_count": null,
   "id": "11d3568c",
   "metadata": {},
   "outputs": [],
   "source": [
    "\n",
    "set.seed(1011)\n",
    "Xgboost_tree <- train(log(Sale_Price) ~ Gr_Liv_Area  + Bldg_Type + Fence,\n",
    "    data=ames,\n",
    "  method = \"xgbTree\", \n",
    "  trControl = fitControl,\n",
    "  tuneGrid=grid_xbgoost\n",
    ")        \n",
    "\n",
    "Xgboost_tree"
   ]
  },
  {
   "cell_type": "markdown",
   "id": "d2963f23",
   "metadata": {},
   "source": [
    "It’s important to note that there is never a single optimal tuning parameter choice for all (or even most) settings. In fact, the choice of a given tuning parameter often has important effects on the optimal value of other tuning parameters. There are usually important tradeoffs to consider between tuning parameter values. For example, in the context of XGBoost, a high value of `min_child_weight` may require a lower `eta` or `max_depth` value. However, this is true for other types of machine learning algorithms."
   ]
  }
 ],
 "metadata": {
  "jupytext": {
   "formats": "ipynb,Rmd"
  },
  "kernelspec": {
   "display_name": "R",
   "language": "R",
   "name": "ir"
  },
  "language_info": {
   "codemirror_mode": "r",
   "file_extension": ".r",
   "mimetype": "text/x-r-source",
   "name": "R",
   "pygments_lexer": "r",
   "version": "4.3.2"
  },
  "toc": {
   "base_numbering": 1,
   "nav_menu": {},
   "number_sections": true,
   "sideBar": true,
   "skip_h1_title": false,
   "title_cell": "Table of Contents",
   "title_sidebar": "Contents",
   "toc_cell": false,
   "toc_position": {},
   "toc_section_display": true,
   "toc_window_display": false
  }
 },
 "nbformat": 4,
 "nbformat_minor": 5
}
