{
 "cells": [
  {
   "cell_type": "markdown",
   "id": "5653c385",
   "metadata": {},
   "source": [
    "<div >\n",
    "<img src = \"../banner.jpg\" />\n",
    "</div>"
   ]
  },
  {
   "cell_type": "markdown",
   "id": "522d0d5e",
   "metadata": {},
   "source": [
    "<a target=\"_blank\" href=\"https://colab.research.google.com/github/ignaciomsarmiento//BDML_202401/blob/main/Modulo02/Modulo02_CV.ipynb\">\n",
    "  <img src=\"https://colab.research.google.com/assets/colab-badge.svg\" alt=\"Open In Colab\"/>\n",
    "</a>\n"
   ]
  },
  {
   "cell_type": "markdown",
   "id": "f7e57de4",
   "metadata": {},
   "source": [
    "<style type=\"text/css\">\n",
    "\n",
    ".responsive {\n",
    " width: 100%;\n",
    " height: 25%;\n",
    "}\n",
    "\n",
    ".list-group-item.active, .list-group-item.active:focus, .list-group-item.active:hover {\n",
    "    z-index: 2;\n",
    "    color: #fff;\n",
    "    background-color: #1B175E;\n",
    "    border-color: #337ab7;\n",
    "}\n",
    "h1, h2, h3, h4 {\n",
    "    color: #000002;\n",
    "    background-color: #1B175E;\n",
    "    background-image:\n",
    "      linear-gradient(to right,\n",
    "       #fff, #ffff00\n",
    "     );\n",
    "\n",
    "}\n",
    "\n",
    "h1, h2, h3, h4, p {\n",
    "    color: #000002;\n",
    "}\n",
    "\n",
    "a {\n",
    "    color: #1B175E;\n",
    "}\n",
    "</style>\n",
    "\n",
    "# Introduction"
   ]
  },
  {
   "cell_type": "markdown",
   "id": "44efaa5f-efe9-424e-bf07-c46550bc67fb",
   "metadata": {},
   "source": [
    "The concept behind resampling techniques for evaluating model performance is straightforward: a portion of the data is used to train the model, while the remaining data is used to assess the model's accuracy. \n",
    "\n",
    "This process is repeated several times with different subsets of the data, and the results are averaged and summarized. The primary differences between resampling techniques lie in the method by which the subsets of data are selected. \n",
    "\n",
    "In the following sections, we will discuss the main types of resampling techniques.\n",
    "\n",
    "\n"
   ]
  },
  {
   "cell_type": "markdown",
   "id": "303a3dcd",
   "metadata": {},
   "source": [
    "# Predicting Wages\n",
    "\n",
    "Our objective today is to construct a model of individual wages\n",
    "\n",
    "$$\n",
    "w = f(X) + u \n",
    "$$\n",
    "\n",
    "where w is the  wage, and X is a matrix that includes potential explanatory variables/predictors. In this problem set, we will focus on a linear model of the form\n",
    "\n",
    "\\begin{align}\n",
    " ln(w) & = \\beta_0 + \\beta_1 X_1 + \\dots + \\beta_p X_p  + u \n",
    "\\end{align}"
   ]
  },
  {
   "cell_type": "markdown",
   "id": "312ba2f4",
   "metadata": {},
   "source": [
    "were $ln(w)$ is the logarithm of the wage.\n",
    "\n",
    "To illustrate I'm going to use a sample of the NLSY97. The NLSY97 is  a nationally representative sample of 8,984 men and women born during the years 1980 through 1984 and living in the United States at the time of the initial survey in 1997.  Participants were ages 12 to 16 as of December 31, 1996.  Interviews were conducted annually from 1997 to 2011 and biennially since then.  "
   ]
  },
  {
   "cell_type": "markdown",
   "id": "2fdab5a6",
   "metadata": {},
   "source": [
    "Let's load the packages and the data set:"
   ]
  },
  {
   "cell_type": "code",
   "execution_count": null,
   "id": "c2800e5b",
   "metadata": {},
   "outputs": [],
   "source": [
    "#install.packages(\"pacman\") for #google colab"
   ]
  },
  {
   "cell_type": "code",
   "execution_count": 1,
   "id": "3e94ec2b-ab94-4ec8-8512-e370d2f22a56",
   "metadata": {
    "tags": [
     "remove_cell"
    ]
   },
   "outputs": [
    {
     "name": "stderr",
     "output_type": "stream",
     "text": [
      "Loading required package: pacman\n",
      "\n",
      "\u001b[1mRows: \u001b[22m\u001b[34m1266\u001b[39m \u001b[1mColumns: \u001b[22m\u001b[34m994\u001b[39m\n",
      "\u001b[36m──\u001b[39m \u001b[1mColumn specification\u001b[22m \u001b[36m──────────────────────────────────────────────────────────────────────────────────────────────────────────────────────────────────────────────────────────\u001b[39m\n",
      "\u001b[1mDelimiter:\u001b[22m \",\"\n",
      "\u001b[32mdbl\u001b[39m (994): lnw_2016, educ, black, hispanic, other, exp, afqt, mom_educ, dad_...\n",
      "\n",
      "\u001b[36mℹ\u001b[39m Use `spec()` to retrieve the full column specification for this data.\n",
      "\u001b[36mℹ\u001b[39m Specify the column types or set `show_col_types = FALSE` to quiet this message.\n"
     ]
    }
   ],
   "source": [
    "#packages\n",
    "require(\"pacman\")\n",
    "p_load(\"tidyverse\",\"stargazer\")\n",
    "\n",
    "nlsy <- read_csv('https://raw.githubusercontent.com/ignaciomsarmiento/datasets/main/nlsy97.csv')\n"
   ]
  },
  {
   "cell_type": "markdown",
   "id": "896e2ca2",
   "metadata": {},
   "source": [
    "what are the predictors that I have available?"
   ]
  },
  {
   "cell_type": "code",
   "execution_count": null,
   "id": "7208cb9a",
   "metadata": {},
   "outputs": [],
   "source": [
    "glimpse(nlsy) "
   ]
  },
  {
   "cell_type": "markdown",
   "id": "342d1f92",
   "metadata": {},
   "source": [
    "Let's keep a couple of these predictors and look at their statistics"
   ]
  },
  {
   "cell_type": "code",
   "execution_count": 2,
   "id": "800e2095",
   "metadata": {},
   "outputs": [],
   "source": [
    "nlsy<- nlsy  %>% select(lnw_2016, \n",
    "                        educ,\n",
    "                        black,\n",
    "                        hispanic,\n",
    "                        other,\n",
    "                        exp,\n",
    "                        afqt,\n",
    "                        mom_educ,\n",
    "                        dad_educ)"
   ]
  },
  {
   "cell_type": "markdown",
   "id": "2d68c5fd",
   "metadata": {},
   "source": [
    "The descriptive statistics?"
   ]
  },
  {
   "cell_type": "code",
   "execution_count": 3,
   "id": "ab208b30-4a14-475f-9ed4-026b2644b121",
   "metadata": {
    "results": "asis",
    "tags": [
     "remove_input"
    ]
   },
   "outputs": [
    {
     "name": "stdout",
     "output_type": "stream",
     "text": [
      "\n",
      "Variables Included in the Selected Data Set\n",
      "=============================================\n",
      "Statistic   N    Mean  St. Dev.  Min    Max  \n",
      "---------------------------------------------\n",
      "lnw_2016  1,266 3.110   0.869   -1.955 7.393 \n",
      "educ      1,266 14.314  2.900     8      20  \n",
      "black     1,266 0.182   0.386     0      1   \n",
      "hispanic  1,266 0.117   0.321     0      1   \n",
      "other     1,266 0.007   0.084     0      1   \n",
      "exp       1,266 14.582  3.238     7      23  \n",
      "afqt      1,266 5.325   2.915   0.000  10.000\n",
      "mom_educ  1,266 13.303  2.401     4      20  \n",
      "dad_educ  1,266 13.254  2.908     3      20  \n",
      "---------------------------------------------\n"
     ]
    }
   ],
   "source": [
    "stargazer(data.frame(nlsy), header=FALSE, type='text',title=\"Variables Included in the Selected Data Set\")"
   ]
  },
  {
   "cell_type": "markdown",
   "id": "0f2532d7",
   "metadata": {},
   "source": [
    "# Validation Set  Approach\n",
    "\n",
    "The first method to evaluate out-of-sample performance is the validation set approach. In this approach, a fixed portion of the data is designated as the validation set, and the model is trained on the remaining data. The model's performance is then evaluated on the validation set. These partitions are usually called:\n",
    "\n",
    "   - Training sample: to build/estimate/train the model\n",
    "   - Testing (validation, hold-out) sample:  to evaluate its performance \n",
    "\n",
    "Partitions can be of any size. Usually, 70%-30% or 80%-20% are used. Graphically, a 70%-30% partition looks like:     \n",
    "    \n",
    "<div>\n",
    "<img src=\"figs_notebook_SS03/30-70.png\" width=\"500\"/>\n",
    "</div>"
   ]
  },
  {
   "cell_type": "markdown",
   "id": "88212caa",
   "metadata": {},
   "source": [
    "Let's implement this in `R`.\n",
    "\n",
    "We begin by generating a sample index that will indicate with `TRUE` those observations randomly assigned to the training data set with 70% probability, and with `FALSE` those observations randomly assigned to the testing data set with 30% chance."
   ]
  },
  {
   "cell_type": "code",
   "execution_count": 4,
   "id": "acae014a",
   "metadata": {},
   "outputs": [
    {
     "data": {
      "text/html": [
       "<style>\n",
       ".list-inline {list-style: none; margin:0; padding: 0}\n",
       ".list-inline>li {display: inline-block}\n",
       ".list-inline>li:not(:last-child)::after {content: \"\\00b7\"; padding: 0 .5ex}\n",
       "</style>\n",
       "<ol class=list-inline><li>TRUE</li><li>FALSE</li><li>TRUE</li><li>FALSE</li><li>FALSE</li><li>TRUE</li></ol>\n"
      ],
      "text/latex": [
       "\\begin{enumerate*}\n",
       "\\item TRUE\n",
       "\\item FALSE\n",
       "\\item TRUE\n",
       "\\item FALSE\n",
       "\\item FALSE\n",
       "\\item TRUE\n",
       "\\end{enumerate*}\n"
      ],
      "text/markdown": [
       "1. TRUE\n",
       "2. FALSE\n",
       "3. TRUE\n",
       "4. FALSE\n",
       "5. FALSE\n",
       "6. TRUE\n",
       "\n",
       "\n"
      ],
      "text/plain": [
       "[1]  TRUE FALSE  TRUE FALSE FALSE  TRUE"
      ]
     },
     "metadata": {},
     "output_type": "display_data"
    }
   ],
   "source": [
    "#Make this example reproducible\n",
    "set.seed(123)\n",
    "\n",
    "#use 70% of the dataset as a training set and 30% as a test set\n",
    "sample <- sample(c(TRUE, FALSE), nrow(nlsy), replace=TRUE, prob=c(0.7,0.3))\n",
    "head(sample)"
   ]
  },
  {
   "cell_type": "markdown",
   "id": "75b63d02",
   "metadata": {
    "lines_to_next_cell": 0
   },
   "source": [
    "we can check that the partition:"
   ]
  },
  {
   "cell_type": "code",
   "execution_count": 5,
   "id": "df09eb0b",
   "metadata": {},
   "outputs": [
    {
     "data": {
      "text/html": [
       "0.70695102685624"
      ],
      "text/latex": [
       "0.70695102685624"
      ],
      "text/markdown": [
       "0.70695102685624"
      ],
      "text/plain": [
       "[1] 0.706951"
      ]
     },
     "metadata": {},
     "output_type": "display_data"
    }
   ],
   "source": [
    "sum(sample)/nrow(nlsy)"
   ]
  },
  {
   "cell_type": "markdown",
   "id": "7fbea998",
   "metadata": {},
   "source": [
    "With the above index, we generate the partition:"
   ]
  },
  {
   "cell_type": "code",
   "execution_count": 6,
   "id": "de9d0077",
   "metadata": {},
   "outputs": [
    {
     "data": {
      "text/html": [
       "<style>\n",
       ".list-inline {list-style: none; margin:0; padding: 0}\n",
       ".list-inline>li {display: inline-block}\n",
       ".list-inline>li:not(:last-child)::after {content: \"\\00b7\"; padding: 0 .5ex}\n",
       "</style>\n",
       "<ol class=list-inline><li>895</li><li>9</li></ol>\n"
      ],
      "text/latex": [
       "\\begin{enumerate*}\n",
       "\\item 895\n",
       "\\item 9\n",
       "\\end{enumerate*}\n"
      ],
      "text/markdown": [
       "1. 895\n",
       "2. 9\n",
       "\n",
       "\n"
      ],
      "text/plain": [
       "[1] 895   9"
      ]
     },
     "metadata": {},
     "output_type": "display_data"
    }
   ],
   "source": [
    "train  <- nlsy[sample, ] #train sample those that are TRUE in the sample index\n",
    "test   <- nlsy[!sample, ] #test sample those that are FALSE in the sample index\n",
    "dim(train)"
   ]
  },
  {
   "cell_type": "markdown",
   "id": "de57da86",
   "metadata": {},
   "source": [
    "Another way of partitioning the data is to use `dplyr` package included in `tidyverse`. With this approach, we first create a column with the row number, take a sample of 70% of the sample and use this sample for training. The test set is the remaining, obtained by `anti_join()`. "
   ]
  },
  {
   "cell_type": "code",
   "execution_count": null,
   "id": "f2d18d9b",
   "metadata": {
    "eval": false,
    "include": true
   },
   "outputs": [],
   "source": [
    "#remove the comments to execute this portion of the code\n",
    "#Make this example reproducible\n",
    "#set.seed(123)\n",
    "\n",
    "#create ID column with a row number\n",
    "#nlsy$id <- 1:nrow(nlsy)\n",
    "\n",
    "#use 70% of the dataset as a training set and 30% as a test set \n",
    "#train <- nlsy %>% dplyr::sample_frac(0.70)\n",
    "#test  <- dplyr::anti_join(nlsy, train, by = 'id')\n",
    "\n"
   ]
  },
  {
   "cell_type": "markdown",
   "id": "ca1318f0-248e-41cf-b5c6-3a9fec9f9d99",
   "metadata": {},
   "source": [
    "## Predicting wages\n",
    "\n",
    "With these partitions in place, we can start building our predictive models. We begin by using a simple model with no covariates, just a constant:\n",
    "\n",
    "\\begin{align}\n",
    " ln(w) & = \\beta_0  + u \n",
    "\\end{align}"
   ]
  },
  {
   "cell_type": "code",
   "execution_count": 7,
   "id": "6a201763-d401-4f93-866a-00d1a6dc87c9",
   "metadata": {},
   "outputs": [
    {
     "data": {
      "text/plain": [
       "\n",
       "Call:\n",
       "lm(formula = lnw_2016 ~ 1, data = train)\n",
       "\n",
       "Residuals:\n",
       "    Min      1Q  Median      3Q     Max \n",
       "-5.0668 -0.4639 -0.0127  0.4138  4.2818 \n",
       "\n",
       "Coefficients:\n",
       "            Estimate Std. Error t value Pr(>|t|)    \n",
       "(Intercept)  3.11143    0.02847   109.3   <2e-16 ***\n",
       "---\n",
       "Signif. codes:  0 ‘***’ 0.001 ‘**’ 0.01 ‘*’ 0.05 ‘.’ 0.1 ‘ ’ 1\n",
       "\n",
       "Residual standard error: 0.8519 on 894 degrees of freedom\n"
      ]
     },
     "metadata": {},
     "output_type": "display_data"
    }
   ],
   "source": [
    "model1<-lm(lnw_2016~1,data=train)\n",
    "summary(model1)"
   ]
  },
  {
   "cell_type": "markdown",
   "id": "9980df5e-4174-45bb-9b0f-13b558828a0b",
   "metadata": {},
   "source": [
    "In this case, the prediction for the log wage is the average train sample average"
   ]
  },
  {
   "cell_type": "markdown",
   "id": "bc5ad357-a9c5-4be6-9a38-e379229878b3",
   "metadata": {},
   "source": [
    "$$\n",
    "\\hat{ ln(w)}=\\hat{\\beta_1}=\\frac{\\sum  ln(w)_i}{n}=m\n",
    "$$"
   ]
  },
  {
   "cell_type": "code",
   "execution_count": 8,
   "id": "e3fa8942-e1b3-48d1-8d75-a9a2dcfb3b62",
   "metadata": {},
   "outputs": [
    {
     "data": {
      "text/html": [
       "<strong>(Intercept):</strong> 3.11142668361229"
      ],
      "text/latex": [
       "\\textbf{(Intercept):} 3.11142668361229"
      ],
      "text/markdown": [
       "**(Intercept):** 3.11142668361229"
      ],
      "text/plain": [
       "(Intercept) \n",
       "   3.111427 "
      ]
     },
     "metadata": {},
     "output_type": "display_data"
    }
   ],
   "source": [
    "coef(model1)"
   ]
  },
  {
   "cell_type": "code",
   "execution_count": 9,
   "id": "7bed4174",
   "metadata": {
    "lines_to_next_cell": 2
   },
   "outputs": [
    {
     "data": {
      "text/html": [
       "'Coef: 3.11142668361229'"
      ],
      "text/latex": [
       "'Coef: 3.11142668361229'"
      ],
      "text/markdown": [
       "'Coef: 3.11142668361229'"
      ],
      "text/plain": [
       "[1] \"Coef: 3.11142668361229\""
      ]
     },
     "metadata": {},
     "output_type": "display_data"
    }
   ],
   "source": [
    "paste(\"Coef:\", mean(train$lnw_2016))"
   ]
  },
  {
   "cell_type": "markdown",
   "id": "0a8e78c6-94e3-4646-b96b-269fcffcee7b",
   "metadata": {},
   "source": [
    "Since we are concerned with predicting well out-of -sample, we need to evaluate our model in the testing data. For that, we use the coefficient estimated in the training data and use it as a predictor in the testing data:"
   ]
  },
  {
   "cell_type": "code",
   "execution_count": 10,
   "id": "bcbea972-26d5-48a1-a322-9c0a942703a3",
   "metadata": {},
   "outputs": [],
   "source": [
    "#prediction on new data\n",
    "test$hat_lnw_m1<-predict(model1,newdata = test)"
   ]
  },
  {
   "cell_type": "markdown",
   "id": "77839d42-8882-4761-8db4-df6bc614f3ac",
   "metadata": {
    "lines_to_next_cell": 0
   },
   "source": [
    "Then we can calculate the out-of-sample performance using the MSE:\n",
    "\n",
    "$$\n",
    "test\\,MSE=E(( ln(w)-\\hat{ ln(w)})^2)\n",
    "$$ \n",
    "in `R`:"
   ]
  },
  {
   "cell_type": "code",
   "execution_count": 11,
   "id": "158d9d4b",
   "metadata": {},
   "outputs": [
    {
     "data": {
      "text/html": [
       "0.827608103583473"
      ],
      "text/latex": [
       "0.827608103583473"
      ],
      "text/markdown": [
       "0.827608103583473"
      ],
      "text/plain": [
       "[1] 0.8276081"
      ]
     },
     "metadata": {},
     "output_type": "display_data"
    }
   ],
   "source": [
    "with(test,mean((lnw_2016-hat_lnw_m1)^2))"
   ]
  },
  {
   "cell_type": "markdown",
   "id": "eafd03f2",
   "metadata": {},
   "source": [
    "This is quite a naive model that uses the sample average as a prediction. \n",
    "\n",
    "Let's see if we can improve (reduce the prediction error) this model.\n",
    "\n",
    "To improve our prediction, we can start adding explanatory variables. Let's begin by adding only one variable, `education (educ)`:\n",
    "\n",
    "\n",
    "\\begin{align}\n",
    " ln(w) & = \\beta_0 + \\beta_1 Educ + u \n",
    "\\end{align}"
   ]
  },
  {
   "cell_type": "code",
   "execution_count": 12,
   "id": "bbe39dc9",
   "metadata": {},
   "outputs": [],
   "source": [
    "model2<-lm(lnw_2016~educ,data=train)\n",
    "test$hat_lnw_m2<-predict(model2,newdata = test)"
   ]
  },
  {
   "cell_type": "markdown",
   "id": "ca1d11ac",
   "metadata": {
    "lines_to_next_cell": 0
   },
   "source": [
    "and evaluate the  out-of-sample performance"
   ]
  },
  {
   "cell_type": "code",
   "execution_count": 13,
   "id": "cb9cac15-8f34-4962-9bf1-c3a680bd6f4b",
   "metadata": {},
   "outputs": [
    {
     "data": {
      "text/html": [
       "0.796370489870419"
      ],
      "text/latex": [
       "0.796370489870419"
      ],
      "text/markdown": [
       "0.796370489870419"
      ],
      "text/plain": [
       "[1] 0.7963705"
      ]
     },
     "metadata": {},
     "output_type": "display_data"
    }
   ],
   "source": [
    "with(test,mean((lnw_2016-hat_lnw_m2)^2))"
   ]
  },
  {
   "cell_type": "markdown",
   "id": "b311451b-4af0-4638-a834-fa921cee1c71",
   "metadata": {},
   "source": [
    "There's a clear diminution in MSE. Let's add complexity by adding more variables:\n",
    "\n",
    "\n",
    "\n",
    "\\begin{align}\n",
    " ln(w) & = \\beta_0 + \\beta_1 Educ   + \\beta_2 Exp  + \\beta_3 Afqt + \\beta_4 Mom_Educ + \\beta_5 Dad_Educ  + u \n",
    "\\end{align}"
   ]
  },
  {
   "cell_type": "code",
   "execution_count": 14,
   "id": "7c152233-8bda-4e61-9853-160fb7790093",
   "metadata": {},
   "outputs": [],
   "source": [
    "model3<-lm(lnw_2016~educ + exp + afqt + mom_educ + dad_educ,data=train)\n",
    "test$hat_lnw_m3<-predict(model3,newdata = test)\n"
   ]
  },
  {
   "cell_type": "markdown",
   "id": "c52ccf7b",
   "metadata": {
    "lines_to_next_cell": 0
   },
   "source": [
    "The performance:"
   ]
  },
  {
   "cell_type": "code",
   "execution_count": 15,
   "id": "e06f8287-7756-4d88-99a2-2eb1285007fe",
   "metadata": {},
   "outputs": [
    {
     "data": {
      "text/html": [
       "0.788165936471574"
      ],
      "text/latex": [
       "0.788165936471574"
      ],
      "text/markdown": [
       "0.788165936471574"
      ],
      "text/plain": [
       "[1] 0.7881659"
      ]
     },
     "metadata": {},
     "output_type": "display_data"
    }
   ],
   "source": [
    "with(test,mean((lnw_2016-hat_lnw_m3)^2))"
   ]
  },
  {
   "cell_type": "markdown",
   "id": "129749c0-3299-475d-9448-8b8d194c253e",
   "metadata": {},
   "source": [
    "In this case, the MSE keeps improving. Is there a limit to this improvement? Can we keep adding features and complexity? What about an extremely complex model that includes polynomials and interactions."
   ]
  },
  {
   "cell_type": "code",
   "execution_count": 16,
   "id": "a5fc101d-6211-40d9-8dc2-4e2f8580d568",
   "metadata": {
    "lines_to_next_cell": 0
   },
   "outputs": [],
   "source": [
    "model4<-lm(lnw_2016~poly(educ,8,raw=TRUE):poly(exp,3,raw=TRUE):\n",
    "           poly(afqt,3,raw=TRUE)+ poly(mom_educ,3,raw=TRUE):\n",
    "           poly(dad_educ,3,raw=TRUE) +\n",
    "           black+hispanic + other,data=train)"
   ]
  },
  {
   "cell_type": "code",
   "execution_count": 17,
   "id": "d176735a",
   "metadata": {},
   "outputs": [
    {
     "data": {
      "text/plain": [
       "\n",
       "Call:\n",
       "lm(formula = lnw_2016 ~ poly(educ, 8, raw = TRUE):poly(exp, 3, \n",
       "    raw = TRUE):poly(afqt, 3, raw = TRUE) + poly(mom_educ, 3, \n",
       "    raw = TRUE):poly(dad_educ, 3, raw = TRUE) + black + hispanic + \n",
       "    other, data = train)\n",
       "\n",
       "Residuals:\n",
       "    Min      1Q  Median      3Q     Max \n",
       "-4.3946 -0.4240 -0.0107  0.3864  4.4914 \n",
       "\n",
       "Coefficients: (3 not defined because of singularities)\n",
       "                                                                                  Estimate\n",
       "(Intercept)                                                                      1.678e+00\n",
       "black                                                                           -3.327e-01\n",
       "hispanic                                                                         9.667e-02\n",
       "other                                                                           -6.667e-01\n",
       "poly(mom_educ, 3, raw = TRUE)1:poly(dad_educ, 3, raw = TRUE)1                    8.091e-02\n",
       "poly(mom_educ, 3, raw = TRUE)2:poly(dad_educ, 3, raw = TRUE)1                   -1.029e-02\n",
       "poly(mom_educ, 3, raw = TRUE)3:poly(dad_educ, 3, raw = TRUE)1                    3.944e-04\n",
       "poly(mom_educ, 3, raw = TRUE)1:poly(dad_educ, 3, raw = TRUE)2                   -4.911e-03\n",
       "poly(mom_educ, 3, raw = TRUE)2:poly(dad_educ, 3, raw = TRUE)2                    7.587e-04\n",
       "poly(mom_educ, 3, raw = TRUE)3:poly(dad_educ, 3, raw = TRUE)2                   -3.359e-05\n",
       "poly(mom_educ, 3, raw = TRUE)1:poly(dad_educ, 3, raw = TRUE)3                    3.688e-05\n",
       "poly(mom_educ, 3, raw = TRUE)2:poly(dad_educ, 3, raw = TRUE)3                   -9.727e-06\n",
       "poly(mom_educ, 3, raw = TRUE)3:poly(dad_educ, 3, raw = TRUE)3                    6.001e-07\n",
       "poly(educ, 8, raw = TRUE)1:poly(exp, 3, raw = TRUE)1:poly(afqt, 3, raw = TRUE)1  5.589e+01\n",
       "poly(educ, 8, raw = TRUE)2:poly(exp, 3, raw = TRUE)1:poly(afqt, 3, raw = TRUE)1 -5.493e+01\n",
       "poly(educ, 8, raw = TRUE)3:poly(exp, 3, raw = TRUE)1:poly(afqt, 3, raw = TRUE)1  1.653e+01\n",
       "poly(educ, 8, raw = TRUE)4:poly(exp, 3, raw = TRUE)1:poly(afqt, 3, raw = TRUE)1 -2.380e+00\n",
       "poly(educ, 8, raw = TRUE)5:poly(exp, 3, raw = TRUE)1:poly(afqt, 3, raw = TRUE)1  1.877e-01\n",
       "poly(educ, 8, raw = TRUE)6:poly(exp, 3, raw = TRUE)1:poly(afqt, 3, raw = TRUE)1 -8.326e-03\n",
       "poly(educ, 8, raw = TRUE)7:poly(exp, 3, raw = TRUE)1:poly(afqt, 3, raw = TRUE)1  1.952e-04\n",
       "poly(educ, 8, raw = TRUE)8:poly(exp, 3, raw = TRUE)1:poly(afqt, 3, raw = TRUE)1 -1.884e-06\n",
       "poly(educ, 8, raw = TRUE)1:poly(exp, 3, raw = TRUE)2:poly(afqt, 3, raw = TRUE)1 -6.793e+00\n",
       "poly(educ, 8, raw = TRUE)2:poly(exp, 3, raw = TRUE)2:poly(afqt, 3, raw = TRUE)1  5.617e+00\n",
       "poly(educ, 8, raw = TRUE)3:poly(exp, 3, raw = TRUE)2:poly(afqt, 3, raw = TRUE)1 -1.553e+00\n",
       "poly(educ, 8, raw = TRUE)4:poly(exp, 3, raw = TRUE)2:poly(afqt, 3, raw = TRUE)1  2.089e-01\n",
       "poly(educ, 8, raw = TRUE)5:poly(exp, 3, raw = TRUE)2:poly(afqt, 3, raw = TRUE)1 -1.538e-02\n",
       "poly(educ, 8, raw = TRUE)6:poly(exp, 3, raw = TRUE)2:poly(afqt, 3, raw = TRUE)1  6.320e-04\n",
       "poly(educ, 8, raw = TRUE)7:poly(exp, 3, raw = TRUE)2:poly(afqt, 3, raw = TRUE)1 -1.353e-05\n",
       "poly(educ, 8, raw = TRUE)8:poly(exp, 3, raw = TRUE)2:poly(afqt, 3, raw = TRUE)1  1.166e-07\n",
       "poly(educ, 8, raw = TRUE)1:poly(exp, 3, raw = TRUE)3:poly(afqt, 3, raw = TRUE)1  1.852e-01\n",
       "poly(educ, 8, raw = TRUE)2:poly(exp, 3, raw = TRUE)3:poly(afqt, 3, raw = TRUE)1 -1.335e-01\n",
       "poly(educ, 8, raw = TRUE)3:poly(exp, 3, raw = TRUE)3:poly(afqt, 3, raw = TRUE)1  3.367e-02\n",
       "poly(educ, 8, raw = TRUE)4:poly(exp, 3, raw = TRUE)3:poly(afqt, 3, raw = TRUE)1 -4.139e-03\n",
       "poly(educ, 8, raw = TRUE)5:poly(exp, 3, raw = TRUE)3:poly(afqt, 3, raw = TRUE)1  2.736e-04\n",
       "poly(educ, 8, raw = TRUE)6:poly(exp, 3, raw = TRUE)3:poly(afqt, 3, raw = TRUE)1 -9.728e-06\n",
       "poly(educ, 8, raw = TRUE)7:poly(exp, 3, raw = TRUE)3:poly(afqt, 3, raw = TRUE)1  1.678e-07\n",
       "poly(educ, 8, raw = TRUE)8:poly(exp, 3, raw = TRUE)3:poly(afqt, 3, raw = TRUE)1 -9.897e-10\n",
       "poly(educ, 8, raw = TRUE)1:poly(exp, 3, raw = TRUE)1:poly(afqt, 3, raw = TRUE)2 -1.509e+01\n",
       "poly(educ, 8, raw = TRUE)2:poly(exp, 3, raw = TRUE)1:poly(afqt, 3, raw = TRUE)2  1.299e+01\n",
       "poly(educ, 8, raw = TRUE)3:poly(exp, 3, raw = TRUE)1:poly(afqt, 3, raw = TRUE)2 -3.731e+00\n",
       "poly(educ, 8, raw = TRUE)4:poly(exp, 3, raw = TRUE)1:poly(afqt, 3, raw = TRUE)2  5.234e-01\n",
       "poly(educ, 8, raw = TRUE)5:poly(exp, 3, raw = TRUE)1:poly(afqt, 3, raw = TRUE)2 -4.050e-02\n",
       "poly(educ, 8, raw = TRUE)6:poly(exp, 3, raw = TRUE)1:poly(afqt, 3, raw = TRUE)2  1.766e-03\n",
       "poly(educ, 8, raw = TRUE)7:poly(exp, 3, raw = TRUE)1:poly(afqt, 3, raw = TRUE)2 -4.069e-05\n",
       "poly(educ, 8, raw = TRUE)8:poly(exp, 3, raw = TRUE)1:poly(afqt, 3, raw = TRUE)2  3.854e-07\n",
       "poly(educ, 8, raw = TRUE)1:poly(exp, 3, raw = TRUE)2:poly(afqt, 3, raw = TRUE)2  8.978e-01\n",
       "poly(educ, 8, raw = TRUE)2:poly(exp, 3, raw = TRUE)2:poly(afqt, 3, raw = TRUE)2 -8.697e-01\n",
       "poly(educ, 8, raw = TRUE)3:poly(exp, 3, raw = TRUE)2:poly(afqt, 3, raw = TRUE)2  2.507e-01\n",
       "poly(educ, 8, raw = TRUE)4:poly(exp, 3, raw = TRUE)2:poly(afqt, 3, raw = TRUE)2 -3.387e-02\n",
       "poly(educ, 8, raw = TRUE)5:poly(exp, 3, raw = TRUE)2:poly(afqt, 3, raw = TRUE)2  2.447e-03\n",
       "poly(educ, 8, raw = TRUE)6:poly(exp, 3, raw = TRUE)2:poly(afqt, 3, raw = TRUE)2 -9.653e-05\n",
       "poly(educ, 8, raw = TRUE)7:poly(exp, 3, raw = TRUE)2:poly(afqt, 3, raw = TRUE)2  1.930e-06\n",
       "poly(educ, 8, raw = TRUE)8:poly(exp, 3, raw = TRUE)2:poly(afqt, 3, raw = TRUE)2 -1.487e-08\n",
       "poly(educ, 8, raw = TRUE)1:poly(exp, 3, raw = TRUE)3:poly(afqt, 3, raw = TRUE)2 -1.884e-02\n",
       "poly(educ, 8, raw = TRUE)2:poly(exp, 3, raw = TRUE)3:poly(afqt, 3, raw = TRUE)2  1.711e-02\n",
       "poly(educ, 8, raw = TRUE)3:poly(exp, 3, raw = TRUE)3:poly(afqt, 3, raw = TRUE)2 -4.592e-03\n",
       "poly(educ, 8, raw = TRUE)4:poly(exp, 3, raw = TRUE)3:poly(afqt, 3, raw = TRUE)2  5.625e-04\n",
       "poly(educ, 8, raw = TRUE)5:poly(exp, 3, raw = TRUE)3:poly(afqt, 3, raw = TRUE)2 -3.517e-05\n",
       "poly(educ, 8, raw = TRUE)6:poly(exp, 3, raw = TRUE)3:poly(afqt, 3, raw = TRUE)2  1.093e-06\n",
       "poly(educ, 8, raw = TRUE)7:poly(exp, 3, raw = TRUE)3:poly(afqt, 3, raw = TRUE)2 -1.340e-08\n",
       "poly(educ, 8, raw = TRUE)8:poly(exp, 3, raw = TRUE)3:poly(afqt, 3, raw = TRUE)2         NA\n",
       "poly(educ, 8, raw = TRUE)1:poly(exp, 3, raw = TRUE)1:poly(afqt, 3, raw = TRUE)3  8.105e-01\n",
       "poly(educ, 8, raw = TRUE)2:poly(exp, 3, raw = TRUE)1:poly(afqt, 3, raw = TRUE)3 -6.194e-01\n",
       "poly(educ, 8, raw = TRUE)3:poly(exp, 3, raw = TRUE)1:poly(afqt, 3, raw = TRUE)3  1.704e-01\n",
       "poly(educ, 8, raw = TRUE)4:poly(exp, 3, raw = TRUE)1:poly(afqt, 3, raw = TRUE)3 -2.337e-02\n",
       "poly(educ, 8, raw = TRUE)5:poly(exp, 3, raw = TRUE)1:poly(afqt, 3, raw = TRUE)3  1.779e-03\n",
       "poly(educ, 8, raw = TRUE)6:poly(exp, 3, raw = TRUE)1:poly(afqt, 3, raw = TRUE)3 -7.642e-05\n",
       "poly(educ, 8, raw = TRUE)7:poly(exp, 3, raw = TRUE)1:poly(afqt, 3, raw = TRUE)3  1.734e-06\n",
       "poly(educ, 8, raw = TRUE)8:poly(exp, 3, raw = TRUE)1:poly(afqt, 3, raw = TRUE)3 -1.613e-08\n",
       "poly(educ, 8, raw = TRUE)1:poly(exp, 3, raw = TRUE)2:poly(afqt, 3, raw = TRUE)3  1.416e-02\n",
       "poly(educ, 8, raw = TRUE)2:poly(exp, 3, raw = TRUE)2:poly(afqt, 3, raw = TRUE)3  7.846e-03\n",
       "poly(educ, 8, raw = TRUE)3:poly(exp, 3, raw = TRUE)2:poly(afqt, 3, raw = TRUE)3 -3.992e-03\n",
       "poly(educ, 8, raw = TRUE)4:poly(exp, 3, raw = TRUE)2:poly(afqt, 3, raw = TRUE)3  6.113e-04\n",
       "poly(educ, 8, raw = TRUE)5:poly(exp, 3, raw = TRUE)2:poly(afqt, 3, raw = TRUE)3 -4.319e-05\n",
       "poly(educ, 8, raw = TRUE)6:poly(exp, 3, raw = TRUE)2:poly(afqt, 3, raw = TRUE)3  1.458e-06\n",
       "poly(educ, 8, raw = TRUE)7:poly(exp, 3, raw = TRUE)2:poly(afqt, 3, raw = TRUE)3 -1.903e-08\n",
       "poly(educ, 8, raw = TRUE)8:poly(exp, 3, raw = TRUE)2:poly(afqt, 3, raw = TRUE)3         NA\n",
       "poly(educ, 8, raw = TRUE)1:poly(exp, 3, raw = TRUE)3:poly(afqt, 3, raw = TRUE)3 -7.440e-04\n",
       "poly(educ, 8, raw = TRUE)2:poly(exp, 3, raw = TRUE)3:poly(afqt, 3, raw = TRUE)3  6.903e-05\n",
       "poly(educ, 8, raw = TRUE)3:poly(exp, 3, raw = TRUE)3:poly(afqt, 3, raw = TRUE)3  2.724e-05\n",
       "poly(educ, 8, raw = TRUE)4:poly(exp, 3, raw = TRUE)3:poly(afqt, 3, raw = TRUE)3 -4.943e-06\n",
       "poly(educ, 8, raw = TRUE)5:poly(exp, 3, raw = TRUE)3:poly(afqt, 3, raw = TRUE)3  2.554e-07\n",
       "poly(educ, 8, raw = TRUE)6:poly(exp, 3, raw = TRUE)3:poly(afqt, 3, raw = TRUE)3         NA\n",
       "poly(educ, 8, raw = TRUE)7:poly(exp, 3, raw = TRUE)3:poly(afqt, 3, raw = TRUE)3 -3.373e-10\n",
       "poly(educ, 8, raw = TRUE)8:poly(exp, 3, raw = TRUE)3:poly(afqt, 3, raw = TRUE)3  6.812e-12\n",
       "                                                                                Std. Error\n",
       "(Intercept)                                                                      9.096e-01\n",
       "black                                                                            8.078e-02\n",
       "hispanic                                                                         8.826e-02\n",
       "other                                                                            3.110e-01\n",
       "poly(mom_educ, 3, raw = TRUE)1:poly(dad_educ, 3, raw = TRUE)1                    1.325e-01\n",
       "poly(mom_educ, 3, raw = TRUE)2:poly(dad_educ, 3, raw = TRUE)1                    1.573e-02\n",
       "poly(mom_educ, 3, raw = TRUE)3:poly(dad_educ, 3, raw = TRUE)1                    5.108e-04\n",
       "poly(mom_educ, 3, raw = TRUE)1:poly(dad_educ, 3, raw = TRUE)2                    1.591e-02\n",
       "poly(mom_educ, 3, raw = TRUE)2:poly(dad_educ, 3, raw = TRUE)2                    1.994e-03\n",
       "poly(mom_educ, 3, raw = TRUE)3:poly(dad_educ, 3, raw = TRUE)2                    6.555e-05\n",
       "poly(mom_educ, 3, raw = TRUE)1:poly(dad_educ, 3, raw = TRUE)3                    5.073e-04\n",
       "poly(mom_educ, 3, raw = TRUE)2:poly(dad_educ, 3, raw = TRUE)3                    6.419e-05\n",
       "poly(mom_educ, 3, raw = TRUE)3:poly(dad_educ, 3, raw = TRUE)3                    2.098e-06\n",
       "poly(educ, 8, raw = TRUE)1:poly(exp, 3, raw = TRUE)1:poly(afqt, 3, raw = TRUE)1  2.800e+02\n",
       "poly(educ, 8, raw = TRUE)2:poly(exp, 3, raw = TRUE)1:poly(afqt, 3, raw = TRUE)1  1.308e+02\n",
       "poly(educ, 8, raw = TRUE)3:poly(exp, 3, raw = TRUE)1:poly(afqt, 3, raw = TRUE)1  2.569e+01\n",
       "poly(educ, 8, raw = TRUE)4:poly(exp, 3, raw = TRUE)1:poly(afqt, 3, raw = TRUE)1  2.756e+00\n",
       "poly(educ, 8, raw = TRUE)5:poly(exp, 3, raw = TRUE)1:poly(afqt, 3, raw = TRUE)1  1.747e-01\n",
       "poly(educ, 8, raw = TRUE)6:poly(exp, 3, raw = TRUE)1:poly(afqt, 3, raw = TRUE)1  6.559e-03\n",
       "poly(educ, 8, raw = TRUE)7:poly(exp, 3, raw = TRUE)1:poly(afqt, 3, raw = TRUE)1  1.353e-04\n",
       "poly(educ, 8, raw = TRUE)8:poly(exp, 3, raw = TRUE)1:poly(afqt, 3, raw = TRUE)1  1.186e-06\n",
       "poly(educ, 8, raw = TRUE)1:poly(exp, 3, raw = TRUE)2:poly(afqt, 3, raw = TRUE)1  2.169e+01\n",
       "poly(educ, 8, raw = TRUE)2:poly(exp, 3, raw = TRUE)2:poly(afqt, 3, raw = TRUE)1  9.850e+00\n",
       "poly(educ, 8, raw = TRUE)3:poly(exp, 3, raw = TRUE)2:poly(afqt, 3, raw = TRUE)1  1.883e+00\n",
       "poly(educ, 8, raw = TRUE)4:poly(exp, 3, raw = TRUE)2:poly(afqt, 3, raw = TRUE)1  1.972e-01\n",
       "poly(educ, 8, raw = TRUE)5:poly(exp, 3, raw = TRUE)2:poly(afqt, 3, raw = TRUE)1  1.228e-02\n",
       "poly(educ, 8, raw = TRUE)6:poly(exp, 3, raw = TRUE)2:poly(afqt, 3, raw = TRUE)1  4.574e-04\n",
       "poly(educ, 8, raw = TRUE)7:poly(exp, 3, raw = TRUE)2:poly(afqt, 3, raw = TRUE)1  9.475e-06\n",
       "poly(educ, 8, raw = TRUE)8:poly(exp, 3, raw = TRUE)2:poly(afqt, 3, raw = TRUE)1  8.449e-08\n",
       "poly(educ, 8, raw = TRUE)1:poly(exp, 3, raw = TRUE)3:poly(afqt, 3, raw = TRUE)1  4.429e-01\n",
       "poly(educ, 8, raw = TRUE)2:poly(exp, 3, raw = TRUE)3:poly(afqt, 3, raw = TRUE)1  1.999e-01\n",
       "poly(educ, 8, raw = TRUE)3:poly(exp, 3, raw = TRUE)3:poly(afqt, 3, raw = TRUE)1  3.821e-02\n",
       "poly(educ, 8, raw = TRUE)4:poly(exp, 3, raw = TRUE)3:poly(afqt, 3, raw = TRUE)1  4.027e-03\n",
       "poly(educ, 8, raw = TRUE)5:poly(exp, 3, raw = TRUE)3:poly(afqt, 3, raw = TRUE)1  2.538e-04\n",
       "poly(educ, 8, raw = TRUE)6:poly(exp, 3, raw = TRUE)3:poly(afqt, 3, raw = TRUE)1  9.602e-06\n",
       "poly(educ, 8, raw = TRUE)7:poly(exp, 3, raw = TRUE)3:poly(afqt, 3, raw = TRUE)1  2.039e-07\n",
       "poly(educ, 8, raw = TRUE)8:poly(exp, 3, raw = TRUE)3:poly(afqt, 3, raw = TRUE)1  1.917e-09\n",
       "poly(educ, 8, raw = TRUE)1:poly(exp, 3, raw = TRUE)1:poly(afqt, 3, raw = TRUE)2  8.801e+01\n",
       "poly(educ, 8, raw = TRUE)2:poly(exp, 3, raw = TRUE)1:poly(afqt, 3, raw = TRUE)2  4.001e+01\n",
       "poly(educ, 8, raw = TRUE)3:poly(exp, 3, raw = TRUE)1:poly(afqt, 3, raw = TRUE)2  7.628e+00\n",
       "poly(educ, 8, raw = TRUE)4:poly(exp, 3, raw = TRUE)1:poly(afqt, 3, raw = TRUE)2  7.912e-01\n",
       "poly(educ, 8, raw = TRUE)5:poly(exp, 3, raw = TRUE)1:poly(afqt, 3, raw = TRUE)2  4.823e-02\n",
       "poly(educ, 8, raw = TRUE)6:poly(exp, 3, raw = TRUE)1:poly(afqt, 3, raw = TRUE)2  1.728e-03\n",
       "poly(educ, 8, raw = TRUE)7:poly(exp, 3, raw = TRUE)1:poly(afqt, 3, raw = TRUE)2  3.375e-05\n",
       "poly(educ, 8, raw = TRUE)8:poly(exp, 3, raw = TRUE)1:poly(afqt, 3, raw = TRUE)2  2.772e-07\n",
       "poly(educ, 8, raw = TRUE)1:poly(exp, 3, raw = TRUE)2:poly(afqt, 3, raw = TRUE)2  6.429e+00\n",
       "poly(educ, 8, raw = TRUE)2:poly(exp, 3, raw = TRUE)2:poly(afqt, 3, raw = TRUE)2  2.768e+00\n",
       "poly(educ, 8, raw = TRUE)3:poly(exp, 3, raw = TRUE)2:poly(afqt, 3, raw = TRUE)2  4.945e-01\n",
       "poly(educ, 8, raw = TRUE)4:poly(exp, 3, raw = TRUE)2:poly(afqt, 3, raw = TRUE)2  4.743e-02\n",
       "poly(educ, 8, raw = TRUE)5:poly(exp, 3, raw = TRUE)2:poly(afqt, 3, raw = TRUE)2  2.631e-03\n",
       "poly(educ, 8, raw = TRUE)6:poly(exp, 3, raw = TRUE)2:poly(afqt, 3, raw = TRUE)2  8.422e-05\n",
       "poly(educ, 8, raw = TRUE)7:poly(exp, 3, raw = TRUE)2:poly(afqt, 3, raw = TRUE)2  1.437e-06\n",
       "poly(educ, 8, raw = TRUE)8:poly(exp, 3, raw = TRUE)2:poly(afqt, 3, raw = TRUE)2  1.012e-08\n",
       "poly(educ, 8, raw = TRUE)1:poly(exp, 3, raw = TRUE)3:poly(afqt, 3, raw = TRUE)2  1.216e-01\n",
       "poly(educ, 8, raw = TRUE)2:poly(exp, 3, raw = TRUE)3:poly(afqt, 3, raw = TRUE)2  5.031e-02\n",
       "poly(educ, 8, raw = TRUE)3:poly(exp, 3, raw = TRUE)3:poly(afqt, 3, raw = TRUE)2  8.593e-03\n",
       "poly(educ, 8, raw = TRUE)4:poly(exp, 3, raw = TRUE)3:poly(afqt, 3, raw = TRUE)2  7.809e-04\n",
       "poly(educ, 8, raw = TRUE)5:poly(exp, 3, raw = TRUE)3:poly(afqt, 3, raw = TRUE)2  4.017e-05\n",
       "poly(educ, 8, raw = TRUE)6:poly(exp, 3, raw = TRUE)3:poly(afqt, 3, raw = TRUE)2  1.117e-06\n",
       "poly(educ, 8, raw = TRUE)7:poly(exp, 3, raw = TRUE)3:poly(afqt, 3, raw = TRUE)2  1.317e-08\n",
       "poly(educ, 8, raw = TRUE)8:poly(exp, 3, raw = TRUE)3:poly(afqt, 3, raw = TRUE)2         NA\n",
       "poly(educ, 8, raw = TRUE)1:poly(exp, 3, raw = TRUE)1:poly(afqt, 3, raw = TRUE)3  7.102e+00\n",
       "poly(educ, 8, raw = TRUE)2:poly(exp, 3, raw = TRUE)1:poly(afqt, 3, raw = TRUE)3  3.142e+00\n",
       "poly(educ, 8, raw = TRUE)3:poly(exp, 3, raw = TRUE)1:poly(afqt, 3, raw = TRUE)3  5.834e-01\n",
       "poly(educ, 8, raw = TRUE)4:poly(exp, 3, raw = TRUE)1:poly(afqt, 3, raw = TRUE)3  5.888e-02\n",
       "poly(educ, 8, raw = TRUE)5:poly(exp, 3, raw = TRUE)1:poly(afqt, 3, raw = TRUE)3  3.485e-03\n",
       "poly(educ, 8, raw = TRUE)6:poly(exp, 3, raw = TRUE)1:poly(afqt, 3, raw = TRUE)3  1.209e-04\n",
       "poly(educ, 8, raw = TRUE)7:poly(exp, 3, raw = TRUE)1:poly(afqt, 3, raw = TRUE)3  2.272e-06\n",
       "poly(educ, 8, raw = TRUE)8:poly(exp, 3, raw = TRUE)1:poly(afqt, 3, raw = TRUE)3  1.787e-08\n",
       "poly(educ, 8, raw = TRUE)1:poly(exp, 3, raw = TRUE)2:poly(afqt, 3, raw = TRUE)3  5.006e-01\n",
       "poly(educ, 8, raw = TRUE)2:poly(exp, 3, raw = TRUE)2:poly(afqt, 3, raw = TRUE)3  2.055e-01\n",
       "poly(educ, 8, raw = TRUE)3:poly(exp, 3, raw = TRUE)2:poly(afqt, 3, raw = TRUE)3  3.464e-02\n",
       "poly(educ, 8, raw = TRUE)4:poly(exp, 3, raw = TRUE)2:poly(afqt, 3, raw = TRUE)3  3.066e-03\n",
       "poly(educ, 8, raw = TRUE)5:poly(exp, 3, raw = TRUE)2:poly(afqt, 3, raw = TRUE)3  1.504e-04\n",
       "poly(educ, 8, raw = TRUE)6:poly(exp, 3, raw = TRUE)2:poly(afqt, 3, raw = TRUE)3  3.880e-06\n",
       "poly(educ, 8, raw = TRUE)7:poly(exp, 3, raw = TRUE)2:poly(afqt, 3, raw = TRUE)3  4.121e-08\n",
       "poly(educ, 8, raw = TRUE)8:poly(exp, 3, raw = TRUE)2:poly(afqt, 3, raw = TRUE)3         NA\n",
       "poly(educ, 8, raw = TRUE)1:poly(exp, 3, raw = TRUE)3:poly(afqt, 3, raw = TRUE)3  8.832e-03\n",
       "poly(educ, 8, raw = TRUE)2:poly(exp, 3, raw = TRUE)3:poly(afqt, 3, raw = TRUE)3  3.335e-03\n",
       "poly(educ, 8, raw = TRUE)3:poly(exp, 3, raw = TRUE)3:poly(afqt, 3, raw = TRUE)3  4.978e-04\n",
       "poly(educ, 8, raw = TRUE)4:poly(exp, 3, raw = TRUE)3:poly(afqt, 3, raw = TRUE)3  3.618e-05\n",
       "poly(educ, 8, raw = TRUE)5:poly(exp, 3, raw = TRUE)3:poly(afqt, 3, raw = TRUE)3  1.170e-06\n",
       "poly(educ, 8, raw = TRUE)6:poly(exp, 3, raw = TRUE)3:poly(afqt, 3, raw = TRUE)3         NA\n",
       "poly(educ, 8, raw = TRUE)7:poly(exp, 3, raw = TRUE)3:poly(afqt, 3, raw = TRUE)3  9.730e-10\n",
       "poly(educ, 8, raw = TRUE)8:poly(exp, 3, raw = TRUE)3:poly(afqt, 3, raw = TRUE)3  1.818e-11\n",
       "                                                                                t value\n",
       "(Intercept)                                                                       1.845\n",
       "black                                                                            -4.119\n",
       "hispanic                                                                          1.095\n",
       "other                                                                            -2.144\n",
       "poly(mom_educ, 3, raw = TRUE)1:poly(dad_educ, 3, raw = TRUE)1                     0.611\n",
       "poly(mom_educ, 3, raw = TRUE)2:poly(dad_educ, 3, raw = TRUE)1                    -0.654\n",
       "poly(mom_educ, 3, raw = TRUE)3:poly(dad_educ, 3, raw = TRUE)1                     0.772\n",
       "poly(mom_educ, 3, raw = TRUE)1:poly(dad_educ, 3, raw = TRUE)2                    -0.309\n",
       "poly(mom_educ, 3, raw = TRUE)2:poly(dad_educ, 3, raw = TRUE)2                     0.381\n",
       "poly(mom_educ, 3, raw = TRUE)3:poly(dad_educ, 3, raw = TRUE)2                    -0.512\n",
       "poly(mom_educ, 3, raw = TRUE)1:poly(dad_educ, 3, raw = TRUE)3                     0.073\n",
       "poly(mom_educ, 3, raw = TRUE)2:poly(dad_educ, 3, raw = TRUE)3                    -0.152\n",
       "poly(mom_educ, 3, raw = TRUE)3:poly(dad_educ, 3, raw = TRUE)3                     0.286\n",
       "poly(educ, 8, raw = TRUE)1:poly(exp, 3, raw = TRUE)1:poly(afqt, 3, raw = TRUE)1   0.200\n",
       "poly(educ, 8, raw = TRUE)2:poly(exp, 3, raw = TRUE)1:poly(afqt, 3, raw = TRUE)1  -0.420\n",
       "poly(educ, 8, raw = TRUE)3:poly(exp, 3, raw = TRUE)1:poly(afqt, 3, raw = TRUE)1   0.643\n",
       "poly(educ, 8, raw = TRUE)4:poly(exp, 3, raw = TRUE)1:poly(afqt, 3, raw = TRUE)1  -0.863\n",
       "poly(educ, 8, raw = TRUE)5:poly(exp, 3, raw = TRUE)1:poly(afqt, 3, raw = TRUE)1   1.074\n",
       "poly(educ, 8, raw = TRUE)6:poly(exp, 3, raw = TRUE)1:poly(afqt, 3, raw = TRUE)1  -1.269\n",
       "poly(educ, 8, raw = TRUE)7:poly(exp, 3, raw = TRUE)1:poly(afqt, 3, raw = TRUE)1   1.443\n",
       "poly(educ, 8, raw = TRUE)8:poly(exp, 3, raw = TRUE)1:poly(afqt, 3, raw = TRUE)1  -1.588\n",
       "poly(educ, 8, raw = TRUE)1:poly(exp, 3, raw = TRUE)2:poly(afqt, 3, raw = TRUE)1  -0.313\n",
       "poly(educ, 8, raw = TRUE)2:poly(exp, 3, raw = TRUE)2:poly(afqt, 3, raw = TRUE)1   0.570\n",
       "poly(educ, 8, raw = TRUE)3:poly(exp, 3, raw = TRUE)2:poly(afqt, 3, raw = TRUE)1  -0.825\n",
       "poly(educ, 8, raw = TRUE)4:poly(exp, 3, raw = TRUE)2:poly(afqt, 3, raw = TRUE)1   1.059\n",
       "poly(educ, 8, raw = TRUE)5:poly(exp, 3, raw = TRUE)2:poly(afqt, 3, raw = TRUE)1  -1.253\n",
       "poly(educ, 8, raw = TRUE)6:poly(exp, 3, raw = TRUE)2:poly(afqt, 3, raw = TRUE)1   1.382\n",
       "poly(educ, 8, raw = TRUE)7:poly(exp, 3, raw = TRUE)2:poly(afqt, 3, raw = TRUE)1  -1.428\n",
       "poly(educ, 8, raw = TRUE)8:poly(exp, 3, raw = TRUE)2:poly(afqt, 3, raw = TRUE)1   1.380\n",
       "poly(educ, 8, raw = TRUE)1:poly(exp, 3, raw = TRUE)3:poly(afqt, 3, raw = TRUE)1   0.418\n",
       "poly(educ, 8, raw = TRUE)2:poly(exp, 3, raw = TRUE)3:poly(afqt, 3, raw = TRUE)1  -0.668\n",
       "poly(educ, 8, raw = TRUE)3:poly(exp, 3, raw = TRUE)3:poly(afqt, 3, raw = TRUE)1   0.881\n",
       "poly(educ, 8, raw = TRUE)4:poly(exp, 3, raw = TRUE)3:poly(afqt, 3, raw = TRUE)1  -1.028\n",
       "poly(educ, 8, raw = TRUE)5:poly(exp, 3, raw = TRUE)3:poly(afqt, 3, raw = TRUE)1   1.078\n",
       "poly(educ, 8, raw = TRUE)6:poly(exp, 3, raw = TRUE)3:poly(afqt, 3, raw = TRUE)1  -1.013\n",
       "poly(educ, 8, raw = TRUE)7:poly(exp, 3, raw = TRUE)3:poly(afqt, 3, raw = TRUE)1   0.823\n",
       "poly(educ, 8, raw = TRUE)8:poly(exp, 3, raw = TRUE)3:poly(afqt, 3, raw = TRUE)1  -0.516\n",
       "poly(educ, 8, raw = TRUE)1:poly(exp, 3, raw = TRUE)1:poly(afqt, 3, raw = TRUE)2  -0.171\n",
       "poly(educ, 8, raw = TRUE)2:poly(exp, 3, raw = TRUE)1:poly(afqt, 3, raw = TRUE)2   0.325\n",
       "poly(educ, 8, raw = TRUE)3:poly(exp, 3, raw = TRUE)1:poly(afqt, 3, raw = TRUE)2  -0.489\n",
       "poly(educ, 8, raw = TRUE)4:poly(exp, 3, raw = TRUE)1:poly(afqt, 3, raw = TRUE)2   0.662\n",
       "poly(educ, 8, raw = TRUE)5:poly(exp, 3, raw = TRUE)1:poly(afqt, 3, raw = TRUE)2  -0.840\n",
       "poly(educ, 8, raw = TRUE)6:poly(exp, 3, raw = TRUE)1:poly(afqt, 3, raw = TRUE)2   1.022\n",
       "poly(educ, 8, raw = TRUE)7:poly(exp, 3, raw = TRUE)1:poly(afqt, 3, raw = TRUE)2  -1.206\n",
       "poly(educ, 8, raw = TRUE)8:poly(exp, 3, raw = TRUE)1:poly(afqt, 3, raw = TRUE)2   1.390\n",
       "poly(educ, 8, raw = TRUE)1:poly(exp, 3, raw = TRUE)2:poly(afqt, 3, raw = TRUE)2   0.140\n",
       "poly(educ, 8, raw = TRUE)2:poly(exp, 3, raw = TRUE)2:poly(afqt, 3, raw = TRUE)2  -0.314\n",
       "poly(educ, 8, raw = TRUE)3:poly(exp, 3, raw = TRUE)2:poly(afqt, 3, raw = TRUE)2   0.507\n",
       "poly(educ, 8, raw = TRUE)4:poly(exp, 3, raw = TRUE)2:poly(afqt, 3, raw = TRUE)2  -0.714\n",
       "poly(educ, 8, raw = TRUE)5:poly(exp, 3, raw = TRUE)2:poly(afqt, 3, raw = TRUE)2   0.930\n",
       "poly(educ, 8, raw = TRUE)6:poly(exp, 3, raw = TRUE)2:poly(afqt, 3, raw = TRUE)2  -1.146\n",
       "poly(educ, 8, raw = TRUE)7:poly(exp, 3, raw = TRUE)2:poly(afqt, 3, raw = TRUE)2   1.343\n",
       "poly(educ, 8, raw = TRUE)8:poly(exp, 3, raw = TRUE)2:poly(afqt, 3, raw = TRUE)2  -1.469\n",
       "poly(educ, 8, raw = TRUE)1:poly(exp, 3, raw = TRUE)3:poly(afqt, 3, raw = TRUE)2  -0.155\n",
       "poly(educ, 8, raw = TRUE)2:poly(exp, 3, raw = TRUE)3:poly(afqt, 3, raw = TRUE)2   0.340\n",
       "poly(educ, 8, raw = TRUE)3:poly(exp, 3, raw = TRUE)3:poly(afqt, 3, raw = TRUE)2  -0.534\n",
       "poly(educ, 8, raw = TRUE)4:poly(exp, 3, raw = TRUE)3:poly(afqt, 3, raw = TRUE)2   0.720\n",
       "poly(educ, 8, raw = TRUE)5:poly(exp, 3, raw = TRUE)3:poly(afqt, 3, raw = TRUE)2  -0.875\n",
       "poly(educ, 8, raw = TRUE)6:poly(exp, 3, raw = TRUE)3:poly(afqt, 3, raw = TRUE)2   0.979\n",
       "poly(educ, 8, raw = TRUE)7:poly(exp, 3, raw = TRUE)3:poly(afqt, 3, raw = TRUE)2  -1.018\n",
       "poly(educ, 8, raw = TRUE)8:poly(exp, 3, raw = TRUE)3:poly(afqt, 3, raw = TRUE)2      NA\n",
       "poly(educ, 8, raw = TRUE)1:poly(exp, 3, raw = TRUE)1:poly(afqt, 3, raw = TRUE)3   0.114\n",
       "poly(educ, 8, raw = TRUE)2:poly(exp, 3, raw = TRUE)1:poly(afqt, 3, raw = TRUE)3  -0.197\n",
       "poly(educ, 8, raw = TRUE)3:poly(exp, 3, raw = TRUE)1:poly(afqt, 3, raw = TRUE)3   0.292\n",
       "poly(educ, 8, raw = TRUE)4:poly(exp, 3, raw = TRUE)1:poly(afqt, 3, raw = TRUE)3  -0.397\n",
       "poly(educ, 8, raw = TRUE)5:poly(exp, 3, raw = TRUE)1:poly(afqt, 3, raw = TRUE)3   0.510\n",
       "poly(educ, 8, raw = TRUE)6:poly(exp, 3, raw = TRUE)1:poly(afqt, 3, raw = TRUE)3  -0.632\n",
       "poly(educ, 8, raw = TRUE)7:poly(exp, 3, raw = TRUE)1:poly(afqt, 3, raw = TRUE)3   0.763\n",
       "poly(educ, 8, raw = TRUE)8:poly(exp, 3, raw = TRUE)1:poly(afqt, 3, raw = TRUE)3  -0.903\n",
       "poly(educ, 8, raw = TRUE)1:poly(exp, 3, raw = TRUE)2:poly(afqt, 3, raw = TRUE)3   0.028\n",
       "poly(educ, 8, raw = TRUE)2:poly(exp, 3, raw = TRUE)2:poly(afqt, 3, raw = TRUE)3   0.038\n",
       "poly(educ, 8, raw = TRUE)3:poly(exp, 3, raw = TRUE)2:poly(afqt, 3, raw = TRUE)3  -0.115\n",
       "poly(educ, 8, raw = TRUE)4:poly(exp, 3, raw = TRUE)2:poly(afqt, 3, raw = TRUE)3   0.199\n",
       "poly(educ, 8, raw = TRUE)5:poly(exp, 3, raw = TRUE)2:poly(afqt, 3, raw = TRUE)3  -0.287\n",
       "poly(educ, 8, raw = TRUE)6:poly(exp, 3, raw = TRUE)2:poly(afqt, 3, raw = TRUE)3   0.376\n",
       "poly(educ, 8, raw = TRUE)7:poly(exp, 3, raw = TRUE)2:poly(afqt, 3, raw = TRUE)3  -0.462\n",
       "poly(educ, 8, raw = TRUE)8:poly(exp, 3, raw = TRUE)2:poly(afqt, 3, raw = TRUE)3      NA\n",
       "poly(educ, 8, raw = TRUE)1:poly(exp, 3, raw = TRUE)3:poly(afqt, 3, raw = TRUE)3  -0.084\n",
       "poly(educ, 8, raw = TRUE)2:poly(exp, 3, raw = TRUE)3:poly(afqt, 3, raw = TRUE)3   0.021\n",
       "poly(educ, 8, raw = TRUE)3:poly(exp, 3, raw = TRUE)3:poly(afqt, 3, raw = TRUE)3   0.055\n",
       "poly(educ, 8, raw = TRUE)4:poly(exp, 3, raw = TRUE)3:poly(afqt, 3, raw = TRUE)3  -0.137\n",
       "poly(educ, 8, raw = TRUE)5:poly(exp, 3, raw = TRUE)3:poly(afqt, 3, raw = TRUE)3   0.218\n",
       "poly(educ, 8, raw = TRUE)6:poly(exp, 3, raw = TRUE)3:poly(afqt, 3, raw = TRUE)3      NA\n",
       "poly(educ, 8, raw = TRUE)7:poly(exp, 3, raw = TRUE)3:poly(afqt, 3, raw = TRUE)3  -0.347\n",
       "poly(educ, 8, raw = TRUE)8:poly(exp, 3, raw = TRUE)3:poly(afqt, 3, raw = TRUE)3   0.375\n",
       "                                                                                Pr(>|t|)\n",
       "(Intercept)                                                                       0.0654\n",
       "black                                                                           4.19e-05\n",
       "hispanic                                                                          0.2737\n",
       "other                                                                             0.0323\n",
       "poly(mom_educ, 3, raw = TRUE)1:poly(dad_educ, 3, raw = TRUE)1                     0.5415\n",
       "poly(mom_educ, 3, raw = TRUE)2:poly(dad_educ, 3, raw = TRUE)1                     0.5133\n",
       "poly(mom_educ, 3, raw = TRUE)3:poly(dad_educ, 3, raw = TRUE)1                     0.4402\n",
       "poly(mom_educ, 3, raw = TRUE)1:poly(dad_educ, 3, raw = TRUE)2                     0.7576\n",
       "poly(mom_educ, 3, raw = TRUE)2:poly(dad_educ, 3, raw = TRUE)2                     0.7037\n",
       "poly(mom_educ, 3, raw = TRUE)3:poly(dad_educ, 3, raw = TRUE)2                     0.6085\n",
       "poly(mom_educ, 3, raw = TRUE)1:poly(dad_educ, 3, raw = TRUE)3                     0.9421\n",
       "poly(mom_educ, 3, raw = TRUE)2:poly(dad_educ, 3, raw = TRUE)3                     0.8796\n",
       "poly(mom_educ, 3, raw = TRUE)3:poly(dad_educ, 3, raw = TRUE)3                     0.7749\n",
       "poly(educ, 8, raw = TRUE)1:poly(exp, 3, raw = TRUE)1:poly(afqt, 3, raw = TRUE)1   0.8419\n",
       "poly(educ, 8, raw = TRUE)2:poly(exp, 3, raw = TRUE)1:poly(afqt, 3, raw = TRUE)1   0.6746\n",
       "poly(educ, 8, raw = TRUE)3:poly(exp, 3, raw = TRUE)1:poly(afqt, 3, raw = TRUE)1   0.5202\n",
       "poly(educ, 8, raw = TRUE)4:poly(exp, 3, raw = TRUE)1:poly(afqt, 3, raw = TRUE)1   0.3882\n",
       "poly(educ, 8, raw = TRUE)5:poly(exp, 3, raw = TRUE)1:poly(afqt, 3, raw = TRUE)1   0.2831\n",
       "poly(educ, 8, raw = TRUE)6:poly(exp, 3, raw = TRUE)1:poly(afqt, 3, raw = TRUE)1   0.2046\n",
       "poly(educ, 8, raw = TRUE)7:poly(exp, 3, raw = TRUE)1:poly(afqt, 3, raw = TRUE)1   0.1494\n",
       "poly(educ, 8, raw = TRUE)8:poly(exp, 3, raw = TRUE)1:poly(afqt, 3, raw = TRUE)1   0.1128\n",
       "poly(educ, 8, raw = TRUE)1:poly(exp, 3, raw = TRUE)2:poly(afqt, 3, raw = TRUE)1   0.7542\n",
       "poly(educ, 8, raw = TRUE)2:poly(exp, 3, raw = TRUE)2:poly(afqt, 3, raw = TRUE)1   0.5686\n",
       "poly(educ, 8, raw = TRUE)3:poly(exp, 3, raw = TRUE)2:poly(afqt, 3, raw = TRUE)1   0.4097\n",
       "poly(educ, 8, raw = TRUE)4:poly(exp, 3, raw = TRUE)2:poly(afqt, 3, raw = TRUE)1   0.2897\n",
       "poly(educ, 8, raw = TRUE)5:poly(exp, 3, raw = TRUE)2:poly(afqt, 3, raw = TRUE)1   0.2107\n",
       "poly(educ, 8, raw = TRUE)6:poly(exp, 3, raw = TRUE)2:poly(afqt, 3, raw = TRUE)1   0.1674\n",
       "poly(educ, 8, raw = TRUE)7:poly(exp, 3, raw = TRUE)2:poly(afqt, 3, raw = TRUE)1   0.1538\n",
       "poly(educ, 8, raw = TRUE)8:poly(exp, 3, raw = TRUE)2:poly(afqt, 3, raw = TRUE)1   0.1680\n",
       "poly(educ, 8, raw = TRUE)1:poly(exp, 3, raw = TRUE)3:poly(afqt, 3, raw = TRUE)1   0.6760\n",
       "poly(educ, 8, raw = TRUE)2:poly(exp, 3, raw = TRUE)3:poly(afqt, 3, raw = TRUE)1   0.5046\n",
       "poly(educ, 8, raw = TRUE)3:poly(exp, 3, raw = TRUE)3:poly(afqt, 3, raw = TRUE)1   0.3784\n",
       "poly(educ, 8, raw = TRUE)4:poly(exp, 3, raw = TRUE)3:poly(afqt, 3, raw = TRUE)1   0.3044\n",
       "poly(educ, 8, raw = TRUE)5:poly(exp, 3, raw = TRUE)3:poly(afqt, 3, raw = TRUE)1   0.2813\n",
       "poly(educ, 8, raw = TRUE)6:poly(exp, 3, raw = TRUE)3:poly(afqt, 3, raw = TRUE)1   0.3113\n",
       "poly(educ, 8, raw = TRUE)7:poly(exp, 3, raw = TRUE)3:poly(afqt, 3, raw = TRUE)1   0.4108\n",
       "poly(educ, 8, raw = TRUE)8:poly(exp, 3, raw = TRUE)3:poly(afqt, 3, raw = TRUE)1   0.6058\n",
       "poly(educ, 8, raw = TRUE)1:poly(exp, 3, raw = TRUE)1:poly(afqt, 3, raw = TRUE)2   0.8639\n",
       "poly(educ, 8, raw = TRUE)2:poly(exp, 3, raw = TRUE)1:poly(afqt, 3, raw = TRUE)2   0.7455\n",
       "poly(educ, 8, raw = TRUE)3:poly(exp, 3, raw = TRUE)1:poly(afqt, 3, raw = TRUE)2   0.6249\n",
       "poly(educ, 8, raw = TRUE)4:poly(exp, 3, raw = TRUE)1:poly(afqt, 3, raw = TRUE)2   0.5084\n",
       "poly(educ, 8, raw = TRUE)5:poly(exp, 3, raw = TRUE)1:poly(afqt, 3, raw = TRUE)2   0.4013\n",
       "poly(educ, 8, raw = TRUE)6:poly(exp, 3, raw = TRUE)1:poly(afqt, 3, raw = TRUE)2   0.3073\n",
       "poly(educ, 8, raw = TRUE)7:poly(exp, 3, raw = TRUE)1:poly(afqt, 3, raw = TRUE)2   0.2283\n",
       "poly(educ, 8, raw = TRUE)8:poly(exp, 3, raw = TRUE)1:poly(afqt, 3, raw = TRUE)2   0.1649\n",
       "poly(educ, 8, raw = TRUE)1:poly(exp, 3, raw = TRUE)2:poly(afqt, 3, raw = TRUE)2   0.8890\n",
       "poly(educ, 8, raw = TRUE)2:poly(exp, 3, raw = TRUE)2:poly(afqt, 3, raw = TRUE)2   0.7535\n",
       "poly(educ, 8, raw = TRUE)3:poly(exp, 3, raw = TRUE)2:poly(afqt, 3, raw = TRUE)2   0.6123\n",
       "poly(educ, 8, raw = TRUE)4:poly(exp, 3, raw = TRUE)2:poly(afqt, 3, raw = TRUE)2   0.4754\n",
       "poly(educ, 8, raw = TRUE)5:poly(exp, 3, raw = TRUE)2:poly(afqt, 3, raw = TRUE)2   0.3526\n",
       "poly(educ, 8, raw = TRUE)6:poly(exp, 3, raw = TRUE)2:poly(afqt, 3, raw = TRUE)2   0.2520\n",
       "poly(educ, 8, raw = TRUE)7:poly(exp, 3, raw = TRUE)2:poly(afqt, 3, raw = TRUE)2   0.1796\n",
       "poly(educ, 8, raw = TRUE)8:poly(exp, 3, raw = TRUE)2:poly(afqt, 3, raw = TRUE)2   0.1421\n",
       "poly(educ, 8, raw = TRUE)1:poly(exp, 3, raw = TRUE)3:poly(afqt, 3, raw = TRUE)2   0.8769\n",
       "poly(educ, 8, raw = TRUE)2:poly(exp, 3, raw = TRUE)3:poly(afqt, 3, raw = TRUE)2   0.7339\n",
       "poly(educ, 8, raw = TRUE)3:poly(exp, 3, raw = TRUE)3:poly(afqt, 3, raw = TRUE)2   0.5932\n",
       "poly(educ, 8, raw = TRUE)4:poly(exp, 3, raw = TRUE)3:poly(afqt, 3, raw = TRUE)2   0.4716\n",
       "poly(educ, 8, raw = TRUE)5:poly(exp, 3, raw = TRUE)3:poly(afqt, 3, raw = TRUE)2   0.3816\n",
       "poly(educ, 8, raw = TRUE)6:poly(exp, 3, raw = TRUE)3:poly(afqt, 3, raw = TRUE)2   0.3281\n",
       "poly(educ, 8, raw = TRUE)7:poly(exp, 3, raw = TRUE)3:poly(afqt, 3, raw = TRUE)2   0.3091\n",
       "poly(educ, 8, raw = TRUE)8:poly(exp, 3, raw = TRUE)3:poly(afqt, 3, raw = TRUE)2       NA\n",
       "poly(educ, 8, raw = TRUE)1:poly(exp, 3, raw = TRUE)1:poly(afqt, 3, raw = TRUE)3   0.9092\n",
       "poly(educ, 8, raw = TRUE)2:poly(exp, 3, raw = TRUE)1:poly(afqt, 3, raw = TRUE)3   0.8438\n",
       "poly(educ, 8, raw = TRUE)3:poly(exp, 3, raw = TRUE)1:poly(afqt, 3, raw = TRUE)3   0.7703\n",
       "poly(educ, 8, raw = TRUE)4:poly(exp, 3, raw = TRUE)1:poly(afqt, 3, raw = TRUE)3   0.6916\n",
       "poly(educ, 8, raw = TRUE)5:poly(exp, 3, raw = TRUE)1:poly(afqt, 3, raw = TRUE)3   0.6099\n",
       "poly(educ, 8, raw = TRUE)6:poly(exp, 3, raw = TRUE)1:poly(afqt, 3, raw = TRUE)3   0.5274\n",
       "poly(educ, 8, raw = TRUE)7:poly(exp, 3, raw = TRUE)1:poly(afqt, 3, raw = TRUE)3   0.4457\n",
       "poly(educ, 8, raw = TRUE)8:poly(exp, 3, raw = TRUE)1:poly(afqt, 3, raw = TRUE)3   0.3670\n",
       "poly(educ, 8, raw = TRUE)1:poly(exp, 3, raw = TRUE)2:poly(afqt, 3, raw = TRUE)3   0.9774\n",
       "poly(educ, 8, raw = TRUE)2:poly(exp, 3, raw = TRUE)2:poly(afqt, 3, raw = TRUE)3   0.9696\n",
       "poly(educ, 8, raw = TRUE)3:poly(exp, 3, raw = TRUE)2:poly(afqt, 3, raw = TRUE)3   0.9083\n",
       "poly(educ, 8, raw = TRUE)4:poly(exp, 3, raw = TRUE)2:poly(afqt, 3, raw = TRUE)3   0.8420\n",
       "poly(educ, 8, raw = TRUE)5:poly(exp, 3, raw = TRUE)2:poly(afqt, 3, raw = TRUE)3   0.7740\n",
       "poly(educ, 8, raw = TRUE)6:poly(exp, 3, raw = TRUE)2:poly(afqt, 3, raw = TRUE)3   0.7073\n",
       "poly(educ, 8, raw = TRUE)7:poly(exp, 3, raw = TRUE)2:poly(afqt, 3, raw = TRUE)3   0.6443\n",
       "poly(educ, 8, raw = TRUE)8:poly(exp, 3, raw = TRUE)2:poly(afqt, 3, raw = TRUE)3       NA\n",
       "poly(educ, 8, raw = TRUE)1:poly(exp, 3, raw = TRUE)3:poly(afqt, 3, raw = TRUE)3   0.9329\n",
       "poly(educ, 8, raw = TRUE)2:poly(exp, 3, raw = TRUE)3:poly(afqt, 3, raw = TRUE)3   0.9835\n",
       "poly(educ, 8, raw = TRUE)3:poly(exp, 3, raw = TRUE)3:poly(afqt, 3, raw = TRUE)3   0.9564\n",
       "poly(educ, 8, raw = TRUE)4:poly(exp, 3, raw = TRUE)3:poly(afqt, 3, raw = TRUE)3   0.8914\n",
       "poly(educ, 8, raw = TRUE)5:poly(exp, 3, raw = TRUE)3:poly(afqt, 3, raw = TRUE)3   0.8273\n",
       "poly(educ, 8, raw = TRUE)6:poly(exp, 3, raw = TRUE)3:poly(afqt, 3, raw = TRUE)3       NA\n",
       "poly(educ, 8, raw = TRUE)7:poly(exp, 3, raw = TRUE)3:poly(afqt, 3, raw = TRUE)3   0.7290\n",
       "poly(educ, 8, raw = TRUE)8:poly(exp, 3, raw = TRUE)3:poly(afqt, 3, raw = TRUE)3   0.7080\n",
       "                                                                                   \n",
       "(Intercept)                                                                     .  \n",
       "black                                                                           ***\n",
       "hispanic                                                                           \n",
       "other                                                                           *  \n",
       "poly(mom_educ, 3, raw = TRUE)1:poly(dad_educ, 3, raw = TRUE)1                      \n",
       "poly(mom_educ, 3, raw = TRUE)2:poly(dad_educ, 3, raw = TRUE)1                      \n",
       "poly(mom_educ, 3, raw = TRUE)3:poly(dad_educ, 3, raw = TRUE)1                      \n",
       "poly(mom_educ, 3, raw = TRUE)1:poly(dad_educ, 3, raw = TRUE)2                      \n",
       "poly(mom_educ, 3, raw = TRUE)2:poly(dad_educ, 3, raw = TRUE)2                      \n",
       "poly(mom_educ, 3, raw = TRUE)3:poly(dad_educ, 3, raw = TRUE)2                      \n",
       "poly(mom_educ, 3, raw = TRUE)1:poly(dad_educ, 3, raw = TRUE)3                      \n",
       "poly(mom_educ, 3, raw = TRUE)2:poly(dad_educ, 3, raw = TRUE)3                      \n",
       "poly(mom_educ, 3, raw = TRUE)3:poly(dad_educ, 3, raw = TRUE)3                      \n",
       "poly(educ, 8, raw = TRUE)1:poly(exp, 3, raw = TRUE)1:poly(afqt, 3, raw = TRUE)1    \n",
       "poly(educ, 8, raw = TRUE)2:poly(exp, 3, raw = TRUE)1:poly(afqt, 3, raw = TRUE)1    \n",
       "poly(educ, 8, raw = TRUE)3:poly(exp, 3, raw = TRUE)1:poly(afqt, 3, raw = TRUE)1    \n",
       "poly(educ, 8, raw = TRUE)4:poly(exp, 3, raw = TRUE)1:poly(afqt, 3, raw = TRUE)1    \n",
       "poly(educ, 8, raw = TRUE)5:poly(exp, 3, raw = TRUE)1:poly(afqt, 3, raw = TRUE)1    \n",
       "poly(educ, 8, raw = TRUE)6:poly(exp, 3, raw = TRUE)1:poly(afqt, 3, raw = TRUE)1    \n",
       "poly(educ, 8, raw = TRUE)7:poly(exp, 3, raw = TRUE)1:poly(afqt, 3, raw = TRUE)1    \n",
       "poly(educ, 8, raw = TRUE)8:poly(exp, 3, raw = TRUE)1:poly(afqt, 3, raw = TRUE)1    \n",
       "poly(educ, 8, raw = TRUE)1:poly(exp, 3, raw = TRUE)2:poly(afqt, 3, raw = TRUE)1    \n",
       "poly(educ, 8, raw = TRUE)2:poly(exp, 3, raw = TRUE)2:poly(afqt, 3, raw = TRUE)1    \n",
       "poly(educ, 8, raw = TRUE)3:poly(exp, 3, raw = TRUE)2:poly(afqt, 3, raw = TRUE)1    \n",
       "poly(educ, 8, raw = TRUE)4:poly(exp, 3, raw = TRUE)2:poly(afqt, 3, raw = TRUE)1    \n",
       "poly(educ, 8, raw = TRUE)5:poly(exp, 3, raw = TRUE)2:poly(afqt, 3, raw = TRUE)1    \n",
       "poly(educ, 8, raw = TRUE)6:poly(exp, 3, raw = TRUE)2:poly(afqt, 3, raw = TRUE)1    \n",
       "poly(educ, 8, raw = TRUE)7:poly(exp, 3, raw = TRUE)2:poly(afqt, 3, raw = TRUE)1    \n",
       "poly(educ, 8, raw = TRUE)8:poly(exp, 3, raw = TRUE)2:poly(afqt, 3, raw = TRUE)1    \n",
       "poly(educ, 8, raw = TRUE)1:poly(exp, 3, raw = TRUE)3:poly(afqt, 3, raw = TRUE)1    \n",
       "poly(educ, 8, raw = TRUE)2:poly(exp, 3, raw = TRUE)3:poly(afqt, 3, raw = TRUE)1    \n",
       "poly(educ, 8, raw = TRUE)3:poly(exp, 3, raw = TRUE)3:poly(afqt, 3, raw = TRUE)1    \n",
       "poly(educ, 8, raw = TRUE)4:poly(exp, 3, raw = TRUE)3:poly(afqt, 3, raw = TRUE)1    \n",
       "poly(educ, 8, raw = TRUE)5:poly(exp, 3, raw = TRUE)3:poly(afqt, 3, raw = TRUE)1    \n",
       "poly(educ, 8, raw = TRUE)6:poly(exp, 3, raw = TRUE)3:poly(afqt, 3, raw = TRUE)1    \n",
       "poly(educ, 8, raw = TRUE)7:poly(exp, 3, raw = TRUE)3:poly(afqt, 3, raw = TRUE)1    \n",
       "poly(educ, 8, raw = TRUE)8:poly(exp, 3, raw = TRUE)3:poly(afqt, 3, raw = TRUE)1    \n",
       "poly(educ, 8, raw = TRUE)1:poly(exp, 3, raw = TRUE)1:poly(afqt, 3, raw = TRUE)2    \n",
       "poly(educ, 8, raw = TRUE)2:poly(exp, 3, raw = TRUE)1:poly(afqt, 3, raw = TRUE)2    \n",
       "poly(educ, 8, raw = TRUE)3:poly(exp, 3, raw = TRUE)1:poly(afqt, 3, raw = TRUE)2    \n",
       "poly(educ, 8, raw = TRUE)4:poly(exp, 3, raw = TRUE)1:poly(afqt, 3, raw = TRUE)2    \n",
       "poly(educ, 8, raw = TRUE)5:poly(exp, 3, raw = TRUE)1:poly(afqt, 3, raw = TRUE)2    \n",
       "poly(educ, 8, raw = TRUE)6:poly(exp, 3, raw = TRUE)1:poly(afqt, 3, raw = TRUE)2    \n",
       "poly(educ, 8, raw = TRUE)7:poly(exp, 3, raw = TRUE)1:poly(afqt, 3, raw = TRUE)2    \n",
       "poly(educ, 8, raw = TRUE)8:poly(exp, 3, raw = TRUE)1:poly(afqt, 3, raw = TRUE)2    \n",
       "poly(educ, 8, raw = TRUE)1:poly(exp, 3, raw = TRUE)2:poly(afqt, 3, raw = TRUE)2    \n",
       "poly(educ, 8, raw = TRUE)2:poly(exp, 3, raw = TRUE)2:poly(afqt, 3, raw = TRUE)2    \n",
       "poly(educ, 8, raw = TRUE)3:poly(exp, 3, raw = TRUE)2:poly(afqt, 3, raw = TRUE)2    \n",
       "poly(educ, 8, raw = TRUE)4:poly(exp, 3, raw = TRUE)2:poly(afqt, 3, raw = TRUE)2    \n",
       "poly(educ, 8, raw = TRUE)5:poly(exp, 3, raw = TRUE)2:poly(afqt, 3, raw = TRUE)2    \n",
       "poly(educ, 8, raw = TRUE)6:poly(exp, 3, raw = TRUE)2:poly(afqt, 3, raw = TRUE)2    \n",
       "poly(educ, 8, raw = TRUE)7:poly(exp, 3, raw = TRUE)2:poly(afqt, 3, raw = TRUE)2    \n",
       "poly(educ, 8, raw = TRUE)8:poly(exp, 3, raw = TRUE)2:poly(afqt, 3, raw = TRUE)2    \n",
       "poly(educ, 8, raw = TRUE)1:poly(exp, 3, raw = TRUE)3:poly(afqt, 3, raw = TRUE)2    \n",
       "poly(educ, 8, raw = TRUE)2:poly(exp, 3, raw = TRUE)3:poly(afqt, 3, raw = TRUE)2    \n",
       "poly(educ, 8, raw = TRUE)3:poly(exp, 3, raw = TRUE)3:poly(afqt, 3, raw = TRUE)2    \n",
       "poly(educ, 8, raw = TRUE)4:poly(exp, 3, raw = TRUE)3:poly(afqt, 3, raw = TRUE)2    \n",
       "poly(educ, 8, raw = TRUE)5:poly(exp, 3, raw = TRUE)3:poly(afqt, 3, raw = TRUE)2    \n",
       "poly(educ, 8, raw = TRUE)6:poly(exp, 3, raw = TRUE)3:poly(afqt, 3, raw = TRUE)2    \n",
       "poly(educ, 8, raw = TRUE)7:poly(exp, 3, raw = TRUE)3:poly(afqt, 3, raw = TRUE)2    \n",
       "poly(educ, 8, raw = TRUE)8:poly(exp, 3, raw = TRUE)3:poly(afqt, 3, raw = TRUE)2    \n",
       "poly(educ, 8, raw = TRUE)1:poly(exp, 3, raw = TRUE)1:poly(afqt, 3, raw = TRUE)3    \n",
       "poly(educ, 8, raw = TRUE)2:poly(exp, 3, raw = TRUE)1:poly(afqt, 3, raw = TRUE)3    \n",
       "poly(educ, 8, raw = TRUE)3:poly(exp, 3, raw = TRUE)1:poly(afqt, 3, raw = TRUE)3    \n",
       "poly(educ, 8, raw = TRUE)4:poly(exp, 3, raw = TRUE)1:poly(afqt, 3, raw = TRUE)3    \n",
       "poly(educ, 8, raw = TRUE)5:poly(exp, 3, raw = TRUE)1:poly(afqt, 3, raw = TRUE)3    \n",
       "poly(educ, 8, raw = TRUE)6:poly(exp, 3, raw = TRUE)1:poly(afqt, 3, raw = TRUE)3    \n",
       "poly(educ, 8, raw = TRUE)7:poly(exp, 3, raw = TRUE)1:poly(afqt, 3, raw = TRUE)3    \n",
       "poly(educ, 8, raw = TRUE)8:poly(exp, 3, raw = TRUE)1:poly(afqt, 3, raw = TRUE)3    \n",
       "poly(educ, 8, raw = TRUE)1:poly(exp, 3, raw = TRUE)2:poly(afqt, 3, raw = TRUE)3    \n",
       "poly(educ, 8, raw = TRUE)2:poly(exp, 3, raw = TRUE)2:poly(afqt, 3, raw = TRUE)3    \n",
       "poly(educ, 8, raw = TRUE)3:poly(exp, 3, raw = TRUE)2:poly(afqt, 3, raw = TRUE)3    \n",
       "poly(educ, 8, raw = TRUE)4:poly(exp, 3, raw = TRUE)2:poly(afqt, 3, raw = TRUE)3    \n",
       "poly(educ, 8, raw = TRUE)5:poly(exp, 3, raw = TRUE)2:poly(afqt, 3, raw = TRUE)3    \n",
       "poly(educ, 8, raw = TRUE)6:poly(exp, 3, raw = TRUE)2:poly(afqt, 3, raw = TRUE)3    \n",
       "poly(educ, 8, raw = TRUE)7:poly(exp, 3, raw = TRUE)2:poly(afqt, 3, raw = TRUE)3    \n",
       "poly(educ, 8, raw = TRUE)8:poly(exp, 3, raw = TRUE)2:poly(afqt, 3, raw = TRUE)3    \n",
       "poly(educ, 8, raw = TRUE)1:poly(exp, 3, raw = TRUE)3:poly(afqt, 3, raw = TRUE)3    \n",
       "poly(educ, 8, raw = TRUE)2:poly(exp, 3, raw = TRUE)3:poly(afqt, 3, raw = TRUE)3    \n",
       "poly(educ, 8, raw = TRUE)3:poly(exp, 3, raw = TRUE)3:poly(afqt, 3, raw = TRUE)3    \n",
       "poly(educ, 8, raw = TRUE)4:poly(exp, 3, raw = TRUE)3:poly(afqt, 3, raw = TRUE)3    \n",
       "poly(educ, 8, raw = TRUE)5:poly(exp, 3, raw = TRUE)3:poly(afqt, 3, raw = TRUE)3    \n",
       "poly(educ, 8, raw = TRUE)6:poly(exp, 3, raw = TRUE)3:poly(afqt, 3, raw = TRUE)3    \n",
       "poly(educ, 8, raw = TRUE)7:poly(exp, 3, raw = TRUE)3:poly(afqt, 3, raw = TRUE)3    \n",
       "poly(educ, 8, raw = TRUE)8:poly(exp, 3, raw = TRUE)3:poly(afqt, 3, raw = TRUE)3    \n",
       "---\n",
       "Signif. codes:  0 ‘***’ 0.001 ‘**’ 0.01 ‘*’ 0.05 ‘.’ 0.1 ‘ ’ 1\n",
       "\n",
       "Residual standard error: 0.7955 on 813 degrees of freedom\n",
       "Multiple R-squared:  0.207,\tAdjusted R-squared:  0.128 \n",
       "F-statistic:  2.62 on 81 and 813 DF,  p-value: 1.016e-11\n"
      ]
     },
     "metadata": {},
     "output_type": "display_data"
    }
   ],
   "source": [
    "summary(model4)"
   ]
  },
  {
   "cell_type": "code",
   "execution_count": 18,
   "id": "c0acce7f",
   "metadata": {},
   "outputs": [],
   "source": [
    "test$hat_lnw_m4<-predict(model4,newdata = test)"
   ]
  },
  {
   "cell_type": "markdown",
   "id": "69f22665",
   "metadata": {
    "lines_to_next_cell": 0
   },
   "source": [
    "The performance:"
   ]
  },
  {
   "cell_type": "code",
   "execution_count": 19,
   "id": "327d5853-5364-4865-8854-3066623e0517",
   "metadata": {
    "lines_to_next_cell": 2
   },
   "outputs": [
    {
     "data": {
      "text/html": [
       "0.933888212716992"
      ],
      "text/latex": [
       "0.933888212716992"
      ],
      "text/markdown": [
       "0.933888212716992"
      ],
      "text/plain": [
       "[1] 0.9338882"
      ]
     },
     "metadata": {},
     "output_type": "display_data"
    }
   ],
   "source": [
    "with(test,mean((lnw_2016-hat_lnw_m4)^2))"
   ]
  },
  {
   "cell_type": "markdown",
   "id": "a9cb15c3-aff7-4fd0-8229-6b5d654396ce",
   "metadata": {},
   "source": [
    "Le'ts put all these performance resuls in a table and compare them\n"
   ]
  },
  {
   "cell_type": "code",
   "execution_count": 20,
   "id": "2ea94d4c",
   "metadata": {
    "lines_to_next_cell": 2,
    "tags": [
     "remove_input"
    ]
   },
   "outputs": [
    {
     "data": {
      "text/html": [
       "<table class=\"dataframe\">\n",
       "<caption>A data.frame: 4 × 2</caption>\n",
       "<thead>\n",
       "\t<tr><th scope=col>model</th><th scope=col>MSE</th></tr>\n",
       "\t<tr><th scope=col>&lt;ord&gt;</th><th scope=col>&lt;dbl&gt;</th></tr>\n",
       "</thead>\n",
       "<tbody>\n",
       "\t<tr><td>model1</td><td>0.828</td></tr>\n",
       "\t<tr><td>model2</td><td>0.796</td></tr>\n",
       "\t<tr><td>model3</td><td>0.788</td></tr>\n",
       "\t<tr><td>model4</td><td>0.934</td></tr>\n",
       "</tbody>\n",
       "</table>\n"
      ],
      "text/latex": [
       "A data.frame: 4 × 2\n",
       "\\begin{tabular}{ll}\n",
       " model & MSE\\\\\n",
       " <ord> & <dbl>\\\\\n",
       "\\hline\n",
       "\t model1 & 0.828\\\\\n",
       "\t model2 & 0.796\\\\\n",
       "\t model3 & 0.788\\\\\n",
       "\t model4 & 0.934\\\\\n",
       "\\end{tabular}\n"
      ],
      "text/markdown": [
       "\n",
       "A data.frame: 4 × 2\n",
       "\n",
       "| model &lt;ord&gt; | MSE &lt;dbl&gt; |\n",
       "|---|---|\n",
       "| model1 | 0.828 |\n",
       "| model2 | 0.796 |\n",
       "| model3 | 0.788 |\n",
       "| model4 | 0.934 |\n",
       "\n"
      ],
      "text/plain": [
       "  model  MSE  \n",
       "1 model1 0.828\n",
       "2 model2 0.796\n",
       "3 model3 0.788\n",
       "4 model4 0.934"
      ]
     },
     "metadata": {},
     "output_type": "display_data"
    }
   ],
   "source": [
    "#create vars with all the MSE\n",
    "mse1<-with(test,round(mean((lnw_2016-hat_lnw_m1)^2),3))\n",
    "mse2<-with(test,round(mean((lnw_2016-hat_lnw_m2)^2),3))\n",
    "mse3<-with(test,round(mean((lnw_2016-hat_lnw_m3)^2),3))\n",
    "mse4<-with(test,round(mean((lnw_2016-hat_lnw_m4)^2),3))\n",
    "\n",
    "#put them in a vector\n",
    "mse<-c(mse1,mse2,mse3,mse4)\n",
    "\n",
    "#create a data frame\n",
    "db<-data.frame(model=factor(c(\"model1\",\"model2\",\"model3\",\"model4\"),ordered=TRUE),\n",
    "               MSE=mse)\n",
    "\n",
    "db"
   ]
  },
  {
   "cell_type": "markdown",
   "id": "d0149927-e250-4ba5-94b0-0a76bf6428a9",
   "metadata": {},
   "source": [
    "It is clear that as complexity increases, performance improves until a point where too much complexity results in inferior performance. \n",
    "\n",
    "This is an illustration of the Bias-Variance-Trade-Off.\n",
    "\n",
    "Although the validation set approach is quite nice, there are at least two problems with it\n",
    "  \n",
    "  1. The first one is that given an original data set if part of it is left aside to test the model, fewer data is left for estimation (leading to less efficiency).\n",
    "  2. A second problem is deciding which data will be used to train the model and which one to test it:\n",
    "  \n",
    "  <div>\n",
    "<img src=\"figs_notebook_SS03/fig52.png\" width=\"800\"/>\n",
    "</div>\n"
   ]
  },
  {
   "cell_type": "markdown",
   "id": "f1586176",
   "metadata": {},
   "source": [
    "\n",
    "\n",
    "# Leave-One-Out Cross-Validation (LOOCV) \n",
    "\n",
    "This method is similar to the Validation Set Approach, but it tries to address the latter's disadvantages. Leave-One-Out Cross-Validation (LOOCV) is a resampling technique for evaluating model performance. Each sample in the data is used once as the validation set, and the model is trained on the remaining samples. \n",
    "\n",
    "Graphically the LOOCV looks like this: "
   ]
  },
  {
   "cell_type": "markdown",
   "id": "b5d07a19",
   "metadata": {},
   "source": [
    "\n",
    "<div>\n",
    "<img src=\"figs_notebook_SS03/1.png\" width=\"500\"/>\n",
    "</div>\n",
    "\n",
    "<div>\n",
    "<img src=\"figs_notebook_SS03/2.png\" width=\"500\"/>\n",
    "</div>\n",
    "\n",
    "\n",
    "<div>\n",
    "<img src=\"figs_notebook_SS03/3.png\" width=\"500\"/>\n",
    "</div>\n",
    "\n",
    ".\n",
    "\n",
    ".\n",
    "\n",
    ".\n",
    "\n",
    ".\n",
    "\n",
    ".\n",
    "\n",
    ".\n",
    "\n",
    ".\n",
    "\n",
    ".\n",
    "\n",
    "<div>\n",
    "<img src=\"figs_notebook_SS03/20.png\" width=\"500\"/>\n",
    "</div>\n",
    "\n",
    "\n",
    "LOOCV is computationally expensive, as a separate model has to be fit `n` times, where `n` is the number of samples in the data. However, LOOCV is more thorough in its model evaluation, as each sample is used as the validation set exactly once, giving a more comprehensive assessment of the model's performance.\n",
    "\n",
    "The LOOCV estimate for the test MSE is\n",
    "\n",
    "\\begin{align}\n",
    "LOOCV(n) &= \\frac{1}{n}\\sum MSE_{-i} \\\\ \n",
    "      &= \\frac{1}{n}\\sum(y_i -\\hat{y}_{-i})^2\n",
    "\\end{align}\n",
    "\n",
    "where $-i$ indicates that the model to obtain the prediction was trained in all observations except $i$.\n",
    "\n",
    "LOOCV is particularly useful in cases where the number of samples in the data is small, and the risk of overfitting is high.\n",
    "\n",
    "\n",
    "LOOCV is a special case of k-fold cross-validation, where k is equal to the number of samples in the data. Given that it's a particular case of k-fold cross-validation, we will implement this instead.\n",
    "\n"
   ]
  },
  {
   "cell_type": "markdown",
   "id": "455606ee",
   "metadata": {},
   "source": [
    "\n",
    "\n",
    "# K-Fold Cross-Validation\n",
    "\n",
    "K-Fold Cross-Validation  is a widely used resampling technique for evaluating model performance. It involves dividing the data into k equally sized folds, where k is a user-defined constant. The model is then fit k times, with each fold used once as the validation set and the remaining k-1 folds used as the training set. This process results in k estimates of the model's performance, which can then be averaged to obtain an overall estimate. Graphically it looks like this:\n",
    "\n",
    "\n",
    "\n",
    "\n",
    "<div>\n",
    "<img src=\"figs_notebook_SS03/fold.png\" width=\"500\"/>\n",
    "</div>\n",
    "\n",
    "K-Fold Cross-Validation is a trade-off between the computational efficiency of the validation set approach and the thoroughness of LOOCV:\n",
    "\n",
    "- K-Fold Cross-Validation provides a more robust evaluation of the model's performance than the validation set approach.  In the validation set approach, a fixed portion of the data is used as the validation set, which can result in a suboptimal estimation of the model's performance. In contrast, K-Fold Cross-Validation ensures that each sample is used in the validation set exactly once, providing a more comprehensive assessment of the model's performance.\n",
    "\n",
    "\n",
    "- K-Fold Cross-Validation, on the one hand, is more computationally efficient than LOOCV, as the model is fit k times instead of n times.  On the other hand, K-Fold Cross-Validation is less thorough than LOOCV, as each sample is used in the validation set k-1/k of the time, giving a less comprehensive assessment of the model's performance.\n",
    "\n",
    "However, K-Fold Cross-Validation is widely used in practice. It provides a good balance between computational efficiency and thoroughness while allowing the user to control the number of times the model fits.\n",
    "\n",
    "\n",
    "To sum up, to implement K-Fold Cross-Validation, we need to:\n",
    "\n",
    "- Split the data into K parts $(n=\\sum_{j=1}^k n_j)$\n",
    "\n",
    "- Fit the model leaving out one of the folds $\\rightarrow$ $\\hat{y}_{-k}$\n",
    "  \n",
    "- Cycle through all k folds\n",
    " \n",
    "-  The CV(k) estimate for the test MSE is\n",
    "\n",
    "\n",
    "\\begin{align}\n",
    "CV_{(k)} &= \\frac{1}{k}\\sum_{j=1}^k MSE_j \\\\\n",
    "         &= \\frac{1}{k}\\sum_{j=1}^k (y_j^k-\\hat{y}_{-k})^{2}\n",
    "\\end{align}\n",
    "\n",
    "\n",
    "\n",
    "\n",
    "<div>\n",
    "<img src=\"figs_notebook_SS03/fig54.png\" width=\"800\"/>\n",
    "</div>\n",
    "\n"
   ]
  },
  {
   "cell_type": "markdown",
   "id": "2b07fda6",
   "metadata": {},
   "source": [
    "Let's implement it in `R`\n",
    "\n",
    "### Splitting the data into K folds"
   ]
  },
  {
   "cell_type": "code",
   "execution_count": 21,
   "id": "42019ed8",
   "metadata": {},
   "outputs": [],
   "source": [
    "#Make this example reproducible\n",
    "set.seed(123)\n",
    "\n",
    "# Specify the number of folds for\n",
    "# 5-fold cross-validation\n",
    "K <- 5"
   ]
  },
  {
   "cell_type": "code",
   "execution_count": 22,
   "id": "5c1408fd",
   "metadata": {},
   "outputs": [
    {
     "data": {
      "text/html": [
       "253.2"
      ],
      "text/latex": [
       "253.2"
      ],
      "text/markdown": [
       "253.2"
      ],
      "text/plain": [
       "[1] 253.2"
      ]
     },
     "metadata": {},
     "output_type": "display_data"
    }
   ],
   "source": [
    "nrow(nlsy)/K"
   ]
  },
  {
   "cell_type": "code",
   "execution_count": 23,
   "id": "d67e90af",
   "metadata": {},
   "outputs": [],
   "source": [
    "#generate an Index for the fold\n",
    "nlsy<-nlsy  %>% mutate(fold=c(rep(1,254),\n",
    "                              rep(2,253),\n",
    "                              rep(3,253),\n",
    "                              rep(4,253),\n",
    "                              rep(5,253)))"
   ]
  },
  {
   "cell_type": "code",
   "execution_count": 24,
   "id": "f8908993",
   "metadata": {},
   "outputs": [
    {
     "data": {
      "text/plain": [
       "\n",
       "  1   2   3   4   5 \n",
       "254 253 253 253 253 "
      ]
     },
     "metadata": {},
     "output_type": "display_data"
    }
   ],
   "source": [
    "table(nlsy$fold)"
   ]
  },
  {
   "cell_type": "code",
   "execution_count": 26,
   "id": "ab5ad314",
   "metadata": {},
   "outputs": [
    {
     "data": {
      "text/html": [
       "<table class=\"dataframe\">\n",
       "<caption>A tibble: 300 × 10</caption>\n",
       "<thead>\n",
       "\t<tr><th scope=col>lnw_2016</th><th scope=col>educ</th><th scope=col>black</th><th scope=col>hispanic</th><th scope=col>other</th><th scope=col>exp</th><th scope=col>afqt</th><th scope=col>mom_educ</th><th scope=col>dad_educ</th><th scope=col>fold</th></tr>\n",
       "\t<tr><th scope=col>&lt;dbl&gt;</th><th scope=col>&lt;dbl&gt;</th><th scope=col>&lt;dbl&gt;</th><th scope=col>&lt;dbl&gt;</th><th scope=col>&lt;dbl&gt;</th><th scope=col>&lt;dbl&gt;</th><th scope=col>&lt;dbl&gt;</th><th scope=col>&lt;dbl&gt;</th><th scope=col>&lt;dbl&gt;</th><th scope=col>&lt;dbl&gt;</th></tr>\n",
       "</thead>\n",
       "<tbody>\n",
       "\t<tr><td>4.0768976</td><td>16</td><td>0</td><td>0</td><td>0</td><td>11</td><td>7.0724</td><td>12</td><td>12</td><td>1</td></tr>\n",
       "\t<tr><td>3.2941382</td><td> 9</td><td>0</td><td>0</td><td>0</td><td>19</td><td>4.7481</td><td> 9</td><td>10</td><td>1</td></tr>\n",
       "\t<tr><td>2.8308961</td><td> 9</td><td>0</td><td>1</td><td>0</td><td>22</td><td>1.1987</td><td>12</td><td> 9</td><td>1</td></tr>\n",
       "\t<tr><td>4.3064590</td><td>16</td><td>0</td><td>0</td><td>0</td><td>13</td><td>8.9321</td><td>16</td><td>18</td><td>1</td></tr>\n",
       "\t<tr><td>5.9914646</td><td>16</td><td>0</td><td>1</td><td>0</td><td>15</td><td>2.2618</td><td>16</td><td>16</td><td>1</td></tr>\n",
       "\t<tr><td>4.7119241</td><td>16</td><td>0</td><td>0</td><td>0</td><td>14</td><td>8.9502</td><td>18</td><td>20</td><td>1</td></tr>\n",
       "\t<tr><td>3.4299397</td><td>17</td><td>0</td><td>0</td><td>0</td><td>14</td><td>6.4555</td><td>12</td><td>16</td><td>1</td></tr>\n",
       "\t<tr><td>3.7578723</td><td>16</td><td>0</td><td>0</td><td>0</td><td>14</td><td>9.0180</td><td>12</td><td>12</td><td>1</td></tr>\n",
       "\t<tr><td>4.5941410</td><td>17</td><td>1</td><td>0</td><td>0</td><td>13</td><td>4.5519</td><td>16</td><td> 9</td><td>1</td></tr>\n",
       "\t<tr><td>4.1523085</td><td>16</td><td>0</td><td>0</td><td>0</td><td>14</td><td>8.4276</td><td>18</td><td>14</td><td>1</td></tr>\n",
       "\t<tr><td>3.5473800</td><td>16</td><td>0</td><td>0</td><td>0</td><td>13</td><td>9.0491</td><td>16</td><td>16</td><td>1</td></tr>\n",
       "\t<tr><td>3.3147576</td><td>20</td><td>0</td><td>0</td><td>0</td><td> 9</td><td>9.9651</td><td>14</td><td>20</td><td>1</td></tr>\n",
       "\t<tr><td>0.7985077</td><td>14</td><td>0</td><td>1</td><td>0</td><td>13</td><td>3.4228</td><td> 8</td><td> 6</td><td>1</td></tr>\n",
       "\t<tr><td>3.5755508</td><td>16</td><td>0</td><td>0</td><td>0</td><td>14</td><td>7.7097</td><td>12</td><td>12</td><td>1</td></tr>\n",
       "\t<tr><td>2.5425358</td><td>12</td><td>0</td><td>0</td><td>0</td><td>17</td><td>5.9198</td><td>11</td><td>12</td><td>1</td></tr>\n",
       "\t<tr><td>3.0916140</td><td>18</td><td>1</td><td>0</td><td>0</td><td>12</td><td>6.6286</td><td>12</td><td>10</td><td>1</td></tr>\n",
       "\t<tr><td>3.8247666</td><td>15</td><td>0</td><td>1</td><td>0</td><td>14</td><td>4.8652</td><td>18</td><td>19</td><td>1</td></tr>\n",
       "\t<tr><td>2.8039320</td><td>14</td><td>1</td><td>0</td><td>0</td><td>14</td><td>0.2135</td><td> 9</td><td>16</td><td>1</td></tr>\n",
       "\t<tr><td>3.5252500</td><td>17</td><td>0</td><td>1</td><td>0</td><td>11</td><td>8.5828</td><td>12</td><td>14</td><td>1</td></tr>\n",
       "\t<tr><td>3.0552464</td><td>16</td><td>0</td><td>0</td><td>0</td><td>12</td><td>7.5919</td><td>20</td><td>20</td><td>1</td></tr>\n",
       "\t<tr><td>3.3158998</td><td>16</td><td>0</td><td>0</td><td>0</td><td>15</td><td>8.1152</td><td>13</td><td>13</td><td>1</td></tr>\n",
       "\t<tr><td>3.3765047</td><td>16</td><td>0</td><td>0</td><td>0</td><td>12</td><td>4.2428</td><td>12</td><td>17</td><td>1</td></tr>\n",
       "\t<tr><td>4.4517393</td><td>16</td><td>1</td><td>0</td><td>0</td><td>15</td><td>4.0193</td><td>14</td><td>14</td><td>1</td></tr>\n",
       "\t<tr><td>2.9819152</td><td>17</td><td>0</td><td>0</td><td>0</td><td>13</td><td>8.0050</td><td>13</td><td>16</td><td>1</td></tr>\n",
       "\t<tr><td>4.0768976</td><td>18</td><td>0</td><td>0</td><td>0</td><td>12</td><td>8.9380</td><td>17</td><td>18</td><td>1</td></tr>\n",
       "\t<tr><td>4.7722244</td><td>13</td><td>0</td><td>0</td><td>0</td><td>16</td><td>4.7042</td><td>18</td><td>18</td><td>1</td></tr>\n",
       "\t<tr><td>3.9490643</td><td>18</td><td>0</td><td>0</td><td>0</td><td>11</td><td>2.1847</td><td>18</td><td>18</td><td>1</td></tr>\n",
       "\t<tr><td>2.8949037</td><td>18</td><td>0</td><td>0</td><td>0</td><td>10</td><td>7.4177</td><td>12</td><td>14</td><td>1</td></tr>\n",
       "\t<tr><td>3.2251453</td><td>16</td><td>0</td><td>0</td><td>0</td><td>13</td><td>8.6419</td><td>13</td><td>13</td><td>1</td></tr>\n",
       "\t<tr><td>3.8335514</td><td>16</td><td>0</td><td>0</td><td>0</td><td>12</td><td>9.8996</td><td>16</td><td>20</td><td>1</td></tr>\n",
       "\t<tr><td>⋮</td><td>⋮</td><td>⋮</td><td>⋮</td><td>⋮</td><td>⋮</td><td>⋮</td><td>⋮</td><td>⋮</td><td>⋮</td></tr>\n",
       "\t<tr><td>4.002174</td><td>17</td><td>0</td><td>0</td><td>0</td><td>10</td><td> 9.8216</td><td>13</td><td>16</td><td>2</td></tr>\n",
       "\t<tr><td>4.016488</td><td>17</td><td>0</td><td>0</td><td>0</td><td>10</td><td> 8.9855</td><td>16</td><td>16</td><td>2</td></tr>\n",
       "\t<tr><td>4.036076</td><td>16</td><td>0</td><td>0</td><td>0</td><td>12</td><td> 8.2600</td><td>16</td><td>11</td><td>2</td></tr>\n",
       "\t<tr><td>4.576999</td><td>15</td><td>1</td><td>0</td><td>0</td><td>14</td><td> 2.6258</td><td>15</td><td>14</td><td>2</td></tr>\n",
       "\t<tr><td>4.100614</td><td>19</td><td>0</td><td>0</td><td>0</td><td>11</td><td> 9.0799</td><td>16</td><td>14</td><td>2</td></tr>\n",
       "\t<tr><td>4.711924</td><td>17</td><td>0</td><td>0</td><td>0</td><td>13</td><td> 9.9393</td><td>16</td><td>16</td><td>2</td></tr>\n",
       "\t<tr><td>3.725921</td><td>16</td><td>0</td><td>0</td><td>0</td><td>11</td><td> 6.8704</td><td>14</td><td>14</td><td>2</td></tr>\n",
       "\t<tr><td>4.488780</td><td>16</td><td>0</td><td>0</td><td>0</td><td>11</td><td> 9.8598</td><td>16</td><td>16</td><td>2</td></tr>\n",
       "\t<tr><td>3.176151</td><td>18</td><td>0</td><td>0</td><td>0</td><td>12</td><td> 8.5409</td><td>16</td><td>16</td><td>2</td></tr>\n",
       "\t<tr><td>4.349237</td><td>17</td><td>0</td><td>0</td><td>0</td><td>11</td><td> 8.9647</td><td>17</td><td>16</td><td>2</td></tr>\n",
       "\t<tr><td>3.939932</td><td>16</td><td>0</td><td>0</td><td>0</td><td>11</td><td> 9.7369</td><td>18</td><td>20</td><td>2</td></tr>\n",
       "\t<tr><td>3.446494</td><td>14</td><td>0</td><td>0</td><td>0</td><td>15</td><td> 5.1463</td><td>12</td><td>15</td><td>2</td></tr>\n",
       "\t<tr><td>3.640650</td><td>19</td><td>0</td><td>1</td><td>0</td><td>10</td><td> 8.5574</td><td>14</td><td>12</td><td>2</td></tr>\n",
       "\t<tr><td>3.566072</td><td>16</td><td>0</td><td>0</td><td>0</td><td>12</td><td> 9.7655</td><td>16</td><td>18</td><td>2</td></tr>\n",
       "\t<tr><td>3.000977</td><td>20</td><td>0</td><td>0</td><td>0</td><td> 7</td><td> 8.3906</td><td>12</td><td>18</td><td>2</td></tr>\n",
       "\t<tr><td>3.687939</td><td>20</td><td>0</td><td>0</td><td>0</td><td> 7</td><td> 8.2274</td><td>16</td><td>14</td><td>2</td></tr>\n",
       "\t<tr><td>3.777214</td><td>10</td><td>0</td><td>0</td><td>0</td><td>17</td><td> 8.8783</td><td>12</td><td>12</td><td>2</td></tr>\n",
       "\t<tr><td>4.529603</td><td>20</td><td>0</td><td>0</td><td>0</td><td>11</td><td> 9.7965</td><td>17</td><td>16</td><td>2</td></tr>\n",
       "\t<tr><td>3.750170</td><td>16</td><td>0</td><td>0</td><td>0</td><td>14</td><td> 9.8827</td><td>12</td><td>12</td><td>2</td></tr>\n",
       "\t<tr><td>3.495194</td><td>15</td><td>0</td><td>0</td><td>0</td><td>15</td><td> 5.8548</td><td>16</td><td>16</td><td>2</td></tr>\n",
       "\t<tr><td>3.767442</td><td>19</td><td>1</td><td>0</td><td>0</td><td>11</td><td> 8.7585</td><td>12</td><td>14</td><td>2</td></tr>\n",
       "\t<tr><td>3.101093</td><td>12</td><td>0</td><td>1</td><td>0</td><td>18</td><td> 9.0519</td><td>14</td><td>14</td><td>2</td></tr>\n",
       "\t<tr><td>3.873557</td><td>16</td><td>0</td><td>0</td><td>0</td><td>15</td><td> 7.9078</td><td>12</td><td>14</td><td>2</td></tr>\n",
       "\t<tr><td>3.896900</td><td>18</td><td>0</td><td>0</td><td>0</td><td>11</td><td> 9.4797</td><td>12</td><td> 9</td><td>2</td></tr>\n",
       "\t<tr><td>3.680621</td><td>14</td><td>0</td><td>0</td><td>0</td><td>14</td><td> 6.6165</td><td>12</td><td>12</td><td>2</td></tr>\n",
       "\t<tr><td>3.014424</td><td>14</td><td>0</td><td>0</td><td>0</td><td>17</td><td> 5.5389</td><td> 9</td><td>16</td><td>2</td></tr>\n",
       "\t<tr><td>3.433079</td><td>19</td><td>0</td><td>0</td><td>0</td><td> 9</td><td>10.0000</td><td>18</td><td>19</td><td>2</td></tr>\n",
       "\t<tr><td>3.921413</td><td>16</td><td>0</td><td>0</td><td>0</td><td>15</td><td> 5.8170</td><td>13</td><td>13</td><td>2</td></tr>\n",
       "\t<tr><td>1.427116</td><td>14</td><td>0</td><td>0</td><td>0</td><td>13</td><td> 9.8151</td><td> 4</td><td>20</td><td>2</td></tr>\n",
       "\t<tr><td>3.199828</td><td>19</td><td>0</td><td>0</td><td>0</td><td> 8</td><td>10.0000</td><td>17</td><td>18</td><td>2</td></tr>\n",
       "</tbody>\n",
       "</table>\n"
      ],
      "text/latex": [
       "A tibble: 300 × 10\n",
       "\\begin{tabular}{llllllllll}\n",
       " lnw\\_2016 & educ & black & hispanic & other & exp & afqt & mom\\_educ & dad\\_educ & fold\\\\\n",
       " <dbl> & <dbl> & <dbl> & <dbl> & <dbl> & <dbl> & <dbl> & <dbl> & <dbl> & <dbl>\\\\\n",
       "\\hline\n",
       "\t 4.0768976 & 16 & 0 & 0 & 0 & 11 & 7.0724 & 12 & 12 & 1\\\\\n",
       "\t 3.2941382 &  9 & 0 & 0 & 0 & 19 & 4.7481 &  9 & 10 & 1\\\\\n",
       "\t 2.8308961 &  9 & 0 & 1 & 0 & 22 & 1.1987 & 12 &  9 & 1\\\\\n",
       "\t 4.3064590 & 16 & 0 & 0 & 0 & 13 & 8.9321 & 16 & 18 & 1\\\\\n",
       "\t 5.9914646 & 16 & 0 & 1 & 0 & 15 & 2.2618 & 16 & 16 & 1\\\\\n",
       "\t 4.7119241 & 16 & 0 & 0 & 0 & 14 & 8.9502 & 18 & 20 & 1\\\\\n",
       "\t 3.4299397 & 17 & 0 & 0 & 0 & 14 & 6.4555 & 12 & 16 & 1\\\\\n",
       "\t 3.7578723 & 16 & 0 & 0 & 0 & 14 & 9.0180 & 12 & 12 & 1\\\\\n",
       "\t 4.5941410 & 17 & 1 & 0 & 0 & 13 & 4.5519 & 16 &  9 & 1\\\\\n",
       "\t 4.1523085 & 16 & 0 & 0 & 0 & 14 & 8.4276 & 18 & 14 & 1\\\\\n",
       "\t 3.5473800 & 16 & 0 & 0 & 0 & 13 & 9.0491 & 16 & 16 & 1\\\\\n",
       "\t 3.3147576 & 20 & 0 & 0 & 0 &  9 & 9.9651 & 14 & 20 & 1\\\\\n",
       "\t 0.7985077 & 14 & 0 & 1 & 0 & 13 & 3.4228 &  8 &  6 & 1\\\\\n",
       "\t 3.5755508 & 16 & 0 & 0 & 0 & 14 & 7.7097 & 12 & 12 & 1\\\\\n",
       "\t 2.5425358 & 12 & 0 & 0 & 0 & 17 & 5.9198 & 11 & 12 & 1\\\\\n",
       "\t 3.0916140 & 18 & 1 & 0 & 0 & 12 & 6.6286 & 12 & 10 & 1\\\\\n",
       "\t 3.8247666 & 15 & 0 & 1 & 0 & 14 & 4.8652 & 18 & 19 & 1\\\\\n",
       "\t 2.8039320 & 14 & 1 & 0 & 0 & 14 & 0.2135 &  9 & 16 & 1\\\\\n",
       "\t 3.5252500 & 17 & 0 & 1 & 0 & 11 & 8.5828 & 12 & 14 & 1\\\\\n",
       "\t 3.0552464 & 16 & 0 & 0 & 0 & 12 & 7.5919 & 20 & 20 & 1\\\\\n",
       "\t 3.3158998 & 16 & 0 & 0 & 0 & 15 & 8.1152 & 13 & 13 & 1\\\\\n",
       "\t 3.3765047 & 16 & 0 & 0 & 0 & 12 & 4.2428 & 12 & 17 & 1\\\\\n",
       "\t 4.4517393 & 16 & 1 & 0 & 0 & 15 & 4.0193 & 14 & 14 & 1\\\\\n",
       "\t 2.9819152 & 17 & 0 & 0 & 0 & 13 & 8.0050 & 13 & 16 & 1\\\\\n",
       "\t 4.0768976 & 18 & 0 & 0 & 0 & 12 & 8.9380 & 17 & 18 & 1\\\\\n",
       "\t 4.7722244 & 13 & 0 & 0 & 0 & 16 & 4.7042 & 18 & 18 & 1\\\\\n",
       "\t 3.9490643 & 18 & 0 & 0 & 0 & 11 & 2.1847 & 18 & 18 & 1\\\\\n",
       "\t 2.8949037 & 18 & 0 & 0 & 0 & 10 & 7.4177 & 12 & 14 & 1\\\\\n",
       "\t 3.2251453 & 16 & 0 & 0 & 0 & 13 & 8.6419 & 13 & 13 & 1\\\\\n",
       "\t 3.8335514 & 16 & 0 & 0 & 0 & 12 & 9.8996 & 16 & 20 & 1\\\\\n",
       "\t ⋮ & ⋮ & ⋮ & ⋮ & ⋮ & ⋮ & ⋮ & ⋮ & ⋮ & ⋮\\\\\n",
       "\t 4.002174 & 17 & 0 & 0 & 0 & 10 &  9.8216 & 13 & 16 & 2\\\\\n",
       "\t 4.016488 & 17 & 0 & 0 & 0 & 10 &  8.9855 & 16 & 16 & 2\\\\\n",
       "\t 4.036076 & 16 & 0 & 0 & 0 & 12 &  8.2600 & 16 & 11 & 2\\\\\n",
       "\t 4.576999 & 15 & 1 & 0 & 0 & 14 &  2.6258 & 15 & 14 & 2\\\\\n",
       "\t 4.100614 & 19 & 0 & 0 & 0 & 11 &  9.0799 & 16 & 14 & 2\\\\\n",
       "\t 4.711924 & 17 & 0 & 0 & 0 & 13 &  9.9393 & 16 & 16 & 2\\\\\n",
       "\t 3.725921 & 16 & 0 & 0 & 0 & 11 &  6.8704 & 14 & 14 & 2\\\\\n",
       "\t 4.488780 & 16 & 0 & 0 & 0 & 11 &  9.8598 & 16 & 16 & 2\\\\\n",
       "\t 3.176151 & 18 & 0 & 0 & 0 & 12 &  8.5409 & 16 & 16 & 2\\\\\n",
       "\t 4.349237 & 17 & 0 & 0 & 0 & 11 &  8.9647 & 17 & 16 & 2\\\\\n",
       "\t 3.939932 & 16 & 0 & 0 & 0 & 11 &  9.7369 & 18 & 20 & 2\\\\\n",
       "\t 3.446494 & 14 & 0 & 0 & 0 & 15 &  5.1463 & 12 & 15 & 2\\\\\n",
       "\t 3.640650 & 19 & 0 & 1 & 0 & 10 &  8.5574 & 14 & 12 & 2\\\\\n",
       "\t 3.566072 & 16 & 0 & 0 & 0 & 12 &  9.7655 & 16 & 18 & 2\\\\\n",
       "\t 3.000977 & 20 & 0 & 0 & 0 &  7 &  8.3906 & 12 & 18 & 2\\\\\n",
       "\t 3.687939 & 20 & 0 & 0 & 0 &  7 &  8.2274 & 16 & 14 & 2\\\\\n",
       "\t 3.777214 & 10 & 0 & 0 & 0 & 17 &  8.8783 & 12 & 12 & 2\\\\\n",
       "\t 4.529603 & 20 & 0 & 0 & 0 & 11 &  9.7965 & 17 & 16 & 2\\\\\n",
       "\t 3.750170 & 16 & 0 & 0 & 0 & 14 &  9.8827 & 12 & 12 & 2\\\\\n",
       "\t 3.495194 & 15 & 0 & 0 & 0 & 15 &  5.8548 & 16 & 16 & 2\\\\\n",
       "\t 3.767442 & 19 & 1 & 0 & 0 & 11 &  8.7585 & 12 & 14 & 2\\\\\n",
       "\t 3.101093 & 12 & 0 & 1 & 0 & 18 &  9.0519 & 14 & 14 & 2\\\\\n",
       "\t 3.873557 & 16 & 0 & 0 & 0 & 15 &  7.9078 & 12 & 14 & 2\\\\\n",
       "\t 3.896900 & 18 & 0 & 0 & 0 & 11 &  9.4797 & 12 &  9 & 2\\\\\n",
       "\t 3.680621 & 14 & 0 & 0 & 0 & 14 &  6.6165 & 12 & 12 & 2\\\\\n",
       "\t 3.014424 & 14 & 0 & 0 & 0 & 17 &  5.5389 &  9 & 16 & 2\\\\\n",
       "\t 3.433079 & 19 & 0 & 0 & 0 &  9 & 10.0000 & 18 & 19 & 2\\\\\n",
       "\t 3.921413 & 16 & 0 & 0 & 0 & 15 &  5.8170 & 13 & 13 & 2\\\\\n",
       "\t 1.427116 & 14 & 0 & 0 & 0 & 13 &  9.8151 &  4 & 20 & 2\\\\\n",
       "\t 3.199828 & 19 & 0 & 0 & 0 &  8 & 10.0000 & 17 & 18 & 2\\\\\n",
       "\\end{tabular}\n"
      ],
      "text/markdown": [
       "\n",
       "A tibble: 300 × 10\n",
       "\n",
       "| lnw_2016 &lt;dbl&gt; | educ &lt;dbl&gt; | black &lt;dbl&gt; | hispanic &lt;dbl&gt; | other &lt;dbl&gt; | exp &lt;dbl&gt; | afqt &lt;dbl&gt; | mom_educ &lt;dbl&gt; | dad_educ &lt;dbl&gt; | fold &lt;dbl&gt; |\n",
       "|---|---|---|---|---|---|---|---|---|---|\n",
       "| 4.0768976 | 16 | 0 | 0 | 0 | 11 | 7.0724 | 12 | 12 | 1 |\n",
       "| 3.2941382 |  9 | 0 | 0 | 0 | 19 | 4.7481 |  9 | 10 | 1 |\n",
       "| 2.8308961 |  9 | 0 | 1 | 0 | 22 | 1.1987 | 12 |  9 | 1 |\n",
       "| 4.3064590 | 16 | 0 | 0 | 0 | 13 | 8.9321 | 16 | 18 | 1 |\n",
       "| 5.9914646 | 16 | 0 | 1 | 0 | 15 | 2.2618 | 16 | 16 | 1 |\n",
       "| 4.7119241 | 16 | 0 | 0 | 0 | 14 | 8.9502 | 18 | 20 | 1 |\n",
       "| 3.4299397 | 17 | 0 | 0 | 0 | 14 | 6.4555 | 12 | 16 | 1 |\n",
       "| 3.7578723 | 16 | 0 | 0 | 0 | 14 | 9.0180 | 12 | 12 | 1 |\n",
       "| 4.5941410 | 17 | 1 | 0 | 0 | 13 | 4.5519 | 16 |  9 | 1 |\n",
       "| 4.1523085 | 16 | 0 | 0 | 0 | 14 | 8.4276 | 18 | 14 | 1 |\n",
       "| 3.5473800 | 16 | 0 | 0 | 0 | 13 | 9.0491 | 16 | 16 | 1 |\n",
       "| 3.3147576 | 20 | 0 | 0 | 0 |  9 | 9.9651 | 14 | 20 | 1 |\n",
       "| 0.7985077 | 14 | 0 | 1 | 0 | 13 | 3.4228 |  8 |  6 | 1 |\n",
       "| 3.5755508 | 16 | 0 | 0 | 0 | 14 | 7.7097 | 12 | 12 | 1 |\n",
       "| 2.5425358 | 12 | 0 | 0 | 0 | 17 | 5.9198 | 11 | 12 | 1 |\n",
       "| 3.0916140 | 18 | 1 | 0 | 0 | 12 | 6.6286 | 12 | 10 | 1 |\n",
       "| 3.8247666 | 15 | 0 | 1 | 0 | 14 | 4.8652 | 18 | 19 | 1 |\n",
       "| 2.8039320 | 14 | 1 | 0 | 0 | 14 | 0.2135 |  9 | 16 | 1 |\n",
       "| 3.5252500 | 17 | 0 | 1 | 0 | 11 | 8.5828 | 12 | 14 | 1 |\n",
       "| 3.0552464 | 16 | 0 | 0 | 0 | 12 | 7.5919 | 20 | 20 | 1 |\n",
       "| 3.3158998 | 16 | 0 | 0 | 0 | 15 | 8.1152 | 13 | 13 | 1 |\n",
       "| 3.3765047 | 16 | 0 | 0 | 0 | 12 | 4.2428 | 12 | 17 | 1 |\n",
       "| 4.4517393 | 16 | 1 | 0 | 0 | 15 | 4.0193 | 14 | 14 | 1 |\n",
       "| 2.9819152 | 17 | 0 | 0 | 0 | 13 | 8.0050 | 13 | 16 | 1 |\n",
       "| 4.0768976 | 18 | 0 | 0 | 0 | 12 | 8.9380 | 17 | 18 | 1 |\n",
       "| 4.7722244 | 13 | 0 | 0 | 0 | 16 | 4.7042 | 18 | 18 | 1 |\n",
       "| 3.9490643 | 18 | 0 | 0 | 0 | 11 | 2.1847 | 18 | 18 | 1 |\n",
       "| 2.8949037 | 18 | 0 | 0 | 0 | 10 | 7.4177 | 12 | 14 | 1 |\n",
       "| 3.2251453 | 16 | 0 | 0 | 0 | 13 | 8.6419 | 13 | 13 | 1 |\n",
       "| 3.8335514 | 16 | 0 | 0 | 0 | 12 | 9.8996 | 16 | 20 | 1 |\n",
       "| ⋮ | ⋮ | ⋮ | ⋮ | ⋮ | ⋮ | ⋮ | ⋮ | ⋮ | ⋮ |\n",
       "| 4.002174 | 17 | 0 | 0 | 0 | 10 |  9.8216 | 13 | 16 | 2 |\n",
       "| 4.016488 | 17 | 0 | 0 | 0 | 10 |  8.9855 | 16 | 16 | 2 |\n",
       "| 4.036076 | 16 | 0 | 0 | 0 | 12 |  8.2600 | 16 | 11 | 2 |\n",
       "| 4.576999 | 15 | 1 | 0 | 0 | 14 |  2.6258 | 15 | 14 | 2 |\n",
       "| 4.100614 | 19 | 0 | 0 | 0 | 11 |  9.0799 | 16 | 14 | 2 |\n",
       "| 4.711924 | 17 | 0 | 0 | 0 | 13 |  9.9393 | 16 | 16 | 2 |\n",
       "| 3.725921 | 16 | 0 | 0 | 0 | 11 |  6.8704 | 14 | 14 | 2 |\n",
       "| 4.488780 | 16 | 0 | 0 | 0 | 11 |  9.8598 | 16 | 16 | 2 |\n",
       "| 3.176151 | 18 | 0 | 0 | 0 | 12 |  8.5409 | 16 | 16 | 2 |\n",
       "| 4.349237 | 17 | 0 | 0 | 0 | 11 |  8.9647 | 17 | 16 | 2 |\n",
       "| 3.939932 | 16 | 0 | 0 | 0 | 11 |  9.7369 | 18 | 20 | 2 |\n",
       "| 3.446494 | 14 | 0 | 0 | 0 | 15 |  5.1463 | 12 | 15 | 2 |\n",
       "| 3.640650 | 19 | 0 | 1 | 0 | 10 |  8.5574 | 14 | 12 | 2 |\n",
       "| 3.566072 | 16 | 0 | 0 | 0 | 12 |  9.7655 | 16 | 18 | 2 |\n",
       "| 3.000977 | 20 | 0 | 0 | 0 |  7 |  8.3906 | 12 | 18 | 2 |\n",
       "| 3.687939 | 20 | 0 | 0 | 0 |  7 |  8.2274 | 16 | 14 | 2 |\n",
       "| 3.777214 | 10 | 0 | 0 | 0 | 17 |  8.8783 | 12 | 12 | 2 |\n",
       "| 4.529603 | 20 | 0 | 0 | 0 | 11 |  9.7965 | 17 | 16 | 2 |\n",
       "| 3.750170 | 16 | 0 | 0 | 0 | 14 |  9.8827 | 12 | 12 | 2 |\n",
       "| 3.495194 | 15 | 0 | 0 | 0 | 15 |  5.8548 | 16 | 16 | 2 |\n",
       "| 3.767442 | 19 | 1 | 0 | 0 | 11 |  8.7585 | 12 | 14 | 2 |\n",
       "| 3.101093 | 12 | 0 | 1 | 0 | 18 |  9.0519 | 14 | 14 | 2 |\n",
       "| 3.873557 | 16 | 0 | 0 | 0 | 15 |  7.9078 | 12 | 14 | 2 |\n",
       "| 3.896900 | 18 | 0 | 0 | 0 | 11 |  9.4797 | 12 |  9 | 2 |\n",
       "| 3.680621 | 14 | 0 | 0 | 0 | 14 |  6.6165 | 12 | 12 | 2 |\n",
       "| 3.014424 | 14 | 0 | 0 | 0 | 17 |  5.5389 |  9 | 16 | 2 |\n",
       "| 3.433079 | 19 | 0 | 0 | 0 |  9 | 10.0000 | 18 | 19 | 2 |\n",
       "| 3.921413 | 16 | 0 | 0 | 0 | 15 |  5.8170 | 13 | 13 | 2 |\n",
       "| 1.427116 | 14 | 0 | 0 | 0 | 13 |  9.8151 |  4 | 20 | 2 |\n",
       "| 3.199828 | 19 | 0 | 0 | 0 |  8 | 10.0000 | 17 | 18 | 2 |\n",
       "\n"
      ],
      "text/plain": [
       "    lnw_2016  educ black hispanic other exp afqt    mom_educ dad_educ fold\n",
       "1   4.0768976 16   0     0        0     11  7.0724  12       12       1   \n",
       "2   3.2941382  9   0     0        0     19  4.7481   9       10       1   \n",
       "3   2.8308961  9   0     1        0     22  1.1987  12        9       1   \n",
       "4   4.3064590 16   0     0        0     13  8.9321  16       18       1   \n",
       "5   5.9914646 16   0     1        0     15  2.2618  16       16       1   \n",
       "6   4.7119241 16   0     0        0     14  8.9502  18       20       1   \n",
       "7   3.4299397 17   0     0        0     14  6.4555  12       16       1   \n",
       "8   3.7578723 16   0     0        0     14  9.0180  12       12       1   \n",
       "9   4.5941410 17   1     0        0     13  4.5519  16        9       1   \n",
       "10  4.1523085 16   0     0        0     14  8.4276  18       14       1   \n",
       "11  3.5473800 16   0     0        0     13  9.0491  16       16       1   \n",
       "12  3.3147576 20   0     0        0      9  9.9651  14       20       1   \n",
       "13  0.7985077 14   0     1        0     13  3.4228   8        6       1   \n",
       "14  3.5755508 16   0     0        0     14  7.7097  12       12       1   \n",
       "15  2.5425358 12   0     0        0     17  5.9198  11       12       1   \n",
       "16  3.0916140 18   1     0        0     12  6.6286  12       10       1   \n",
       "17  3.8247666 15   0     1        0     14  4.8652  18       19       1   \n",
       "18  2.8039320 14   1     0        0     14  0.2135   9       16       1   \n",
       "19  3.5252500 17   0     1        0     11  8.5828  12       14       1   \n",
       "20  3.0552464 16   0     0        0     12  7.5919  20       20       1   \n",
       "21  3.3158998 16   0     0        0     15  8.1152  13       13       1   \n",
       "22  3.3765047 16   0     0        0     12  4.2428  12       17       1   \n",
       "23  4.4517393 16   1     0        0     15  4.0193  14       14       1   \n",
       "24  2.9819152 17   0     0        0     13  8.0050  13       16       1   \n",
       "25  4.0768976 18   0     0        0     12  8.9380  17       18       1   \n",
       "26  4.7722244 13   0     0        0     16  4.7042  18       18       1   \n",
       "27  3.9490643 18   0     0        0     11  2.1847  18       18       1   \n",
       "28  2.8949037 18   0     0        0     10  7.4177  12       14       1   \n",
       "29  3.2251453 16   0     0        0     13  8.6419  13       13       1   \n",
       "30  3.8335514 16   0     0        0     12  9.8996  16       20       1   \n",
       "⋮   ⋮         ⋮    ⋮     ⋮        ⋮     ⋮   ⋮       ⋮        ⋮        ⋮   \n",
       "271 4.002174  17   0     0        0     10   9.8216 13       16       2   \n",
       "272 4.016488  17   0     0        0     10   8.9855 16       16       2   \n",
       "273 4.036076  16   0     0        0     12   8.2600 16       11       2   \n",
       "274 4.576999  15   1     0        0     14   2.6258 15       14       2   \n",
       "275 4.100614  19   0     0        0     11   9.0799 16       14       2   \n",
       "276 4.711924  17   0     0        0     13   9.9393 16       16       2   \n",
       "277 3.725921  16   0     0        0     11   6.8704 14       14       2   \n",
       "278 4.488780  16   0     0        0     11   9.8598 16       16       2   \n",
       "279 3.176151  18   0     0        0     12   8.5409 16       16       2   \n",
       "280 4.349237  17   0     0        0     11   8.9647 17       16       2   \n",
       "281 3.939932  16   0     0        0     11   9.7369 18       20       2   \n",
       "282 3.446494  14   0     0        0     15   5.1463 12       15       2   \n",
       "283 3.640650  19   0     1        0     10   8.5574 14       12       2   \n",
       "284 3.566072  16   0     0        0     12   9.7655 16       18       2   \n",
       "285 3.000977  20   0     0        0      7   8.3906 12       18       2   \n",
       "286 3.687939  20   0     0        0      7   8.2274 16       14       2   \n",
       "287 3.777214  10   0     0        0     17   8.8783 12       12       2   \n",
       "288 4.529603  20   0     0        0     11   9.7965 17       16       2   \n",
       "289 3.750170  16   0     0        0     14   9.8827 12       12       2   \n",
       "290 3.495194  15   0     0        0     15   5.8548 16       16       2   \n",
       "291 3.767442  19   1     0        0     11   8.7585 12       14       2   \n",
       "292 3.101093  12   0     1        0     18   9.0519 14       14       2   \n",
       "293 3.873557  16   0     0        0     15   7.9078 12       14       2   \n",
       "294 3.896900  18   0     0        0     11   9.4797 12        9       2   \n",
       "295 3.680621  14   0     0        0     14   6.6165 12       12       2   \n",
       "296 3.014424  14   0     0        0     17   5.5389  9       16       2   \n",
       "297 3.433079  19   0     0        0      9  10.0000 18       19       2   \n",
       "298 3.921413  16   0     0        0     15   5.8170 13       13       2   \n",
       "299 1.427116  14   0     0        0     13   9.8151  4       20       2   \n",
       "300 3.199828  19   0     0        0      8  10.0000 17       18       2   "
      ]
     },
     "metadata": {},
     "output_type": "display_data"
    }
   ],
   "source": [
    "head(nlsy,300)"
   ]
  },
  {
   "cell_type": "markdown",
   "id": "f86f182e",
   "metadata": {},
   "source": [
    "### Fit the model leaving out one of the folds "
   ]
  },
  {
   "cell_type": "code",
   "execution_count": 27,
   "id": "dee43385",
   "metadata": {},
   "outputs": [],
   "source": [
    "fit1<- lm(lnw_2016~educ, data= nlsy  %>% filter(fold!=1))\n",
    "yhat1<- predict(fit1,newdata=nlsy  %>% filter(fold==1) )\n"
   ]
  },
  {
   "cell_type": "code",
   "execution_count": 28,
   "id": "b92da38f",
   "metadata": {},
   "outputs": [],
   "source": [
    "# In a loop\n",
    "\n",
    "db_train<-list()\n",
    "db_test<-list()\n",
    "\n",
    "\n",
    "for(i in 1:5){\n",
    "    db_train[[i]]<-nlsy  %>% filter(fold!=i) # trains\n",
    "    db_test[[i]]<-nlsy  %>% filter(fold==i) # tests\n",
    "    \n",
    "    fit<-lm(lnw_2016~educ, data=db_train[[i]])\n",
    "    db_test[[i]]<- db_test[[i]]  %>% mutate(lnw_hat=predict(fit1,newdata=db_test[[i]]))\n",
    "}\n",
    "\n"
   ]
  },
  {
   "cell_type": "code",
   "execution_count": 30,
   "id": "9f9da645",
   "metadata": {},
   "outputs": [
    {
     "data": {
      "text/html": [
       "<table class=\"dataframe\">\n",
       "<caption>A tibble: 6 × 11</caption>\n",
       "<thead>\n",
       "\t<tr><th scope=col>lnw_2016</th><th scope=col>educ</th><th scope=col>black</th><th scope=col>hispanic</th><th scope=col>other</th><th scope=col>exp</th><th scope=col>afqt</th><th scope=col>mom_educ</th><th scope=col>dad_educ</th><th scope=col>fold</th><th scope=col>lnw_hat</th></tr>\n",
       "\t<tr><th scope=col>&lt;dbl&gt;</th><th scope=col>&lt;dbl&gt;</th><th scope=col>&lt;dbl&gt;</th><th scope=col>&lt;dbl&gt;</th><th scope=col>&lt;dbl&gt;</th><th scope=col>&lt;dbl&gt;</th><th scope=col>&lt;dbl&gt;</th><th scope=col>&lt;dbl&gt;</th><th scope=col>&lt;dbl&gt;</th><th scope=col>&lt;dbl&gt;</th><th scope=col>&lt;dbl&gt;</th></tr>\n",
       "</thead>\n",
       "<tbody>\n",
       "\t<tr><td>3.503997</td><td>18</td><td>0</td><td>0</td><td>0</td><td> 9</td><td>6.7504</td><td>12</td><td>14</td><td>2</td><td>3.308481</td></tr>\n",
       "\t<tr><td>4.488780</td><td>19</td><td>0</td><td>0</td><td>0</td><td>11</td><td>6.7764</td><td>16</td><td>16</td><td>2</td><td>3.378024</td></tr>\n",
       "\t<tr><td>2.922196</td><td>14</td><td>0</td><td>0</td><td>0</td><td>17</td><td>7.2445</td><td>17</td><td>14</td><td>2</td><td>3.030309</td></tr>\n",
       "\t<tr><td>3.292984</td><td>16</td><td>0</td><td>0</td><td>0</td><td>12</td><td>3.2800</td><td>12</td><td>12</td><td>2</td><td>3.169395</td></tr>\n",
       "\t<tr><td>3.342928</td><td>18</td><td>0</td><td>0</td><td>0</td><td> 9</td><td>6.0376</td><td>18</td><td>17</td><td>2</td><td>3.308481</td></tr>\n",
       "\t<tr><td>3.273936</td><td>16</td><td>1</td><td>0</td><td>0</td><td>13</td><td>3.2655</td><td>13</td><td>12</td><td>2</td><td>3.169395</td></tr>\n",
       "</tbody>\n",
       "</table>\n"
      ],
      "text/latex": [
       "A tibble: 6 × 11\n",
       "\\begin{tabular}{lllllllllll}\n",
       " lnw\\_2016 & educ & black & hispanic & other & exp & afqt & mom\\_educ & dad\\_educ & fold & lnw\\_hat\\\\\n",
       " <dbl> & <dbl> & <dbl> & <dbl> & <dbl> & <dbl> & <dbl> & <dbl> & <dbl> & <dbl> & <dbl>\\\\\n",
       "\\hline\n",
       "\t 3.503997 & 18 & 0 & 0 & 0 &  9 & 6.7504 & 12 & 14 & 2 & 3.308481\\\\\n",
       "\t 4.488780 & 19 & 0 & 0 & 0 & 11 & 6.7764 & 16 & 16 & 2 & 3.378024\\\\\n",
       "\t 2.922196 & 14 & 0 & 0 & 0 & 17 & 7.2445 & 17 & 14 & 2 & 3.030309\\\\\n",
       "\t 3.292984 & 16 & 0 & 0 & 0 & 12 & 3.2800 & 12 & 12 & 2 & 3.169395\\\\\n",
       "\t 3.342928 & 18 & 0 & 0 & 0 &  9 & 6.0376 & 18 & 17 & 2 & 3.308481\\\\\n",
       "\t 3.273936 & 16 & 1 & 0 & 0 & 13 & 3.2655 & 13 & 12 & 2 & 3.169395\\\\\n",
       "\\end{tabular}\n"
      ],
      "text/markdown": [
       "\n",
       "A tibble: 6 × 11\n",
       "\n",
       "| lnw_2016 &lt;dbl&gt; | educ &lt;dbl&gt; | black &lt;dbl&gt; | hispanic &lt;dbl&gt; | other &lt;dbl&gt; | exp &lt;dbl&gt; | afqt &lt;dbl&gt; | mom_educ &lt;dbl&gt; | dad_educ &lt;dbl&gt; | fold &lt;dbl&gt; | lnw_hat &lt;dbl&gt; |\n",
       "|---|---|---|---|---|---|---|---|---|---|---|\n",
       "| 3.503997 | 18 | 0 | 0 | 0 |  9 | 6.7504 | 12 | 14 | 2 | 3.308481 |\n",
       "| 4.488780 | 19 | 0 | 0 | 0 | 11 | 6.7764 | 16 | 16 | 2 | 3.378024 |\n",
       "| 2.922196 | 14 | 0 | 0 | 0 | 17 | 7.2445 | 17 | 14 | 2 | 3.030309 |\n",
       "| 3.292984 | 16 | 0 | 0 | 0 | 12 | 3.2800 | 12 | 12 | 2 | 3.169395 |\n",
       "| 3.342928 | 18 | 0 | 0 | 0 |  9 | 6.0376 | 18 | 17 | 2 | 3.308481 |\n",
       "| 3.273936 | 16 | 1 | 0 | 0 | 13 | 3.2655 | 13 | 12 | 2 | 3.169395 |\n",
       "\n"
      ],
      "text/plain": [
       "  lnw_2016 educ black hispanic other exp afqt   mom_educ dad_educ fold lnw_hat \n",
       "1 3.503997 18   0     0        0      9  6.7504 12       14       2    3.308481\n",
       "2 4.488780 19   0     0        0     11  6.7764 16       16       2    3.378024\n",
       "3 2.922196 14   0     0        0     17  7.2445 17       14       2    3.030309\n",
       "4 3.292984 16   0     0        0     12  3.2800 12       12       2    3.169395\n",
       "5 3.342928 18   0     0        0      9  6.0376 18       17       2    3.308481\n",
       "6 3.273936 16   1     0        0     13  3.2655 13       12       2    3.169395"
      ]
     },
     "metadata": {},
     "output_type": "display_data"
    }
   ],
   "source": [
    "head(db_test[[2]])"
   ]
  },
  {
   "cell_type": "markdown",
   "id": "4ce49350",
   "metadata": {},
   "source": [
    "\n",
    "### Calculating the MSE\n",
    "\n",
    "\n",
    "Finally, we need to calculate the  CV(k) estimate for the test MSE. We know that it takes the form:\n",
    "\n",
    "\\begin{align}\n",
    "CV_{(k)} &= \\frac{1}{k}\\sum_{j=1}^k MSE_j \n",
    "\\end{align}\n",
    "\n",
    "To implment this formula we first need to calculate the MSE for each fold:"
   ]
  },
  {
   "cell_type": "code",
   "execution_count": 31,
   "id": "7637c1e7",
   "metadata": {},
   "outputs": [
    {
     "data": {
      "text/html": [
       "<ol>\n",
       "\t<li>0.579861537105561</li>\n",
       "\t<li>0.539154891033468</li>\n",
       "\t<li>0.874553455759344</li>\n",
       "\t<li>0.596507242885643</li>\n",
       "\t<li>0.953188290704718</li>\n",
       "</ol>\n"
      ],
      "text/latex": [
       "\\begin{enumerate}\n",
       "\\item 0.579861537105561\n",
       "\\item 0.539154891033468\n",
       "\\item 0.874553455759344\n",
       "\\item 0.596507242885643\n",
       "\\item 0.953188290704718\n",
       "\\end{enumerate}\n"
      ],
      "text/markdown": [
       "1. 0.579861537105561\n",
       "2. 0.539154891033468\n",
       "3. 0.874553455759344\n",
       "4. 0.596507242885643\n",
       "5. 0.953188290704718\n",
       "\n",
       "\n"
      ],
      "text/plain": [
       "[[1]]\n",
       "[1] 0.5798615\n",
       "\n",
       "[[2]]\n",
       "[1] 0.5391549\n",
       "\n",
       "[[3]]\n",
       "[1] 0.8745535\n",
       "\n",
       "[[4]]\n",
       "[1] 0.5965072\n",
       "\n",
       "[[5]]\n",
       "[1] 0.9531883\n"
      ]
     },
     "metadata": {},
     "output_type": "display_data"
    }
   ],
   "source": [
    "MSE<-list()\n",
    "\n",
    "for(i in 1:5){    \n",
    "    MSE[[i]]<-mean((db_test[[i]]$lnw_2016- db_test[[i]]$lnw_hat)^2)\n",
    "}\n",
    "\n",
    "MSE"
   ]
  },
  {
   "cell_type": "code",
   "execution_count": 32,
   "id": "1d3b901e",
   "metadata": {},
   "outputs": [
    {
     "data": {
      "text/html": [
       "<table class=\"dataframe\">\n",
       "<caption>A matrix: 5 × 1 of type dbl</caption>\n",
       "<tbody>\n",
       "\t<tr><td>0.5798615</td></tr>\n",
       "\t<tr><td>0.5391549</td></tr>\n",
       "\t<tr><td>0.8745535</td></tr>\n",
       "\t<tr><td>0.5965072</td></tr>\n",
       "\t<tr><td>0.9531883</td></tr>\n",
       "</tbody>\n",
       "</table>\n"
      ],
      "text/latex": [
       "A matrix: 5 × 1 of type dbl\n",
       "\\begin{tabular}{l}\n",
       "\t 0.5798615\\\\\n",
       "\t 0.5391549\\\\\n",
       "\t 0.8745535\\\\\n",
       "\t 0.5965072\\\\\n",
       "\t 0.9531883\\\\\n",
       "\\end{tabular}\n"
      ],
      "text/markdown": [
       "\n",
       "A matrix: 5 × 1 of type dbl\n",
       "\n",
       "| 0.5798615 |\n",
       "| 0.5391549 |\n",
       "| 0.8745535 |\n",
       "| 0.5965072 |\n",
       "| 0.9531883 |\n",
       "\n"
      ],
      "text/plain": [
       "     [,1]     \n",
       "[1,] 0.5798615\n",
       "[2,] 0.5391549\n",
       "[3,] 0.8745535\n",
       "[4,] 0.5965072\n",
       "[5,] 0.9531883"
      ]
     },
     "metadata": {},
     "output_type": "display_data"
    }
   ],
   "source": [
    "MSE<-do.call(rbind,MSE)\n",
    "MSE"
   ]
  },
  {
   "cell_type": "code",
   "execution_count": 33,
   "id": "78845957",
   "metadata": {},
   "outputs": [
    {
     "data": {
      "text/html": [
       "0.708653083497747"
      ],
      "text/latex": [
       "0.708653083497747"
      ],
      "text/markdown": [
       "0.708653083497747"
      ],
      "text/plain": [
       "[1] 0.7086531"
      ]
     },
     "metadata": {},
     "output_type": "display_data"
    }
   ],
   "source": [
    "mean(MSE)"
   ]
  },
  {
   "cell_type": "markdown",
   "id": "36d86a5b",
   "metadata": {},
   "source": [
    "We can compare the results to that obtained using only the validation set approach:"
   ]
  },
  {
   "cell_type": "code",
   "execution_count": 34,
   "id": "311734e5",
   "metadata": {},
   "outputs": [
    {
     "data": {
      "text/html": [
       "0.796"
      ],
      "text/latex": [
       "0.796"
      ],
      "text/markdown": [
       "0.796"
      ],
      "text/plain": [
       "[1] 0.796"
      ]
     },
     "metadata": {},
     "output_type": "display_data"
    }
   ],
   "source": [
    "db$MSE[db$model==\"model2\"]"
   ]
  },
  {
   "cell_type": "markdown",
   "id": "5c89befb",
   "metadata": {},
   "source": [
    "\n",
    "# If we have enough data\n",
    "\n",
    "\n",
    "In some cases, where there's enough data, researchers may use both K-Fold Cross-Validation and the validation set approach in combination to evaluate the performance of a machine learning model. This can be useful when a researcher wants to obtain a more robust evaluation of the model's performance while maintaining computational efficiency.\n",
    "\n",
    "The following figure shows the strategy followed by Kleinberg et al. (2017) in their paper \"Human decisions and machine predictions\":\n",
    "\n",
    "\n",
    "\n",
    "<div>\n",
    "<img src=\"figs_notebook_SS03/human_decisions.png\" width=\"500\"/>\n",
    "</div>\n",
    "\n",
    "\n",
    "This strategy prevents the machine learning algorithm from appearing to do well simply because it is being evaluated on data it has already seen. Moreover, they add an extra layer of protection to ensure that the results are not an artifact of unhelpful \"human data mining,\" adding a \"pure hold-out.\"\n",
    "\n",
    "By combining K-Fold Cross-Validation and the validation set approach, researchers can obtain a more comprehensive evaluation of the model's performance while maintaining computational efficiency. The specific combination of K-Fold Cross-Validation and the validation set approach will depend on the researcher's goals and the particular constraints of the study. When choosing a resampling technique, it is essential to carefully consider the trade-offs between computational efficiency and thoroughness.\n",
    "\n",
    "\n"
   ]
  },
  {
   "cell_type": "markdown",
   "id": "9a4a8174",
   "metadata": {},
   "source": [
    "## Extra\n",
    "\n",
    "### The `lapply()` version"
   ]
  },
  {
   "cell_type": "code",
   "execution_count": null,
   "id": "53a0bb58",
   "metadata": {},
   "outputs": [],
   "source": [
    "#Make this example reproducible\n",
    "set.seed(123)\n",
    "\n",
    "# Specify the number of folds for\n",
    "# 5-fold cross-validation\n",
    "K <- 5\n",
    "\n",
    "#Split the data set into 5 folds\n",
    "index <- split(1:nrow(nlsy), 1: K)"
   ]
  },
  {
   "cell_type": "markdown",
   "id": "53eb8257",
   "metadata": {},
   "source": [
    "We used the `split` function to generate a list with indexes that will help split the dataset into 5 parts of roughly equal size. We can see the first six indexes of the observations randomly assigned to the first partition or fold\n"
   ]
  },
  {
   "cell_type": "code",
   "execution_count": null,
   "id": "48128eaf",
   "metadata": {},
   "outputs": [],
   "source": [
    "head(index[[1]])"
   ]
  },
  {
   "cell_type": "markdown",
   "id": "a1e9108e",
   "metadata": {},
   "source": [
    "Given that the size is not divisible by 5 `R` sometimes us a *Warning*, we can verify the length of each partition:"
   ]
  },
  {
   "cell_type": "code",
   "execution_count": null,
   "id": "01c5bf5d",
   "metadata": {},
   "outputs": [],
   "source": [
    "lapply(index,length)"
   ]
  },
  {
   "cell_type": "markdown",
   "id": "34496243",
   "metadata": {},
   "source": [
    "All partitions have roughly the same size. The only partition with one extra observation is the first one.\n",
    "\n",
    "Note that to obtain the length, we used the `lapply` function. The `lapply` function is an extremely powerful function  used to apply a function to each element of a list and return a list as a result. It stands for \"list apply,\" and it is a commonly used function in R for working with lists and vectors. \n",
    "\n",
    "The basic syntax of the lapply function is: `lapply(X, FUN)`, where X is the list or vector that we want to apply the function FUN to, and FUN is the function we want to apply. FUN can be any R function, and it takes a single argument, which will be one of the elements of X. The `lapply` function returns a list, where each element of the list results from applying FUN to a corresponding element of X. In our example above, the list is the `index` element, and the function is `length`, and it returns a list with the lengths of each partition.\n",
    "\n",
    "The `lapply` function is useful when we need to perform the same operation on multiple elements of a list or vector and return a list as a result. It is a convenient alternative to using a for loop, as it is easier to read and write, more efficient for large lists, and faster and easily parallelizable in many circumstances.\n",
    "\n",
    "With the indices, we can then split the data set"
   ]
  },
  {
   "cell_type": "code",
   "execution_count": null,
   "id": "a6af2155",
   "metadata": {},
   "outputs": [],
   "source": [
    "#aplicar a la lista de folds 1,2,3,4,5\n",
    "splt <- lapply(1:K, function(ind) nlsy[index[[ind]], ])"
   ]
  },
  {
   "cell_type": "markdown",
   "id": "bd71c6f5",
   "metadata": {},
   "source": [
    "Then the first partition of the matchadata set will be in the first element of the `splt` element:"
   ]
  },
  {
   "cell_type": "code",
   "execution_count": null,
   "id": "b5527e17",
   "metadata": {},
   "outputs": [],
   "source": [
    "splt[[1]]"
   ]
  },
  {
   "cell_type": "markdown",
   "id": "658596c6",
   "metadata": {},
   "source": [
    "## Fitting the model leaving out one of the folds \n",
    "\n",
    "\n",
    "To fit the model, we will again leverage the power of `lapply`, but first we need the `rbindlist` available in the `data.table` package"
   ]
  },
  {
   "cell_type": "code",
   "execution_count": null,
   "id": "d0e87e3f",
   "metadata": {},
   "outputs": [],
   "source": [
    "p_load(data.table)\n",
    "\n",
    "m1 <- lapply(1:K, function(ii) lm(lnw_2016~educ, data = rbindlist(splt[-ii]))) "
   ]
  },
  {
   "cell_type": "markdown",
   "id": "738eb459",
   "metadata": {},
   "source": [
    "In the previous step, we fitted the model `lnw_2016~educ` in every fold except the `ii` fold. We achieved this by creating a function that runs a linear regression on a data set constructed by binding all the elements in the `splt` list except the element indexed by `ii`.\n",
    "\n",
    "Next, we fit the model in the fold that was left as a testing fold."
   ]
  },
  {
   "cell_type": "code",
   "execution_count": null,
   "id": "20dab125",
   "metadata": {},
   "outputs": [],
   "source": [
    "p1 <- lapply(1:K, function(ii) data.frame(predict(m1[[ii]], newdata = rbindlist(splt[ii]))))"
   ]
  },
  {
   "cell_type": "markdown",
   "id": "66183bde",
   "metadata": {},
   "source": [
    "We can see then that it created a vector with predictions:"
   ]
  },
  {
   "cell_type": "code",
   "execution_count": null,
   "id": "a1748d78",
   "metadata": {},
   "outputs": [],
   "source": [
    "p1[1]"
   ]
  },
  {
   "cell_type": "markdown",
   "id": "33d1c44f",
   "metadata": {},
   "source": [
    "Now we bind this vector to each fold so we have extra column in each fold with the prediction, named `yhat`, "
   ]
  },
  {
   "cell_type": "code",
   "execution_count": null,
   "id": "81e8b600",
   "metadata": {},
   "outputs": [],
   "source": [
    "for (i in 1:K) {\n",
    "  colnames(p1[[i]])<-\"yhat\" #change the name\n",
    "  splt[[i]] <- cbind(splt[[i]], p1[[i]])\n",
    "\n",
    "}"
   ]
  },
  {
   "cell_type": "code",
   "execution_count": null,
   "id": "d59ef929",
   "metadata": {},
   "outputs": [],
   "source": [
    "splt[[1]]"
   ]
  },
  {
   "cell_type": "markdown",
   "id": "436d2d3e",
   "metadata": {},
   "source": [
    "\n",
    "### Calculating the MSE\n",
    "\n",
    "\n",
    "Finally, we need to calculate the  CV(k) estimate for the test MSE. We know that it takes the form:\n",
    "\n",
    "\\begin{align}\n",
    "CV_{(k)} &= \\frac{1}{k}\\sum_{j=1}^k MSE_j\n",
    "\\end{align}\n",
    "\n",
    "To implment this formula we first need to calculate the MSE for each fold using `lapply`:"
   ]
  },
  {
   "cell_type": "code",
   "execution_count": null,
   "id": "1879c2ff",
   "metadata": {},
   "outputs": [],
   "source": [
    "MSE2_k <- lapply(1:K, function(ii) mean((splt[[ii]]$lnw_2016 - splt[[ii]]$yhat)^2))\n",
    "                 \n",
    "MSE2_k"
   ]
  },
  {
   "cell_type": "markdown",
   "id": "d79ef1cd",
   "metadata": {},
   "source": [
    "And finally, calculate the mean:"
   ]
  },
  {
   "cell_type": "code",
   "execution_count": null,
   "id": "85b1e908",
   "metadata": {},
   "outputs": [],
   "source": [
    "mean(unlist(MSE2_k))"
   ]
  },
  {
   "cell_type": "markdown",
   "id": "ffec3313",
   "metadata": {},
   "source": [
    "Note that since `lapply` always return a list, to be able to average the results, we first unlisted the object and then calculated the `mean`.\n",
    "\n",
    "Finally, we can compare the results to that obtained using only the validation set approach:"
   ]
  },
  {
   "cell_type": "code",
   "execution_count": null,
   "id": "ec1d605b",
   "metadata": {},
   "outputs": [],
   "source": [
    "db$MSE[db$model==\"model2\"]"
   ]
  }
 ],
 "metadata": {
  "jupytext": {
   "formats": "ipynb,Rmd"
  },
  "kernelspec": {
   "display_name": "R",
   "language": "R",
   "name": "ir"
  },
  "language_info": {
   "codemirror_mode": "r",
   "file_extension": ".r",
   "mimetype": "text/x-r-source",
   "name": "R",
   "pygments_lexer": "r",
   "version": "4.3.2"
  },
  "toc": {
   "base_numbering": 1,
   "nav_menu": {},
   "number_sections": true,
   "sideBar": true,
   "skip_h1_title": false,
   "title_cell": "Table of Contents",
   "title_sidebar": "Contents",
   "toc_cell": false,
   "toc_position": {},
   "toc_section_display": true,
   "toc_window_display": false
  }
 },
 "nbformat": 4,
 "nbformat_minor": 5
}
